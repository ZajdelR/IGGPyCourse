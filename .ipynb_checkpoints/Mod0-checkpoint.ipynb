{
 "cells": [
  {
   "cell_type": "markdown",
   "id": "1aa0fcb9",
   "metadata": {
    "id": "wnKpNgX3L-Wa",
    "nbpresent": {
     "id": "40f70c9c-09df-4e99-b5fd-a7613178fdb7"
    }
   },
   "source": [
    "<img src=\"./src/header.png\">"
   ]
  },
  {
   "cell_type": "markdown",
   "id": "c94074b2",
   "metadata": {},
   "source": [
    "\n",
    "----\n",
    "\n",
    "# Wprowadzenie"
   ]
  },
  {
   "cell_type": "markdown",
   "id": "5cd05190",
   "metadata": {
    "id": "4FmldpQ2L-We",
    "nbpresent": {
     "id": "9e80be75-c858-4702-90f5-ace3c0b5f277"
    }
   },
   "source": [
    "# Zespół\n",
    "\n",
    "--- \n",
    "\n",
    "* Dr Grzegorz Marut; email: <grzegorz.marut@upwr.edu.pl>\n",
    "* Dr Kamil Smolak; email: <kamil.smolak@upwr.edu.pl>"
   ]
  },
  {
   "cell_type": "markdown",
   "id": "df7c3e2e",
   "metadata": {
    "id": "pjgrXt3zL-Wf"
   },
   "source": [
    "## Jaki jest cel tego kursu?\n",
    "-----\n",
    "\n",
    "Naszym zadaniem jest przekazać podstawową wiedze z zakresu podstaw programowania w języku Python\n",
    "\n",
    "Po ukończeniu kursu, każdy powinien poczuć się pewnie w:\n",
    "* pisaniu skryptów, \n",
    "* prostych programów bez interfejsu graficznego\n",
    "* automatyzacji zadań w codziennej obróbce danych z wykorzystaniem języka Python"
   ]
  },
  {
   "cell_type": "markdown",
   "id": "6fcf4ecc",
   "metadata": {
    "nbpresent": {
     "id": "dfd71d91-0b43-4e32-a309-ed73907456ac"
    },
    "slideshow": {
     "slide_type": "slide"
    }
   },
   "source": [
    "## System pracy i program\n",
    "\n",
    "---\n",
    "\n",
    "- Moduł 1 - Przygotowanie środowiska\n",
    "    * Powershell\n",
    "    * Instalacja pakietów\n",
    "    * Korzystanie ze środowisk wirtualnych\n",
    "- Moduł 2 - Podstawy - przypomninie+ - Lista ćwiczeń = zal\n",
    "    * podstawowe typy danych i operatory\n",
    "    * typy sekwencyjne\n",
    "    * klasy i obiekty\n",
    "- Moduł 3 - Przepływ danych - - Lista ćwiczenia + kartkówka (Moduł 2+3) = 1 ocena\n",
    "    * pakowanie / odpakowywanie sekwencji\n",
    "    * kontrola przepływu:\n",
    "        * instrukcje warunkowe *if*\n",
    "        * pętle *for* i *while*\n",
    "    * formatowanie tekstu\n",
    "- Moduł 4 - Funkcje - Lista ćwiczenia + kartkówka = 1 ocena\n",
    "    * funkcje i moduły\n",
    "    * obsługa wyjątków\n",
    "    * typy mapujące - słowniki\n",
    "- Moduł 5 - Macierze - Lista ćwiczenia + kartkówka = 1 ocena\n",
    "    * Wykorzystanie biblioteki Numpy\n",
    "- Moduł 6 - Analiza danych z biblioteką pandas - Lista ćwiczenia + kartkówka = 1 ocena\n",
    "    * Analiza danych z biblioteką Pandas i GeoPandas\n",
    "    * Wprowadzenie do tabel Pandas\n",
    "    * Selekcja/Filtrowanie danych\n",
    "    * Grupowanie danych\n",
    "    * Łączenie danych\n",
    "- Moduł 7 - Matplotlib - Lista ćwiczenia + kartkówka = zal + 1 ocena \n",
    "    * Tworzenie wykresów\n",
    "    * Dostosowywanie wykresów\n",
    "- Moduł 8 - Tworzenie skryptów konsolowych - Wykład + praca w grupie = 1 ocena\n",
    "    * Tworzenie skryptów z parametrami\n",
    "    * Działania na plikach w folderze\n",
    "    \n",
    "Podsumowanie: 6 ocen z modułów, w tym 5 z kartkówek i jedna z projektu grupowego + kolokwium końcowe w formie testu z całości materiału.\n",
    "\n",
    "\n",
    "Classroom: uxof6vz2\n",
    "---"
   ]
  },
  {
   "cell_type": "markdown",
   "id": "2bd56f21",
   "metadata": {
    "nbpresent": {
     "id": "dfd71d91-0b43-4e32-a309-ed73907456ac"
    },
    "slideshow": {
     "slide_type": "subslide"
    }
   },
   "source": [
    "## Zasady\n",
    "\n",
    "---\n",
    "\n",
    "- W każdym module zbieramy punkty\n",
    "- Łącznie w kursie jest do zdobycia 50 punktów \n",
    "    - Maksymalna ilość punktów z kartkówki to 6, lista dodatkowa za 5 punktów -> 35 punktów\n",
    "    - Kolokwium zaliczeniowe (15 punktów)\n",
    "- Podczas każdych z ćwiczeń wykonujemy zadania z listy zadań\n",
    "- Zgłoszenie się, poprawne wykonanie i wyjaśnienie zadania podczas Ćwiczeń to 1 punkt zdobyty w ramach danego modułu\n",
    "- Wymagam przygotowania do wykonywania zadań udostępnionych w ramach listy\n",
    "- Brak przygotowania do wykonania któregoś z zadań prowadzi do obniżenia maksymalnej ilości punktów możliwych do zdobycia w module o 0.5 punkta\n",
    "- Punkty zdobyte na ćwiczeniach przechodzą na \"konto\" punktów z modułu, więc można zrobić mniej zadań na kartkówce.\n",
    "\n",
    "Przykład: Adrian na pierwszych zajęciach z Modułu 3 zgłosił się raz i zdobył punkt za poprawne wykonanie zadania. Na drugich zajęciach z tego modułu, również poprawnie rozwiązał zadanie z listy. Łącznie zdobył 2 punkty z Modułu 3. Podczas kartkówki, która została zapowiedziana z tego Modułu, na której do zdobycia będzie 6 punktów, Adrian będzie musiał zdobyć wyłącznie 4 punkty, aby uzbierać maksymalną ilość z Modułu, czyli 6. Brawo Adrian!\n",
    "\n",
    "- Ocena końcowa z kursu wystawiana jest na podstawie procentowej wartości punktów zdobytych w stosunku do wszystkich możliwych do uzyskania punktów (50):\n",
    "\n",
    "    - 51 - 60% -> 3.0\n",
    "    - 61 - 70% -> 3.5\n",
    "    - 71 - 80% -> 4.0\n",
    "    - 81 - 90% -> 4.5\n",
    "    - 91 -100%  -> 5.0\n",
    "\n",
    "\n",
    "---"
   ]
  },
  {
   "cell_type": "code",
   "execution_count": null,
   "id": "671dadf3",
   "metadata": {},
   "outputs": [],
   "source": []
  },
  {
   "cell_type": "markdown",
   "id": "d0cd3b3c",
   "metadata": {
    "nbpresent": {
     "id": "c757e67b-d7f6-4ec1-ae2b-ee5078705a9b"
    },
    "slideshow": {
     "slide_type": "subslide"
    }
   },
   "source": [
    "## Materiały do wykładów\n",
    "\n",
    "---\n",
    "\n",
    "* dokumentacja: https://www.python.org/\n",
    "\n",
    "---\n",
    "\n",
    "* W. McKinney, “Python for Data Analysis: Data Wrangling with Pandas, NumPy, and IPython”\n",
    "* A. B. Downey, J. Elkner, C. Meyers, “Think Python. How to Think Like a Computer Scientist”: http://www.greenteapress.com/thinkpython/\n",
    "* M. Pilgrim, “Dive into Python”: http://www.diveintopython.net/\n",
    "* Swaroop CH \"A Byte of Python\": https://python.swaroopch.com/ (tłumaczenie: http://python.edu.pl/byteofpython/)\n",
    "* https://github.com/jakevdp/PythonDataScienceHandbook\n",
    "\n",
    "* Stackoverflow"
   ]
  },
  {
   "cell_type": "markdown",
   "id": "a4ee93ad",
   "metadata": {
    "id": "MvamnNw5L-Wg"
   },
   "source": [
    "## Dlaczego Python\n",
    "------\n",
    "\n",
    "* Jest bardzo prosty w nauce, a pierwszy program można napisać w pierwszych minutach nauki\n",
    "* Prostota Python'a przełożyła się również na jego olbrzymią popularność\n",
    "* Od pojawienia się Pythona w roku 1991, Python stał się najpopularniejszym językiem interpretowanym, na równi z Perl, Ruby.\n",
    "* Zapotrzebowanie na \"programistów\" nie ogranicza się wyłącznie do \"branży IT\", ale aktualnie jest pożądany w każdej dziedzinie zawodowej"
   ]
  },
  {
   "cell_type": "markdown",
   "id": "339648a7",
   "metadata": {
    "id": "MvamnNw5L-Wg"
   },
   "source": [
    "## TIOBE Index for August 2025\n",
    "------\n",
    "\n",
    "Indeks społeczności programistów TIOBE jest wskaźnikiem popularności języków programowania. Indeks jest aktualizowany raz w miesiącu. Oceny opierają się na liczbie wykwalifikowanych inżynierów na całym świecie, kursach i dostawcach zewnętrznych. Do obliczania ocen wykorzystywane są popularne wyszukiwarki, takie jak Google, Bing, Yahoo!, Wikipedia, Amazon, YouTube i Baidu. Należy zauważyć, że indeks TIOBE nie dotyczy najlepszego języka programowania lub języka, w którym napisano najwięcej linii kodu.\n",
    "\n",
    "Indeks można wykorzystać do sprawdzenia, czy umiejętności programistyczne są nadal aktualne lub do podjęcia strategicznej decyzji o tym, jaki język programowania należy przyjąć, rozpoczynając tworzenie nowego systemu oprogramowania."
   ]
  },
  {
   "cell_type": "markdown",
   "id": "612bd3b2",
   "metadata": {},
   "source": [
    "<img src=\"./src/Languages.png\">"
   ]
  },
  {
   "cell_type": "code",
   "execution_count": null,
   "id": "1fadfc6d",
   "metadata": {},
   "outputs": [],
   "source": []
  }
 ],
 "metadata": {
  "kernelspec": {
   "display_name": "Python 3 (ipykernel)",
   "language": "python",
   "name": "python3"
  },
  "language_info": {
   "codemirror_mode": {
    "name": "ipython",
    "version": 3
   },
   "file_extension": ".py",
   "mimetype": "text/x-python",
   "name": "python",
   "nbconvert_exporter": "python",
   "pygments_lexer": "ipython3",
   "version": "3.9.12"
  }
 },
 "nbformat": 4,
 "nbformat_minor": 5
}
