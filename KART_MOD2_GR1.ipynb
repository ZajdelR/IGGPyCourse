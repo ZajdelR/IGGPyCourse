{
 "cells": [
  {
   "cell_type": "markdown",
   "metadata": {},
   "source": [
    "\n",
    "----\n",
    "\n",
    "# Moduł 2 - Kartkowka - 2024/2025 - GR 14:15"
   ]
  },
  {
   "cell_type": "markdown",
   "metadata": {
    "id": "lGP2n1fFL-Wk",
    "nbpresent": {
     "id": "fd287f8f-7775-433b-997a-d178455a3add"
    }
   },
   "source": [
    "### Imię i nazwisko"
   ]
  },
  {
   "cell_type": "raw",
   "metadata": {},
   "source": []
  },
  {
   "cell_type": "markdown",
   "metadata": {
    "id": "lGP2n1fFL-Wk",
    "nbpresent": {
     "id": "fd287f8f-7775-433b-997a-d178455a3add"
    }
   },
   "source": [
    "### Zad 1\n",
    "\n",
    "Pobierz od użytkownika (funkacja input) dowolny wyraz i zapisz do zmienniej `wyraz_uzytkownika`. Zapisz elementy od 3 do 5 wlacznie do zmienniej `wycinek_wyrazu_uzytkownika`. Zamien wyraz na listę skladajaca sie z poszczegolnych liter slowa zmiennej `wycinek_wyrazu_uzytkownika`. Listę zapisz pod zmienną `lista_z_wyrazu`. Zlacz listę ponownie w wyraz, jako elementu laczącego użyj wielkiej litery 'X', zapisz do zmiennej `nowy_wyraz`. Wyświetl `nowy_wyraz` w odwrotnej kolejności tworząc komunikat: \"Palindromem utworzonego wyrazu jest: %tutaj_nowy_wyraz_wypisany_odwrotnie%\". \n",
    "\n",
    "W przypadku wprowadzenia slowa \"palindrom\", wynikiem powinien być komunikat: Palindromem utworzonego wyrazu jest: nXiXl,"
   ]
  },
  {
   "cell_type": "code",
   "execution_count": null,
   "metadata": {},
   "outputs": [],
   "source": []
  }
 ],
 "metadata": {
  "anaconda-cloud": {},
  "colab": {
   "provenance": []
  },
  "kernelspec": {
   "display_name": "Python 3 (ipykernel)",
   "language": "python",
   "name": "python3"
  },
  "language_info": {
   "codemirror_mode": {
    "name": "ipython",
    "version": 3
   },
   "file_extension": ".py",
   "mimetype": "text/x-python",
   "name": "python",
   "nbconvert_exporter": "python",
   "pygments_lexer": "ipython3",
   "version": "3.11.3"
  },
  "rise": {
   "scroll": true
  }
 },
 "nbformat": 4,
 "nbformat_minor": 4
}
