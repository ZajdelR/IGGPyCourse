{
 "cells": [
  {
   "cell_type": "markdown",
   "metadata": {
    "id": "wnKpNgX3L-Wa",
    "nbpresent": {
     "id": "40f70c9c-09df-4e99-b5fd-a7613178fdb7"
    },
    "slideshow": {
     "slide_type": "-"
    }
   },
   "source": [
    "<img src=\"/src/header.png\">"
   ]
  },
  {
   "cell_type": "markdown",
   "metadata": {
    "slideshow": {
     "slide_type": "slide"
    }
   },
   "source": [
    "\n",
    "----\n",
    "\n",
    "# Moduł 3 - Kontrola przepływu 2024/2025\n",
    "\n",
    "---\n",
    "\n",
    "* pakowanie / odpakowywanie sekwencji\n",
    "* kontrola przepływu:\n",
    "    * instrukcje warunkowe *if*\n",
    "    * pętle *for* i *while*\n",
    "* formatowanie tekstu"
   ]
  },
  {
   "cell_type": "markdown",
   "metadata": {
    "slideshow": {
     "slide_type": "slide"
    }
   },
   "source": [
    "## \"Odpakowywanie\" (*unzip*)\n",
    "\n",
    "---"
   ]
  },
  {
   "cell_type": "code",
   "execution_count": 27,
   "metadata": {
    "slideshow": {
     "slide_type": "-"
    }
   },
   "outputs": [
    {
     "name": "stdout",
     "output_type": "stream",
     "text": [
      "1 2\n"
     ]
    }
   ],
   "source": [
    "lista = (1, 2)\n",
    "\n",
    "a, b = lista # a = lista[0], b = lista[1]\n",
    "\n",
    "print(a, b)"
   ]
  },
  {
   "cell_type": "markdown",
   "metadata": {
    "slideshow": {
     "slide_type": "-"
    }
   },
   "source": [
    "* przykład: zamiana zmiennych"
   ]
  },
  {
   "cell_type": "code",
   "execution_count": 38,
   "metadata": {
    "slideshow": {
     "slide_type": "-"
    }
   },
   "outputs": [
    {
     "name": "stdout",
     "output_type": "stream",
     "text": [
      "2 1\n"
     ]
    }
   ],
   "source": [
    "a, b = (b, a) # a, b = tuple(b, a)\n",
    "\n",
    "print(a, b)"
   ]
  },
  {
   "cell_type": "markdown",
   "metadata": {
    "slideshow": {
     "slide_type": "subslide"
    }
   },
   "source": [
    "## *splat*, czyli tzw. *asterisk*\n",
    "\n",
    "---"
   ]
  },
  {
   "cell_type": "code",
   "execution_count": 39,
   "metadata": {
    "slideshow": {
     "slide_type": "-"
    }
   },
   "outputs": [
    {
     "name": "stdout",
     "output_type": "stream",
     "text": [
      "[1, 2, 3]\n",
      "1 2 3\n",
      "1 2 3\n"
     ]
    }
   ],
   "source": [
    "x = [1, 2, 3]\n",
    "\n",
    "# print(arg1, arg2, arg3, ..., +opcje)\n",
    "\n",
    "print(x)  # drukuje listę (1 argument)\n",
    "print(*x) # drukuje \"rozpakowaną\" listę (3 argumenty)\n",
    "print(x[0], x[1], x[2]) # równoważny zapis"
   ]
  },
  {
   "cell_type": "code",
   "execution_count": 40,
   "metadata": {
    "slideshow": {
     "slide_type": "-"
    }
   },
   "outputs": [
    {
     "name": "stdout",
     "output_type": "stream",
     "text": [
      "Python\n",
      "P y t h o n\n"
     ]
    }
   ],
   "source": [
    "x = \"Python\"\n",
    "\n",
    "print(x)\n",
    "print(*x) # zip/unzip działa na wszystkich sekwencjach"
   ]
  },
  {
   "cell_type": "code",
   "execution_count": 31,
   "metadata": {},
   "outputs": [
    {
     "name": "stdout",
     "output_type": "stream",
     "text": [
      "range(0, 10)\n",
      "0 1 2 3 4 5 6 7 8 9\n"
     ]
    }
   ],
   "source": [
    "x = range(10)\n",
    "print(x)\n",
    "print(*x)"
   ]
  },
  {
   "cell_type": "markdown",
   "metadata": {
    "slideshow": {
     "slide_type": "subslide"
    }
   },
   "source": [
    "## *unzip* i *splat*\n",
    "\n",
    "---"
   ]
  },
  {
   "cell_type": "code",
   "execution_count": 1,
   "metadata": {
    "slideshow": {
     "slide_type": "-"
    }
   },
   "outputs": [
    {
     "name": "stdout",
     "output_type": "stream",
     "text": [
      "1 [2, 3, 4, 5]\n"
     ]
    }
   ],
   "source": [
    "lista = [1, 2, 3, 4, 5]\n",
    "\n",
    "a, b, c, d, e = lista # ValueError: too many values to unpack (expected 2)\n",
    "\n",
    "a, *b = lista # a = lista[0], b = reszta\n",
    "\n",
    "print(a, b)"
   ]
  },
  {
   "cell_type": "code",
   "execution_count": 34,
   "metadata": {
    "slideshow": {
     "slide_type": "-"
    }
   },
   "outputs": [
    {
     "name": "stdout",
     "output_type": "stream",
     "text": [
      "1 2 [3, 4, 5]\n"
     ]
    }
   ],
   "source": [
    "lista = [1, 2, 3, 4, 5]\n",
    "\n",
    "a, b, *c = lista # a, b[0], b[1], b[2], c\n",
    "\n",
    "print(a, b, c)"
   ]
  },
  {
   "cell_type": "code",
   "execution_count": 35,
   "metadata": {
    "scrolled": true
   },
   "outputs": [
    {
     "name": "stdout",
     "output_type": "stream",
     "text": [
      "1 3\n"
     ]
    }
   ],
   "source": [
    "lista = [1, 2, 3, 4, 5]\n",
    "\n",
    "a,b,c,d,e = lista\n",
    "\n",
    "print(a,c)"
   ]
  },
  {
   "cell_type": "code",
   "execution_count": 38,
   "metadata": {
    "slideshow": {
     "slide_type": "subslide"
    }
   },
   "outputs": [
    {
     "name": "stdout",
     "output_type": "stream",
     "text": [
      "1 4\n"
     ]
    }
   ],
   "source": [
    "lista = [1, 2, 3, 4, 5]\n",
    "\n",
    "a,b,_,d,e = lista\n",
    "\n",
    "print(a,d)"
   ]
  },
  {
   "cell_type": "code",
   "execution_count": 40,
   "metadata": {},
   "outputs": [
    {
     "name": "stdout",
     "output_type": "stream",
     "text": [
      "1 5 [2, 3, 4]\n",
      "1 4 5\n"
     ]
    }
   ],
   "source": [
    "lista = [1, 2, 3, 4, 5]\n",
    "\n",
    "a,*_,b = lista\n",
    "\n",
    "print(a,b,_)\n",
    "\n",
    "a,*_,b,_ = lista\n",
    "\n",
    "print(a,b,_)"
   ]
  },
  {
   "cell_type": "code",
   "execution_count": 12,
   "metadata": {},
   "outputs": [
    {
     "name": "stdout",
     "output_type": "stream",
     "text": [
      "1 [2, 3, 4] 5\n"
     ]
    }
   ],
   "source": [
    "lista = [1, 2, 3, 4, 5]\n",
    "\n",
    "a, *b, c = lista # a, b[0], b[1], b[2], c\n",
    "\n",
    "print(a, b, c)"
   ]
  },
  {
   "cell_type": "markdown",
   "metadata": {
    "slideshow": {
     "slide_type": "subslide"
    }
   },
   "source": [
    "## \"Pakowanie\" (*zip*)\n",
    "\n",
    "---"
   ]
  },
  {
   "cell_type": "code",
   "execution_count": 3,
   "metadata": {
    "slideshow": {
     "slide_type": "-"
    }
   },
   "outputs": [
    {
     "name": "stdout",
     "output_type": "stream",
     "text": [
      "(44, 'Radek', 'czarne') (42, 'Arek', 'czerwone') (39, 'Kasia', 64.2)\n"
     ]
    }
   ],
   "source": [
    "x = [44, 42, 39]\n",
    "y = ['Radek', 'Arek', 'Kasia']\n",
    "z = ['czarne', 'czerwone', 64.2]\n",
    "\n",
    "polaczone = zip(x, y, z) # pary ((x[i], y[i]),(x[i+1],y[i+1]...)\n",
    "\n",
    "print(*polaczone)"
   ]
  },
  {
   "cell_type": "markdown",
   "metadata": {
    "slideshow": {
     "slide_type": "subslide"
    }
   },
   "source": [
    "## Instrukcja warunkowa *if*\n",
    "\n",
    "---\n",
    "\n",
    "* wykonaj instrukcje, jeśli spełniony jest warunek\n",
    "\n",
    "```py\n",
    "if warunek: # zwróć uwagę na :\n",
    "    instrukcja1\n",
    "    instrukcja2\n",
    "    ...\n",
    "```"
   ]
  },
  {
   "cell_type": "code",
   "execution_count": 51,
   "metadata": {
    "slideshow": {
     "slide_type": "-"
    }
   },
   "outputs": [
    {
     "name": "stdout",
     "output_type": "stream",
     "text": [
      "2 jest większe od 1\n"
     ]
    }
   ],
   "source": [
    "if 2 > 1:\n",
    "    print(\"2 jest większe od 1\")"
   ]
  },
  {
   "cell_type": "markdown",
   "metadata": {
    "slideshow": {
     "slide_type": "subslide"
    }
   },
   "source": [
    "## Instrukcja warunkowa *if else*\n",
    "\n",
    "---\n",
    "\n",
    "* wykonaj instrukcje, jeśli spełniony jest warunek, lub wykonaj inne instrukcje\n",
    "\n",
    "```py\n",
    "if warunek:\n",
    "    instrukcja1\n",
    "    instrukcja2\n",
    "    ...\n",
    "else:\n",
    "    instrukcja3\n",
    "    instrukcja4\n",
    "    ...\n",
    "```    "
   ]
  },
  {
   "cell_type": "code",
   "execution_count": 46,
   "metadata": {
    "slideshow": {
     "slide_type": "-"
    }
   },
   "outputs": [
    {
     "name": "stdout",
     "output_type": "stream",
     "text": [
      "2 nie jest większe od 3\n"
     ]
    }
   ],
   "source": [
    "if 2 > 3:\n",
    "    print(\"2 jest większe od 3\")\n",
    "else:\n",
    "    print(\"2 nie jest większe od 3\")"
   ]
  },
  {
   "cell_type": "markdown",
   "metadata": {
    "slideshow": {
     "slide_type": "subslide"
    }
   },
   "source": [
    "## Instrukcja warunkowa *if elif else*\n",
    "\n",
    "--- \n",
    "\n",
    "* wykonaj jeśli, lub wykonaj jeśli, ..., lub wykonaj\n",
    "\n",
    "```py\n",
    "if warunek1:\n",
    "    instrukcja1\n",
    "    instrukcja2\n",
    "    ...\n",
    "elif warunek2:\n",
    "    instrukcja3\n",
    "    instrukcja4\n",
    "    ...\n",
    ".\n",
    ".\n",
    ".\n",
    "else:\n",
    "    instrukcja5\n",
    "    instrukcja6\n",
    "```"
   ]
  },
  {
   "cell_type": "code",
   "execution_count": 5,
   "metadata": {
    "slideshow": {
     "slide_type": "-"
    }
   },
   "outputs": [
    {
     "name": "stdout",
     "output_type": "stream",
     "text": [
      "Podaj liczbe:-1\n",
      "-1 jest mniejsze od 3\n"
     ]
    }
   ],
   "source": [
    "x = eval(input(prompt=\"Podaj liczbe:\"))\n",
    "if x > 3:\n",
    "    print(str(x)+\" jest większe od 3\")\n",
    "elif x == 3:\n",
    "    print(str(x)+\" jest równe 3\")\n",
    "else:\n",
    "    print(str(x)+\" jest mniejsze od 3\")"
   ]
  },
  {
   "cell_type": "code",
   "execution_count": 8,
   "metadata": {
    "slideshow": {
     "slide_type": "-"
    }
   },
   "outputs": [
    {
     "name": "stdout",
     "output_type": "stream",
     "text": [
      "Podaj liczbę: 7\n",
      "Podana liczba jest nieparzysta.\n"
     ]
    }
   ],
   "source": [
    "print(\"Podaj liczbę:\", end=' ')\n",
    "\n",
    "raw_x = input() # pobierz stringa z wejścia standardowego\n",
    "x = eval(raw_x) # zinterpretuj jako wyrażenie Pythona\n",
    "\n",
    "# x % 2 zwraca resztę z dzielenia\n",
    "# każda wartość != 0 jest traktowana jako prawda\n",
    "if x % 2:\n",
    "    print(\"Podana liczba jest nieparzysta.\")\n",
    "else:\n",
    "    print(\"Podana liczba jest parzysta.\")"
   ]
  },
  {
   "cell_type": "markdown",
   "metadata": {
    "slideshow": {
     "slide_type": "slide"
    }
   },
   "source": [
    "## Pętla *for*\n",
    "\n",
    "---\n",
    "\n",
    "* pętla po sekwencji\n",
    "* np. w Pascalu pętla po (ayrtmetycznym) ciągu liczb\n",
    "* np. w C++ obie możliwości\n",
    "\n",
    "```cpp\n",
    "// przykład w C++\n",
    "for (unsigned int i = 0; i < N; i++)\n",
    "{\n",
    "    // wykonaj coś na i-tym elemencie\n",
    "}\n",
    "for (auto it = v.begin(); it != v.end(); ++it)\n",
    "{\n",
    "    // wykonaj coś na iteratorze it\n",
    "}\n",
    "```"
   ]
  },
  {
   "cell_type": "markdown",
   "metadata": {
    "slideshow": {
     "slide_type": "subslide"
    }
   },
   "source": [
    "## *for* po liście\n",
    "\n",
    "---"
   ]
  },
  {
   "cell_type": "code",
   "execution_count": 62,
   "metadata": {
    "slideshow": {
     "slide_type": "-"
    }
   },
   "outputs": [
    {
     "name": "stdout",
     "output_type": "stream",
     "text": [
      "a\n",
      "b\n",
      "c\n",
      "d\n"
     ]
    }
   ],
   "source": [
    "lista = ['a', 'b', 'c', 'd']\n",
    "\n",
    "for element in lista: # pętla po liście, w każdym kroku\n",
    "    print(element)    # element zmienia swoją wartość"
   ]
  },
  {
   "cell_type": "markdown",
   "metadata": {
    "slideshow": {
     "slide_type": "subslide"
    }
   },
   "source": [
    "## *for* po wycinkach\n",
    "\n",
    "---"
   ]
  },
  {
   "cell_type": "code",
   "execution_count": 67,
   "metadata": {},
   "outputs": [
    {
     "name": "stdout",
     "output_type": "stream",
     "text": [
      "c\n",
      "d\n"
     ]
    }
   ],
   "source": [
    "lista = ['a', 'b', 'c', 'd']\n",
    "\n",
    "for element in lista[-2:]:\n",
    "    print(element, end='\\n')"
   ]
  },
  {
   "cell_type": "code",
   "execution_count": 58,
   "metadata": {
    "slideshow": {
     "slide_type": "-"
    }
   },
   "outputs": [
    {
     "name": "stdout",
     "output_type": "stream",
     "text": [
      "0 2 4 6 8 "
     ]
    }
   ],
   "source": [
    "for i in range(10)[::2]:\n",
    "    print(i, end=' ')"
   ]
  },
  {
   "cell_type": "markdown",
   "metadata": {
    "slideshow": {
     "slide_type": "subslide"
    }
   },
   "source": [
    "## *for* po krotce\n",
    "\n",
    "---"
   ]
  },
  {
   "cell_type": "code",
   "execution_count": 59,
   "metadata": {
    "slideshow": {
     "slide_type": "-"
    }
   },
   "outputs": [
    {
     "name": "stdout",
     "output_type": "stream",
     "text": [
      "a\n",
      "b\n",
      "c\n",
      "d\n"
     ]
    }
   ],
   "source": [
    "krotka = ('a', 'b', 'c', 'd')\n",
    "\n",
    "for element in krotka: # pętla po krotce\n",
    "    print(element)     # działa jak po liście"
   ]
  },
  {
   "cell_type": "markdown",
   "metadata": {
    "slideshow": {
     "slide_type": "subslide"
    }
   },
   "source": [
    "## *for* po stringu\n",
    "\n",
    "---"
   ]
  },
  {
   "cell_type": "code",
   "execution_count": 3,
   "metadata": {
    "slideshow": {
     "slide_type": "-"
    }
   },
   "outputs": [
    {
     "name": "stdout",
     "output_type": "stream",
     "text": [
      "P\ty\tt\th\to\tn\t"
     ]
    }
   ],
   "source": [
    "slowo = \"Python\"\n",
    "\n",
    "for litera in slowo: # pętla po stringu\n",
    "    print(litera,end='\\t')    # iteruje po literach"
   ]
  },
  {
   "cell_type": "markdown",
   "metadata": {
    "slideshow": {
     "slide_type": "subslide"
    }
   },
   "source": [
    "## *for* po range\n",
    "\n",
    "---"
   ]
  },
  {
   "cell_type": "code",
   "execution_count": 61,
   "metadata": {
    "slideshow": {
     "slide_type": "-"
    }
   },
   "outputs": [
    {
     "name": "stdout",
     "output_type": "stream",
     "text": [
      "0\n",
      "1\n",
      "2\n",
      "3\n",
      "4\n"
     ]
    }
   ],
   "source": [
    "for liczba in range(5): # pętla po range\n",
    "    print(liczba)       # \"odpowiednik\" for (i = 0; ...)"
   ]
  },
  {
   "cell_type": "markdown",
   "metadata": {
    "slideshow": {
     "slide_type": "slide"
    }
   },
   "source": [
    "## Kontrola przepływu - przykład 1\n",
    "\n",
    "---"
   ]
  },
  {
   "cell_type": "code",
   "execution_count": 62,
   "metadata": {
    "slideshow": {
     "slide_type": "-"
    }
   },
   "outputs": [
    {
     "name": "stdout",
     "output_type": "stream",
     "text": [
      "1\n",
      "2.0\n",
      "4\n",
      "1j\n"
     ]
    }
   ],
   "source": [
    "lista = [1, 2.0, 'Python', 4, 1j]\n",
    "\n",
    "for el in lista:\n",
    "    if type(el) is not str: # nie drukuj stringów\n",
    "        print(el) # zwróć uwage na wcięcia"
   ]
  },
  {
   "cell_type": "markdown",
   "metadata": {
    "slideshow": {
     "slide_type": "subslide"
    }
   },
   "source": [
    "## Kontrola przepływu - przykład 2\n",
    "\n",
    "---"
   ]
  },
  {
   "cell_type": "code",
   "execution_count": 68,
   "metadata": {
    "slideshow": {
     "slide_type": "-"
    }
   },
   "outputs": [
    {
     "name": "stdout",
     "output_type": "stream",
     "text": [
      "P\n",
      "y\n",
      "t\n",
      "h\n",
      "o\n",
      "n\n",
      "1\n",
      "j\n"
     ]
    }
   ],
   "source": [
    "lista = [1, 2.0, 'Python', 4, \"1j\"]\n",
    "\n",
    "for element in lista:\n",
    "    if type(element) is str:   # tylko dla stringów\n",
    "        for litera in element: # pętla po stringu\n",
    "            print(litera) # zwróć uwagę na wcięcia"
   ]
  },
  {
   "cell_type": "markdown",
   "metadata": {
    "slideshow": {
     "slide_type": "subslide"
    }
   },
   "source": [
    "## Kontrola przepływu - przykład 3\n",
    "\n",
    "---"
   ]
  },
  {
   "cell_type": "code",
   "execution_count": 64,
   "metadata": {
    "slideshow": {
     "slide_type": "-"
    }
   },
   "outputs": [
    {
     "name": "stdout",
     "output_type": "stream",
     "text": [
      "1. 1\n",
      "2. 2.0\n",
      "3. Python\n",
      "4. 4\n",
      "5. 1j\n"
     ]
    }
   ],
   "source": [
    "lista = [1, 2.0, 'Python', 4, 1j]\n",
    "\n",
    "for i in range(len(lista)): # pętla indeksach od 0 do len(lista)\n",
    "    print(str(i + 1) + \". \" + str(lista[i])) # mało czytelne..."
   ]
  },
  {
   "cell_type": "markdown",
   "metadata": {
    "slideshow": {
     "slide_type": "subslide"
    }
   },
   "source": [
    "## *unzip* i *for*\n",
    "\n",
    "---"
   ]
  },
  {
   "cell_type": "code",
   "execution_count": 71,
   "metadata": {
    "slideshow": {
     "slide_type": "-"
    }
   },
   "outputs": [
    {
     "name": "stdout",
     "output_type": "stream",
     "text": [
      "1. a\n",
      "2. b\n",
      "3. c\n"
     ]
    }
   ],
   "source": [
    "lista = [[1, 'a'], [2, 'b'], [3, 'c']]\n",
    "\n",
    "for cyfra, litera in lista: # cyfra, litera = \"lista[i]\"\n",
    "    print(str(cyfra) + \". \" + litera)"
   ]
  },
  {
   "cell_type": "code",
   "execution_count": 72,
   "metadata": {
    "slideshow": {
     "slide_type": "-"
    }
   },
   "outputs": [
    {
     "name": "stdout",
     "output_type": "stream",
     "text": [
      "(44, 'Radek') (42, 'Tomek') (39, 'Kasia')\n",
      "44. Radek\n",
      "42. Tomek\n",
      "39. Kasia\n"
     ]
    }
   ],
   "source": [
    "cyfry = [44, 42, 39]\n",
    "litery = ['Radek', 'Tomek', 'Kasia']\n",
    "\n",
    "print(*zip(cyfry, litery))\n",
    "for cyfra, litera in zip(cyfry, litery):\n",
    "    print(str(cyfra) + \". \" + litera) "
   ]
  },
  {
   "cell_type": "markdown",
   "metadata": {
    "slideshow": {
     "slide_type": "subslide"
    }
   },
   "source": [
    "## *enumerate*\n",
    "\n",
    "---"
   ]
  },
  {
   "cell_type": "code",
   "execution_count": 67,
   "metadata": {
    "slideshow": {
     "slide_type": "-"
    }
   },
   "outputs": [
    {
     "data": {
      "text/plain": [
       "[(0, 'a'), (1, 'b'), (2, 'c')]"
      ]
     },
     "execution_count": 67,
     "metadata": {},
     "output_type": "execute_result"
    }
   ],
   "source": [
    "lista = ['a', 'b', 'c']\n",
    "\n",
    "list(enumerate(lista)) # tworzy pary (indeks, element)"
   ]
  },
  {
   "cell_type": "code",
   "execution_count": 68,
   "metadata": {
    "slideshow": {
     "slide_type": "-"
    }
   },
   "outputs": [
    {
     "name": "stdout",
     "output_type": "stream",
     "text": [
      "1. a\n",
      "2. b\n",
      "3. c\n"
     ]
    }
   ],
   "source": [
    "for index, element in enumerate(lista):\n",
    "    print(str(index + 1) + \". \" + element)"
   ]
  },
  {
   "cell_type": "markdown",
   "metadata": {
    "slideshow": {
     "slide_type": "slide"
    }
   },
   "source": [
    "## Pętla *while*\n",
    "\n",
    "---\n",
    "\n",
    "* wykonuj blok instrukcji dopóki warunek jest spełniony\n",
    "\n",
    "```py\n",
    "while warunek:\n",
    "    instrukcje\n",
    "```\n",
    "\n",
    "* przykład:"
   ]
  },
  {
   "cell_type": "code",
   "execution_count": 69,
   "metadata": {
    "slideshow": {
     "slide_type": "-"
    }
   },
   "outputs": [
    {
     "name": "stdout",
     "output_type": "stream",
     "text": [
      "1 2 3 4 5 "
     ]
    }
   ],
   "source": [
    "i = 0\n",
    "\n",
    "while i < 5: # wykonuj dopóki i < 5\n",
    "    i = i + 1   # bez tego mamy nieskończoną pętlę\n",
    "    print(i, end=' ')"
   ]
  },
  {
   "cell_type": "code",
   "execution_count": 23,
   "metadata": {
    "slideshow": {
     "slide_type": "-"
    }
   },
   "outputs": [
    {
     "name": "stdout",
     "output_type": "stream",
     "text": [
      "Podaj liczbę całkowitą: 8\n",
      "Twoja liczba to: 8\n"
     ]
    }
   ],
   "source": [
    "n = input(\"Podaj liczbę całkowitą: \")\n",
    "\n",
    "if n.isnumeric():\n",
    "    print(\"Twoja liczba to:\", n)\n",
    "else:\n",
    "    print(n, \"nie jest liczbą całkowitą...\")"
   ]
  },
  {
   "cell_type": "code",
   "execution_count": 9,
   "metadata": {
    "slideshow": {
     "slide_type": "-"
    }
   },
   "outputs": [
    {
     "name": "stdout",
     "output_type": "stream",
     "text": [
      "Podaj liczbę całkowitą: 7.2\n",
      "Spróbuj jeszcze raz: Python\n",
      "Spróbuj jeszcze raz: [4321532,5321,5123412]\n",
      "Spróbuj jeszcze raz: 5\n",
      "Twoja liczba to: 5\n"
     ]
    }
   ],
   "source": [
    "n = input(\"Podaj liczbę całkowitą: \")\n",
    "\n",
    "while not n.isdigit():\n",
    "    n = input(\"Spróbuj jeszcze raz: \")\n",
    "    \n",
    "print(\"Twoja liczba to:\", n)"
   ]
  },
  {
   "cell_type": "markdown",
   "metadata": {
    "slideshow": {
     "slide_type": "subslide"
    }
   },
   "source": [
    "## *while* - nieskończona pętla\n",
    "\n",
    "---\n",
    "\n",
    "```py\n",
    "i = 1\n",
    "\n",
    "while i != 10:\n",
    "    i = i + 2\n",
    "```"
   ]
  },
  {
   "cell_type": "markdown",
   "metadata": {
    "slideshow": {
     "slide_type": "slide"
    }
   },
   "source": [
    "## Dodatkowe instrukcje sterujące\n",
    "\n",
    "---\n",
    "\n",
    "* *break* - przerwij pętlę\n",
    "* *continue* - przerwij obecną iterację\n",
    "* *pass* - nie rób nic\n",
    "* *else* - wykonuj jeśli pętla zakończyła się inaczej niż *break*"
   ]
  },
  {
   "cell_type": "markdown",
   "metadata": {
    "slideshow": {
     "slide_type": "subslide"
    }
   },
   "source": [
    "## *break*\n",
    "\n",
    "---"
   ]
  },
  {
   "cell_type": "code",
   "execution_count": 11,
   "metadata": {
    "slideshow": {
     "slide_type": "-"
    }
   },
   "outputs": [
    {
     "name": "stdout",
     "output_type": "stream",
     "text": [
      "0 1 2 3 4 5 6 "
     ]
    }
   ],
   "source": [
    "for i in range(10): # drukuj liczby z range(10)\n",
    "    print(i, end=' ')\n",
    "    if i > 5:       # przerwij pętlę jeśli i > 5\n",
    "        break"
   ]
  },
  {
   "cell_type": "code",
   "execution_count": 73,
   "metadata": {
    "slideshow": {
     "slide_type": "-"
    }
   },
   "outputs": [
    {
     "name": "stdout",
     "output_type": "stream",
     "text": [
      "0 1 2 3 4 5 6 "
     ]
    }
   ],
   "source": [
    "i = 0\n",
    "\n",
    "while True:   # wykonuj w niekończoność\n",
    "    print(i, end=' ')\n",
    "    if i > 5: # przerwij pętlę jeśli i > 5\n",
    "        break # bez tego byłaby nieskończona pętla\n",
    "    i = i + 1    "
   ]
  },
  {
   "cell_type": "markdown",
   "metadata": {
    "slideshow": {
     "slide_type": "subslide"
    }
   },
   "source": [
    "## *continue*\n",
    "\n",
    "---"
   ]
  },
  {
   "cell_type": "code",
   "execution_count": 12,
   "metadata": {
    "slideshow": {
     "slide_type": "-"
    }
   },
   "outputs": [
    {
     "name": "stdout",
     "output_type": "stream",
     "text": [
      "0 0 2 2 4 4 6 6 8 8 "
     ]
    }
   ],
   "source": [
    "for i in range(10):\n",
    "    if i % 2:    # jeśli i jest nieparzyste\n",
    "        continue # pomiń\n",
    "    print(i, end=' ')\n",
    "    print(i, end=' ')"
   ]
  },
  {
   "cell_type": "markdown",
   "metadata": {
    "slideshow": {
     "slide_type": "subslide"
    }
   },
   "source": [
    "## *pass*\n",
    "\n",
    "---"
   ]
  },
  {
   "cell_type": "code",
   "execution_count": 4,
   "metadata": {
    "scrolled": true,
    "slideshow": {
     "slide_type": "-"
    }
   },
   "outputs": [
    {
     "name": "stdout",
     "output_type": "stream",
     "text": [
      "0 1 2 3 4 5 6 7 8 9 "
     ]
    }
   ],
   "source": [
    "for i in range(10):\n",
    "    if i % 2:    # jeśli i jest nieparzyste\n",
    "        pass     # nie rób nic\n",
    "    else:        # w innej sytuacji drukuj\n",
    "        print(i, end=' ')"
   ]
  },
  {
   "cell_type": "markdown",
   "metadata": {
    "slideshow": {
     "slide_type": "subslide"
    }
   },
   "source": [
    "## *pass* and *continue* difference\n",
    "\n",
    "---"
   ]
  },
  {
   "cell_type": "code",
   "execution_count": 5,
   "metadata": {
    "slideshow": {
     "slide_type": "-"
    }
   },
   "outputs": [
    {
     "name": "stdout",
     "output_type": "stream",
     "text": [
      "h\n",
      "pass executed\n",
      "e\n",
      "l\n",
      "l\n",
      "o\n"
     ]
    }
   ],
   "source": [
    "for i in 'hello':\n",
    "    if(i == 'e'):\n",
    "        print('pass executed')\n",
    "        pass\n",
    "    print(i)"
   ]
  },
  {
   "cell_type": "code",
   "execution_count": 6,
   "metadata": {
    "slideshow": {
     "slide_type": "-"
    }
   },
   "outputs": [
    {
     "name": "stdout",
     "output_type": "stream",
     "text": [
      "h\n",
      "continue executed\n",
      "l\n",
      "l\n",
      "o\n"
     ]
    }
   ],
   "source": [
    "for i in 'hello':\n",
    "    if(i == 'e'):\n",
    "        print('continue executed')\n",
    "        continue\n",
    "    print(i)"
   ]
  },
  {
   "cell_type": "markdown",
   "metadata": {
    "slideshow": {
     "slide_type": "subslide"
    }
   },
   "source": [
    "## *else*\n",
    "\n",
    "---"
   ]
  },
  {
   "cell_type": "code",
   "execution_count": 14,
   "metadata": {
    "slideshow": {
     "slide_type": "-"
    }
   },
   "outputs": [
    {
     "name": "stdout",
     "output_type": "stream",
     "text": [
      "0 1 2 3 4 Koniec pętli.\n"
     ]
    }
   ],
   "source": [
    "for i in range(10):\n",
    "    if i < 5: # drukuj mniejsze od 5\n",
    "        print(i, end=' ')\n",
    "    else:     # dla pozosyałych nie rób nic\n",
    "        pass\n",
    "else: # wykonaj po zakończeniu pętli\n",
    "    print(\"Koniec pętli.\")"
   ]
  },
  {
   "cell_type": "code",
   "execution_count": 15,
   "metadata": {
    "slideshow": {
     "slide_type": "-"
    }
   },
   "outputs": [
    {
     "name": "stdout",
     "output_type": "stream",
     "text": [
      "0 1 2 3 4 Zakończenie przez break\n"
     ]
    }
   ],
   "source": [
    "for i in range(10):\n",
    "    if i < 5: # drukuj mniejsze od 5\n",
    "        print(i, end=' ')\n",
    "    else:     # przerwij pętlę\n",
    "        print(\"Zakończenie przez break\")\n",
    "        break\n",
    "else: # pętla nie doszła do końca przez break\n",
    "    print(\"Koniec pętli.\")"
   ]
  },
  {
   "cell_type": "markdown",
   "metadata": {
    "slideshow": {
     "slide_type": "slide"
    }
   },
   "source": [
    "## Formatowanie tekstu\n",
    "\n",
    "---"
   ]
  },
  {
   "cell_type": "code",
   "execution_count": 78,
   "metadata": {
    "slideshow": {
     "slide_type": "-"
    }
   },
   "outputs": [
    {
     "name": "stdout",
     "output_type": "stream",
     "text": [
      "Help on built-in function print in module builtins:\n",
      "\n",
      "print(...)\n",
      "    print(value, ..., sep=' ', end='\\n', file=sys.stdout, flush=False)\n",
      "    \n",
      "    Prints the values to a stream, or to sys.stdout by default.\n",
      "    Optional keyword arguments:\n",
      "    file:  a file-like object (stream); defaults to the current sys.stdout.\n",
      "    sep:   string inserted between values, default a space.\n",
      "    end:   string appended after the last value, default a newline.\n",
      "    flush: whether to forcibly flush the stream.\n",
      "\n"
     ]
    }
   ],
   "source": [
    "help(print)"
   ]
  },
  {
   "cell_type": "markdown",
   "metadata": {
    "slideshow": {
     "slide_type": "subslide"
    }
   },
   "source": [
    "## *print*\n",
    "\n",
    "---"
   ]
  },
  {
   "cell_type": "code",
   "execution_count": 17,
   "metadata": {
    "slideshow": {
     "slide_type": "-"
    }
   },
   "outputs": [
    {
     "name": "stdout",
     "output_type": "stream",
     "text": [
      "1 2 3 3\n"
     ]
    }
   ],
   "source": [
    "a, b, c = 1, 2, 3\n",
    "\n",
    "print(a, b, c, c) # domyślnym separatorem jest spacja"
   ]
  },
  {
   "cell_type": "code",
   "execution_count": 18,
   "metadata": {
    "slideshow": {
     "slide_type": "-"
    }
   },
   "outputs": [
    {
     "name": "stdout",
     "output_type": "stream",
     "text": [
      "1_2_3\n"
     ]
    }
   ],
   "source": [
    "print(a, b, c, sep='_') # ale można go zmiennić"
   ]
  },
  {
   "cell_type": "code",
   "execution_count": 20,
   "metadata": {
    "slideshow": {
     "slide_type": "-"
    }
   },
   "outputs": [
    {
     "name": "stdout",
     "output_type": "stream",
     "text": [
      "1...2...3 koniec\n",
      "1...2...3 koniec\n"
     ]
    }
   ],
   "source": [
    "# domślnie print kończy sekwencję nową linią\n",
    "# ale można to zmienić\n",
    "print(a, b, c, sep=\"...\", end=\" koniec\\n\")\n",
    "print(a, b, c, sep=\"...\", end=\" koniec\\n\")"
   ]
  },
  {
   "cell_type": "markdown",
   "metadata": {
    "slideshow": {
     "slide_type": "subslide"
    }
   },
   "source": [
    "## *format* - podstawy\n",
    "\n",
    "---"
   ]
  },
  {
   "cell_type": "code",
   "execution_count": 82,
   "metadata": {
    "slideshow": {
     "slide_type": "-"
    }
   },
   "outputs": [
    {
     "data": {
      "text/plain": [
       "'x jest równe 2'"
      ]
     },
     "execution_count": 82,
     "metadata": {},
     "output_type": "execute_result"
    }
   ],
   "source": [
    "x = 2\n",
    "\n",
    "\"x jest równe \" + str(x) # skuteczne, ale mało wygodne"
   ]
  },
  {
   "cell_type": "markdown",
   "metadata": {
    "slideshow": {
     "slide_type": "subslide"
    }
   },
   "source": [
    "## *format* - deklaracja typu\n",
    "\n",
    "---"
   ]
  },
  {
   "cell_type": "code",
   "execution_count": 1,
   "metadata": {
    "slideshow": {
     "slide_type": "-"
    }
   },
   "outputs": [
    {
     "name": "stdout",
     "output_type": "stream",
     "text": [
      "x, y, z = 1234567890, 1234567890.1234567, Python\n"
     ]
    }
   ],
   "source": [
    "x = 1234567890\n",
    "y = 1234567890.1234567890\n",
    "z = \"Python\"\n",
    "\n",
    "# z reguły nie ma potrzeby jawnej deklaracji typu\n",
    "print(\"x, y, z = {}, {}, {}\".format(x, y, z))"
   ]
  },
  {
   "cell_type": "code",
   "execution_count": 2,
   "metadata": {
    "slideshow": {
     "slide_type": "-"
    }
   },
   "outputs": [
    {
     "name": "stdout",
     "output_type": "stream",
     "text": [
      "x, y, z = 1234567890, 1234567890.123457, Python\n"
     ]
    }
   ],
   "source": [
    "# ale można to zrobić\n",
    "# d - int; f - float; s - str\n",
    "print(\"x, y, z = {}, {:f}, {}\".format(x, y, z))"
   ]
  },
  {
   "cell_type": "code",
   "execution_count": 89,
   "metadata": {
    "slideshow": {
     "slide_type": "-"
    }
   },
   "outputs": [
    {
     "name": "stdout",
     "output_type": "stream",
     "text": [
      "x, y, z = 1234567890.000000, 1.234568e+09, Python\n"
     ]
    }
   ],
   "source": [
    "# e - wygodny format dla dużych liczb\n",
    "# XeY = X * 10^Y\n",
    "print(\"x, y, z = {:f}, {:e}, {}\".format(x, y, z))"
   ]
  },
  {
   "cell_type": "markdown",
   "metadata": {
    "slideshow": {
     "slide_type": "subslide"
    }
   },
   "source": [
    "## *format* - dokładność\n",
    "\n",
    "---"
   ]
  },
  {
   "cell_type": "code",
   "execution_count": 21,
   "metadata": {
    "slideshow": {
     "slide_type": "-"
    }
   },
   "outputs": [
    {
     "data": {
      "text/plain": [
       "'pi = 3.141592653589793'"
      ]
     },
     "execution_count": 21,
     "metadata": {},
     "output_type": "execute_result"
    }
   ],
   "source": [
    "import math\n",
    "pi = math.pi\n",
    "\"pi = {}\".format(pi)"
   ]
  },
  {
   "cell_type": "code",
   "execution_count": 25,
   "metadata": {
    "slideshow": {
     "slide_type": "-"
    }
   },
   "outputs": [
    {
     "data": {
      "text/plain": [
       "'pi = 3.1'"
      ]
     },
     "execution_count": 25,
     "metadata": {},
     "output_type": "execute_result"
    }
   ],
   "source": [
    "# ograniczamy się do dwóch liczb po przecinku\n",
    "\"pi = {:.1f}\".format(pi)"
   ]
  },
  {
   "cell_type": "code",
   "execution_count": 28,
   "metadata": {},
   "outputs": [
    {
     "name": "stdout",
     "output_type": "stream",
     "text": [
      "pi =            3.14\n",
      "fi =        54217.54\n"
     ]
    }
   ],
   "source": [
    "# {pi_v:<15} działa jak ljust; {pi_v:>15} działa jak rjust\n",
    "print(\"pi = {:>15.2f}\".format(pi))\n",
    "print(\"fi = {:>15.2f}\".format(54217.54231524561))"
   ]
  },
  {
   "cell_type": "code",
   "execution_count": 9,
   "metadata": {},
   "outputs": [
    {
     "name": "stdout",
     "output_type": "stream",
     "text": [
      "__________3.14___________\n",
      "\n"
     ]
    }
   ],
   "source": [
    "# [znak]^N -> centruj w szerokości N wypełniając [znakiem]\n",
    "print(\"{:_^25.2f}\".format(pi), end=\"\\n\\n\")"
   ]
  },
  {
   "cell_type": "code",
   "execution_count": 30,
   "metadata": {
    "slideshow": {
     "slide_type": "-"
    }
   },
   "outputs": [
    {
     "data": {
      "text/plain": [
       "'pi = 3.141592653589793115997963468544185161590576171875000000000000'"
      ]
     },
     "execution_count": 30,
     "metadata": {},
     "output_type": "execute_result"
    }
   ],
   "source": [
    "# ograniczamy się do 50 liczb po przecinku\n",
    "# zwróć uwagę na zera na końcu\n",
    "\"pi = {:.60f}\".format(pi)"
   ]
  },
  {
   "cell_type": "markdown",
   "metadata": {
    "slideshow": {
     "slide_type": "subslide"
    }
   },
   "source": [
    "## *format*  - znaki specjalne\n",
    "\n",
    "---\n",
    "https://pythonforundergradengineers.com/unicode-characters-in-python.html"
   ]
  },
  {
   "cell_type": "code",
   "execution_count": 8,
   "metadata": {
    "scrolled": true,
    "slideshow": {
     "slide_type": "-"
    }
   },
   "outputs": [
    {
     "name": "stdout",
     "output_type": "stream",
     "text": [
      "Omega: Ω\n",
      "Delta: Δ\n"
     ]
    }
   ],
   "source": [
    "print('Omega: \\u03A9')\n",
    "print('Delta: \\u0394')"
   ]
  },
  {
   "cell_type": "markdown",
   "metadata": {
    "slideshow": {
     "slide_type": "subslide"
    }
   },
   "source": [
    "## *format*  - odnoszenie się do nazw zmiennych (f-strings)\n",
    "\n",
    "---\n",
    "https://pythonforundergradengineers.com/unicode-characters-in-python.html"
   ]
  },
  {
   "cell_type": "code",
   "execution_count": 35,
   "metadata": {
    "slideshow": {
     "slide_type": "-"
    }
   },
   "outputs": [
    {
     "name": "stdout",
     "output_type": "stream",
     "text": [
      "Hello, Radek. You are 77.\n",
      "Hello, Radek. You are 77.\n"
     ]
    }
   ],
   "source": [
    "name = \"Radek\"\n",
    "age = 77\n",
    "print(f\"Hello, {name}. You are {age}.\")\n",
    "print(\"Hello, {}. You are {}.\".format(name, age))"
   ]
  },
  {
   "cell_type": "code",
   "execution_count": 11,
   "metadata": {
    "slideshow": {
     "slide_type": "-"
    }
   },
   "outputs": [
    {
     "name": "stdout",
     "output_type": "stream",
     "text": [
      "radek is funny.\n"
     ]
    }
   ],
   "source": [
    "print(f\"{name.lower()} is funny.\")"
   ]
  },
  {
   "cell_type": "code",
   "execution_count": 14,
   "metadata": {
    "slideshow": {
     "slide_type": "-"
    }
   },
   "outputs": [
    {
     "name": "stdout",
     "output_type": "stream",
     "text": [
      "Radek backwards is kedaR\n"
     ]
    }
   ],
   "source": [
    "print(f\"{name} backwards is {name[::-1]}\")"
   ]
  },
  {
   "cell_type": "code",
   "execution_count": 36,
   "metadata": {
    "scrolled": true,
    "slideshow": {
     "slide_type": "-"
    }
   },
   "outputs": [
    {
     "name": "stdout",
     "output_type": "stream",
     "text": [
      "74.40\n"
     ]
    }
   ],
   "source": [
    "print(f\"{(2 * 37.2):.2f}\")"
   ]
  },
  {
   "cell_type": "code",
   "execution_count": 11,
   "metadata": {
    "slideshow": {
     "slide_type": "slide"
    }
   },
   "outputs": [
    {
     "name": "stdout",
     "output_type": "stream",
     "text": [
      "------------------OCENY-------------------\n",
      "\n",
      "1. Kasia: [3, 4, 5]       => srednia = 4.0\n",
      "2. Basia: []              => srednia = 0.0\n",
      "3. Marek: [5, 3]          => srednia = 4.0\n",
      "4. Józek: [3, 2, 2, 2, 2] => srednia = 2.2\n"
     ]
    }
   ],
   "source": [
    "# lista studentów\n",
    "studenci = [\"Kasia\", \"Basia\", \"Marek\", \"Józek\"]\n",
    "# każdy element odpowiada liście ocen danego studenta\n",
    "dziennik = [[3, 4, 5], [], [5, 3], [3, 2, 2, 2, 2]]\n",
    "\n",
    "# [znak]^N -> centruj w szerokości N wypełniając [znakiem]\n",
    "print(\"{:-^42}\".format(\"OCENY\"), end=\"\\n\\n\")\n",
    "\n",
    "# enumerate zwraca dwa obiekty: index i parę: (student, oceny)\n",
    "for i, (student, oceny) in enumerate(zip(studenci, dziennik)):\n",
    "    # policz średnią; chyba że brak ocen\n",
    "    if len(oceny):\n",
    "        srednia = sum(oceny) / len(oceny)\n",
    "    else:\n",
    "        srednia = 0\n",
    "\n",
    "    # {oceny:<15} działa jak ljust; {oceny:>15} działa jak rjust\n",
    "    print(\"{index}. {imie}: {oceny:<15} => srednia = {srednia:.1f}\"\n",
    "          .format(index=i+1,\n",
    "                  imie=student,\n",
    "                  oceny=str(oceny),\n",
    "                  srednia=srednia))"
   ]
  }
 ],
 "metadata": {
  "anaconda-cloud": {},
  "kernelspec": {
   "display_name": "Python 3 (ipykernel)",
   "language": "python",
   "name": "python3"
  },
  "language_info": {
   "codemirror_mode": {
    "name": "ipython",
    "version": 3
   },
   "file_extension": ".py",
   "mimetype": "text/x-python",
   "name": "python",
   "nbconvert_exporter": "python",
   "pygments_lexer": "ipython3",
   "version": "3.11.3"
  }
 },
 "nbformat": 4,
 "nbformat_minor": 4
}
