{
 "cells": [
  {
   "cell_type": "markdown",
   "metadata": {
    "id": "wnKpNgX3L-Wa",
    "nbpresent": {
     "id": "40f70c9c-09df-4e99-b5fd-a7613178fdb7"
    },
    "slideshow": {
     "slide_type": "-"
    }
   },
   "source": [
    "<img src=\"./src/header.png\">"
   ]
  },
  {
   "cell_type": "markdown",
   "metadata": {},
   "source": [
    "\n",
    "----\n",
    "\n",
    "# Moduł 1 - Ćwiczenia"
   ]
  },
  {
   "cell_type": "markdown",
   "metadata": {
    "id": "lGP2n1fFL-Wk",
    "nbpresent": {
     "id": "fd287f8f-7775-433b-997a-d178455a3add"
    }
   },
   "source": [
    "## Co to jest PowerShell i dlaczego jest przydatny?\n",
    "\n",
    "---\n",
    "\n",
    "Windows PowerShell to interfejs wiersza poleceń dla komputerów z systemem Windows. Interfejs wiersza poleceń (CLI) to program, który nakazuje komputerowi wykonanie zadań za pomocą wpisywanych poleceń, a nie poprzez klikanie obrazów na pulpicie, jak ma to miejsce w graficznym interfejsie użytkownika (GUI ) ."
   ]
  },
  {
   "cell_type": "markdown",
   "metadata": {},
   "source": [
    "Uruchom wyszukiwanie programu PowerShell na swoim komputerze."
   ]
  },
  {
   "cell_type": "markdown",
   "metadata": {},
   "source": [
    "<img src=\"./src/Mod1_Powershell.png\">"
   ]
  },
  {
   "cell_type": "markdown",
   "metadata": {},
   "source": [
    "Prawdopodobnie masz kilka różnych opcji, takich jak „PowerShell”, „PowerShell ISE” i „PowerShell (x86)”. ISE (zintegrowane środowisko skryptowe) to przydatne narzędzie, które pozwala na pisanie skryptów w locie, a także posiada wygodne wyszukiwanie wszystkich poleceń PowerShell. W tej chwili to więcej, niż potrzebujemy. „x86” istnieje w celu zapewnienia kompatybilności wstecznej. Może 1% z was pamięta stare procesory Intela z lat 80. i wczesnych 90. zwane „286”, „386”, „486” itd. O to właśnie chodzi w „x86”. To wersja 32-bitowa. Chcemy wersji 64-bitowej i prostej, więc użyjemy wersji o nazwie „Windows PowerShell”."
   ]
  },
  {
   "cell_type": "markdown",
   "metadata": {},
   "source": [
    "Linie komend Powershell, można uruchomić również w dowolnym miejscu korzystająć z wbudowanego Windowsowego Eksploratora plików. Wystarczy Otworzyć okno dialogowe prawym klawiszym myszy z wciśniętym klawiszem Shift na klawiaturze"
   ]
  },
  {
   "cell_type": "markdown",
   "metadata": {},
   "source": [
    "<img src=\"./src/Mod1_shift.png\">"
   ]
  },
  {
   "cell_type": "markdown",
   "metadata": {},
   "source": [
    "Jeżeli chcesz używać linii komend do komunikacji z Pythonem, którego zaintalowałeś przez Anacondę, możesz skorzystać z Anaconda Powershell Prompt. "
   ]
  },
  {
   "cell_type": "markdown",
   "metadata": {},
   "source": [
    "<img src=\"./src/Mod1_prompt.png\">"
   ]
  },
  {
   "cell_type": "markdown",
   "metadata": {},
   "source": [
    "Daje to pewność, że Python z którego korzystasz na komputerze to Python dostarczony wraz z instalacją Anacondy."
   ]
  },
  {
   "cell_type": "markdown",
   "metadata": {},
   "source": [
    "Więcej na temat korzystania z wielu Pythonów na jednym komputerze: https://www.geeksforgeeks.org/how-to-setup-anaconda-path-to-environment-variable/"
   ]
  },
  {
   "cell_type": "markdown",
   "metadata": {},
   "source": [
    "<b> W ramach tego kursu zakładamy, że każdy korzysta z Anacondy, a linie komend Powershell otwieramy właśnie z Anaconda Powershell Prompt</b>"
   ]
  },
  {
   "cell_type": "markdown",
   "metadata": {
    "id": "lGP2n1fFL-Wk",
    "nbpresent": {
     "id": "fd287f8f-7775-433b-997a-d178455a3add"
    }
   },
   "source": [
    "## Nawigacja po Powershellu\n",
    "\n",
    "---\n",
    "\n",
    "Zaletą programu PowerShell jest to, że zawsze wiesz, gdzie jesteś, ponieważ informuje Cię to w wierszu poleceń. W moim przypadku widzę:\n",
    "\n",
    "```\n",
    "C:\\Users\\UPWr>\n",
    "```\n",
    "\n",
    "Po lewej stronie wyświetla się nam również środowisko z którego aktualnie korzystamy (więcej o tym pod koniec modułu, w tym przypadku <i>base</i>).\n",
    "\n",
    "*nazwa środowiska będzie wyświetlać się tylko w Powershellu Anacondy"
   ]
  },
  {
   "cell_type": "markdown",
   "metadata": {},
   "source": [
    "<img src=\"./src/Mod1_Powershell_view.png\">"
   ]
  },
  {
   "cell_type": "markdown",
   "metadata": {
    "id": "lGP2n1fFL-Wk",
    "nbpresent": {
     "id": "fd287f8f-7775-433b-997a-d178455a3add"
    }
   },
   "source": [
    "## Przeglądanie zawartości katalogu za pomocą `Get-ChildItem` (`gci`, `ls`, `dir`)\n",
    "\n",
    "---\n",
    "\n",
    "Naszym pierwszym poleceniem jest Get-ChildItem. Śmiało, wpisz go i naciśnij Enter. Zobaczysz listę wszystkiego w bieżącym katalogu. W moim przypadku wygląda to tak:"
   ]
  },
  {
   "cell_type": "markdown",
   "metadata": {},
   "source": [
    "<img src=\"./src/Mod1_ls.png\">"
   ]
  },
  {
   "cell_type": "markdown",
   "metadata": {},
   "source": [
    "Wszystkie polecenia, których będziemy się uczyć, mają postać Verb-Noun. Nazywa się je „cmdletami” (wymawiane „polecenia”), a ich forma ma ułatwiać zapamiętanie ich działania i przewidywanie podobnych poleceń cmdlet. Ponieważ polecenia cmdlet są dość długie, większość z nich ma bardziej eleganckie aliasy, których można używać zamiast nich. Najpierw przedstawię polecenia cmdlet z ich nazwami, ale później zawsze będę używać standardowych aliasów, ponieważ praca z nimi jest znacznie szybsza. Należy pamiętać, że wiele poleceń cmdlet ma wiele aliasów. Na przykład, `Get-ChildItem`, `gci`, `dir` i `ls` robią dokładnie to samo. Chociaż nie jest zaskakujące, że gci jest to skrót od Get-ChildItem, możesz zastanawiać się skąd wzieło się `dir` i `ls`.\n",
    "\n",
    "PowerShell jest stosunkowo nowym rozwiązaniem (po raz pierwszy wydanym w 2006 r.), a jego projektanci przewidywali, że wiele osób, które będą z niego korzystać, będzie miało już doświadczenie z niektórymi istniejącymi interfejsami CLI (interfejsami wiersza poleceń), w szczególności ze starszym interfejsem CLI firmy Microsoft zwanym wierszem poleceń lub z Linuksem. Interfejsy CLI, takie jak Bash jest teraz standardem również w systemie OS X. Dlatego wiele poleceń cmdlet ma alias, który jest standardowym poleceniem w jednym z tych dwóch systemów (a często w obu). W tym przykładzie `dir` pochodzi z wiersza poleceń i `ls` pochodzi z Basha. "
   ]
  },
  {
   "cell_type": "markdown",
   "metadata": {
    "id": "lGP2n1fFL-Wk",
    "nbpresent": {
     "id": "fd287f8f-7775-433b-997a-d178455a3add"
    }
   },
   "source": [
    "## Przechodzenie pomiędzy katalogami za pomocą `Set-Location` (`sl`, `cd`)\n",
    "\n",
    "---\n",
    "\n",
    "Załóżmy się zwyczajnie otworzyłeś aplikację `Anaconda Powershell Prompt`\n",
    "\n",
    "Aby przenieść się na pulpit, użyjemy polecenia Set-Location cmdlet.\n",
    "```\n",
    "sl desktop\n",
    "```\n",
    "To nakazuje PowerShellowi przejście na pulpit (Dekstop). Zauważ, że słowo „pulpit” można zapisać małymi literami, mimo że patrząc na zawartość katalogu użytkownika, słowo „pulpit” zostało zapisane przez duże „D”. W PowerShell nie jest rozróżniana wielkość liter! Teraz, gdy zmieniłeś swoją lokalizację, możesz użyć przycisku `ls` i wyświetlić listę wszystkiego, co znajduje się na Twoim pulpicie, czyli wszystkiego, co znajduje się w katalogu o nazwie Desktop. Jeśli jesteś tak zdezorganizowany jak ja, to będzie długa lista. Do katalogu możemy wrócić wpisując\n",
    "```\n",
    "sl ..\n",
    "```\n",
    "Nie pomijaj wolnego miejsca! Teraz wpisz\n",
    "```\n",
    "sl ..\n",
    "```\n",
    "Powinieneś być w Users.\n",
    "\n",
    "Teraz spróbuj wrócić do pulpitu, a następnie ponownie do Users. To powinno wymagać czterech poleceń: sl YOURUSERNAME, sl desktop, sl .., sl ... Ale tak naprawdę można to zrobić tylko dwoma. Powinieneś być w C:\\Users> w tej chwili. Zamiast wpisywać sl YOURUSERNAME, a następnie sl desktop możesz po prostu wpisać\n",
    "```\n",
    "sl YOURUSERNAME\\desktop\n",
    "```\n",
    "i przejdź do pulpitu jednym poleceniem! Podobnie z pulpitu, wpisując\n",
    "```\n",
    "sl ..\\..\n",
    "```\n",
    "jednym poleceniem możesz wrócić do miejsca, w którym zacząłeś. Jeśli nie masz wystarczającej wytrzymałości małego palca do \\ciągłego pisania, możesz także wpisać sl ../... W programie PowerShell nie tylko nie jest rozróżniana wielkość liter, ale także nie ma znaczenia, w jakim kierunku zmierza ukośnik. sl ../.., SL ..\\.., Set-Location ..\\.., i set-location ../.. wszystko to robi dokładnie to samo."
   ]
  },
  {
   "cell_type": "markdown",
   "metadata": {
    "id": "lGP2n1fFL-Wk",
    "nbpresent": {
     "id": "fd287f8f-7775-433b-997a-d178455a3add"
    }
   },
   "source": [
    "## Tworzenie nowych katalogów za pomocą `mkdir` \n",
    "\n",
    "---\n",
    "\n",
    "Przechodzimy do pracy z plikami. Zanim zaczniemy, utwórzmy katalog, w którym będziemy przechowywać wszystko, czego używamy w tym kursie. Wróć do katalogu użytkownika, wpisując\n",
    "```\n",
    "sl ~\n",
    "```\n",
    "Utworzymy nowy katalog w tym katalogu. W tym celu używamy polecenia `mkdir`. Nazwij swój katalog, jak chcesz, ale staraj się nie używać spacji, ponieważ sprawiają one, że praca w wierszu poleceń jest bardziej skomplikowana niż to konieczne. Nazwę mój katalog „2023_ElementyProgramowania_Zajdel”. Więc piszę\n",
    "```\n",
    "mkdir 2023_ElementyProgramowania_Zajdel\n",
    "```\n",
    "Powszechnym sposobem na uniknięcie spacji jest użycie łączników lub podkreśleń, jak w 2023_ElementyProgramowania_Zajdel. Jakkolwiek nazwiesz swój katalog, staraj się unikać spacji. Gdy już trochę popracujesz z PowerShellem, prawdopodobnie zauważysz, że domyślnie zaczynasz nadawać tytuły nowym plikom bez spacji. Jest to dobry nawyk, ponieważ ułatwia pracę w wierszu poleceń, a także pracę z językami programowania, takimi jak Python.\n",
    "\n",
    "Prawdopodobnie jednak masz wiele istniejących plików ze spacjami w nazwach. Aby otworzyć je w PowerShell, wystarczy użyć cudzysłowów. Spróbujmy tego. Przejdź do nowego katalogu za pomocą\n",
    "```\n",
    "sl 2023_ElementyProgramowania_Zajdel\n",
    "```\n",
    "```\n",
    "gci\n",
    "```\n",
    "Umieśćmy w środku nowy katalog z rozszerzeniem mkdir. Nazwiemy ten katalog „Katalogiem z długą nazwą i dużą ilością spacji”. Ponieważ nazwa zawiera spacje, do jej utworzenia będziemy musieli użyć cudzysłowów.\n",
    "```\n",
    "mkdir \"Directory with a long name and lots of spaces\"\n",
    "```\n",
    "\n",
    "teraz\n",
    "```\n",
    "gci\n",
    "```\n",
    "i zobaczysz swój nowy katalog. Załóżmy, że chcemy przejść do tego katalogu. Musielibyśmy wpisać sl \"Directory with a long name and lots of spaces\". Nie tylko wpisanie tego zajmie trochę czasu, ale jeśli pomylimy się o jedną literę, PowerShell nie będzie w stanie znaleźć naszego katalogu. Zamiast tego spróbuj po prostu pisać\n",
    "```\n",
    "sl a następnie naciśnij `tab`\n",
    "```\n",
    "Voila! PowerShell uzupełnia za nas nazwę katalogu, łącznie z cudzysłowami! Użycie `tab` - funkcji automatycznego uzupełniania pozwoli Ci zaoszczędzić dużo czasu. Zauważysz, że kiedy PowerShell uzupełnił dla nas nazwę, dodał również `.\\` na początku nazwy katalogu. Kropka jest po prostu skrótem oznaczającym bieżący katalog. Kiedy wpisujesz polecenia, PowerShell zawsze zakłada, że odwołujesz się do czegoś w bieżącym katalogu. Nie musisz więc wpisywać tej części (chyba że chcesz, aby PowerShell szukał gdzie indziej wszystkiego, co mu każesz, w takim przypadku możesz wpisać ścieżkę do tego katalogu np. `C:\\directory\\bla\\etc`\n",
    "\n",
    "Ścieżke do katalogu łatwo uzyskać z Eksploratora plików:"
   ]
  },
  {
   "cell_type": "markdown",
   "metadata": {},
   "source": [
    "<img src=\"./src/Mod1_path.png\">"
   ]
  },
  {
   "cell_type": "markdown",
   "metadata": {
    "id": "lGP2n1fFL-Wk",
    "nbpresent": {
     "id": "fd287f8f-7775-433b-997a-d178455a3add"
    }
   },
   "source": [
    "## Używanie `Explorer` do przeglądania katalogów w GUI\n",
    "\n",
    "---\n",
    "\n",
    "W tym momencie utworzyliśmy dwa katalogi. Wspomniałem powyżej, że „katalog” to po prostu inne słowo oznaczające „folder”. Możesz to zobaczyć na własne oczy, znajdując nowe katalogi w GUI. System Windows faktycznie nazywa Twój GUI „Eksploratorem plików” lub po prostu „Eksploratorem”. Możemy wywołać Eksploratora z poziomu PowerShell za pomocą polecenia Explorer. Przejdź z powrotem do folderu funWithPowerShell za pomocą\n",
    "```\n",
    "sl ..\n",
    "```\n",
    "Teraz spróbuj wpisać\n",
    "```\n",
    "explorer .\n",
    "```\n",
    "Pamiętaj, że kropka oznacza po prostu „ten katalog” i nie musisz pisać „eksploratora” wielką literą, ponieważ w PowerShell wielkość liter nie ma znaczenia. Eksplorator powinien właśnie otworzyć okno pokazujące zawartość katalogu „2023_ElementyProgramowania_Zajdel”. Rozmieść okna tak, aby obraz był widoczny zarówno w Eksploratorze, jak i w programie PowerShell. Teraz będziesz mógł zobaczyć, jak to, co robisz w PowerShell, pojawia się w Eksploratorze.\n",
    "\n",
    "Polecenie Explorer jest niezwykle przydatne."
   ]
  },
  {
   "cell_type": "markdown",
   "metadata": {
    "id": "lGP2n1fFL-Wk",
    "nbpresent": {
     "id": "fd287f8f-7775-433b-997a-d178455a3add"
    }
   },
   "source": [
    "## Usuwanie za pomocą `Remove-Item` (`rm`)\n",
    "\n",
    "---\n",
    "\n",
    "Teraz, gdy możesz zobaczyć wyniki tego, co robisz w PowerShell, nauczmy się usuwać różne rzeczy — na przykład ten katalog o długiej nazwie. Najpierw utwórz jeszcze kilka katalogów. Nazwij je „dir”, „dir1” i „dir2”. Możesz wykonać wszystkie trzy za pomocą jednego polecenia, wpisując\n",
    "```\n",
    "mkdir dir, dir1, dir2\n",
    "```\n",
    "Całkiem schludnie, co? Powinieneś zobaczyć trzy nowe katalogi wyskakujące w otwartym oknie Eksploratora.\n",
    "\n",
    "Teraz pozbądźmy się tego katalogu o długiej nazwie. Aby to zrobić, używamy polecenia cmdlet `Remove-Item` lub po prostu `rm`. Z tym poleceniem należy zachować szczególną ostrożność, ponieważ nie powoduje ono wyrzucenia elementów do kosza. Usuwa je trwale. Wpisz rm, a następnie spację i nazwę katalogu o długiej nazwie. Prawdopodobnie będziesz chciał użyć `tab` do automatycznego uzupełniania. Zauważ jednak, że teraz, gdy mamy kilka katalogów o nazwach zaczynających się na „d”, więc musimy wpisać pierwszą unikalną literę, aby została poprawnie uzupełniona. Więc piszę\n",
    "```\n",
    "rm dire a potem uderz tab.\n",
    "```\n",
    "Alternatywnie możesz po prostu wpisać rm, a następnie nacisnąć `tab` kilka razy, aby przewinąć wszystkie katalogi. Jeśli posuniesz się za daleko, użyj `shift` + `tab`, aby przewinąć wstecz.\n",
    "\n",
    "Przed naciśnięciem `enter` długo i intensywnie wpatruję się, aby upewnić się, że usuwam rzecz, którą chcę usunąć. Wtedy uderzyłem `enter`.\n",
    "\n",
    "Śmiało, usuń pozostałe trzy katalogi i zobacz, jak znikają z Eksploratora. Podobnie jak w przypadku `mkdir`, możesz usunąć wszystkie trzy katalogi za pomocą jednego polecenia. Spróbuj.\n",
    "\n",
    "Właśnie usunęliśmy katalogi `dir`, `dir1` i `dir2`. Ale będziemy ich potrzebować w następnym przykładzie. Stwórzmy je więc na nowo. \n",
    "\n",
    "Zamiast wpisywać instrukcję, spróbuj po prostu kilka razy kliknąć strzałkę w górę na klawiaturze. Wkrótce powinieneś zobaczyć polecenie, którego użyłeś do utworzenia trzech katalogów po raz pierwszy. Gdy to zrobisz, naciśnij `Enter`, a zostaną utworzone ponownie! Podobnie jak w przypadku `tab` automatycznego uzupełniania, używanie strzałek w górę i w dół do przewijania ostatnich poleceń pozwoli Ci zaoszczędzić mnóstwo czasu! Pamiętaj, że nie cofamy naszego wcześniejszego usunięcia. Po prostu używamy skrótu, aby ponownie wprowadzić polecenie, którego ostatnio używaliśmy."
   ]
  },
  {
   "cell_type": "markdown",
   "metadata": {
    "id": "lGP2n1fFL-Wk",
    "nbpresent": {
     "id": "fd287f8f-7775-433b-997a-d178455a3add"
    }
   },
   "source": [
    "## Tworzenie plików za pomocą `New-Item` (`ni`)\n",
    "\n",
    "---\n",
    "\n",
    "Stwórzmy nowy dokument tekstowy o nazwie „example.txt”. Przejdź do 2023_ElementyProgramowania_Zajdel - używaj tabulatora dla każdej nazwy katalogu podczas wpisywania ścieżki, aby przyspieszyć działanie — i wpisz:\n",
    "```\n",
    "ni example.txt\n",
    "```\n",
    "następnie naciśnij Enter. Teraz zrób to\n",
    "```\n",
    "gci\n",
    "```\n",
    "aby zobaczyć, że rzeczywiście masz teraz oprócz katalogów plik example.txt. Będziemy potrzebować kilku plików, więc śmiało utwórz `example1.txt` i `example2.txt`. Za pomocą przecinka możesz to zrobić jednym poleceniem:\n",
    "```\n",
    "ni example1.txt, example2.txt\n",
    "```"
   ]
  },
  {
   "cell_type": "markdown",
   "metadata": {
    "id": "lGP2n1fFL-Wk",
    "nbpresent": {
     "id": "fd287f8f-7775-433b-997a-d178455a3add"
    }
   },
   "source": [
    "## Kopiowanie i przenoszenie plików za pomocą `Copy-Item` (`cp`) i `Move-Item` (`mv`)\n",
    "\n",
    "---\n",
    "\n",
    "Prawdopodobnie powinniśmy byli umieścić te pliki w jednym z naszych katalogów. Przesuńmy je.\n",
    "\n",
    "Wprowadzimy plik `example.txt` do katalogu `dir` wpisując:\n",
    "```\n",
    "mv example.txt dir\n",
    "```\n",
    "Teraz wpisz `gci`, a zobaczysz, że `example.txt` zniknęło. Przejdź do `dir` (`sl dir`) i wpisz, `gci` a zobaczysz, że już tam jest! (Możesz to także zrobić bez poruszania się, po prostu wpisując `gci dir` z poziomu katalogu 2023_ElementyProgramowania_Zajdel. Przejdź z powrotem do 2023_ElementyProgramowania_Zajdel i umieść plik `example1.txt` w katalogu `dir1` i `example2.txt` w katalogu `dir2`.\n",
    "\n",
    "Możemy również użyć mv do zmiany nazwy pliku. Użyj `sl`, aby przejść do `dir`. Uruchom `gci` i powinieneś zobaczyć swój plik `example.txt`. To nudna nazwa. Nazwijmy go zamiast tego `„benjamin.txt”`.\n",
    "```\n",
    "mv example.txt benjamin.txt\n",
    "```\n",
    "Użyj gci ponownie, aby potwierdzić, że Twój dokument nazywa się teraz `benjamin.txt`.\n",
    "```\n",
    "To samo polecenie służy zarówno do przenoszenia, jak i zmiany nazw plików. W rzeczywistości jednak działanie jest takie samo. W obu przypadkach mówisz komputerowi, aby zmienił „nazwę” lokalizacji pliku, to znaczy zmienił ścieżkę, którą będzie podążał w celu znalezienia pliku. W pierwszym przykładzie powyżej ścieżka zaczynała się jako\n",
    "```\n",
    "C:\\Users\\UPWr\\2023_ElementyProgramowania_Zajdel\\example.txt\n",
    "\n",
    "i zmieniłem na\n",
    "```\n",
    "C:\\Users\\UPWr\\2023_ElementyProgramowania_Zajdel\\dir\\example.txt\n",
    "```\n",
    "W drugim przykładzie ścieżka została zmieniona z\n",
    "```\n",
    "C:\\Users\\UPWr\\2023_ElementyProgramowania_Zajdel\\dir\\example.txt\n",
    "```\n",
    "Do\n",
    "```\n",
    "C:\\Users\\UPWr\\2023_ElementyProgramowania_Zajdel\\dir\\benjamin.txt\n",
    "```\n",
    "Innymi słowy, w obu przykładach `mv` po prostu zmieniono ścieżkę. Nie martw się, jeśli to jeszcze nie ma sensu. Po prostu bądź ostrożny podczas używania mv, ponieważ jeśli nie wpiszesz dokładnie właściwej rzeczy, możesz zmienić nazwę czegoś, gdy chcesz to przenieść, i odwrotnie.\n",
    "\n",
    "Oprócz przenoszenia plików chcemy także mieć możliwość ich kopiowania i usuwania. Aby skopiować pliki, używamy polecenia cmdlet użyj `Copy-Item` lub `cp`. Zróbmy dwie kopie `benjamin.txt` i nadajmy im nazwy `„steven.txt”` i `„susie.txt”`.\n",
    "```\n",
    "cp benjamin.txt steven.txt\n",
    "\n",
    "cp benjamin.txt susie.txt\n",
    "```\n",
    "Możemy również usunąć te dwa nowe pliki za pomocą rm, podobnie jak w przypadku katalogów. Spróbuj to zrobić jednym poleceniem. Jak zawsze, zachowaj ostrożność podczas korzystania z rm.\n",
    "\n",
    "Oto polecenie:\n",
    "```\n",
    "rm steven.txt, susie.txt\n",
    "```\n",
    "Żegnajcie, Steven i Susie!"
   ]
  },
  {
   "cell_type": "markdown",
   "metadata": {
    "id": "lGP2n1fFL-Wk",
    "nbpresent": {
     "id": "fd287f8f-7775-433b-997a-d178455a3add"
    }
   },
   "source": [
    "## Tworzenie \"wirtualnego\" środowiska pracy\n",
    "\n",
    "---\n",
    "\n",
    "Wyczyśćmy nasz katalog i rozpocznijmy w nim pracę nad naszym kursem:\n",
    "\n",
    "Upewnij się że jesteś w swoim katalogu (w moim przypadku C:\\Users\\UPWr\\2023_ElementyProgramowania_Zajdel), a nastepnie uruchom:\n",
    "\n",
    "```\n",
    "rm ./* -r\n",
    "```\n",
    "\n",
    "W tym przypadku `./*` oznacza wszystko co znajduje się w tym katalogu. Atrybut `-r`, mówi natomiast, że usunąć mają się również katalogi, a nie tylko pliki."
   ]
  },
  {
   "cell_type": "markdown",
   "metadata": {},
   "source": [
    "Rozpoczynając nową pracę nad jakimś projektem w Pythonie, najlepiej najpierw skonfigurować środowisko wirtualne. Nie jest to wymagane, ale to dobry nawyk. Środowisko wirtualne to miejsce w systemie, w którym można zainstalować pakiety dla jednego projektu i odizolować je od reszty systemu. Stosując to podejście, możesz mieć wiele projektów w swoim systemie, nie martwiąc się, że pakiety jednego projektu będą kolidować z pakietami innego projektu. Każdy projekt może mieć dokładnie taką wersję pakietów, jakiej potrzebuje, i możesz aktualizować pakiety dowolnego projektu bez wpływu na inne projekty."
   ]
  },
  {
   "cell_type": "markdown",
   "metadata": {},
   "source": [
    "```\n",
    "Przykład: Adrian w 2017 stworzył sobie świetny skrypt, który przetwarzał raporty generowane przez jego firmę geodezyjną, program potrafił wydobyć wszystkie niezbędne informacje, a następnie eksportował dane do Excela. W momencie tworzenia skryptu, korzystał z biblioteki Numpy w wersji 1.10.4. Na kilka lat zawiesił projekt i nie korzystał ze skryptu. W miedzyczasie aktualizował swojego Pythona oraz wszystkie biblioteki. Teraz pracuje na Numpy 1.25.1, nie mówiąc już o wszystkich innych bibliotekach zależnych. Jakież było zdziwienie Adriana, kiedy uruchamiając skrypt z roku 2017 na swoim obecnym środowisku Pythona musi męczyć się aby dostosować go do zmian, kóre zaszły we bibliotekach z których korzystał. A mógł stworzyć wirtualne środowisko.\n",
    "```"
   ]
  },
  {
   "cell_type": "markdown",
   "metadata": {},
   "source": [
    "Wejdź do swojego katalogu, a następnie utwórz wirtulane środowisko:\n",
    "Jeśli używasz Pythona 3, powinieneś być w stanie stworzyć środowisko wirtualne za pomocą następującego polecenia:\n",
    "```\n",
    "python -m venv vEnvElemProg\n",
    "```\n",
    "To polecenie uruchamia moduł `venv` i używa go do utworzenia środowiska wirtualnego o nazwie `vEnvElemProg`.\n",
    "Teraz uruchomimy nasze środowisko wpisując:\n",
    "```\n",
    ".\\vEnvElemProg\\Scripts\\activate\n",
    "```"
   ]
  },
  {
   "attachments": {},
   "cell_type": "markdown",
   "metadata": {},
   "source": [
    "<img src=\"./src/Mod1_venv.png\">"
   ]
  },
  {
   "cell_type": "markdown",
   "metadata": {},
   "source": [
    "nazwa wirtualnego środowiska pracy pojawiła się na samym początku lini poleceń"
   ]
  },
  {
   "cell_type": "markdown",
   "metadata": {},
   "source": [
    "Aby zakończyć korzystanie ze środowiska wirtualnego, wpisz \n",
    "```\n",
    "deactivate\n",
    "```"
   ]
  },
  {
   "attachments": {},
   "cell_type": "markdown",
   "metadata": {},
   "source": [
    "Sprawdźmy jakie biblioteki zainstalowane sa w ramach Pythona bez wirtualnego środowiska oraz z nim:\n",
    "\n",
    "Wpisz:\n",
    "```\n",
    "pip freeze\n",
    "```\n",
    "To polecenie wyświetla zaintalowane pakiety Pythona"
   ]
  },
  {
   "cell_type": "markdown",
   "metadata": {},
   "source": [
    "<img src=\"./src/Mod1_venv_lib.png\">"
   ]
  },
  {
   "cell_type": "markdown",
   "metadata": {},
   "source": [
    "Teraz aktywujmy nasze wirtualne środowisko i wykonajmy polecenie ponownie:\n",
    "\n",
    "```\n",
    ".\\vEnvElemProg\\Scripts\\activate\n",
    "pip freeze\n",
    "```\n",
    "\n",
    "Nie wyświetli się nic!\n",
    "\n",
    "Zainstalujmy pakiety, które będą nam potrzebne w tym kursie, w wersji która zapewni nam kompatybilność z tym co przygotowali dla was prowadzacy.\n",
    "\n",
    "W materiałach do Modułu, znajdziesz plik \"requirements.txt\" z nazwą pakietów wraz z wersją, które należy zainstalować, aby móc wykonać zadania przewidziane w tym kursie. \n",
    "\n",
    "```\n",
    "pip install -r requirements.txt\n",
    "```\n",
    "\n",
    "Mamy to! Teraz po uruchomieniu komendy `pip freeze` wyświetlą się zainstalowane pakiety\n",
    "```\n",
    "pip freeze\n",
    "```"
   ]
  },
  {
   "cell_type": "markdown",
   "metadata": {
    "id": "lGP2n1fFL-Wk",
    "nbpresent": {
     "id": "fd287f8f-7775-433b-997a-d178455a3add"
    }
   },
   "source": [
    "## Uruchomienie Jupytera\n",
    "\n",
    "---\n",
    "\n",
    "Do każdego Modułu, dołączony będzie plik `*.ipynb`, z zadaniami. Postarajmy się zadbać o schemat katalogów, kótry będzie sprzyjał naszej efektywnej pracy."
   ]
  },
  {
   "cell_type": "markdown",
   "metadata": {},
   "source": [
    "Stwórzmy katalog `Modul2` do którego skopiujmy plik `Mod2_cw.ipynb` (ściągniesz go ze strony kursu)."
   ]
  },
  {
   "cell_type": "markdown",
   "metadata": {},
   "source": [
    "Teraz uruchamiamy Jupytera, tak aby pracował w naszym katalogu (katalogu w którym się znajdujemy). W tym celu wpisujemy:\n",
    "\n",
    "```\n",
    "jupyter-notebook --notebook-dir=\".\"\n",
    "```"
   ]
  }
 ],
 "metadata": {
  "anaconda-cloud": {},
  "colab": {
   "provenance": []
  },
  "kernelspec": {
   "display_name": "Python 3 (ipykernel)",
   "language": "python",
   "name": "python3"
  },
  "language_info": {
   "codemirror_mode": {
    "name": "ipython",
    "version": 3
   },
   "file_extension": ".py",
   "mimetype": "text/x-python",
   "name": "python",
   "nbconvert_exporter": "python",
   "pygments_lexer": "ipython3",
   "version": "3.11.3"
  },
  "rise": {
   "scroll": true
  }
 },
 "nbformat": 4,
 "nbformat_minor": 1
}
