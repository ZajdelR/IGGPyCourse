{
 "cells": [
  {
   "cell_type": "markdown",
   "metadata": {},
   "source": [
    "\n",
    "----\n",
    "\n",
    "# Moduł 2 - Kartkowka - 2024/2025 - GR 12:15"
   ]
  },
  {
   "cell_type": "markdown",
   "metadata": {
    "id": "lGP2n1fFL-Wk",
    "nbpresent": {
     "id": "fd287f8f-7775-433b-997a-d178455a3add"
    }
   },
   "source": [
    "### Imię i nazwisko"
   ]
  },
  {
   "cell_type": "raw",
   "metadata": {},
   "source": []
  },
  {
   "cell_type": "markdown",
   "metadata": {
    "id": "lGP2n1fFL-Wk",
    "nbpresent": {
     "id": "fd287f8f-7775-433b-997a-d178455a3add"
    }
   },
   "source": [
    "### Zad 1\n",
    "\n",
    "Stworz listę liczb calkowitych od 10 do 100 (wlacznie) ze skokiem 10, ktory zapiszesz pod zmienną `ciag_liczb_calkowitych`. Usun co trzeci element stworzonej listy. Zamien typ elementow listy na `str` (*tip help(map), map to funkcja ktora dziala funkcją wprowadzoną jako pierwszy argument, na wszystkie elementy sekwencji, wprowadzonej jako drugi argument: x = list(map(int, [5.4,4.5,6.7])) zamieni wszystkie wartosci we wprowadzonej liście na liczby calkowite i zapiszę listę do zmiennej x). Odwroc kolejnosc elementow listy. Wyswietl liste jako tekst, gdzie kolejne elemnty listy będą polaczone znakiem `;`.\n",
    "\n",
    "Oczekiwany wynik: 100;80;70;50;40;20;10"
   ]
  },
  {
   "cell_type": "code",
   "execution_count": null,
   "metadata": {},
   "outputs": [],
   "source": []
  }
 ],
 "metadata": {
  "anaconda-cloud": {},
  "colab": {
   "provenance": []
  },
  "kernelspec": {
   "display_name": "Python 3 (ipykernel)",
   "language": "python",
   "name": "python3"
  },
  "language_info": {
   "codemirror_mode": {
    "name": "ipython",
    "version": 3
   },
   "file_extension": ".py",
   "mimetype": "text/x-python",
   "name": "python",
   "nbconvert_exporter": "python",
   "pygments_lexer": "ipython3",
   "version": "3.11.3"
  },
  "rise": {
   "scroll": true
  }
 },
 "nbformat": 4,
 "nbformat_minor": 4
}