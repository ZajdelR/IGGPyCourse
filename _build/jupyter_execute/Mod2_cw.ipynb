{
 "cells": [
  {
   "cell_type": "markdown",
   "metadata": {
    "id": "wnKpNgX3L-Wa",
    "nbpresent": {
     "id": "40f70c9c-09df-4e99-b5fd-a7613178fdb7"
    },
    "slideshow": {
     "slide_type": "-"
    }
   },
   "source": [
    "<img src=\"./src/header.png\">"
   ]
  },
  {
   "cell_type": "markdown",
   "metadata": {
    "slideshow": {
     "slide_type": "slide"
    }
   },
   "source": [
    "\n",
    "----\n",
    "\n",
    "# Moduł 2 - Ćwiczenia 2024/2025\n",
    "---\n"
   ]
  },
  {
   "cell_type": "markdown",
   "metadata": {
    "slideshow": {
     "slide_type": "slide"
    }
   },
   "source": [
    "\n",
    "----\n",
    "\n",
    "## Zad 1\n",
    "---\n",
    "\n",
    "Mając zmienne a = \"12\", b = 7, oraz c = 3.5, wykonaj następujące operacje:\n",
    "\n",
    "- Dodaj a i b po przekształceniu a na liczbę całkowitą.\n",
    "- Pomnóż wynik przez c i wyświetl wynik jako liczbę całkowitą."
   ]
  },
  {
   "cell_type": "code",
   "execution_count": null,
   "metadata": {},
   "outputs": [],
   "source": []
  },
  {
   "cell_type": "markdown",
   "metadata": {
    "slideshow": {
     "slide_type": "slide"
    }
   },
   "source": [
    "\n",
    "----\n",
    "\n",
    "## Zad 1A\n",
    "---\n",
    "\n",
    "Napisz kod, który sprawdzi, czy zmienna x = 5 i zmienna y = \"5\" są tego samego typu oraz czy ich wartości są równe po konwersji y na liczbę całkowitą."
   ]
  },
  {
   "cell_type": "code",
   "execution_count": null,
   "metadata": {},
   "outputs": [],
   "source": []
  },
  {
   "cell_type": "markdown",
   "metadata": {
    "slideshow": {
     "slide_type": "slide"
    }
   },
   "source": [
    "\n",
    "----\n",
    "\n",
    "## Zad 2\n",
    "---\n",
    "\n",
    "Stwórz zmienną o nazwie `pi` i wartości 3.14. Wykorzystaj ją do obliczenia pola koła o promieniu 12. Wynik wyświetl na ekran. Zrób to samo importując wartość pi z biblioteki math"
   ]
  },
  {
   "cell_type": "code",
   "execution_count": null,
   "metadata": {},
   "outputs": [],
   "source": []
  },
  {
   "cell_type": "markdown",
   "metadata": {
    "slideshow": {
     "slide_type": "slide"
    }
   },
   "source": [
    "\n",
    "----\n",
    "\n",
    "## Zad 3\n",
    "---\n",
    "\n",
    "Wykorzystaj zmienną ‘pi’ z biblioteki math:\n",
    "- Przypisz wartość zmiennej ‘pi’ z biblioteki math do nowej zmiennej o nazwie ‘liczba_pi’\n",
    "- Zaimportuj zmienną pi bezpośrednio do programu, bez deklaracji nowej zmiennej \n",
    "    (2 sposoby)"
   ]
  },
  {
   "cell_type": "code",
   "execution_count": null,
   "metadata": {},
   "outputs": [],
   "source": []
  },
  {
   "cell_type": "markdown",
   "metadata": {
    "slideshow": {
     "slide_type": "slide"
    }
   },
   "source": [
    "\n",
    "----\n",
    "\n",
    "## Zad 4\n",
    "---\n",
    "\n",
    "Korzystając z wbudowanej dokumentacji znajdź funkcję, która wyznacza licznik i mianownik ułamka zwykłego dowolnej liczby zmiennoprzecinkowej.\n",
    "- Wskazówka: `help(float)`*\n",
    "- Przetestuj jej działanie na kilku dowolnych przykładach.\n",
    "- Przetestuj działania na dowolnej liczbie niewymiernej np. pi lub pierwiastek z 3\n"
   ]
  },
  {
   "cell_type": "code",
   "execution_count": null,
   "metadata": {},
   "outputs": [],
   "source": []
  },
  {
   "cell_type": "markdown",
   "metadata": {
    "slideshow": {
     "slide_type": "slide"
    }
   },
   "source": [
    "\n",
    "----\n",
    "\n",
    "## Zad 5\n",
    "---\n",
    "\n",
    "Sprawdź czy:\n",
    "- liczba pi zaimportowana z biblioteki math jest równa liczbie pi obliczonej dwoma dowolnymi metodami szybko zbieżnymi (https://pl.wikipedia.org/wiki/Pi#Wzory_szybko_zbie%C5%BCne)\n",
    "- liczba pi zaimportowana z biblioteki math jest „w przybliżeniu” równa liczbie pi obliczonej dwoma dowolnymi metodami szybko zbieżnymi\n"
   ]
  },
  {
   "cell_type": "code",
   "execution_count": null,
   "metadata": {},
   "outputs": [],
   "source": []
  },
  {
   "cell_type": "markdown",
   "metadata": {
    "slideshow": {
     "slide_type": "slide"
    }
   },
   "source": [
    "\n",
    "----\n",
    "\n",
    "## Zad 6\n",
    "---\n",
    "\n",
    "Zdefiniuj dwie zmienne typu tekstowego i jedną całkowitą, np.\n",
    "\n",
    "```\n",
    "a = \"jeden\"\n",
    "b = \"dwa\"\n",
    "c = 3\n",
    "```\n",
    "\n",
    "Wykonaj następujące polecenia, następnie skomentuj wyniki:\n",
    "\n",
    "```py\n",
    "a * b\n",
    "a + b\n",
    "a * c\n",
    "a + c\n",
    "a + str(c)\n",
    "```"
   ]
  },
  {
   "cell_type": "code",
   "execution_count": null,
   "metadata": {},
   "outputs": [],
   "source": []
  },
  {
   "cell_type": "markdown",
   "metadata": {
    "slideshow": {
     "slide_type": "slide"
    }
   },
   "source": [
    "\n",
    "----\n",
    "\n",
    "## Zad 7\n",
    "---\n",
    "\n",
    "Korzystając z dokumentacji klasy string (`help(str)`) zapoznaj się z definicjami funkcji: `strip()`, `isnumeric()` oraz `rjust()`. Zademonstruj ich działanie na dowolnych przykładach."
   ]
  },
  {
   "cell_type": "code",
   "execution_count": null,
   "metadata": {},
   "outputs": [],
   "source": []
  },
  {
   "cell_type": "markdown",
   "metadata": {
    "slideshow": {
     "slide_type": "slide"
    }
   },
   "source": [
    "\n",
    "----\n",
    "\n",
    "## Zad 8\n",
    "---\n",
    "\n",
    "Napisz skrypt, który wykona następujące czynności:\n",
    "\n",
    "- zmiennej `a` przypisze wartość podaną przez użytkownika np. `5`\n",
    "- zmiennej `b` przypisze wartość podaną przez użytkownika np. `3`\n",
    "- zmiennej `P` przypisze wartość `a*b`\n",
    "- wypisze na ekranie \"Pole prostokąta o bokach `a` i `b` wynosi `P`.\" (gdzie w miejsce zmiennych zostaną wstawione odpowiednie wartości).\n",
    "\n",
    "! Wykorzystaj funkcje input do wykonania tego ćwiczenia ! help(input)\n",
    "Zwróć uwagę jakiego typu zmienną zwraca funkcja input()"
   ]
  },
  {
   "cell_type": "code",
   "execution_count": null,
   "metadata": {},
   "outputs": [],
   "source": []
  },
  {
   "cell_type": "markdown",
   "metadata": {
    "slideshow": {
     "slide_type": "slide"
    }
   },
   "source": [
    "\n",
    "----\n",
    "\n",
    "## Zad 9\n",
    "---\n",
    "\n",
    "Stwórz krotkę zawierającą pięć cyfr: 0, 1, 2, 3, 4 oraz pięć literałów słownych: \"pięć\", \"sześć\", \"siedem\", \"osiem\", \"dziewięć\".\n",
    "- Wydrukuj na ekranie trzy pierwsze elementy.\n",
    "- Wydrukuj na ekranie 2 ostatnie elementy.\n",
    "- Wydrukuj co drugi element (zaczynając od drugiego).\n",
    "- Wydrukuj elementy krotki zaczynając od ostatniego (odwrotnie)\n",
    "- Korzystając z funkcji *len* sprawdź ilość elementów w krotce oraz długość przedostatniego elementu.\n",
    "- Niech `x` oznacza nazwę krotki. Wykonaj:\n",
    "- x[:5] + (5, 6) + x[-3:]\n",
    "- x[:5], (5, 6), x[-3:]\t\n",
    "- porównaj i opisz otrzymane wyniki\n",
    "- Dodaj pusty literał słowny na koniec krotki 'x'. Czy możesz skorzystać z funkcji *append*?\n"
   ]
  },
  {
   "cell_type": "code",
   "execution_count": null,
   "metadata": {},
   "outputs": [],
   "source": []
  },
  {
   "cell_type": "markdown",
   "metadata": {
    "slideshow": {
     "slide_type": "slide"
    }
   },
   "source": [
    "\n",
    "----\n",
    "\n",
    "## Zad 10\n",
    "---\n",
    "\n",
    "Stwórz listę studentów: Kasia, Basia, Marek, Darek.\n",
    "\n",
    "- Korzystając z metody *append* dodaj do listy Józka.\n",
    "- Korzystając z metody *extend* dodaj do listy Anię i Basię.\n",
    "- Posortuj alfabetycznie studentów.\n",
    "- Wypisz na ekranie:\n",
    "    - czwartego studenta na liście\n",
    "    - dwóch pierwszych studentów na liście\n",
    "    - dwóch ostatnich studentów na liście\n",
    "- Usuń wszystkie Basie z listy\n",
    "- Korzystając z funkcji *len* sprawdź ilość studentów.\n",
    "- Z ostatecznej listy studentów utwórz krotkę.\n"
   ]
  },
  {
   "cell_type": "code",
   "execution_count": null,
   "metadata": {},
   "outputs": [],
   "source": []
  },
  {
   "cell_type": "markdown",
   "metadata": {
    "slideshow": {
     "slide_type": "slide"
    }
   },
   "source": [
    "\n",
    "----\n",
    "\n",
    "## Zad 11\n",
    "---\n",
    "Wykonaj polecenia:\n",
    "- Korzystając z `range` utwórz listę zawierającą wszystkie wielokrotności liczby 3 mniejsze od 100.\n",
    "- Korzystając z `del` usuń co trzeci element (zaczynając od piątego).\n",
    "- Sprawdź definicję funkcji wbudowanej *sum* (`help(sum)`). Wykorzystaj ją oraz funkcję *len*, aby wyliczyć średnią arytmetyczną otrzymanej listy."
   ]
  },
  {
   "cell_type": "code",
   "execution_count": null,
   "metadata": {},
   "outputs": [],
   "source": []
  },
  {
   "cell_type": "markdown",
   "metadata": {
    "slideshow": {
     "slide_type": "slide"
    }
   },
   "source": [
    "\n",
    "----\n",
    "\n",
    "## Zad 12\n",
    "---\n",
    "Stwórz krotkę: `('a', 'b', 'c', 'd')`\n",
    "\n",
    "- Zapoznaj się z dokumentacją funkcji `str.join`.\n",
    "- Wykonaj następujące polecenia (gdzie `x` to zmienna wskazująca na krotkę):\n",
    "\n",
    "```py\n",
    "\"\".join(x)\n",
    "\" \".join(x)\n",
    "\", \".join(x)\n",
    "```\n",
    "\n",
    "- Wydrukuj na ekranie 100 zer oddzielonych tabulacjami (spróbuj wykonać to w jednej lini).\n"
   ]
  },
  {
   "cell_type": "code",
   "execution_count": null,
   "metadata": {},
   "outputs": [],
   "source": []
  },
  {
   "cell_type": "markdown",
   "metadata": {
    "slideshow": {
     "slide_type": "slide"
    }
   },
   "source": [
    "\n",
    "----\n",
    "\n",
    "## Zad 13\n",
    "---\n",
    "\n",
    "Stwórz obiekt przechowujący inwokację Pana Tadeusza pod zmienną `inwokacja`\n",
    "\n",
    "```\n",
    "inwokacja = \"\"\"Litwo! Ojczyzno moja! Ty jesteś jak zdrowie,\n",
    "Ile cię trzeba cenić, ten tylko się dowie,\n",
    "Kto cię stracił. Dziś piękność twą w całej ozdobie\n",
    "Widzę i opisuję, bo tęsknię po tobie\n",
    "Panno święta, co Jasnej bronisz Częstochowy\n",
    "I w Ostrej świecisz Bramie! Ty, co gród zamkowy\n",
    "Nowogródzki ochraniasz z jego wiernym ludem!\n",
    "Jak mnie dziecko do zdrowia powróciłaś cudem,\n",
    "Gdy od płaczącej matki pod Twoją opiekę\n",
    "Ofiarowany, martwą podniosłem powiekę\n",
    "I zaraz mogłem pieszo do Twych świątyń progu\n",
    "Iść za wrócone życie podziękować Bogu,\n",
    "Tak nas powrócisz cudem na Ojczyzny łono.\n",
    "Tymczasem przenoś moją duszę utęsknioną\n",
    "Do tych pagórków leśnych, do tych łąk zielonych,\n",
    "Szeroko nad błękitnym Niemnem rozciągnionych;\n",
    "Do tych pól malowanych zbożem rozmaitem,\n",
    "Wyzłacanych pszenicą, posrebrzanych żytem;\n",
    "Gdzie bursztynowy świerzop, gryka jak śnieg biała,\n",
    "Gdzie panieńskim rumieńcem dzięcielina pała,\n",
    "A wszystko przepasane jakby wstęgą, miedzą\n",
    "Zieloną, na niej z rzadka ciche grusze siedzą.\"\"\"\n",
    "```\n",
    "\n",
    "- Popraw zmienną `inwokacja`, aby tekst zaczynał się małą literą (załóżmy że nie wiesz jaka to litera).\n",
    "- Korzystając z funkcji *count* sprawdź, ile razy występuje spójnik \"i\".\n",
    "- Korzystając z funkcji *count* sprawdź, ile razy występuje litera \"i\" (niezależnie od wielkości).\n",
    "- Sprawdź, czy słowo \"dziecko\" występuje w tekście\n",
    "- Korzystając z funkcji *str.split*:\n",
    "    - stwórz listę wyrazów występujących w tekście (np. 30 słów => 30 elementów\n",
    "    - stwórz listę, której każdy element odpowiada jednej linijce tekstu (4 linie => 4 elementy)\n",
    "    - Popraw zmienną `inwokacja`, tak aby każda linijka tekstu zaczynała się małą literą.\n"
   ]
  },
  {
   "cell_type": "code",
   "execution_count": null,
   "metadata": {},
   "outputs": [],
   "source": []
  },
  {
   "cell_type": "markdown",
   "metadata": {
    "slideshow": {
     "slide_type": "slide"
    }
   },
   "source": [
    "\n",
    "----\n",
    "\n",
    "## Zad 14\n",
    "---\n",
    "Zapoznaj się z dokumentacją funkcji *id*.\n",
    "\n",
    "- Wykonaj następujące polecenia:\n",
    "\n",
    "```\n",
    "x = 2\n",
    "y = x\n",
    "print(x, y, id(x), id(y))\n",
    "y = 3\n",
    "print(x, y, id(x), id(y))\n",
    "```\n",
    "\n",
    "- Wykonaj następujące polecenia:\n",
    "\n",
    "```\n",
    "x = [1,2]\n",
    "y = x\n",
    "print(x, y, id(x), id(y))\n",
    "y[1] = 3\n",
    "print(x, y, id(x), id(y))\n",
    "```\n",
    "\n",
    "- Wyjaśnij, dlaczego modyfikacja y w drugim przypadku zmieniła także x\n"
   ]
  },
  {
   "cell_type": "code",
   "execution_count": null,
   "metadata": {},
   "outputs": [],
   "source": []
  }
 ],
 "metadata": {
  "anaconda-cloud": {},
  "kernelspec": {
   "display_name": "Python 3 (ipykernel)",
   "language": "python",
   "name": "python3"
  },
  "language_info": {
   "codemirror_mode": {
    "name": "ipython",
    "version": 3
   },
   "file_extension": ".py",
   "mimetype": "text/x-python",
   "name": "python",
   "nbconvert_exporter": "python",
   "pygments_lexer": "ipython3",
   "version": "3.11.3"
  },
  "rise": {
   "enable_chalkboard": true,
   "scroll": true
  }
 },
 "nbformat": 4,
 "nbformat_minor": 4
}