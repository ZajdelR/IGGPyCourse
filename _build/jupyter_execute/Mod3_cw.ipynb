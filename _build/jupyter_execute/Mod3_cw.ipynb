{
 "cells": [
  {
   "cell_type": "markdown",
   "metadata": {
    "id": "wnKpNgX3L-Wa",
    "nbpresent": {
     "id": "40f70c9c-09df-4e99-b5fd-a7613178fdb7"
    },
    "slideshow": {
     "slide_type": "-"
    }
   },
   "source": [
    "<img src=\"./src/header.png\">"
   ]
  },
  {
   "cell_type": "markdown",
   "metadata": {
    "slideshow": {
     "slide_type": "slide"
    }
   },
   "source": [
    "\n",
    "----\n",
    "\n",
    "# Moduł 3 - Ćwiczenia 2024/2025\n",
    "---\n"
   ]
  },
  {
   "cell_type": "markdown",
   "metadata": {
    "slideshow": {
     "slide_type": "slide"
    }
   },
   "source": [
    "----\n",
    "\n",
    "## Zad 1\n",
    "---\n",
    "\n",
    "Twoim zadaniem jest napisanie programu, który pobierze imię użytkownika, podzieli je na dwie części, a następnie połączy elementy z dwóch list, aby utworzyć poprawne zdanie w formie listy. Na koniec, jako bonus, przekształć wynikową listę w jeden ciąg tekstowy.\n",
    "\n",
    "---\n",
    "\n",
    "### Instrukcje:\n",
    "\n",
    "1. **Pobierz imię użytkownika** – Poproś użytkownika o wpisanie swojego imienia i zapisz je do zmiennej `imie`.\n",
    "2. **Podziel imię na części**:\n",
    "   - `imie1`: przechowujący pierwszą literę imienia.\n",
    "   - `imie2`: przechowujący pozostałe litery imienia.\n",
    "\n",
    "3. **Użyj poniższych list**:\n",
    "\n",
    "   list1 = [\"M\", \"n\", \"i\", imie1]  \n",
    "   list2 = [\"am\", \"a\", \"mię\", imie2]\n",
    "\n",
    "4. **Połącz listy** – Połącz `list1` i `list2`, aby utworzyć jedną listę, która będzie odpowiadała poprawnemu zdaniu.\n",
    "\n",
    "---\n",
    "\n",
    "### Wejście:\n",
    "\n",
    "Imię wpisane przez użytkownika, np. `Radek`\n",
    "\n",
    "### Wyjście:\n",
    "\n",
    "Połączona lista, która przyjmuje formę:\n",
    "\n",
    "['Mam', 'na', 'imię', 'Radek']"
   ]
  },
  {
   "cell_type": "markdown",
   "metadata": {
    "slideshow": {
     "slide_type": "slide"
    }
   },
   "source": [
    "\n",
    "----\n",
    "\n",
    "## Zad 2\n",
    "---\n",
    "\n",
    "Wykorzystaj listę składaną (*list comprehension*), aby stworzyć sekwencję kwadratów liczb naturalnych mniejszych od 100. Następnie (korzystając z pętli for oraz funkcji *enumerate*) wydrukuj na ekranie:\n",
    "\n",
    "```\n",
    "1 -> 1\n",
    "2 -> 4\n",
    "3 -> 9\n",
    "…\n",
    "```"
   ]
  },
  {
   "cell_type": "code",
   "execution_count": null,
   "metadata": {},
   "outputs": [],
   "source": []
  },
  {
   "cell_type": "markdown",
   "metadata": {
    "slideshow": {
     "slide_type": "slide"
    }
   },
   "source": [
    "\n",
    "----\n",
    "\n",
    "## Zad 3\n",
    "---\n",
    "\n",
    "Przeanalizuj poniższy kod:\n",
    "\n",
    "```py\n",
    "i = 0\n",
    "# drukujemy wszystkie liczby parzyste mniejsze od 10\n",
    "while i < 10:\n",
    "    if i % 2:    # reszta z dzielenia != 0 -> True\n",
    "        continue # pomiń liczby nieparzyste\n",
    "    else:\n",
    "        print(i) # drukuj liczby parzyste\n",
    "i += 1 # zwiększ i o jeden\n",
    "```\n",
    "* Czy skrypt będzie działał zgodnie z założeniami? Jeśli nie, to napraw go.\n"
   ]
  },
  {
   "cell_type": "code",
   "execution_count": null,
   "metadata": {},
   "outputs": [],
   "source": []
  },
  {
   "cell_type": "markdown",
   "metadata": {
    "slideshow": {
     "slide_type": "slide"
    }
   },
   "source": [
    "\n",
    "----\n",
    "\n",
    "## Zad 4\n",
    "---\r\n",
    "\r\n",
    "Twoim zadaniem jest stworzenie programu, który będzie zarządzał listą produktów w sklepie. Program powinien umożliwiać użytkownikowi dodawanie, usuwanie oraz wyświetlanie listy produktów. W zadaniu użyj rozpakowywania sekwencji, instrukcji warunkowych oraz pętli.\r\n",
    "\r\n",
    "---\r\n",
    "\r\n",
    "### Instrukcje:\r\n",
    "\r\n",
    "1. **Zainicjuj pustą listę produktów**: `produkty = []`.\r\n",
    "2. W pętli `while` poproś użytkownika o wybór jednej z opcji:\r\n",
    "   - `1` - Dodaj produkt do listy,\r\n",
    "   - `2` - Usuń produkt z listy,\r\n",
    "   - `3` - Wyświetl listę produktów,\r\n",
    "   - `4` - Zakończ program.\r\n",
    "3. **Dodawanie produktu**:\r\n",
    "   - Jeśli użytkownik wybierze `1`, poproś go o wpisanie nazwy produktu i dodaj ten produkt do listy.\r\n",
    "4. **Usuwanie produktu**:\r\n",
    "   - Jeśli użytkownik wybierze `2`, wyświetl listę produktów z numeracją, aby użytkownik mógł wybrać produkt do usunięcia.\r\n",
    "5. **Wyświetlanie listy produktów**:\r\n",
    "   - Jeśli użytkownik wybierze `3`, wyświetl listę wszystkich dodanych produktów.\r\n",
    "6. **Zakończenie programu**:\r\n",
    "   - Jeśli użytkownik wybierze `4`, zakończ działanie programu.\r\n",
    "\r\n",
    "---\r\n",
    "\r\n",
    "### Przykład Działania Programu:\r\n",
    "\r\n",
    "```plaintext\r\n",
    "Wybierz opcję:\r\n",
    "1 - Dodaj produkt\r\n",
    "2 - Usuń produkt\r\n",
    "3 - Wyświetl listę produktów\r\n",
    "4 - Zakończ\r\n",
    "\r\n",
    "> 1\r\n",
    "Podaj nazwę produktu: Mleko\r\n",
    "\r\n",
    "Wybierz opcję:\r\n",
    "1 - Dodaj produkt\r\n",
    "2 - Usuń produkt\r\n",
    "3 - Wyświetl listę produktów\r\n",
    "4 - Zakończ\r\n",
    "\r\n",
    "> 3\r\n",
    "Lista produktów:\r\n",
    "1. Mleko\r\n",
    "\r\n",
    "> 4\r\n",
    "Koniec programu.\r\n",
    "\n"
   ]
  },
  {
   "cell_type": "code",
   "execution_count": null,
   "metadata": {},
   "outputs": [],
   "source": []
  },
  {
   "cell_type": "markdown",
   "metadata": {
    "slideshow": {
     "slide_type": "slide"
    }
   },
   "source": [
    "\n",
    "----\n",
    "\n",
    "## Zad 5\n",
    "---\n",
    "\n",
    "Twoim zadaniem jest stworzenie programu, który symuluje grę w zgadywanie liczby. Program losuje liczbę i daje użytkownikowi wskazówki na temat tego, jak blisko jest trafienia.\n",
    "\n",
    "---\n",
    "\n",
    "### Instrukcje:\n",
    "\n",
    "1. **Wylosuj liczbę** – Skorzystaj z `random.randint(0, 99)`, aby wylosować liczbę całkowitą z przedziału od 0 do 99.\n",
    "2. **Pytaj użytkownika o odgadnięcie liczby** – Użytkownik ma 10 prób na odgadnięcie wylosowanej liczby.\n",
    "3. Po każdym odgadnięciu liczby:\n",
    "   - Porównaj odpowiedź użytkownika z wylosowaną liczbą.\n",
    "   - Informuj użytkownika, czy podana przez niego liczba jest:\n",
    "     - `dużo mniejsza` (gdy różnica jest większa niż 50),\n",
    "     - `mniejsza` (gdy różnica jest większa niż 10, ale nie przekracza 50),\n",
    "     - `trochę mniejsza`,\n",
    "     - `trochę większa`,\n",
    "     - `większa` (gdy różnica jest większa niż 10, ale nie przekracza 50),\n",
    "     - `dużo większa` (gdy różnica jest większa niż 50).\n",
    "4. **Koniec gry**:\n",
    "   - Jeśli użytkownik odgadnie liczbę, program kończy się sukcesem.\n",
    "   - Jeśli użytkownik nie zgadnie liczby w ciągu 10 prób, program kończy się niepowodzeniem i podaje właściwą liczbę.\n",
    "\n",
    "---"
   ]
  },
  {
   "cell_type": "code",
   "execution_count": null,
   "metadata": {},
   "outputs": [],
   "source": []
  },
  {
   "cell_type": "markdown",
   "metadata": {
    "slideshow": {
     "slide_type": "slide"
    }
   },
   "source": [
    "\n",
    "----\n",
    "\n",
    "## Zad 6\n",
    "---\n",
    "\n",
    "Stosując pętle wyświetl następujący wzór:\n",
    "```\n",
    "1 \n",
    "1 2 \n",
    "1 2 3 \n",
    "1 2 3 4 \n",
    "1 2 3 4 5\n",
    "```"
   ]
  },
  {
   "cell_type": "code",
   "execution_count": null,
   "metadata": {},
   "outputs": [],
   "source": []
  },
  {
   "cell_type": "markdown",
   "metadata": {
    "slideshow": {
     "slide_type": "slide"
    }
   },
   "source": [
    "\n",
    "----\n",
    "\n",
    "## Zad 7\n",
    "---\n",
    "\n",
    "Napisz skrypt który obliczy silnie dowolnej liczby całkowitej.\n",
    "\n",
    "Dla przypomnienia:\n",
    "5! = 5 × 4 × 3 × 2 × 1 = 120\n"
   ]
  },
  {
   "cell_type": "code",
   "execution_count": null,
   "metadata": {},
   "outputs": [],
   "source": []
  },
  {
   "cell_type": "markdown",
   "metadata": {
    "slideshow": {
     "slide_type": "slide"
    }
   },
   "source": [
    "\n",
    "----\n",
    "\n",
    "## Zad 8\n",
    "---\n",
    "\n",
    "Poproś użytkownika o podanie dowolnego <i>n</i> a następnie znajdź sumę podanego wyrażenia: 2 +22 + 222 + 2222 + .. 2xn dla dowolnego n\n",
    "\n",
    "Dla przykładu, wynik dla n=5\n",
    "\n",
    "2 + 22 + 222 + 2222 + 22222 = 24690\n"
   ]
  },
  {
   "cell_type": "code",
   "execution_count": null,
   "metadata": {},
   "outputs": [],
   "source": []
  },
  {
   "cell_type": "markdown",
   "metadata": {
    "slideshow": {
     "slide_type": "slide"
    }
   },
   "source": [
    "\n",
    "----\n",
    "\n",
    "## Zad 9\n",
    "---\n",
    "\n",
    "Stosując pętle (dowolną ilość), wyświetl następujący wzór:\n",
    "```\n",
    "* \n",
    "**\n",
    "***\n",
    "****\n",
    "*****\n",
    "****\n",
    "***\n",
    "**\n",
    "*\n",
    "```"
   ]
  },
  {
   "cell_type": "code",
   "execution_count": null,
   "metadata": {},
   "outputs": [],
   "source": []
  },
  {
   "cell_type": "markdown",
   "metadata": {
    "slideshow": {
     "slide_type": "slide"
    }
   },
   "source": [
    "\n",
    "----\n",
    "\n",
    "## Zad 10\n",
    "---\n",
    "\n",
    "Twoim zadaniem jest wyświetlenie liczby π (pi) w różnych formatach. Użyj zmiennej `pi = math.pi` oraz f-stringów, aby wyświetlić liczbę π z dokładnością do różnych miejsc po przecinku.\n",
    "\n",
    "---\n",
    "\n",
    "### Instrukcje:\n",
    "\n",
    "1. **Inicjalizuj zmienną**: Zainicjuj zmienną `pi` wartością liczby pi z biblioteki `math` (tj. `pi = math.pi`).\n",
    "2. **Wyświetl liczbę π w następujących formatach** za pomocą f-stringów:\n",
    "   - `π = 3.14` - dokładność do 2 miejsc po przecinku\n",
    "   - `π = 3.1416` - dokładność do 4 miejsc po przecinku\n",
    "   - `π = 3.141593` - dokładność do 6 miejsc po przecinku\n",
    "   - `π = 00003.1416` - liczba π z dokładnością do 4 miejsc po przecinku, wyrównana do szerokości 10 znaków z wypełnieniem zerami\n",
    "   - `π = 3.142e+00` - liczba π w notacji naukowej z dokładnością do 3 miejsc po przecinku\n",
    "\n",
    "```\n"
   ]
  },
  {
   "cell_type": "code",
   "execution_count": null,
   "metadata": {},
   "outputs": [],
   "source": []
  },
  {
   "cell_type": "markdown",
   "metadata": {
    "slideshow": {
     "slide_type": "slide"
    }
   },
   "source": [
    "\n",
    "----\n",
    "\n",
    "## Zad 11\n",
    "---\n",
    "Za pomocą pętli wyświetl ciąg Fibonacciego dla wyrazu 9 (rozpoczynając od 1)\n",
    "\n",
    "Oczekiwane wyjście:\n",
    "```\n",
    "Ile wyrazów: 9\n",
    "Ciąg Fibonacciego: \n",
    "1, 1, 2, 3, 5, 8, 13, 21, 34\n",
    "```"
   ]
  },
  {
   "cell_type": "code",
   "execution_count": null,
   "metadata": {},
   "outputs": [],
   "source": []
  },
  {
   "cell_type": "markdown",
   "metadata": {
    "slideshow": {
     "slide_type": "slide"
    }
   },
   "source": [
    "\n",
    "----\n",
    "\n",
    "## Zad 12\n",
    "---\n",
    "Za pomocą pętli usuń wszystkie powtarzające się elementy z listy aList\n",
    "```\n",
    "aList = [1,1,3,4,5,6,6,7,7,8,3]\n",
    "```"
   ]
  },
  {
   "cell_type": "code",
   "execution_count": null,
   "metadata": {},
   "outputs": [],
   "source": []
  },
  {
   "cell_type": "markdown",
   "metadata": {
    "slideshow": {
     "slide_type": "slide"
    }
   },
   "source": [
    "\n",
    "----\n",
    "\n",
    "## Zad 13\n",
    "---\n",
    "\n",
    "Napisz w pętli sprawdzenie czy dowolna liczba jest liczbą pierwszą. Rozwiąż dla dowolnego przykładu oraz liczby 407 "
   ]
  },
  {
   "cell_type": "code",
   "execution_count": null,
   "metadata": {},
   "outputs": [],
   "source": []
  }
 ],
 "metadata": {
  "anaconda-cloud": {},
  "kernelspec": {
   "display_name": "Python 3 (ipykernel)",
   "language": "python",
   "name": "python3"
  },
  "language_info": {
   "codemirror_mode": {
    "name": "ipython",
    "version": 3
   },
   "file_extension": ".py",
   "mimetype": "text/x-python",
   "name": "python",
   "nbconvert_exporter": "python",
   "pygments_lexer": "ipython3",
   "version": "3.11.3"
  },
  "rise": {
   "enable_chalkboard": true,
   "scroll": true
  }
 },
 "nbformat": 4,
 "nbformat_minor": 4
}