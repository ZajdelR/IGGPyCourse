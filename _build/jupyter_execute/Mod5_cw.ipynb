{
 "cells": [
  {
   "cell_type": "markdown",
   "metadata": {
    "id": "wnKpNgX3L-Wa",
    "nbpresent": {
     "id": "40f70c9c-09df-4e99-b5fd-a7613178fdb7"
    },
    "slideshow": {
     "slide_type": "-"
    }
   },
   "source": [
    "<img src=\"./src/header.png\">"
   ]
  },
  {
   "cell_type": "markdown",
   "metadata": {
    "slideshow": {
     "slide_type": "slide"
    }
   },
   "source": [
    "\n",
    "----\n",
    "\n",
    "# Moduł 5 - Ćwiczenia\n",
    "---\n"
   ]
  },
  {
   "cell_type": "markdown",
   "metadata": {
    "slideshow": {
     "slide_type": "slide"
    }
   },
   "source": [
    "\n",
    "----\n",
    "\n",
    "## Zad 1\n",
    "---\n",
    "\n",
    "- Stwórz wektor w zakresie -1.3 do 2.5 posiadający równo rozmieszczone 64 elementy\n",
    "- Stwórz wektor o rozmiarze 3n powtarzający ciąg [1,2,3] --> [1,2,3,1,2,3,1,2,3]\n",
    "- Stwórz wektor zawierający 10 kolejnych liczb nieparzystych"
   ]
  },
  {
   "cell_type": "code",
   "execution_count": null,
   "metadata": {},
   "outputs": [],
   "source": []
  },
  {
   "cell_type": "markdown",
   "metadata": {
    "slideshow": {
     "slide_type": "slide"
    }
   },
   "source": [
    "\n",
    "----\n",
    "\n",
    "## Zad 2\n",
    "---\n",
    "\n",
    "- Stwórz zadane obiekty: a=np.arange(4), b=np.arange(16).reshape(4,4)\n",
    "- wykorzystaj funkcję np.dot na kombinacjach wektorXwektor, wektorXmacierz, macierzXmacierz\n",
    "- Sprawdź rozmiary otrzymanych macierzy"
   ]
  },
  {
   "cell_type": "code",
   "execution_count": null,
   "metadata": {},
   "outputs": [],
   "source": []
  },
  {
   "cell_type": "markdown",
   "metadata": {
    "slideshow": {
     "slide_type": "slide"
    }
   },
   "source": [
    "\n",
    "----\n",
    "\n",
    "## Zad 3\n",
    "---\n",
    "\n",
    "- Oblicz sinusy i cosinusy dla 4 równo rozmieszczonych wartości w zakresie 0 do 2*pi\n",
    "- zestaw wynik w postaci macierzy w której pierwszy wiersz to wartości, drugi sinusy, trzeci cosinusy"
   ]
  },
  {
   "cell_type": "code",
   "execution_count": null,
   "metadata": {},
   "outputs": [],
   "source": []
  },
  {
   "cell_type": "markdown",
   "metadata": {
    "slideshow": {
     "slide_type": "slide"
    }
   },
   "source": [
    "\n",
    "----\n",
    "\n",
    "## Zad 4\n",
    "---\n",
    "\n",
    "Mając macierz:\n",
    "```\n",
    "A = np.array([[6, 1, 1],\n",
    "              [4, -2, 5],\n",
    "              [2, 8, 7]])\n",
    "```\n",
    "Oblicz:\n",
    "- Rząd macierzy\n",
    "- Ślad macierzy\n",
    "- Wyznacznik\n",
    "- Odwrotność\n",
    "- Podnieść macierz to potęgi 3"
   ]
  },
  {
   "cell_type": "code",
   "execution_count": null,
   "metadata": {},
   "outputs": [],
   "source": []
  },
  {
   "cell_type": "markdown",
   "metadata": {
    "slideshow": {
     "slide_type": "slide"
    }
   },
   "source": [
    "\n",
    "----\n",
    "\n",
    "## Zad 5\n",
    "---\n",
    "\n",
    "Zad. 6.\tOblicz `((A+B)*(-A/2))` nie stosując wyrażeń typu „+” „-„ (zastosuj funkcje lub metody dostępne w bibliotece numpy)\n",
    "```\n",
    "A = np.ones(3)*1\n",
    "B = np.ones(3)*2\n",
    "C = np.ones(3)*3\n",
    "A,B,C\n",
    "```"
   ]
  },
  {
   "cell_type": "code",
   "execution_count": null,
   "metadata": {},
   "outputs": [],
   "source": []
  },
  {
   "cell_type": "markdown",
   "metadata": {
    "slideshow": {
     "slide_type": "slide"
    }
   },
   "source": [
    "\n",
    "----\n",
    "\n",
    "## Zad 6\n",
    "---\n",
    "\n",
    "Stwórz macierz 5x5 każdy wiersz to liczby od 0 do 4"
   ]
  },
  {
   "cell_type": "code",
   "execution_count": null,
   "metadata": {},
   "outputs": [],
   "source": []
  },
  {
   "cell_type": "markdown",
   "metadata": {
    "slideshow": {
     "slide_type": "slide"
    }
   },
   "source": [
    "\n",
    "----\n",
    "\n",
    "## Zad 7\n",
    "---\n",
    "\n",
    "- Stwórz losową macierz 10x2, reprezentującą współrzędne kartezjańskie x (pierwsza kolumna) i y (druga kolumna). X i Y powinny być w zakresie -10,10\n",
    "- Zamień współrzędne kartezjańskie na biegunowe\n"
   ]
  },
  {
   "cell_type": "code",
   "execution_count": null,
   "metadata": {},
   "outputs": [],
   "source": []
  },
  {
   "cell_type": "markdown",
   "metadata": {
    "slideshow": {
     "slide_type": "slide"
    }
   },
   "source": [
    "\n",
    "----\n",
    "\n",
    "## Zad 8\n",
    "---\n",
    "\n",
    "- Stwórz losową macierz 5x10\n",
    "- Odejmij od każdego wiersza wartość średnią dla tego wiersza"
   ]
  },
  {
   "cell_type": "code",
   "execution_count": null,
   "metadata": {},
   "outputs": [],
   "source": []
  },
  {
   "cell_type": "markdown",
   "metadata": {
    "slideshow": {
     "slide_type": "slide"
    }
   },
   "source": [
    "\n",
    "----\n",
    "\n",
    "## Zad 9\n",
    "---\n",
    "\n",
    "- Utwórz losową macierz 5x5 w zakresie liczb od 10 do 25\n",
    "- Znajdź liczbę w macierzy która jest najblliższa liczby 15"
   ]
  },
  {
   "cell_type": "code",
   "execution_count": null,
   "metadata": {},
   "outputs": [],
   "source": []
  },
  {
   "cell_type": "markdown",
   "metadata": {
    "slideshow": {
     "slide_type": "slide"
    }
   },
   "source": [
    "\n",
    "----\n",
    "\n",
    "## Zad 10\n",
    "---\n",
    "\n",
    "- Stwórz dwie dowolne macierze 5x5\n",
    "- Weź diagonalną iloczynu tych macierzy (2 sposoby)\n",
    "\n",
    "Podpowiedź: Diagonalna to suma każdej kolumny powstałej z wymnożenia każdego elementu macierzy A z odpowiadającym elementem transpozycją macierzy B"
   ]
  },
  {
   "cell_type": "code",
   "execution_count": null,
   "metadata": {},
   "outputs": [],
   "source": []
  },
  {
   "cell_type": "markdown",
   "metadata": {
    "slideshow": {
     "slide_type": "slide"
    }
   },
   "source": [
    "\n",
    "----\n",
    "\n",
    "## Zad 11\n",
    "---\n",
    "Mając wektor [1,2,3,4,5] rozdziel każdą z liczb dwoma zerami. \n",
    "\n",
    "Wynik [1,0,0,2,0,0,3,....]\n"
   ]
  },
  {
   "cell_type": "code",
   "execution_count": null,
   "metadata": {},
   "outputs": [],
   "source": []
  },
  {
   "cell_type": "markdown",
   "metadata": {
    "slideshow": {
     "slide_type": "slide"
    }
   },
   "source": [
    "\n",
    "----\n",
    "\n",
    "## Zad 12\n",
    "---\n",
    "- Stwórz macierz 5x5 zawierającą 25 kolejnych liczb (od 0 do 24)\n",
    "- Zamień miejscami wiersz pierwszy z wierszem drugim"
   ]
  },
  {
   "cell_type": "code",
   "execution_count": null,
   "metadata": {},
   "outputs": [],
   "source": []
  },
  {
   "cell_type": "markdown",
   "metadata": {
    "slideshow": {
     "slide_type": "slide"
    }
   },
   "source": [
    "\n",
    "----\n",
    "\n",
    "## Zad 13\n",
    "---\n",
    "\n",
    "- Stwórz macierz losowych elementów o wymiarze 3x100 (użyj funkcji random.normal(size=(3,100)))\n",
    "- Oblicz średnią i odchylenie standardowe dla każdego wiersza\n",
    "- Dla każdego wiersza, zamień wartości przekraczające podwójne odchylenie standardowe od średniej na wartość np.nan (Not a number)\n"
   ]
  },
  {
   "cell_type": "code",
   "execution_count": null,
   "metadata": {},
   "outputs": [],
   "source": []
  },
  {
   "cell_type": "markdown",
   "metadata": {
    "slideshow": {
     "slide_type": "slide"
    }
   },
   "source": [
    "\n",
    "----\n",
    "\n",
    "## Zad 15\n",
    "---\n",
    "\n",
    "- Stwórz macierz 3x3 zawierającą wartości od 0 do 8 (włącznie)\n",
    "- Odwróć kolejność wierszy\n",
    "- Odwróć kolejność kolumn"
   ]
  },
  {
   "cell_type": "code",
   "execution_count": null,
   "metadata": {},
   "outputs": [],
   "source": []
  },
  {
   "cell_type": "markdown",
   "metadata": {
    "slideshow": {
     "slide_type": "slide"
    }
   },
   "source": [
    "\n",
    "----\n",
    "\n",
    "## Zad 16\n",
    "---\n",
    "\n",
    "Na podstawie dokumentacji funkcji linalg.solve wyznacz x oraz y na podstawie podanego układu równań\n",
    "```\n",
    "x + 2*y = 8\n",
    "3*x + 4*y = 18\n",
    "```"
   ]
  },
  {
   "cell_type": "code",
   "execution_count": null,
   "metadata": {},
   "outputs": [],
   "source": []
  },
  {
   "cell_type": "markdown",
   "metadata": {
    "slideshow": {
     "slide_type": "slide"
    }
   },
   "source": [
    "\n",
    "----\n",
    "\n",
    "## Zad 17\n",
    "---\n",
    "\n",
    "Korzystając z dokumentacji funkcji linalg.lstsq wyznacz parametry wpasowania funkcji liniowej metoda najmniejszych kwadratów w zbiór punktów (plik eop.txt), jako alternatywa do rozwiązania podanego na wykładzie."
   ]
  },
  {
   "cell_type": "code",
   "execution_count": null,
   "metadata": {},
   "outputs": [],
   "source": []
  }
 ],
 "metadata": {
  "anaconda-cloud": {},
  "kernelspec": {
   "display_name": "Python 3 (ipykernel)",
   "language": "python",
   "name": "python3"
  },
  "language_info": {
   "codemirror_mode": {
    "name": "ipython",
    "version": 3
   },
   "file_extension": ".py",
   "mimetype": "text/x-python",
   "name": "python",
   "nbconvert_exporter": "python",
   "pygments_lexer": "ipython3",
   "version": "3.9.12"
  },
  "rise": {
   "enable_chalkboard": true,
   "scroll": true
  }
 },
 "nbformat": 4,
 "nbformat_minor": 1
}