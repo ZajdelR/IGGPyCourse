{
 "cells": [
  {
   "cell_type": "markdown",
   "metadata": {
    "id": "wnKpNgX3L-Wa",
    "nbpresent": {
     "id": "40f70c9c-09df-4e99-b5fd-a7613178fdb7"
    },
    "slideshow": {
     "slide_type": "-"
    }
   },
   "source": [
    "<img src=\"./src/header.png\">"
   ]
  },
  {
   "cell_type": "markdown",
   "metadata": {},
   "source": [
    "\n",
    "----\n",
    "\n",
    "# Moduł 6 - Ćwiczenia"
   ]
  },
  {
   "cell_type": "code",
   "execution_count": 1,
   "metadata": {},
   "outputs": [],
   "source": [
    "%matplotlib inline\n",
    "import pandas as pd\n",
    "import sys"
   ]
  },
  {
   "cell_type": "code",
   "execution_count": 2,
   "metadata": {},
   "outputs": [
    {
     "data": {
      "text/html": [
       "<style>body {\n",
       "    margin: 0;\n",
       "    font-family: Helvetica;\n",
       "}\n",
       "table.dataframe {\n",
       "    border-collapse: collapse;\n",
       "    border: none;\n",
       "}\n",
       "table.dataframe tr {\n",
       "    border: none;\n",
       "}\n",
       "table.dataframe td, table.dataframe th {\n",
       "    margin: 0;\n",
       "    border: 1px solid white;\n",
       "    padding-left: 0.25em;\n",
       "    padding-right: 0.25em;\n",
       "}\n",
       "table.dataframe th:not(:empty) {\n",
       "    background-color: #fec;\n",
       "    text-align: left;\n",
       "    font-weight: normal;\n",
       "}\n",
       "table.dataframe tr:nth-child(2) th:empty {\n",
       "    border-left: none;\n",
       "    border-right: 1px dashed #888;\n",
       "}\n",
       "table.dataframe td {\n",
       "    border: 2px solid #ccf;\n",
       "    background-color: #f4f4ff;\n",
       "}\n",
       "h3 {\n",
       "    color: white;\n",
       "    background-color: black;\n",
       "    padding: 0.5em;\n",
       "}\n",
       "</style>"
      ],
      "text/plain": [
       "<IPython.core.display.HTML object>"
      ]
     },
     "execution_count": 2,
     "metadata": {},
     "output_type": "execute_result"
    }
   ],
   "source": [
    "from IPython.core.display import HTML\n",
    "css = open('style-table.css').read() + open('style-notebook.css').read()\n",
    "HTML('<style>{}</style>'.format(css))"
   ]
  },
  {
   "cell_type": "code",
   "execution_count": 3,
   "metadata": {},
   "outputs": [
    {
     "data": {
      "text/html": [
       "<div>\n",
       "<style scoped>\n",
       "    .dataframe tbody tr th:only-of-type {\n",
       "        vertical-align: middle;\n",
       "    }\n",
       "\n",
       "    .dataframe tbody tr th {\n",
       "        vertical-align: top;\n",
       "    }\n",
       "\n",
       "    .dataframe thead th {\n",
       "        text-align: right;\n",
       "    }\n",
       "</style>\n",
       "<table border=\"1\" class=\"dataframe\">\n",
       "  <thead>\n",
       "    <tr style=\"text-align: right;\">\n",
       "      <th></th>\n",
       "      <th>title</th>\n",
       "      <th>year</th>\n",
       "    </tr>\n",
       "  </thead>\n",
       "  <tbody>\n",
       "    <tr>\n",
       "      <th>0</th>\n",
       "      <td>Sweet &amp; Vicious</td>\n",
       "      <td>2015.0</td>\n",
       "    </tr>\n",
       "    <tr>\n",
       "      <th>1</th>\n",
       "      <td>Someday I Suppose</td>\n",
       "      <td>2005.0</td>\n",
       "    </tr>\n",
       "    <tr>\n",
       "      <th>2</th>\n",
       "      <td>Gravity and Grace</td>\n",
       "      <td>2012.0</td>\n",
       "    </tr>\n",
       "    <tr>\n",
       "      <th>3</th>\n",
       "      <td>O Sabor do Pecado</td>\n",
       "      <td>1967.0</td>\n",
       "    </tr>\n",
       "    <tr>\n",
       "      <th>4</th>\n",
       "      <td>New in Town</td>\n",
       "      <td>2017.0</td>\n",
       "    </tr>\n",
       "  </tbody>\n",
       "</table>\n",
       "</div>"
      ],
      "text/plain": [
       "               title    year\n",
       "0    Sweet & Vicious  2015.0\n",
       "1  Someday I Suppose  2005.0\n",
       "2  Gravity and Grace  2012.0\n",
       "3  O Sabor do Pecado  1967.0\n",
       "4        New in Town  2017.0"
      ]
     },
     "execution_count": 3,
     "metadata": {},
     "output_type": "execute_result"
    }
   ],
   "source": [
    "titles = pd.read_csv('data/titles.csv', encoding='UTF-8')\n",
    "titles.head()"
   ]
  },
  {
   "cell_type": "code",
   "execution_count": 4,
   "metadata": {},
   "outputs": [
    {
     "data": {
      "text/html": [
       "<div>\n",
       "<style scoped>\n",
       "    .dataframe tbody tr th:only-of-type {\n",
       "        vertical-align: middle;\n",
       "    }\n",
       "\n",
       "    .dataframe tbody tr th {\n",
       "        vertical-align: top;\n",
       "    }\n",
       "\n",
       "    .dataframe thead th {\n",
       "        text-align: right;\n",
       "    }\n",
       "</style>\n",
       "<table border=\"1\" class=\"dataframe\">\n",
       "  <thead>\n",
       "    <tr style=\"text-align: right;\">\n",
       "      <th></th>\n",
       "      <th>title</th>\n",
       "      <th>year</th>\n",
       "      <th>name</th>\n",
       "      <th>type</th>\n",
       "      <th>character</th>\n",
       "      <th>n</th>\n",
       "    </tr>\n",
       "  </thead>\n",
       "  <tbody>\n",
       "    <tr>\n",
       "      <th>3397715</th>\n",
       "      <td>Foxtrot</td>\n",
       "      <td>1988</td>\n",
       "      <td>Lilja Þórisdóttir</td>\n",
       "      <td>actress</td>\n",
       "      <td>Dóra</td>\n",
       "      <td>24.0</td>\n",
       "    </tr>\n",
       "    <tr>\n",
       "      <th>3397716</th>\n",
       "      <td>Niceland (Population. 1.000.002)</td>\n",
       "      <td>2004</td>\n",
       "      <td>Sigríður Jóna Þórisdóttir</td>\n",
       "      <td>actress</td>\n",
       "      <td>Woman in Bus</td>\n",
       "      <td>26.0</td>\n",
       "    </tr>\n",
       "    <tr>\n",
       "      <th>3397717</th>\n",
       "      <td>Skammdegi</td>\n",
       "      <td>1985</td>\n",
       "      <td>Dalla Þórðardóttir</td>\n",
       "      <td>actress</td>\n",
       "      <td>Hjúkrunarkona</td>\n",
       "      <td>9.0</td>\n",
       "    </tr>\n",
       "    <tr>\n",
       "      <th>3397718</th>\n",
       "      <td>U.S.S.S.S...</td>\n",
       "      <td>2003</td>\n",
       "      <td>Kristín Andrea Þórðardóttir</td>\n",
       "      <td>actress</td>\n",
       "      <td>Afgr.dama á bensínstöð</td>\n",
       "      <td>17.0</td>\n",
       "    </tr>\n",
       "    <tr>\n",
       "      <th>3397719</th>\n",
       "      <td>Bye Bye Blue Bird</td>\n",
       "      <td>1999</td>\n",
       "      <td>Rosa á Rógvu</td>\n",
       "      <td>actress</td>\n",
       "      <td>Pensionatværtinde</td>\n",
       "      <td>NaN</td>\n",
       "    </tr>\n",
       "  </tbody>\n",
       "</table>\n",
       "</div>"
      ],
      "text/plain": [
       "                                    title  year                         name  \\\n",
       "3397715                           Foxtrot  1988            Lilja Þórisdóttir   \n",
       "3397716  Niceland (Population. 1.000.002)  2004    Sigríður Jóna Þórisdóttir   \n",
       "3397717                         Skammdegi  1985           Dalla Þórðardóttir   \n",
       "3397718                      U.S.S.S.S...  2003  Kristín Andrea Þórðardóttir   \n",
       "3397719                 Bye Bye Blue Bird  1999                 Rosa á Rógvu   \n",
       "\n",
       "            type               character     n  \n",
       "3397715  actress                    Dóra  24.0  \n",
       "3397716  actress            Woman in Bus  26.0  \n",
       "3397717  actress           Hjúkrunarkona   9.0  \n",
       "3397718  actress  Afgr.dama á bensínstöð  17.0  \n",
       "3397719  actress       Pensionatværtinde   NaN  "
      ]
     },
     "execution_count": 4,
     "metadata": {},
     "output_type": "execute_result"
    }
   ],
   "source": [
    "cast = pd.read_csv('data/cast.csv',index_col=None,encoding='UTF-8')\n",
    "cast.tail()"
   ]
  },
  {
   "cell_type": "markdown",
   "metadata": {
    "collapsed": true,
    "jupyter": {
     "outputs_hidden": true
    }
   },
   "source": [
    "### 1. Filtrowanie danych - oglądanie danych które spełniają jakieś kryteria"
   ]
  },
  {
   "cell_type": "code",
   "execution_count": 5,
   "metadata": {
    "scrolled": true
   },
   "outputs": [
    {
     "data": {
      "text/html": [
       "<div>\n",
       "<style scoped>\n",
       "    .dataframe tbody tr th:only-of-type {\n",
       "        vertical-align: middle;\n",
       "    }\n",
       "\n",
       "    .dataframe tbody tr th {\n",
       "        vertical-align: top;\n",
       "    }\n",
       "\n",
       "    .dataframe thead th {\n",
       "        text-align: right;\n",
       "    }\n",
       "</style>\n",
       "<table border=\"1\" class=\"dataframe\">\n",
       "  <thead>\n",
       "    <tr style=\"text-align: right;\">\n",
       "      <th></th>\n",
       "      <th>title</th>\n",
       "      <th>year</th>\n",
       "    </tr>\n",
       "  </thead>\n",
       "  <tbody>\n",
       "    <tr>\n",
       "      <th>0</th>\n",
       "      <td>Sweet &amp; Vicious</td>\n",
       "      <td>2015.0</td>\n",
       "    </tr>\n",
       "    <tr>\n",
       "      <th>1</th>\n",
       "      <td>Someday I Suppose</td>\n",
       "      <td>2005.0</td>\n",
       "    </tr>\n",
       "    <tr>\n",
       "      <th>2</th>\n",
       "      <td>Gravity and Grace</td>\n",
       "      <td>2012.0</td>\n",
       "    </tr>\n",
       "    <tr>\n",
       "      <th>3</th>\n",
       "      <td>O Sabor do Pecado</td>\n",
       "      <td>1967.0</td>\n",
       "    </tr>\n",
       "    <tr>\n",
       "      <th>4</th>\n",
       "      <td>New in Town</td>\n",
       "      <td>2017.0</td>\n",
       "    </tr>\n",
       "    <tr>\n",
       "      <th>...</th>\n",
       "      <td>...</td>\n",
       "      <td>...</td>\n",
       "    </tr>\n",
       "    <tr>\n",
       "      <th>224774</th>\n",
       "      <td>The Angelheads</td>\n",
       "      <td>2014.0</td>\n",
       "    </tr>\n",
       "    <tr>\n",
       "      <th>224775</th>\n",
       "      <td>Urban Jungle Harlem</td>\n",
       "      <td>1994.0</td>\n",
       "    </tr>\n",
       "    <tr>\n",
       "      <th>224776</th>\n",
       "      <td>Smekh i gore u Bela morya</td>\n",
       "      <td>1987.0</td>\n",
       "    </tr>\n",
       "    <tr>\n",
       "      <th>224777</th>\n",
       "      <td>Hot News</td>\n",
       "      <td>1928.0</td>\n",
       "    </tr>\n",
       "    <tr>\n",
       "      <th>224778</th>\n",
       "      <td>Kuvyrok chere</td>\n",
       "      <td>NaN</td>\n",
       "    </tr>\n",
       "  </tbody>\n",
       "</table>\n",
       "<p>224779 rows × 2 columns</p>\n",
       "</div>"
      ],
      "text/plain": [
       "                            title    year\n",
       "0                 Sweet & Vicious  2015.0\n",
       "1               Someday I Suppose  2005.0\n",
       "2               Gravity and Grace  2012.0\n",
       "3               O Sabor do Pecado  1967.0\n",
       "4                     New in Town  2017.0\n",
       "...                           ...     ...\n",
       "224774             The Angelheads  2014.0\n",
       "224775        Urban Jungle Harlem  1994.0\n",
       "224776  Smekh i gore u Bela morya  1987.0\n",
       "224777                   Hot News  1928.0\n",
       "224778              Kuvyrok chere     NaN\n",
       "\n",
       "[224779 rows x 2 columns]"
      ]
     },
     "execution_count": 5,
     "metadata": {},
     "output_type": "execute_result"
    }
   ],
   "source": [
    "titles # pandas nie jest głupi i nie pokazuje wszystkiego co ma (...)"
   ]
  },
  {
   "cell_type": "code",
   "execution_count": 6,
   "metadata": {},
   "outputs": [
    {
     "data": {
      "text/html": [
       "<div>\n",
       "<style scoped>\n",
       "    .dataframe tbody tr th:only-of-type {\n",
       "        vertical-align: middle;\n",
       "    }\n",
       "\n",
       "    .dataframe tbody tr th {\n",
       "        vertical-align: top;\n",
       "    }\n",
       "\n",
       "    .dataframe thead th {\n",
       "        text-align: right;\n",
       "    }\n",
       "</style>\n",
       "<table border=\"1\" class=\"dataframe\">\n",
       "  <thead>\n",
       "    <tr style=\"text-align: right;\">\n",
       "      <th></th>\n",
       "      <th>title</th>\n",
       "      <th>year</th>\n",
       "    </tr>\n",
       "  </thead>\n",
       "  <tbody>\n",
       "    <tr>\n",
       "      <th>0</th>\n",
       "      <td>Sweet &amp; Vicious</td>\n",
       "      <td>2015.0</td>\n",
       "    </tr>\n",
       "    <tr>\n",
       "      <th>1</th>\n",
       "      <td>Someday I Suppose</td>\n",
       "      <td>2005.0</td>\n",
       "    </tr>\n",
       "    <tr>\n",
       "      <th>2</th>\n",
       "      <td>Gravity and Grace</td>\n",
       "      <td>2012.0</td>\n",
       "    </tr>\n",
       "    <tr>\n",
       "      <th>3</th>\n",
       "      <td>O Sabor do Pecado</td>\n",
       "      <td>1967.0</td>\n",
       "    </tr>\n",
       "    <tr>\n",
       "      <th>4</th>\n",
       "      <td>New in Town</td>\n",
       "      <td>2017.0</td>\n",
       "    </tr>\n",
       "  </tbody>\n",
       "</table>\n",
       "</div>"
      ],
      "text/plain": [
       "               title    year\n",
       "0    Sweet & Vicious  2015.0\n",
       "1  Someday I Suppose  2005.0\n",
       "2  Gravity and Grace  2012.0\n",
       "3  O Sabor do Pecado  1967.0\n",
       "4        New in Town  2017.0"
      ]
     },
     "execution_count": 6,
     "metadata": {},
     "output_type": "execute_result"
    }
   ],
   "source": [
    "titles.head()"
   ]
  },
  {
   "cell_type": "code",
   "execution_count": 7,
   "metadata": {},
   "outputs": [
    {
     "data": {
      "text/html": [
       "<div>\n",
       "<style scoped>\n",
       "    .dataframe tbody tr th:only-of-type {\n",
       "        vertical-align: middle;\n",
       "    }\n",
       "\n",
       "    .dataframe tbody tr th {\n",
       "        vertical-align: top;\n",
       "    }\n",
       "\n",
       "    .dataframe thead th {\n",
       "        text-align: right;\n",
       "    }\n",
       "</style>\n",
       "<table border=\"1\" class=\"dataframe\">\n",
       "  <thead>\n",
       "    <tr style=\"text-align: right;\">\n",
       "      <th></th>\n",
       "      <th>title</th>\n",
       "      <th>year</th>\n",
       "    </tr>\n",
       "  </thead>\n",
       "  <tbody>\n",
       "    <tr>\n",
       "      <th>0</th>\n",
       "      <td>Sweet &amp; Vicious</td>\n",
       "      <td>2015.0</td>\n",
       "    </tr>\n",
       "    <tr>\n",
       "      <th>1</th>\n",
       "      <td>Someday I Suppose</td>\n",
       "      <td>2005.0</td>\n",
       "    </tr>\n",
       "    <tr>\n",
       "      <th>2</th>\n",
       "      <td>Gravity and Grace</td>\n",
       "      <td>2012.0</td>\n",
       "    </tr>\n",
       "    <tr>\n",
       "      <th>3</th>\n",
       "      <td>O Sabor do Pecado</td>\n",
       "      <td>1967.0</td>\n",
       "    </tr>\n",
       "    <tr>\n",
       "      <th>4</th>\n",
       "      <td>New in Town</td>\n",
       "      <td>2017.0</td>\n",
       "    </tr>\n",
       "    <tr>\n",
       "      <th>5</th>\n",
       "      <td>Land Gold Women</td>\n",
       "      <td>2011.0</td>\n",
       "    </tr>\n",
       "    <tr>\n",
       "      <th>6</th>\n",
       "      <td>Ashk-e sarma</td>\n",
       "      <td>2004.0</td>\n",
       "    </tr>\n",
       "    <tr>\n",
       "      <th>7</th>\n",
       "      <td>Lieve jongens</td>\n",
       "      <td>1980.0</td>\n",
       "    </tr>\n",
       "    <tr>\n",
       "      <th>8</th>\n",
       "      <td>Day for Night</td>\n",
       "      <td>2017.0</td>\n",
       "    </tr>\n",
       "    <tr>\n",
       "      <th>9</th>\n",
       "      <td>Loving Memory</td>\n",
       "      <td>1971.0</td>\n",
       "    </tr>\n",
       "  </tbody>\n",
       "</table>\n",
       "</div>"
      ],
      "text/plain": [
       "               title    year\n",
       "0    Sweet & Vicious  2015.0\n",
       "1  Someday I Suppose  2005.0\n",
       "2  Gravity and Grace  2012.0\n",
       "3  O Sabor do Pecado  1967.0\n",
       "4        New in Town  2017.0\n",
       "5    Land Gold Women  2011.0\n",
       "6       Ashk-e sarma  2004.0\n",
       "7      Lieve jongens  1980.0\n",
       "8      Day for Night  2017.0\n",
       "9      Loving Memory  1971.0"
      ]
     },
     "execution_count": 7,
     "metadata": {},
     "output_type": "execute_result"
    }
   ],
   "source": [
    "h = titles.head(10)\n",
    "h"
   ]
  },
  {
   "cell_type": "code",
   "execution_count": 8,
   "metadata": {},
   "outputs": [],
   "source": [
    "#h['year'] == h.year"
   ]
  },
  {
   "cell_type": "code",
   "execution_count": 9,
   "metadata": {
    "scrolled": true
   },
   "outputs": [
    {
     "data": {
      "text/html": [
       "<div>\n",
       "<style scoped>\n",
       "    .dataframe tbody tr th:only-of-type {\n",
       "        vertical-align: middle;\n",
       "    }\n",
       "\n",
       "    .dataframe tbody tr th {\n",
       "        vertical-align: top;\n",
       "    }\n",
       "\n",
       "    .dataframe thead th {\n",
       "        text-align: right;\n",
       "    }\n",
       "</style>\n",
       "<table border=\"1\" class=\"dataframe\">\n",
       "  <thead>\n",
       "    <tr style=\"text-align: right;\">\n",
       "      <th></th>\n",
       "      <th>title</th>\n",
       "      <th>year</th>\n",
       "    </tr>\n",
       "  </thead>\n",
       "  <tbody>\n",
       "    <tr>\n",
       "      <th>0</th>\n",
       "      <td>Sweet &amp; Vicious</td>\n",
       "      <td>2015.0</td>\n",
       "    </tr>\n",
       "    <tr>\n",
       "      <th>1</th>\n",
       "      <td>Someday I Suppose</td>\n",
       "      <td>2005.0</td>\n",
       "    </tr>\n",
       "    <tr>\n",
       "      <th>2</th>\n",
       "      <td>Gravity and Grace</td>\n",
       "      <td>2012.0</td>\n",
       "    </tr>\n",
       "    <tr>\n",
       "      <th>3</th>\n",
       "      <td>O Sabor do Pecado</td>\n",
       "      <td>1967.0</td>\n",
       "    </tr>\n",
       "    <tr>\n",
       "      <th>4</th>\n",
       "      <td>New in Town</td>\n",
       "      <td>2017.0</td>\n",
       "    </tr>\n",
       "    <tr>\n",
       "      <th>5</th>\n",
       "      <td>Land Gold Women</td>\n",
       "      <td>2011.0</td>\n",
       "    </tr>\n",
       "    <tr>\n",
       "      <th>6</th>\n",
       "      <td>Ashk-e sarma</td>\n",
       "      <td>2004.0</td>\n",
       "    </tr>\n",
       "    <tr>\n",
       "      <th>8</th>\n",
       "      <td>Day for Night</td>\n",
       "      <td>2017.0</td>\n",
       "    </tr>\n",
       "    <tr>\n",
       "      <th>9</th>\n",
       "      <td>Loving Memory</td>\n",
       "      <td>1971.0</td>\n",
       "    </tr>\n",
       "  </tbody>\n",
       "</table>\n",
       "</div>"
      ],
      "text/plain": [
       "               title    year\n",
       "0    Sweet & Vicious  2015.0\n",
       "1  Someday I Suppose  2005.0\n",
       "2  Gravity and Grace  2012.0\n",
       "3  O Sabor do Pecado  1967.0\n",
       "4        New in Town  2017.0\n",
       "5    Land Gold Women  2011.0\n",
       "6       Ashk-e sarma  2004.0\n",
       "8      Day for Night  2017.0\n",
       "9      Loving Memory  1971.0"
      ]
     },
     "execution_count": 9,
     "metadata": {},
     "output_type": "execute_result"
    }
   ],
   "source": [
    "h[(h.year < 1980) | (h.year >= 1990)] # or -> |"
   ]
  },
  {
   "cell_type": "code",
   "execution_count": 10,
   "metadata": {},
   "outputs": [],
   "source": [
    "t = titles"
   ]
  },
  {
   "cell_type": "code",
   "execution_count": 11,
   "metadata": {
    "scrolled": true
   },
   "outputs": [
    {
     "data": {
      "text/html": [
       "<div>\n",
       "<style scoped>\n",
       "    .dataframe tbody tr th:only-of-type {\n",
       "        vertical-align: middle;\n",
       "    }\n",
       "\n",
       "    .dataframe tbody tr th {\n",
       "        vertical-align: top;\n",
       "    }\n",
       "\n",
       "    .dataframe thead th {\n",
       "        text-align: right;\n",
       "    }\n",
       "</style>\n",
       "<table border=\"1\" class=\"dataframe\">\n",
       "  <thead>\n",
       "    <tr style=\"text-align: right;\">\n",
       "      <th></th>\n",
       "      <th>title</th>\n",
       "      <th>year</th>\n",
       "    </tr>\n",
       "  </thead>\n",
       "  <tbody>\n",
       "    <tr>\n",
       "      <th>1795</th>\n",
       "      <td>Macbeth</td>\n",
       "      <td>1913.0</td>\n",
       "    </tr>\n",
       "    <tr>\n",
       "      <th>12626</th>\n",
       "      <td>Macbeth</td>\n",
       "      <td>2017.0</td>\n",
       "    </tr>\n",
       "    <tr>\n",
       "      <th>16929</th>\n",
       "      <td>Macbeth</td>\n",
       "      <td>1987.0</td>\n",
       "    </tr>\n",
       "    <tr>\n",
       "      <th>17527</th>\n",
       "      <td>Macbeth</td>\n",
       "      <td>1916.0</td>\n",
       "    </tr>\n",
       "    <tr>\n",
       "      <th>29663</th>\n",
       "      <td>Macbeth</td>\n",
       "      <td>2013.0</td>\n",
       "    </tr>\n",
       "    <tr>\n",
       "      <th>37108</th>\n",
       "      <td>Macbeth</td>\n",
       "      <td>2004.0</td>\n",
       "    </tr>\n",
       "    <tr>\n",
       "      <th>51650</th>\n",
       "      <td>Macbeth</td>\n",
       "      <td>2009.0</td>\n",
       "    </tr>\n",
       "    <tr>\n",
       "      <th>58641</th>\n",
       "      <td>Macbeth</td>\n",
       "      <td>2018.0</td>\n",
       "    </tr>\n",
       "    <tr>\n",
       "      <th>69536</th>\n",
       "      <td>Macbeth</td>\n",
       "      <td>1997.0</td>\n",
       "    </tr>\n",
       "    <tr>\n",
       "      <th>87830</th>\n",
       "      <td>Macbeth</td>\n",
       "      <td>2014.0</td>\n",
       "    </tr>\n",
       "    <tr>\n",
       "      <th>93310</th>\n",
       "      <td>Macbeth</td>\n",
       "      <td>2006.0</td>\n",
       "    </tr>\n",
       "    <tr>\n",
       "      <th>114062</th>\n",
       "      <td>Macbeth</td>\n",
       "      <td>2015.0</td>\n",
       "    </tr>\n",
       "    <tr>\n",
       "      <th>120245</th>\n",
       "      <td>Macbeth</td>\n",
       "      <td>2003.0</td>\n",
       "    </tr>\n",
       "    <tr>\n",
       "      <th>150051</th>\n",
       "      <td>Macbeth</td>\n",
       "      <td>2012.0</td>\n",
       "    </tr>\n",
       "    <tr>\n",
       "      <th>180744</th>\n",
       "      <td>Macbeth</td>\n",
       "      <td>1948.0</td>\n",
       "    </tr>\n",
       "    <tr>\n",
       "      <th>219251</th>\n",
       "      <td>Macbeth</td>\n",
       "      <td>1998.0</td>\n",
       "    </tr>\n",
       "  </tbody>\n",
       "</table>\n",
       "</div>"
      ],
      "text/plain": [
       "          title    year\n",
       "1795    Macbeth  1913.0\n",
       "12626   Macbeth  2017.0\n",
       "16929   Macbeth  1987.0\n",
       "17527   Macbeth  1916.0\n",
       "29663   Macbeth  2013.0\n",
       "37108   Macbeth  2004.0\n",
       "51650   Macbeth  2009.0\n",
       "58641   Macbeth  2018.0\n",
       "69536   Macbeth  1997.0\n",
       "87830   Macbeth  2014.0\n",
       "93310   Macbeth  2006.0\n",
       "114062  Macbeth  2015.0\n",
       "120245  Macbeth  2003.0\n",
       "150051  Macbeth  2012.0\n",
       "180744  Macbeth  1948.0\n",
       "219251  Macbeth  1998.0"
      ]
     },
     "execution_count": 11,
     "metadata": {},
     "output_type": "execute_result"
    }
   ],
   "source": [
    "t[t.title == 'Macbeth'] # random order"
   ]
  },
  {
   "cell_type": "code",
   "execution_count": 12,
   "metadata": {
    "scrolled": true
   },
   "outputs": [
    {
     "data": {
      "text/html": [
       "<div>\n",
       "<style scoped>\n",
       "    .dataframe tbody tr th:only-of-type {\n",
       "        vertical-align: middle;\n",
       "    }\n",
       "\n",
       "    .dataframe tbody tr th {\n",
       "        vertical-align: top;\n",
       "    }\n",
       "\n",
       "    .dataframe thead th {\n",
       "        text-align: right;\n",
       "    }\n",
       "</style>\n",
       "<table border=\"1\" class=\"dataframe\">\n",
       "  <thead>\n",
       "    <tr style=\"text-align: right;\">\n",
       "      <th></th>\n",
       "      <th>title</th>\n",
       "      <th>year</th>\n",
       "    </tr>\n",
       "  </thead>\n",
       "  <tbody>\n",
       "    <tr>\n",
       "      <th>1795</th>\n",
       "      <td>Macbeth</td>\n",
       "      <td>1913.0</td>\n",
       "    </tr>\n",
       "    <tr>\n",
       "      <th>17527</th>\n",
       "      <td>Macbeth</td>\n",
       "      <td>1916.0</td>\n",
       "    </tr>\n",
       "    <tr>\n",
       "      <th>180744</th>\n",
       "      <td>Macbeth</td>\n",
       "      <td>1948.0</td>\n",
       "    </tr>\n",
       "    <tr>\n",
       "      <th>16929</th>\n",
       "      <td>Macbeth</td>\n",
       "      <td>1987.0</td>\n",
       "    </tr>\n",
       "    <tr>\n",
       "      <th>69536</th>\n",
       "      <td>Macbeth</td>\n",
       "      <td>1997.0</td>\n",
       "    </tr>\n",
       "    <tr>\n",
       "      <th>219251</th>\n",
       "      <td>Macbeth</td>\n",
       "      <td>1998.0</td>\n",
       "    </tr>\n",
       "    <tr>\n",
       "      <th>120245</th>\n",
       "      <td>Macbeth</td>\n",
       "      <td>2003.0</td>\n",
       "    </tr>\n",
       "    <tr>\n",
       "      <th>37108</th>\n",
       "      <td>Macbeth</td>\n",
       "      <td>2004.0</td>\n",
       "    </tr>\n",
       "    <tr>\n",
       "      <th>93310</th>\n",
       "      <td>Macbeth</td>\n",
       "      <td>2006.0</td>\n",
       "    </tr>\n",
       "    <tr>\n",
       "      <th>51650</th>\n",
       "      <td>Macbeth</td>\n",
       "      <td>2009.0</td>\n",
       "    </tr>\n",
       "    <tr>\n",
       "      <th>150051</th>\n",
       "      <td>Macbeth</td>\n",
       "      <td>2012.0</td>\n",
       "    </tr>\n",
       "    <tr>\n",
       "      <th>29663</th>\n",
       "      <td>Macbeth</td>\n",
       "      <td>2013.0</td>\n",
       "    </tr>\n",
       "    <tr>\n",
       "      <th>87830</th>\n",
       "      <td>Macbeth</td>\n",
       "      <td>2014.0</td>\n",
       "    </tr>\n",
       "    <tr>\n",
       "      <th>114062</th>\n",
       "      <td>Macbeth</td>\n",
       "      <td>2015.0</td>\n",
       "    </tr>\n",
       "    <tr>\n",
       "      <th>12626</th>\n",
       "      <td>Macbeth</td>\n",
       "      <td>2017.0</td>\n",
       "    </tr>\n",
       "    <tr>\n",
       "      <th>58641</th>\n",
       "      <td>Macbeth</td>\n",
       "      <td>2018.0</td>\n",
       "    </tr>\n",
       "  </tbody>\n",
       "</table>\n",
       "</div>"
      ],
      "text/plain": [
       "          title    year\n",
       "1795    Macbeth  1913.0\n",
       "17527   Macbeth  1916.0\n",
       "180744  Macbeth  1948.0\n",
       "16929   Macbeth  1987.0\n",
       "69536   Macbeth  1997.0\n",
       "219251  Macbeth  1998.0\n",
       "120245  Macbeth  2003.0\n",
       "37108   Macbeth  2004.0\n",
       "93310   Macbeth  2006.0\n",
       "51650   Macbeth  2009.0\n",
       "150051  Macbeth  2012.0\n",
       "29663   Macbeth  2013.0\n",
       "87830   Macbeth  2014.0\n",
       "114062  Macbeth  2015.0\n",
       "12626   Macbeth  2017.0\n",
       "58641   Macbeth  2018.0"
      ]
     },
     "execution_count": 12,
     "metadata": {},
     "output_type": "execute_result"
    }
   ],
   "source": [
    "t[t.title == 'Macbeth'].sort_values('year')"
   ]
  },
  {
   "cell_type": "code",
   "execution_count": 13,
   "metadata": {},
   "outputs": [
    {
     "data": {
      "text/html": [
       "<div>\n",
       "<style scoped>\n",
       "    .dataframe tbody tr th:only-of-type {\n",
       "        vertical-align: middle;\n",
       "    }\n",
       "\n",
       "    .dataframe tbody tr th {\n",
       "        vertical-align: top;\n",
       "    }\n",
       "\n",
       "    .dataframe thead th {\n",
       "        text-align: right;\n",
       "    }\n",
       "</style>\n",
       "<table border=\"1\" class=\"dataframe\">\n",
       "  <thead>\n",
       "    <tr style=\"text-align: right;\">\n",
       "      <th></th>\n",
       "      <th>title</th>\n",
       "      <th>year</th>\n",
       "      <th>name</th>\n",
       "      <th>type</th>\n",
       "      <th>character</th>\n",
       "      <th>n</th>\n",
       "    </tr>\n",
       "  </thead>\n",
       "  <tbody>\n",
       "    <tr>\n",
       "      <th>0</th>\n",
       "      <td>Closet Monster</td>\n",
       "      <td>2015</td>\n",
       "      <td>Buffy #1</td>\n",
       "      <td>actor</td>\n",
       "      <td>Buffy 4</td>\n",
       "      <td>31.0</td>\n",
       "    </tr>\n",
       "    <tr>\n",
       "      <th>1</th>\n",
       "      <td>Suuri illusioni</td>\n",
       "      <td>1985</td>\n",
       "      <td>Homo $</td>\n",
       "      <td>actor</td>\n",
       "      <td>Guests</td>\n",
       "      <td>22.0</td>\n",
       "    </tr>\n",
       "    <tr>\n",
       "      <th>2</th>\n",
       "      <td>Battle of the Sexes</td>\n",
       "      <td>2017</td>\n",
       "      <td>$hutter</td>\n",
       "      <td>actor</td>\n",
       "      <td>Bobby Riggs Fan</td>\n",
       "      <td>10.0</td>\n",
       "    </tr>\n",
       "  </tbody>\n",
       "</table>\n",
       "</div>"
      ],
      "text/plain": [
       "                 title  year      name   type        character     n\n",
       "0       Closet Monster  2015  Buffy #1  actor          Buffy 4  31.0\n",
       "1      Suuri illusioni  1985    Homo $  actor           Guests  22.0\n",
       "2  Battle of the Sexes  2017   $hutter  actor  Bobby Riggs Fan  10.0"
      ]
     },
     "execution_count": 13,
     "metadata": {},
     "output_type": "execute_result"
    }
   ],
   "source": [
    "h = cast.head()\n",
    "h = h[h.n.notnull()] # nie zmienia niczego\n",
    "h"
   ]
  },
  {
   "cell_type": "markdown",
   "metadata": {
    "collapsed": true,
    "jupyter": {
     "outputs_hidden": true
    }
   },
   "source": [
    "### Ile filmów znajduje się w bazie danych?"
   ]
  },
  {
   "cell_type": "code",
   "execution_count": 14,
   "metadata": {},
   "outputs": [
    {
     "data": {
      "text/plain": [
       "224779"
      ]
     },
     "execution_count": 14,
     "metadata": {},
     "output_type": "execute_result"
    }
   ],
   "source": [
    "len(titles)"
   ]
  },
  {
   "cell_type": "markdown",
   "metadata": {
    "collapsed": true,
    "jupyter": {
     "outputs_hidden": true
    }
   },
   "source": [
    "### Jakie są najwcześniejsze dwa filmy wymienione w dataframe tytułów?"
   ]
  },
  {
   "cell_type": "code",
   "execution_count": 15,
   "metadata": {},
   "outputs": [
    {
     "data": {
      "text/html": [
       "<div>\n",
       "<style scoped>\n",
       "    .dataframe tbody tr th:only-of-type {\n",
       "        vertical-align: middle;\n",
       "    }\n",
       "\n",
       "    .dataframe tbody tr th {\n",
       "        vertical-align: top;\n",
       "    }\n",
       "\n",
       "    .dataframe thead th {\n",
       "        text-align: right;\n",
       "    }\n",
       "</style>\n",
       "<table border=\"1\" class=\"dataframe\">\n",
       "  <thead>\n",
       "    <tr style=\"text-align: right;\">\n",
       "      <th></th>\n",
       "      <th>title</th>\n",
       "      <th>year</th>\n",
       "    </tr>\n",
       "  </thead>\n",
       "  <tbody>\n",
       "    <tr>\n",
       "      <th>179969</th>\n",
       "      <td>Miss Jerry</td>\n",
       "      <td>1894.0</td>\n",
       "    </tr>\n",
       "    <tr>\n",
       "      <th>24888</th>\n",
       "      <td>The Startled Lover</td>\n",
       "      <td>1898.0</td>\n",
       "    </tr>\n",
       "  </tbody>\n",
       "</table>\n",
       "</div>"
      ],
      "text/plain": [
       "                     title    year\n",
       "179969          Miss Jerry  1894.0\n",
       "24888   The Startled Lover  1898.0"
      ]
     },
     "execution_count": 15,
     "metadata": {},
     "output_type": "execute_result"
    }
   ],
   "source": [
    "titles.sort_values('year').head(2)"
   ]
  },
  {
   "cell_type": "code",
   "execution_count": 16,
   "metadata": {},
   "outputs": [
    {
     "data": {
      "text/html": [
       "<div>\n",
       "<style scoped>\n",
       "    .dataframe tbody tr th:only-of-type {\n",
       "        vertical-align: middle;\n",
       "    }\n",
       "\n",
       "    .dataframe tbody tr th {\n",
       "        vertical-align: top;\n",
       "    }\n",
       "\n",
       "    .dataframe thead th {\n",
       "        text-align: right;\n",
       "    }\n",
       "</style>\n",
       "<table border=\"1\" class=\"dataframe\">\n",
       "  <thead>\n",
       "    <tr style=\"text-align: right;\">\n",
       "      <th></th>\n",
       "      <th>title</th>\n",
       "      <th>year</th>\n",
       "    </tr>\n",
       "  </thead>\n",
       "  <tbody>\n",
       "    <tr>\n",
       "      <th>179969</th>\n",
       "      <td>Miss Jerry</td>\n",
       "      <td>1894.0</td>\n",
       "    </tr>\n",
       "    <tr>\n",
       "      <th>24888</th>\n",
       "      <td>The Startled Lover</td>\n",
       "      <td>1898.0</td>\n",
       "    </tr>\n",
       "  </tbody>\n",
       "</table>\n",
       "</div>"
      ],
      "text/plain": [
       "                     title    year\n",
       "179969          Miss Jerry  1894.0\n",
       "24888   The Startled Lover  1898.0"
      ]
     },
     "execution_count": 16,
     "metadata": {},
     "output_type": "execute_result"
    }
   ],
   "source": [
    "titles.sort_values('year').head(2)"
   ]
  },
  {
   "cell_type": "markdown",
   "metadata": {
    "collapsed": true,
    "jupyter": {
     "outputs_hidden": true
    }
   },
   "source": [
    "### Ile filmów ma tytuł \"Hamlet\"?"
   ]
  },
  {
   "cell_type": "code",
   "execution_count": 17,
   "metadata": {},
   "outputs": [
    {
     "data": {
      "text/plain": [
       "20"
      ]
     },
     "execution_count": 17,
     "metadata": {},
     "output_type": "execute_result"
    }
   ],
   "source": [
    "len(titles[titles.title == 'Hamlet'])"
   ]
  },
  {
   "cell_type": "markdown",
   "metadata": {
    "collapsed": true,
    "jupyter": {
     "outputs_hidden": true
    }
   },
   "source": [
    "### Ile filmów nosi tytuł \"North by Northwest\"?"
   ]
  },
  {
   "cell_type": "code",
   "execution_count": null,
   "metadata": {
    "collapsed": true,
    "jupyter": {
     "outputs_hidden": true
    }
   },
   "outputs": [],
   "source": []
  },
  {
   "cell_type": "markdown",
   "metadata": {
    "collapsed": true,
    "jupyter": {
     "outputs_hidden": true
    }
   },
   "source": [
    "### Kiedy powstał pierwszy film pod tytułem \"Hamlet\"?"
   ]
  },
  {
   "cell_type": "code",
   "execution_count": 18,
   "metadata": {},
   "outputs": [
    {
     "data": {
      "text/html": [
       "<div>\n",
       "<style scoped>\n",
       "    .dataframe tbody tr th:only-of-type {\n",
       "        vertical-align: middle;\n",
       "    }\n",
       "\n",
       "    .dataframe tbody tr th {\n",
       "        vertical-align: top;\n",
       "    }\n",
       "\n",
       "    .dataframe thead th {\n",
       "        text-align: right;\n",
       "    }\n",
       "</style>\n",
       "<table border=\"1\" class=\"dataframe\">\n",
       "  <thead>\n",
       "    <tr style=\"text-align: right;\">\n",
       "      <th></th>\n",
       "      <th>title</th>\n",
       "      <th>year</th>\n",
       "    </tr>\n",
       "  </thead>\n",
       "  <tbody>\n",
       "    <tr>\n",
       "      <th>178981</th>\n",
       "      <td>Hamlet</td>\n",
       "      <td>1910.0</td>\n",
       "    </tr>\n",
       "  </tbody>\n",
       "</table>\n",
       "</div>"
      ],
      "text/plain": [
       "         title    year\n",
       "178981  Hamlet  1910.0"
      ]
     },
     "execution_count": 18,
     "metadata": {},
     "output_type": "execute_result"
    }
   ],
   "source": [
    "titles[titles.title == 'Hamlet'].sort_values('year').head(1)"
   ]
  },
  {
   "cell_type": "markdown",
   "metadata": {
    "collapsed": true,
    "jupyter": {
     "outputs_hidden": true
    }
   },
   "source": [
    "### Wymień wszystkie filmy z serii \"Treasure Island\" od najwcześniejszego do najnowszego."
   ]
  },
  {
   "cell_type": "code",
   "execution_count": null,
   "metadata": {
    "collapsed": true,
    "jupyter": {
     "outputs_hidden": true
    }
   },
   "outputs": [],
   "source": []
  },
  {
   "cell_type": "markdown",
   "metadata": {
    "collapsed": true,
    "jupyter": {
     "outputs_hidden": true
    }
   },
   "source": [
    "### Ile filmów powstało w roku 1950?"
   ]
  },
  {
   "cell_type": "code",
   "execution_count": null,
   "metadata": {
    "collapsed": true,
    "jupyter": {
     "outputs_hidden": true
    }
   },
   "outputs": [],
   "source": []
  },
  {
   "cell_type": "markdown",
   "metadata": {
    "collapsed": true,
    "jupyter": {
     "outputs_hidden": true
    }
   },
   "source": [
    "### Ile filmów powstało w roku 1960?"
   ]
  },
  {
   "cell_type": "code",
   "execution_count": null,
   "metadata": {
    "collapsed": true,
    "jupyter": {
     "outputs_hidden": true
    }
   },
   "outputs": [],
   "source": []
  },
  {
   "cell_type": "markdown",
   "metadata": {
    "collapsed": true,
    "jupyter": {
     "outputs_hidden": true
    }
   },
   "source": [
    "### Ile filmów powstało od 1950 do 1959 roku?"
   ]
  },
  {
   "cell_type": "code",
   "execution_count": null,
   "metadata": {
    "collapsed": true,
    "jupyter": {
     "outputs_hidden": true
    }
   },
   "outputs": [],
   "source": []
  },
  {
   "cell_type": "markdown",
   "metadata": {
    "collapsed": true,
    "jupyter": {
     "outputs_hidden": true
    }
   },
   "source": [
    "### W jakich latach ukazał się film pod tytułem \"Batman\"?"
   ]
  },
  {
   "cell_type": "code",
   "execution_count": null,
   "metadata": {
    "collapsed": true,
    "jupyter": {
     "outputs_hidden": true
    }
   },
   "outputs": [],
   "source": []
  },
  {
   "cell_type": "markdown",
   "metadata": {
    "collapsed": true,
    "jupyter": {
     "outputs_hidden": true
    }
   },
   "source": [
    "### Ile było ról w filmie \"Inception\"?"
   ]
  },
  {
   "cell_type": "code",
   "execution_count": 19,
   "metadata": {},
   "outputs": [
    {
     "data": {
      "text/html": [
       "<div>\n",
       "<style scoped>\n",
       "    .dataframe tbody tr th:only-of-type {\n",
       "        vertical-align: middle;\n",
       "    }\n",
       "\n",
       "    .dataframe tbody tr th {\n",
       "        vertical-align: top;\n",
       "    }\n",
       "\n",
       "    .dataframe thead th {\n",
       "        text-align: right;\n",
       "    }\n",
       "</style>\n",
       "<table border=\"1\" class=\"dataframe\">\n",
       "  <thead>\n",
       "    <tr style=\"text-align: right;\">\n",
       "      <th></th>\n",
       "      <th>title</th>\n",
       "      <th>year</th>\n",
       "      <th>name</th>\n",
       "      <th>type</th>\n",
       "      <th>character</th>\n",
       "      <th>n</th>\n",
       "    </tr>\n",
       "  </thead>\n",
       "  <tbody>\n",
       "    <tr>\n",
       "      <th>89438</th>\n",
       "      <td>Inception</td>\n",
       "      <td>2010</td>\n",
       "      <td>Michael (III) August</td>\n",
       "      <td>actor</td>\n",
       "      <td>LAX Passenger</td>\n",
       "      <td>NaN</td>\n",
       "    </tr>\n",
       "    <tr>\n",
       "      <th>135702</th>\n",
       "      <td>Inception</td>\n",
       "      <td>2010</td>\n",
       "      <td>Peter Basham</td>\n",
       "      <td>actor</td>\n",
       "      <td>Fischer's Jet Captain</td>\n",
       "      <td>44.0</td>\n",
       "    </tr>\n",
       "    <tr>\n",
       "      <th>167392</th>\n",
       "      <td>Inception</td>\n",
       "      <td>2010</td>\n",
       "      <td>Tom Berenger</td>\n",
       "      <td>actor</td>\n",
       "      <td>Browning</td>\n",
       "      <td>8.0</td>\n",
       "    </tr>\n",
       "    <tr>\n",
       "      <th>180101</th>\n",
       "      <td>Inception</td>\n",
       "      <td>2010</td>\n",
       "      <td>Ken Bhan</td>\n",
       "      <td>actor</td>\n",
       "      <td>Mombasan Gambler</td>\n",
       "      <td>NaN</td>\n",
       "    </tr>\n",
       "    <tr>\n",
       "      <th>236543</th>\n",
       "      <td>Inception</td>\n",
       "      <td>2010</td>\n",
       "      <td>Virgile Bramly</td>\n",
       "      <td>actor</td>\n",
       "      <td>Bridge Sub Con</td>\n",
       "      <td>29.0</td>\n",
       "    </tr>\n",
       "    <tr>\n",
       "      <th>...</th>\n",
       "      <td>...</td>\n",
       "      <td>...</td>\n",
       "      <td>...</td>\n",
       "      <td>...</td>\n",
       "      <td>...</td>\n",
       "      <td>...</td>\n",
       "    </tr>\n",
       "    <tr>\n",
       "      <th>3047086</th>\n",
       "      <td>Inception</td>\n",
       "      <td>2010</td>\n",
       "      <td>Ellen Page</td>\n",
       "      <td>actress</td>\n",
       "      <td>Ariadne</td>\n",
       "      <td>3.0</td>\n",
       "    </tr>\n",
       "    <tr>\n",
       "      <th>3097753</th>\n",
       "      <td>Inception</td>\n",
       "      <td>2010</td>\n",
       "      <td>Nicole Pulliam</td>\n",
       "      <td>actress</td>\n",
       "      <td>Lobby Sub Con</td>\n",
       "      <td>43.0</td>\n",
       "    </tr>\n",
       "    <tr>\n",
       "      <th>3122687</th>\n",
       "      <td>Inception</td>\n",
       "      <td>2010</td>\n",
       "      <td>Lisa (II) Reynolds</td>\n",
       "      <td>actress</td>\n",
       "      <td>Private Nurse</td>\n",
       "      <td>48.0</td>\n",
       "    </tr>\n",
       "    <tr>\n",
       "      <th>3128892</th>\n",
       "      <td>Inception</td>\n",
       "      <td>2010</td>\n",
       "      <td>Talulah Riley</td>\n",
       "      <td>actress</td>\n",
       "      <td>Blonde</td>\n",
       "      <td>25.0</td>\n",
       "    </tr>\n",
       "    <tr>\n",
       "      <th>3349533</th>\n",
       "      <td>Inception</td>\n",
       "      <td>2010</td>\n",
       "      <td>Shannon Welles</td>\n",
       "      <td>actress</td>\n",
       "      <td>Old Mal</td>\n",
       "      <td>51.0</td>\n",
       "    </tr>\n",
       "  </tbody>\n",
       "</table>\n",
       "<p>78 rows × 6 columns</p>\n",
       "</div>"
      ],
      "text/plain": [
       "             title  year                  name     type  \\\n",
       "89438    Inception  2010  Michael (III) August    actor   \n",
       "135702   Inception  2010          Peter Basham    actor   \n",
       "167392   Inception  2010          Tom Berenger    actor   \n",
       "180101   Inception  2010              Ken Bhan    actor   \n",
       "236543   Inception  2010        Virgile Bramly    actor   \n",
       "...            ...   ...                   ...      ...   \n",
       "3047086  Inception  2010            Ellen Page  actress   \n",
       "3097753  Inception  2010        Nicole Pulliam  actress   \n",
       "3122687  Inception  2010    Lisa (II) Reynolds  actress   \n",
       "3128892  Inception  2010         Talulah Riley  actress   \n",
       "3349533  Inception  2010        Shannon Welles  actress   \n",
       "\n",
       "                     character     n  \n",
       "89438            LAX Passenger   NaN  \n",
       "135702   Fischer's Jet Captain  44.0  \n",
       "167392                Browning   8.0  \n",
       "180101        Mombasan Gambler   NaN  \n",
       "236543          Bridge Sub Con  29.0  \n",
       "...                        ...   ...  \n",
       "3047086                Ariadne   3.0  \n",
       "3097753          Lobby Sub Con  43.0  \n",
       "3122687          Private Nurse  48.0  \n",
       "3128892                 Blonde  25.0  \n",
       "3349533                Old Mal  51.0  \n",
       "\n",
       "[78 rows x 6 columns]"
      ]
     },
     "execution_count": 19,
     "metadata": {},
     "output_type": "execute_result"
    }
   ],
   "source": [
    "c = cast\n",
    "c[c.title == 'Inception']"
   ]
  },
  {
   "cell_type": "markdown",
   "metadata": {
    "collapsed": true,
    "jupyter": {
     "outputs_hidden": true
    }
   },
   "source": [
    "### Ile ról w filmie \"Incepcja\" NIE jest uszeregowanych według wartości \"n\"?"
   ]
  },
  {
   "cell_type": "code",
   "execution_count": 20,
   "metadata": {},
   "outputs": [],
   "source": [
    "d = c[c.title == 'Inception']"
   ]
  },
  {
   "cell_type": "code",
   "execution_count": 21,
   "metadata": {},
   "outputs": [
    {
     "data": {
      "text/plain": [
       "27"
      ]
     },
     "execution_count": 21,
     "metadata": {},
     "output_type": "execute_result"
    }
   ],
   "source": [
    "len(d[d.n.isnull()])"
   ]
  },
  {
   "cell_type": "markdown",
   "metadata": {
    "collapsed": true,
    "jupyter": {
     "outputs_hidden": true
    }
   },
   "source": [
    "### A ile ról w filmie \"Inception\" otrzymało wartość \"n\"?"
   ]
  },
  {
   "cell_type": "code",
   "execution_count": null,
   "metadata": {
    "collapsed": true,
    "jupyter": {
     "outputs_hidden": true
    }
   },
   "outputs": [],
   "source": []
  },
  {
   "cell_type": "markdown",
   "metadata": {
    "collapsed": true,
    "jupyter": {
     "outputs_hidden": true
    }
   },
   "source": [
    "### Wyświetl obsadę \"North by Northwest\" w ich poprawnej kolejności \"n\", ignorując role, które nie zdobyły numerycznej wartości \"n\"."
   ]
  },
  {
   "cell_type": "code",
   "execution_count": null,
   "metadata": {
    "collapsed": true,
    "jupyter": {
     "outputs_hidden": true
    }
   },
   "outputs": [],
   "source": []
  },
  {
   "cell_type": "markdown",
   "metadata": {
    "collapsed": true,
    "jupyter": {
     "outputs_hidden": true
    }
   },
   "source": [
    "### Wyświetl całą obsadę, w kolejności \"n\", filmu \"Sleuth\" z 1972 roku."
   ]
  },
  {
   "cell_type": "code",
   "execution_count": null,
   "metadata": {
    "collapsed": true,
    "jupyter": {
     "outputs_hidden": true
    }
   },
   "outputs": [],
   "source": []
  },
  {
   "cell_type": "markdown",
   "metadata": {
    "collapsed": true,
    "jupyter": {
     "outputs_hidden": true
    }
   },
   "source": [
    "### Ile osób zagrało rolę o nazwie \"The Dude\"?"
   ]
  },
  {
   "cell_type": "code",
   "execution_count": 22,
   "metadata": {},
   "outputs": [
    {
     "data": {
      "text/html": [
       "<div>\n",
       "<style scoped>\n",
       "    .dataframe tbody tr th:only-of-type {\n",
       "        vertical-align: middle;\n",
       "    }\n",
       "\n",
       "    .dataframe tbody tr th {\n",
       "        vertical-align: top;\n",
       "    }\n",
       "\n",
       "    .dataframe thead th {\n",
       "        text-align: right;\n",
       "    }\n",
       "</style>\n",
       "<table border=\"1\" class=\"dataframe\">\n",
       "  <thead>\n",
       "    <tr style=\"text-align: right;\">\n",
       "      <th></th>\n",
       "      <th>title</th>\n",
       "      <th>year</th>\n",
       "      <th>name</th>\n",
       "      <th>type</th>\n",
       "      <th>character</th>\n",
       "      <th>n</th>\n",
       "    </tr>\n",
       "  </thead>\n",
       "  <tbody>\n",
       "    <tr>\n",
       "      <th>23737</th>\n",
       "      <td>Theeb</td>\n",
       "      <td>2014</td>\n",
       "      <td>Hassan Mutlag Al-Maraiyeh</td>\n",
       "      <td>actor</td>\n",
       "      <td>The Stranger</td>\n",
       "      <td>2.0</td>\n",
       "    </tr>\n",
       "    <tr>\n",
       "      <th>32733</th>\n",
       "      <td>My Time to Die</td>\n",
       "      <td>2014</td>\n",
       "      <td>Vincent H. Alexander</td>\n",
       "      <td>actor</td>\n",
       "      <td>The Stranger</td>\n",
       "      <td>2.0</td>\n",
       "    </tr>\n",
       "    <tr>\n",
       "      <th>42423</th>\n",
       "      <td>Hickok</td>\n",
       "      <td>2017</td>\n",
       "      <td>Terral Altom</td>\n",
       "      <td>actor</td>\n",
       "      <td>The Stranger</td>\n",
       "      <td>NaN</td>\n",
       "    </tr>\n",
       "    <tr>\n",
       "      <th>61309</th>\n",
       "      <td>Get Mean</td>\n",
       "      <td>1975</td>\n",
       "      <td>Tony Anthony</td>\n",
       "      <td>actor</td>\n",
       "      <td>The Stranger</td>\n",
       "      <td>1.0</td>\n",
       "    </tr>\n",
       "    <tr>\n",
       "      <th>61311</th>\n",
       "      <td>Lo straniero di silenzio</td>\n",
       "      <td>1968</td>\n",
       "      <td>Tony Anthony</td>\n",
       "      <td>actor</td>\n",
       "      <td>The Stranger</td>\n",
       "      <td>1.0</td>\n",
       "    </tr>\n",
       "    <tr>\n",
       "      <th>...</th>\n",
       "      <td>...</td>\n",
       "      <td>...</td>\n",
       "      <td>...</td>\n",
       "      <td>...</td>\n",
       "      <td>...</td>\n",
       "      <td>...</td>\n",
       "    </tr>\n",
       "    <tr>\n",
       "      <th>2887360</th>\n",
       "      <td>The Stranger</td>\n",
       "      <td>1995</td>\n",
       "      <td>Kathy Long</td>\n",
       "      <td>actress</td>\n",
       "      <td>The Stranger</td>\n",
       "      <td>1.0</td>\n",
       "    </tr>\n",
       "    <tr>\n",
       "      <th>2899739</th>\n",
       "      <td>Ever Since Eve</td>\n",
       "      <td>1921</td>\n",
       "      <td>Ethel Lynne</td>\n",
       "      <td>actress</td>\n",
       "      <td>The Stranger</td>\n",
       "      <td>7.0</td>\n",
       "    </tr>\n",
       "    <tr>\n",
       "      <th>3063631</th>\n",
       "      <td>Weitertanzen</td>\n",
       "      <td>2008</td>\n",
       "      <td>Rosa Maria Paz</td>\n",
       "      <td>actress</td>\n",
       "      <td>The Stranger</td>\n",
       "      <td>NaN</td>\n",
       "    </tr>\n",
       "    <tr>\n",
       "      <th>3205578</th>\n",
       "      <td>Motherland</td>\n",
       "      <td>1927</td>\n",
       "      <td>Dorinea Shirley</td>\n",
       "      <td>actress</td>\n",
       "      <td>The Stranger</td>\n",
       "      <td>NaN</td>\n",
       "    </tr>\n",
       "    <tr>\n",
       "      <th>3362999</th>\n",
       "      <td>The Seventh</td>\n",
       "      <td>2017</td>\n",
       "      <td>Kerry (II) Willison-Parry</td>\n",
       "      <td>actress</td>\n",
       "      <td>The Stranger</td>\n",
       "      <td>NaN</td>\n",
       "    </tr>\n",
       "  </tbody>\n",
       "</table>\n",
       "<p>165 rows × 6 columns</p>\n",
       "</div>"
      ],
      "text/plain": [
       "                            title  year                       name     type  \\\n",
       "23737                       Theeb  2014  Hassan Mutlag Al-Maraiyeh    actor   \n",
       "32733              My Time to Die  2014       Vincent H. Alexander    actor   \n",
       "42423                      Hickok  2017               Terral Altom    actor   \n",
       "61309                    Get Mean  1975               Tony Anthony    actor   \n",
       "61311    Lo straniero di silenzio  1968               Tony Anthony    actor   \n",
       "...                           ...   ...                        ...      ...   \n",
       "2887360              The Stranger  1995                 Kathy Long  actress   \n",
       "2899739            Ever Since Eve  1921                Ethel Lynne  actress   \n",
       "3063631              Weitertanzen  2008             Rosa Maria Paz  actress   \n",
       "3205578                Motherland  1927            Dorinea Shirley  actress   \n",
       "3362999               The Seventh  2017  Kerry (II) Willison-Parry  actress   \n",
       "\n",
       "            character    n  \n",
       "23737    The Stranger  2.0  \n",
       "32733    The Stranger  2.0  \n",
       "42423    The Stranger  NaN  \n",
       "61309    The Stranger  1.0  \n",
       "61311    The Stranger  1.0  \n",
       "...               ...  ...  \n",
       "2887360  The Stranger  1.0  \n",
       "2899739  The Stranger  7.0  \n",
       "3063631  The Stranger  NaN  \n",
       "3205578  The Stranger  NaN  \n",
       "3362999  The Stranger  NaN  \n",
       "\n",
       "[165 rows x 6 columns]"
      ]
     },
     "execution_count": 22,
     "metadata": {},
     "output_type": "execute_result"
    }
   ],
   "source": [
    "c = cast\n",
    "c = c[c.character == 'The Stranger']\n",
    "c"
   ]
  },
  {
   "cell_type": "code",
   "execution_count": 23,
   "metadata": {
    "scrolled": true
   },
   "outputs": [
    {
     "data": {
      "text/plain": [
       "165"
      ]
     },
     "execution_count": 23,
     "metadata": {},
     "output_type": "execute_result"
    }
   ],
   "source": [
    "len(c)"
   ]
  },
  {
   "cell_type": "code",
   "execution_count": 24,
   "metadata": {},
   "outputs": [
    {
     "data": {
      "text/plain": [
       "159"
      ]
     },
     "execution_count": 24,
     "metadata": {},
     "output_type": "execute_result"
    }
   ],
   "source": [
    "c = cast\n",
    "c = c[c.character == 'The Stranger'].name.unique()\n",
    "len(c)"
   ]
  },
  {
   "cell_type": "markdown",
   "metadata": {
    "collapsed": true,
    "jupyter": {
     "outputs_hidden": true
    }
   },
   "source": [
    "### Ile ról zagrał ?? w ciągu swojej kariery?"
   ]
  },
  {
   "cell_type": "code",
   "execution_count": 25,
   "metadata": {},
   "outputs": [
    {
     "data": {
      "text/html": [
       "<div>\n",
       "<style scoped>\n",
       "    .dataframe tbody tr th:only-of-type {\n",
       "        vertical-align: middle;\n",
       "    }\n",
       "\n",
       "    .dataframe tbody tr th {\n",
       "        vertical-align: top;\n",
       "    }\n",
       "\n",
       "    .dataframe thead th {\n",
       "        text-align: right;\n",
       "    }\n",
       "</style>\n",
       "<table border=\"1\" class=\"dataframe\">\n",
       "  <thead>\n",
       "    <tr style=\"text-align: right;\">\n",
       "      <th></th>\n",
       "      <th>title</th>\n",
       "      <th>year</th>\n",
       "      <th>name</th>\n",
       "      <th>type</th>\n",
       "      <th>character</th>\n",
       "      <th>n</th>\n",
       "    </tr>\n",
       "  </thead>\n",
       "  <tbody>\n",
       "    <tr>\n",
       "      <th>790335</th>\n",
       "      <td>About a Boy</td>\n",
       "      <td>2002</td>\n",
       "      <td>Hugh Grant</td>\n",
       "      <td>actor</td>\n",
       "      <td>Will Freeman</td>\n",
       "      <td>1.0</td>\n",
       "    </tr>\n",
       "    <tr>\n",
       "      <th>790336</th>\n",
       "      <td>American Dreamz</td>\n",
       "      <td>2006</td>\n",
       "      <td>Hugh Grant</td>\n",
       "      <td>actor</td>\n",
       "      <td>Martin Tweed</td>\n",
       "      <td>1.0</td>\n",
       "    </tr>\n",
       "    <tr>\n",
       "      <th>790337</th>\n",
       "      <td>An Awfully Big Adventure</td>\n",
       "      <td>1995</td>\n",
       "      <td>Hugh Grant</td>\n",
       "      <td>actor</td>\n",
       "      <td>Meredith Potter</td>\n",
       "      <td>2.0</td>\n",
       "    </tr>\n",
       "    <tr>\n",
       "      <th>790338</th>\n",
       "      <td>Bitter Moon</td>\n",
       "      <td>1992</td>\n",
       "      <td>Hugh Grant</td>\n",
       "      <td>actor</td>\n",
       "      <td>Nigel</td>\n",
       "      <td>3.0</td>\n",
       "    </tr>\n",
       "    <tr>\n",
       "      <th>790339</th>\n",
       "      <td>Bridget Jones's Diary</td>\n",
       "      <td>2001</td>\n",
       "      <td>Hugh Grant</td>\n",
       "      <td>actor</td>\n",
       "      <td>Daniel Cleaver</td>\n",
       "      <td>8.0</td>\n",
       "    </tr>\n",
       "    <tr>\n",
       "      <th>790340</th>\n",
       "      <td>Bridget Jones: The Edge of Reason</td>\n",
       "      <td>2004</td>\n",
       "      <td>Hugh Grant</td>\n",
       "      <td>actor</td>\n",
       "      <td>Daniel Cleaver</td>\n",
       "      <td>14.0</td>\n",
       "    </tr>\n",
       "    <tr>\n",
       "      <th>790341</th>\n",
       "      <td>Cloud Atlas</td>\n",
       "      <td>2012</td>\n",
       "      <td>Hugh Grant</td>\n",
       "      <td>actor</td>\n",
       "      <td>Rev. Giles Horrox</td>\n",
       "      <td>13.0</td>\n",
       "    </tr>\n",
       "    <tr>\n",
       "      <th>790342</th>\n",
       "      <td>Cloud Atlas</td>\n",
       "      <td>2012</td>\n",
       "      <td>Hugh Grant</td>\n",
       "      <td>actor</td>\n",
       "      <td>Hotel Heavy</td>\n",
       "      <td>13.0</td>\n",
       "    </tr>\n",
       "    <tr>\n",
       "      <th>790343</th>\n",
       "      <td>Cloud Atlas</td>\n",
       "      <td>2012</td>\n",
       "      <td>Hugh Grant</td>\n",
       "      <td>actor</td>\n",
       "      <td>Lloyd Hooks</td>\n",
       "      <td>13.0</td>\n",
       "    </tr>\n",
       "    <tr>\n",
       "      <th>790344</th>\n",
       "      <td>Cloud Atlas</td>\n",
       "      <td>2012</td>\n",
       "      <td>Hugh Grant</td>\n",
       "      <td>actor</td>\n",
       "      <td>Denholme Cavendish</td>\n",
       "      <td>13.0</td>\n",
       "    </tr>\n",
       "    <tr>\n",
       "      <th>790345</th>\n",
       "      <td>Cloud Atlas</td>\n",
       "      <td>2012</td>\n",
       "      <td>Hugh Grant</td>\n",
       "      <td>actor</td>\n",
       "      <td>Seer Rhee</td>\n",
       "      <td>13.0</td>\n",
       "    </tr>\n",
       "    <tr>\n",
       "      <th>790346</th>\n",
       "      <td>Cloud Atlas</td>\n",
       "      <td>2012</td>\n",
       "      <td>Hugh Grant</td>\n",
       "      <td>actor</td>\n",
       "      <td>Kona Chief</td>\n",
       "      <td>13.0</td>\n",
       "    </tr>\n",
       "    <tr>\n",
       "      <th>790347</th>\n",
       "      <td>Did You Hear About the Morgans?</td>\n",
       "      <td>2009</td>\n",
       "      <td>Hugh Grant</td>\n",
       "      <td>actor</td>\n",
       "      <td>Paul Morgan</td>\n",
       "      <td>1.0</td>\n",
       "    </tr>\n",
       "    <tr>\n",
       "      <th>790348</th>\n",
       "      <td>Extreme Measures</td>\n",
       "      <td>1996</td>\n",
       "      <td>Hugh Grant</td>\n",
       "      <td>actor</td>\n",
       "      <td>Dr. Guy Luthan</td>\n",
       "      <td>1.0</td>\n",
       "    </tr>\n",
       "    <tr>\n",
       "      <th>790349</th>\n",
       "      <td>Florence Foster Jenkins</td>\n",
       "      <td>2016</td>\n",
       "      <td>Hugh Grant</td>\n",
       "      <td>actor</td>\n",
       "      <td>St Clair Bayfield</td>\n",
       "      <td>2.0</td>\n",
       "    </tr>\n",
       "    <tr>\n",
       "      <th>790350</th>\n",
       "      <td>Four Weddings and a Funeral</td>\n",
       "      <td>1994</td>\n",
       "      <td>Hugh Grant</td>\n",
       "      <td>actor</td>\n",
       "      <td>Charles - Wedding One</td>\n",
       "      <td>1.0</td>\n",
       "    </tr>\n",
       "    <tr>\n",
       "      <th>790351</th>\n",
       "      <td>I'm Still Here</td>\n",
       "      <td>2010</td>\n",
       "      <td>Hugh Grant</td>\n",
       "      <td>actor</td>\n",
       "      <td>Hugh Grant</td>\n",
       "      <td>NaN</td>\n",
       "    </tr>\n",
       "    <tr>\n",
       "      <th>790352</th>\n",
       "      <td>Impromptu</td>\n",
       "      <td>1991</td>\n",
       "      <td>Hugh Grant</td>\n",
       "      <td>actor</td>\n",
       "      <td>Frederic Chopin</td>\n",
       "      <td>2.0</td>\n",
       "    </tr>\n",
       "    <tr>\n",
       "      <th>790353</th>\n",
       "      <td>La nuit Bengali</td>\n",
       "      <td>1988</td>\n",
       "      <td>Hugh Grant</td>\n",
       "      <td>actor</td>\n",
       "      <td>Allan</td>\n",
       "      <td>1.0</td>\n",
       "    </tr>\n",
       "    <tr>\n",
       "      <th>790354</th>\n",
       "      <td>Love Actually</td>\n",
       "      <td>2003</td>\n",
       "      <td>Hugh Grant</td>\n",
       "      <td>actor</td>\n",
       "      <td>The Prime Minister</td>\n",
       "      <td>16.0</td>\n",
       "    </tr>\n",
       "    <tr>\n",
       "      <th>790355</th>\n",
       "      <td>Maurice</td>\n",
       "      <td>1987</td>\n",
       "      <td>Hugh Grant</td>\n",
       "      <td>actor</td>\n",
       "      <td>Clive Durham</td>\n",
       "      <td>2.0</td>\n",
       "    </tr>\n",
       "    <tr>\n",
       "      <th>790356</th>\n",
       "      <td>Mickey Blue Eyes</td>\n",
       "      <td>1999</td>\n",
       "      <td>Hugh Grant</td>\n",
       "      <td>actor</td>\n",
       "      <td>Michael Felgate</td>\n",
       "      <td>1.0</td>\n",
       "    </tr>\n",
       "    <tr>\n",
       "      <th>790357</th>\n",
       "      <td>Music and Lyrics</td>\n",
       "      <td>2007</td>\n",
       "      <td>Hugh Grant</td>\n",
       "      <td>actor</td>\n",
       "      <td>Alex Fletcher</td>\n",
       "      <td>1.0</td>\n",
       "    </tr>\n",
       "    <tr>\n",
       "      <th>790358</th>\n",
       "      <td>Night Train to Venice</td>\n",
       "      <td>1993</td>\n",
       "      <td>Hugh Grant</td>\n",
       "      <td>actor</td>\n",
       "      <td>Martin</td>\n",
       "      <td>1.0</td>\n",
       "    </tr>\n",
       "    <tr>\n",
       "      <th>790359</th>\n",
       "      <td>Nine Months</td>\n",
       "      <td>1995</td>\n",
       "      <td>Hugh Grant</td>\n",
       "      <td>actor</td>\n",
       "      <td>Samuel Faulkner</td>\n",
       "      <td>1.0</td>\n",
       "    </tr>\n",
       "    <tr>\n",
       "      <th>790360</th>\n",
       "      <td>Notting Hill</td>\n",
       "      <td>1999</td>\n",
       "      <td>Hugh Grant</td>\n",
       "      <td>actor</td>\n",
       "      <td>William Thacker</td>\n",
       "      <td>2.0</td>\n",
       "    </tr>\n",
       "    <tr>\n",
       "      <th>790361</th>\n",
       "      <td>Paddington 2</td>\n",
       "      <td>2017</td>\n",
       "      <td>Hugh Grant</td>\n",
       "      <td>actor</td>\n",
       "      <td>Phoenix Buchanan</td>\n",
       "      <td>NaN</td>\n",
       "    </tr>\n",
       "    <tr>\n",
       "      <th>790362</th>\n",
       "      <td>Privileged</td>\n",
       "      <td>1982</td>\n",
       "      <td>Hugh Grant</td>\n",
       "      <td>actor</td>\n",
       "      <td>Lord Adrian</td>\n",
       "      <td>3.0</td>\n",
       "    </tr>\n",
       "    <tr>\n",
       "      <th>790363</th>\n",
       "      <td>Restoration</td>\n",
       "      <td>1995</td>\n",
       "      <td>Hugh Grant</td>\n",
       "      <td>actor</td>\n",
       "      <td>Elias Finn</td>\n",
       "      <td>7.0</td>\n",
       "    </tr>\n",
       "    <tr>\n",
       "      <th>790364</th>\n",
       "      <td>Sense and Sensibility</td>\n",
       "      <td>1995</td>\n",
       "      <td>Hugh Grant</td>\n",
       "      <td>actor</td>\n",
       "      <td>Edward Ferrars</td>\n",
       "      <td>7.0</td>\n",
       "    </tr>\n",
       "    <tr>\n",
       "      <th>790365</th>\n",
       "      <td>Small Time Crooks</td>\n",
       "      <td>2000</td>\n",
       "      <td>Hugh Grant</td>\n",
       "      <td>actor</td>\n",
       "      <td>David</td>\n",
       "      <td>26.0</td>\n",
       "    </tr>\n",
       "    <tr>\n",
       "      <th>790366</th>\n",
       "      <td>The Big Man</td>\n",
       "      <td>1990</td>\n",
       "      <td>Hugh Grant</td>\n",
       "      <td>actor</td>\n",
       "      <td>Gordon</td>\n",
       "      <td>23.0</td>\n",
       "    </tr>\n",
       "    <tr>\n",
       "      <th>790367</th>\n",
       "      <td>The Dawning</td>\n",
       "      <td>1988</td>\n",
       "      <td>Hugh Grant</td>\n",
       "      <td>actor</td>\n",
       "      <td>Harry</td>\n",
       "      <td>6.0</td>\n",
       "    </tr>\n",
       "    <tr>\n",
       "      <th>790368</th>\n",
       "      <td>The Englishman Who Went Up a Hill But Came Dow...</td>\n",
       "      <td>1995</td>\n",
       "      <td>Hugh Grant</td>\n",
       "      <td>actor</td>\n",
       "      <td>Reginald Anson</td>\n",
       "      <td>1.0</td>\n",
       "    </tr>\n",
       "    <tr>\n",
       "      <th>790369</th>\n",
       "      <td>The Man from U.N.C.L.E.</td>\n",
       "      <td>2015</td>\n",
       "      <td>Hugh Grant</td>\n",
       "      <td>actor</td>\n",
       "      <td>Alexander Waverly</td>\n",
       "      <td>7.0</td>\n",
       "    </tr>\n",
       "    <tr>\n",
       "      <th>790370</th>\n",
       "      <td>The Pirates! In an Adventure with Scientists!</td>\n",
       "      <td>2012</td>\n",
       "      <td>Hugh Grant</td>\n",
       "      <td>actor</td>\n",
       "      <td>The Pirate Captain</td>\n",
       "      <td>1.0</td>\n",
       "    </tr>\n",
       "    <tr>\n",
       "      <th>790371</th>\n",
       "      <td>The Remains of the Day</td>\n",
       "      <td>1993</td>\n",
       "      <td>Hugh Grant</td>\n",
       "      <td>actor</td>\n",
       "      <td>Reginald Cardinal</td>\n",
       "      <td>15.0</td>\n",
       "    </tr>\n",
       "    <tr>\n",
       "      <th>790372</th>\n",
       "      <td>The Rewrite</td>\n",
       "      <td>2014</td>\n",
       "      <td>Hugh Grant</td>\n",
       "      <td>actor</td>\n",
       "      <td>Keith Michaels</td>\n",
       "      <td>1.0</td>\n",
       "    </tr>\n",
       "    <tr>\n",
       "      <th>790373</th>\n",
       "      <td>Two Weeks Notice</td>\n",
       "      <td>2002</td>\n",
       "      <td>Hugh Grant</td>\n",
       "      <td>actor</td>\n",
       "      <td>George Wade</td>\n",
       "      <td>2.0</td>\n",
       "    </tr>\n",
       "    <tr>\n",
       "      <th>790374</th>\n",
       "      <td>White Mischief</td>\n",
       "      <td>1987</td>\n",
       "      <td>Hugh Grant</td>\n",
       "      <td>actor</td>\n",
       "      <td>Hugh</td>\n",
       "      <td>12.0</td>\n",
       "    </tr>\n",
       "  </tbody>\n",
       "</table>\n",
       "</div>"
      ],
      "text/plain": [
       "                                                    title  year        name  \\\n",
       "790335                                        About a Boy  2002  Hugh Grant   \n",
       "790336                                    American Dreamz  2006  Hugh Grant   \n",
       "790337                           An Awfully Big Adventure  1995  Hugh Grant   \n",
       "790338                                        Bitter Moon  1992  Hugh Grant   \n",
       "790339                              Bridget Jones's Diary  2001  Hugh Grant   \n",
       "790340                  Bridget Jones: The Edge of Reason  2004  Hugh Grant   \n",
       "790341                                        Cloud Atlas  2012  Hugh Grant   \n",
       "790342                                        Cloud Atlas  2012  Hugh Grant   \n",
       "790343                                        Cloud Atlas  2012  Hugh Grant   \n",
       "790344                                        Cloud Atlas  2012  Hugh Grant   \n",
       "790345                                        Cloud Atlas  2012  Hugh Grant   \n",
       "790346                                        Cloud Atlas  2012  Hugh Grant   \n",
       "790347                    Did You Hear About the Morgans?  2009  Hugh Grant   \n",
       "790348                                   Extreme Measures  1996  Hugh Grant   \n",
       "790349                            Florence Foster Jenkins  2016  Hugh Grant   \n",
       "790350                        Four Weddings and a Funeral  1994  Hugh Grant   \n",
       "790351                                     I'm Still Here  2010  Hugh Grant   \n",
       "790352                                          Impromptu  1991  Hugh Grant   \n",
       "790353                                    La nuit Bengali  1988  Hugh Grant   \n",
       "790354                                      Love Actually  2003  Hugh Grant   \n",
       "790355                                            Maurice  1987  Hugh Grant   \n",
       "790356                                   Mickey Blue Eyes  1999  Hugh Grant   \n",
       "790357                                   Music and Lyrics  2007  Hugh Grant   \n",
       "790358                              Night Train to Venice  1993  Hugh Grant   \n",
       "790359                                        Nine Months  1995  Hugh Grant   \n",
       "790360                                       Notting Hill  1999  Hugh Grant   \n",
       "790361                                       Paddington 2  2017  Hugh Grant   \n",
       "790362                                         Privileged  1982  Hugh Grant   \n",
       "790363                                        Restoration  1995  Hugh Grant   \n",
       "790364                              Sense and Sensibility  1995  Hugh Grant   \n",
       "790365                                  Small Time Crooks  2000  Hugh Grant   \n",
       "790366                                        The Big Man  1990  Hugh Grant   \n",
       "790367                                        The Dawning  1988  Hugh Grant   \n",
       "790368  The Englishman Who Went Up a Hill But Came Dow...  1995  Hugh Grant   \n",
       "790369                            The Man from U.N.C.L.E.  2015  Hugh Grant   \n",
       "790370      The Pirates! In an Adventure with Scientists!  2012  Hugh Grant   \n",
       "790371                             The Remains of the Day  1993  Hugh Grant   \n",
       "790372                                        The Rewrite  2014  Hugh Grant   \n",
       "790373                                   Two Weeks Notice  2002  Hugh Grant   \n",
       "790374                                     White Mischief  1987  Hugh Grant   \n",
       "\n",
       "         type              character     n  \n",
       "790335  actor           Will Freeman   1.0  \n",
       "790336  actor           Martin Tweed   1.0  \n",
       "790337  actor        Meredith Potter   2.0  \n",
       "790338  actor                  Nigel   3.0  \n",
       "790339  actor         Daniel Cleaver   8.0  \n",
       "790340  actor         Daniel Cleaver  14.0  \n",
       "790341  actor      Rev. Giles Horrox  13.0  \n",
       "790342  actor            Hotel Heavy  13.0  \n",
       "790343  actor            Lloyd Hooks  13.0  \n",
       "790344  actor     Denholme Cavendish  13.0  \n",
       "790345  actor              Seer Rhee  13.0  \n",
       "790346  actor             Kona Chief  13.0  \n",
       "790347  actor            Paul Morgan   1.0  \n",
       "790348  actor         Dr. Guy Luthan   1.0  \n",
       "790349  actor      St Clair Bayfield   2.0  \n",
       "790350  actor  Charles - Wedding One   1.0  \n",
       "790351  actor             Hugh Grant   NaN  \n",
       "790352  actor        Frederic Chopin   2.0  \n",
       "790353  actor                  Allan   1.0  \n",
       "790354  actor     The Prime Minister  16.0  \n",
       "790355  actor           Clive Durham   2.0  \n",
       "790356  actor        Michael Felgate   1.0  \n",
       "790357  actor          Alex Fletcher   1.0  \n",
       "790358  actor                 Martin   1.0  \n",
       "790359  actor        Samuel Faulkner   1.0  \n",
       "790360  actor        William Thacker   2.0  \n",
       "790361  actor       Phoenix Buchanan   NaN  \n",
       "790362  actor            Lord Adrian   3.0  \n",
       "790363  actor             Elias Finn   7.0  \n",
       "790364  actor         Edward Ferrars   7.0  \n",
       "790365  actor                  David  26.0  \n",
       "790366  actor                 Gordon  23.0  \n",
       "790367  actor                  Harry   6.0  \n",
       "790368  actor         Reginald Anson   1.0  \n",
       "790369  actor      Alexander Waverly   7.0  \n",
       "790370  actor     The Pirate Captain   1.0  \n",
       "790371  actor      Reginald Cardinal  15.0  \n",
       "790372  actor         Keith Michaels   1.0  \n",
       "790373  actor            George Wade   2.0  \n",
       "790374  actor                   Hugh  12.0  "
      ]
     },
     "execution_count": 25,
     "metadata": {},
     "output_type": "execute_result"
    }
   ],
   "source": [
    "c = cast\n",
    "c = c[c.name == 'Hugh Grant']\n",
    "c"
   ]
  },
  {
   "cell_type": "markdown",
   "metadata": {
    "collapsed": true,
    "jupyter": {
     "outputs_hidden": true
    }
   },
   "source": [
    "### Wymień role drugoplanowe (mające n=2) grane przez ? w latach ?, w kolejności według roku."
   ]
  },
  {
   "cell_type": "code",
   "execution_count": 26,
   "metadata": {},
   "outputs": [
    {
     "data": {
      "text/html": [
       "<div>\n",
       "<style scoped>\n",
       "    .dataframe tbody tr th:only-of-type {\n",
       "        vertical-align: middle;\n",
       "    }\n",
       "\n",
       "    .dataframe tbody tr th {\n",
       "        vertical-align: top;\n",
       "    }\n",
       "\n",
       "    .dataframe thead th {\n",
       "        text-align: right;\n",
       "    }\n",
       "</style>\n",
       "<table border=\"1\" class=\"dataframe\">\n",
       "  <thead>\n",
       "    <tr style=\"text-align: right;\">\n",
       "      <th></th>\n",
       "      <th>title</th>\n",
       "      <th>year</th>\n",
       "      <th>name</th>\n",
       "      <th>type</th>\n",
       "      <th>character</th>\n",
       "      <th>n</th>\n",
       "    </tr>\n",
       "  </thead>\n",
       "  <tbody>\n",
       "    <tr>\n",
       "      <th>790352</th>\n",
       "      <td>Impromptu</td>\n",
       "      <td>1991</td>\n",
       "      <td>Hugh Grant</td>\n",
       "      <td>actor</td>\n",
       "      <td>Frederic Chopin</td>\n",
       "      <td>2.0</td>\n",
       "    </tr>\n",
       "    <tr>\n",
       "      <th>790337</th>\n",
       "      <td>An Awfully Big Adventure</td>\n",
       "      <td>1995</td>\n",
       "      <td>Hugh Grant</td>\n",
       "      <td>actor</td>\n",
       "      <td>Meredith Potter</td>\n",
       "      <td>2.0</td>\n",
       "    </tr>\n",
       "    <tr>\n",
       "      <th>790360</th>\n",
       "      <td>Notting Hill</td>\n",
       "      <td>1999</td>\n",
       "      <td>Hugh Grant</td>\n",
       "      <td>actor</td>\n",
       "      <td>William Thacker</td>\n",
       "      <td>2.0</td>\n",
       "    </tr>\n",
       "  </tbody>\n",
       "</table>\n",
       "</div>"
      ],
      "text/plain": [
       "                           title  year        name   type        character  \\\n",
       "790352                 Impromptu  1991  Hugh Grant  actor  Frederic Chopin   \n",
       "790337  An Awfully Big Adventure  1995  Hugh Grant  actor  Meredith Potter   \n",
       "790360              Notting Hill  1999  Hugh Grant  actor  William Thacker   \n",
       "\n",
       "          n  \n",
       "790352  2.0  \n",
       "790337  2.0  \n",
       "790360  2.0  "
      ]
     },
     "execution_count": 26,
     "metadata": {},
     "output_type": "execute_result"
    }
   ],
   "source": [
    "c = cast\n",
    "c = c[c.name == 'Hugh Grant']\n",
    "c = c[c.year // 10 == 199]\n",
    "c = c[c.n == 2]\n",
    "c = c.sort_values('year')\n",
    "c"
   ]
  },
  {
   "cell_type": "markdown",
   "metadata": {
    "collapsed": true,
    "jupyter": {
     "outputs_hidden": true
    }
   },
   "source": [
    "### Wymień pierwszoplanowe role, które ? zagrał w latach dwutysięcznych w kolejności według roku."
   ]
  },
  {
   "cell_type": "code",
   "execution_count": 27,
   "metadata": {
    "scrolled": true
   },
   "outputs": [
    {
     "data": {
      "text/html": [
       "<div>\n",
       "<style scoped>\n",
       "    .dataframe tbody tr th:only-of-type {\n",
       "        vertical-align: middle;\n",
       "    }\n",
       "\n",
       "    .dataframe tbody tr th {\n",
       "        vertical-align: top;\n",
       "    }\n",
       "\n",
       "    .dataframe thead th {\n",
       "        text-align: right;\n",
       "    }\n",
       "</style>\n",
       "<table border=\"1\" class=\"dataframe\">\n",
       "  <thead>\n",
       "    <tr style=\"text-align: right;\">\n",
       "      <th></th>\n",
       "      <th>title</th>\n",
       "      <th>year</th>\n",
       "      <th>name</th>\n",
       "      <th>type</th>\n",
       "      <th>character</th>\n",
       "      <th>n</th>\n",
       "    </tr>\n",
       "  </thead>\n",
       "  <tbody>\n",
       "    <tr>\n",
       "      <th>790335</th>\n",
       "      <td>About a Boy</td>\n",
       "      <td>2002</td>\n",
       "      <td>Hugh Grant</td>\n",
       "      <td>actor</td>\n",
       "      <td>Will Freeman</td>\n",
       "      <td>1.0</td>\n",
       "    </tr>\n",
       "    <tr>\n",
       "      <th>790336</th>\n",
       "      <td>American Dreamz</td>\n",
       "      <td>2006</td>\n",
       "      <td>Hugh Grant</td>\n",
       "      <td>actor</td>\n",
       "      <td>Martin Tweed</td>\n",
       "      <td>1.0</td>\n",
       "    </tr>\n",
       "    <tr>\n",
       "      <th>790357</th>\n",
       "      <td>Music and Lyrics</td>\n",
       "      <td>2007</td>\n",
       "      <td>Hugh Grant</td>\n",
       "      <td>actor</td>\n",
       "      <td>Alex Fletcher</td>\n",
       "      <td>1.0</td>\n",
       "    </tr>\n",
       "    <tr>\n",
       "      <th>790347</th>\n",
       "      <td>Did You Hear About the Morgans?</td>\n",
       "      <td>2009</td>\n",
       "      <td>Hugh Grant</td>\n",
       "      <td>actor</td>\n",
       "      <td>Paul Morgan</td>\n",
       "      <td>1.0</td>\n",
       "    </tr>\n",
       "  </tbody>\n",
       "</table>\n",
       "</div>"
      ],
      "text/plain": [
       "                                  title  year        name   type  \\\n",
       "790335                      About a Boy  2002  Hugh Grant  actor   \n",
       "790336                  American Dreamz  2006  Hugh Grant  actor   \n",
       "790357                 Music and Lyrics  2007  Hugh Grant  actor   \n",
       "790347  Did You Hear About the Morgans?  2009  Hugh Grant  actor   \n",
       "\n",
       "            character    n  \n",
       "790335   Will Freeman  1.0  \n",
       "790336   Martin Tweed  1.0  \n",
       "790357  Alex Fletcher  1.0  \n",
       "790347    Paul Morgan  1.0  "
      ]
     },
     "execution_count": 27,
     "metadata": {},
     "output_type": "execute_result"
    }
   ],
   "source": [
    "c = cast\n",
    "c = c[c.name == 'Hugh Grant']\n",
    "c = c[c.year // 10 == 200]\n",
    "c = c[c.n == 1]\n",
    "c = c.sort_values('year')\n",
    "c"
   ]
  },
  {
   "cell_type": "markdown",
   "metadata": {
    "collapsed": true,
    "jupyter": {
     "outputs_hidden": true
    }
   },
   "source": [
    "### 2. Zaawansowane filtrowanie"
   ]
  },
  {
   "cell_type": "code",
   "execution_count": 28,
   "metadata": {},
   "outputs": [
    {
     "data": {
      "text/html": [
       "<div>\n",
       "<style scoped>\n",
       "    .dataframe tbody tr th:only-of-type {\n",
       "        vertical-align: middle;\n",
       "    }\n",
       "\n",
       "    .dataframe tbody tr th {\n",
       "        vertical-align: top;\n",
       "    }\n",
       "\n",
       "    .dataframe thead th {\n",
       "        text-align: right;\n",
       "    }\n",
       "</style>\n",
       "<table border=\"1\" class=\"dataframe\">\n",
       "  <thead>\n",
       "    <tr style=\"text-align: right;\">\n",
       "      <th></th>\n",
       "      <th>title</th>\n",
       "      <th>year</th>\n",
       "    </tr>\n",
       "  </thead>\n",
       "  <tbody>\n",
       "    <tr>\n",
       "      <th>12</th>\n",
       "      <td>The House of Rothschild</td>\n",
       "      <td>1934.0</td>\n",
       "    </tr>\n",
       "    <tr>\n",
       "      <th>30</th>\n",
       "      <td>The Man from Hell's River</td>\n",
       "      <td>1922.0</td>\n",
       "    </tr>\n",
       "    <tr>\n",
       "      <th>40</th>\n",
       "      <td>The Leavenworth Case</td>\n",
       "      <td>1923.0</td>\n",
       "    </tr>\n",
       "    <tr>\n",
       "      <th>48</th>\n",
       "      <td>The Wedding Date</td>\n",
       "      <td>2005.0</td>\n",
       "    </tr>\n",
       "    <tr>\n",
       "      <th>75</th>\n",
       "      <td>The Ghost Goes Wild</td>\n",
       "      <td>1947.0</td>\n",
       "    </tr>\n",
       "    <tr>\n",
       "      <th>...</th>\n",
       "      <td>...</td>\n",
       "      <td>...</td>\n",
       "    </tr>\n",
       "    <tr>\n",
       "      <th>224659</th>\n",
       "      <td>The Secret Code</td>\n",
       "      <td>1942.0</td>\n",
       "    </tr>\n",
       "    <tr>\n",
       "      <th>224692</th>\n",
       "      <td>The Making of Maddalena</td>\n",
       "      <td>1916.0</td>\n",
       "    </tr>\n",
       "    <tr>\n",
       "      <th>224711</th>\n",
       "      <td>The Golden Claw</td>\n",
       "      <td>1915.0</td>\n",
       "    </tr>\n",
       "    <tr>\n",
       "      <th>224756</th>\n",
       "      <td>The Suicide</td>\n",
       "      <td>1996.0</td>\n",
       "    </tr>\n",
       "    <tr>\n",
       "      <th>224774</th>\n",
       "      <td>The Angelheads</td>\n",
       "      <td>2014.0</td>\n",
       "    </tr>\n",
       "  </tbody>\n",
       "</table>\n",
       "<p>21296 rows × 2 columns</p>\n",
       "</div>"
      ],
      "text/plain": [
       "                            title    year\n",
       "12        The House of Rothschild  1934.0\n",
       "30      The Man from Hell's River  1922.0\n",
       "40           The Leavenworth Case  1923.0\n",
       "48               The Wedding Date  2005.0\n",
       "75            The Ghost Goes Wild  1947.0\n",
       "...                           ...     ...\n",
       "224659            The Secret Code  1942.0\n",
       "224692    The Making of Maddalena  1916.0\n",
       "224711            The Golden Claw  1915.0\n",
       "224756                The Suicide  1996.0\n",
       "224774             The Angelheads  2014.0\n",
       "\n",
       "[21296 rows x 2 columns]"
      ]
     },
     "execution_count": 28,
     "metadata": {},
     "output_type": "execute_result"
    }
   ],
   "source": [
    "c = titles\n",
    "c = c.dropna()\n",
    "c[c.title.str.startswith('The')]"
   ]
  },
  {
   "cell_type": "code",
   "execution_count": 29,
   "metadata": {},
   "outputs": [
    {
     "data": {
      "text/plain": [
       "2017.0    9888\n",
       "2016.0    8198\n",
       "2015.0    7563\n",
       "2014.0    7159\n",
       "2013.0    6895\n",
       "          ... \n",
       "1905.0       2\n",
       "1898.0       1\n",
       "1903.0       1\n",
       "1899.0       1\n",
       "1894.0       1\n",
       "Name: year, Length: 119, dtype: int64"
      ]
     },
     "execution_count": 29,
     "metadata": {},
     "output_type": "execute_result"
    }
   ],
   "source": [
    "titles.year.value_counts()"
   ]
  },
  {
   "cell_type": "code",
   "execution_count": 30,
   "metadata": {},
   "outputs": [
    {
     "data": {
      "text/plain": [
       "<Axes: >"
      ]
     },
     "execution_count": 30,
     "metadata": {},
     "output_type": "execute_result"
    },
    {
     "data": {
      "image/png": "[encoded data removed]",
      "text/plain": [
       "<Figure size 640x480 with 1 Axes>"
      ]
     },
     "metadata": {},
     "output_type": "display_data"
    }
   ],
   "source": [
    "titles.year.value_counts().plot()"
   ]
  },
  {
   "cell_type": "code",
   "execution_count": 31,
   "metadata": {},
   "outputs": [
    {
     "data": {
      "text/plain": [
       "<Axes: >"
      ]
     },
     "execution_count": 31,
     "metadata": {},
     "output_type": "execute_result"
    },
    {
     "data": {
      "image/png": "[encoded data removed]",
      "text/plain": [
       "<Figure size 640x480 with 1 Axes>"
      ]
     },
     "metadata": {},
     "output_type": "display_data"
    }
   ],
   "source": [
    "titles.year.value_counts().sort_index().plot()"
   ]
  },
  {
   "cell_type": "code",
   "execution_count": 32,
   "metadata": {},
   "outputs": [],
   "source": [
    "c = cast\n",
    "c = c[c.character == 'Kermit the Frog']"
   ]
  },
  {
   "cell_type": "code",
   "execution_count": 33,
   "metadata": {},
   "outputs": [
    {
     "data": {
      "text/plain": [
       "<Axes: xlabel='year', ylabel='n'>"
      ]
     },
     "execution_count": 33,
     "metadata": {},
     "output_type": "execute_result"
    },
    {
     "data": {
      "image/png": "[encoded data removed]",
      "text/plain": [
       "<Figure size 640x480 with 1 Axes>"
      ]
     },
     "metadata": {},
     "output_type": "display_data"
    }
   ],
   "source": [
    "c.plot(x='year',y='n',kind='scatter')"
   ]
  },
  {
   "cell_type": "markdown",
   "metadata": {},
   "source": [
    "### Jakie jest dziesięć najczęstszych nazw filmów wszech czasów?"
   ]
  },
  {
   "cell_type": "code",
   "execution_count": 34,
   "metadata": {},
   "outputs": [
    {
     "data": {
      "text/plain": [
       "Hamlet                  20\n",
       "Carmen                  17\n",
       "Macbeth                 16\n",
       "The Outsider            12\n",
       "Freedom                 11\n",
       "Temptation              11\n",
       "Maya                    11\n",
       "The Three Musketeers    11\n",
       "Othello                 11\n",
       "Kismet                  10\n",
       "Name: title, dtype: int64"
      ]
     },
     "execution_count": 34,
     "metadata": {},
     "output_type": "execute_result"
    }
   ],
   "source": [
    "titles.title.value_counts().head(10)"
   ]
  },
  {
   "cell_type": "markdown",
   "metadata": {},
   "source": [
    "### W których trzech latach lat 30. XX wieku wydano najwięcej filmów?"
   ]
  },
  {
   "cell_type": "code",
   "execution_count": 35,
   "metadata": {},
   "outputs": [
    {
     "data": {
      "text/plain": [
       "1937.0    1217\n",
       "1938.0    1161\n",
       "1936.0    1153\n",
       "Name: year, dtype: int64"
      ]
     },
     "execution_count": 35,
     "metadata": {},
     "output_type": "execute_result"
    }
   ],
   "source": [
    "t = titles\n",
    "t = t[t.year // 10 == 193]\n",
    "t.year.value_counts().head(3)"
   ]
  },
  {
   "cell_type": "markdown",
   "metadata": {},
   "source": [
    "### Stwórz wykres liczby filmów, które zostały wydane w każdej dekadzie w historii kina."
   ]
  },
  {
   "cell_type": "code",
   "execution_count": 36,
   "metadata": {},
   "outputs": [
    {
     "data": {
      "text/plain": [
       "<Axes: >"
      ]
     },
     "execution_count": 36,
     "metadata": {},
     "output_type": "execute_result"
    },
    {
     "data": {
      "image/png": "[encoded data removed]",
      "text/plain": [
       "<Figure size 640x480 with 1 Axes>"
      ]
     },
     "metadata": {},
     "output_type": "display_data"
    }
   ],
   "source": [
    "t = titles\n",
    "(t.year // 10 * 10).value_counts().sort_index().plot(kind='bar')"
   ]
  },
  {
   "cell_type": "markdown",
   "metadata": {},
   "source": [
    "### Wykreśl liczbę filmów \"Hamlet\" nakręconych w każdej dekadzie."
   ]
  },
  {
   "cell_type": "code",
   "execution_count": null,
   "metadata": {},
   "outputs": [],
   "source": []
  },
  {
   "cell_type": "markdown",
   "metadata": {},
   "source": [
    "### Jakie jest 11 najczęstszych imion postaci w historii filmu?"
   ]
  },
  {
   "cell_type": "code",
   "execution_count": 37,
   "metadata": {},
   "outputs": [
    {
     "data": {
      "text/plain": [
       "Himself        19418\n",
       "Dancer         11937\n",
       "Extra          10715\n",
       "Reporter        7739\n",
       "Doctor          6917\n",
       "Party Guest     6744\n",
       "Student         6486\n",
       "Policeman       6409\n",
       "Bartender       6228\n",
       "Minor Role      6203\n",
       "Herself         6112\n",
       "Name: character, dtype: int64"
      ]
     },
     "execution_count": 37,
     "metadata": {},
     "output_type": "execute_result"
    }
   ],
   "source": [
    "cast.character.value_counts().head(11)"
   ]
  },
  {
   "cell_type": "markdown",
   "metadata": {},
   "source": [
    "### Kim jest 10 osób najczęściej przypisywanych jako \"Herself\" w historii filmu?"
   ]
  },
  {
   "cell_type": "code",
   "execution_count": null,
   "metadata": {},
   "outputs": [],
   "source": [
    "\n"
   ]
  },
  {
   "cell_type": "markdown",
   "metadata": {},
   "source": [
    "### Którzy aktorzy lub aktorki wystąpili w największej ilości filmów w roku 2010?"
   ]
  },
  {
   "cell_type": "code",
   "execution_count": 38,
   "metadata": {
    "scrolled": true
   },
   "outputs": [
    {
     "data": {
      "text/plain": [
       "Brahmanandam            22\n",
       "Suraaj Venjarammoodu    21\n",
       "Jagathi Sreekumar       20\n",
       "Chris (II) Eddy         20\n",
       "Matt Simpson Siegel     17\n",
       "Salim Kumar             15\n",
       "Kyle Rea                15\n",
       "Danny Trejo             15\n",
       "Ben (II) Bishop         14\n",
       "Bijoy Mohanty           13\n",
       "Name: name, dtype: int64"
      ]
     },
     "execution_count": 38,
     "metadata": {},
     "output_type": "execute_result"
    }
   ],
   "source": [
    "cast[cast.year == 2010].name.value_counts().head(10)"
   ]
  },
  {
   "cell_type": "markdown",
   "metadata": {},
   "source": [
    "### Które aktorki wystąpiły w największej ilości filmów w roku 2015?"
   ]
  },
  {
   "cell_type": "code",
   "execution_count": null,
   "metadata": {},
   "outputs": [],
   "source": []
  },
  {
   "cell_type": "markdown",
   "metadata": {},
   "source": [
    "### Stwórz wykres pokazujący ile ról Johnny Depp zagrał w poszczególnych latach swojej kariery."
   ]
  },
  {
   "cell_type": "code",
   "execution_count": null,
   "metadata": {},
   "outputs": [],
   "source": []
  },
  {
   "cell_type": "markdown",
   "metadata": {},
   "source": [
    "### Jakie jest 10 najczęściej występujących ról, które zaczynają się od frazy \"Patron in\"?"
   ]
  },
  {
   "cell_type": "code",
   "execution_count": 39,
   "metadata": {},
   "outputs": [
    {
     "data": {
      "text/plain": [
       "Patron in Chinese Restaurant    9\n",
       "Patron in the Coffee House      8\n",
       "Patron in Billiard Parlor       5\n",
       "Patron in Club                  3\n",
       "Patron in booth                 2\n",
       "Patron in Quiet Bar             2\n",
       "Patron in Black                 1\n",
       "Patron in Hooly's               1\n",
       "Patron in Pool Hall             1\n",
       "Name: character, dtype: int64"
      ]
     },
     "execution_count": 39,
     "metadata": {},
     "output_type": "execute_result"
    }
   ],
   "source": [
    "c = cast.dropna()\n",
    "c[c.character.str.startswith('Patron in ')].character.value_counts().head(10)"
   ]
  },
  {
   "cell_type": "markdown",
   "metadata": {},
   "source": [
    "### Jakie jest 10 najczęściej występujących ról, które zaczynają się od słowa \"Science\"?"
   ]
  },
  {
   "cell_type": "code",
   "execution_count": null,
   "metadata": {},
   "outputs": [],
   "source": []
  },
  {
   "cell_type": "markdown",
   "metadata": {},
   "source": [
    "### Wyświetl n wartości ról jakie Leonardo DiCaprio otrzymał w swojej karierze"
   ]
  },
  {
   "cell_type": "code",
   "execution_count": 40,
   "metadata": {},
   "outputs": [
    {
     "data": {
      "text/plain": [
       "<Axes: xlabel='year', ylabel='n'>"
      ]
     },
     "execution_count": 40,
     "metadata": {},
     "output_type": "execute_result"
    },
    {
     "data": {
      "image/png": "[encoded data removed]",
      "text/plain": [
       "<Figure size 640x480 with 1 Axes>"
      ]
     },
     "metadata": {},
     "output_type": "display_data"
    }
   ],
   "source": [
    "c = cast\n",
    "c = c[c.name == 'Leonardo DiCaprio']\n",
    "c.plot(x='year', y='n', kind='scatter')"
   ]
  },
  {
   "cell_type": "markdown",
   "metadata": {},
   "source": [
    "### Ile ról pierwszoplanowych (n=1) było dostępnych dla aktorów, a ile dla aktorek, w latach 50. XX wieku?"
   ]
  },
  {
   "cell_type": "code",
   "execution_count": 41,
   "metadata": {},
   "outputs": [],
   "source": [
    "c = cast\n"
   ]
  },
  {
   "cell_type": "markdown",
   "metadata": {
    "collapsed": true,
    "jupyter": {
     "outputs_hidden": true
    }
   },
   "source": [
    "### 3. Grupowanie"
   ]
  },
  {
   "cell_type": "code",
   "execution_count": 42,
   "metadata": {},
   "outputs": [],
   "source": [
    "# Po co nam indexy ?\n",
    "\n",
    "# Indexy organizuja nasze dane i sprawiają że możemy szybko dostać się do danych"
   ]
  },
  {
   "cell_type": "code",
   "execution_count": 43,
   "metadata": {},
   "outputs": [
    {
     "data": {
      "text/plain": [
       "3397720"
      ]
     },
     "execution_count": 43,
     "metadata": {},
     "output_type": "execute_result"
    }
   ],
   "source": [
    "len(cast)"
   ]
  },
  {
   "cell_type": "code",
   "execution_count": 44,
   "metadata": {
    "scrolled": true
   },
   "outputs": [
    {
     "name": "stdout",
     "output_type": "stream",
     "text": [
      "Wall time: 173 ms\n"
     ]
    },
    {
     "data": {
      "text/html": [
       "<div>\n",
       "<style scoped>\n",
       "    .dataframe tbody tr th:only-of-type {\n",
       "        vertical-align: middle;\n",
       "    }\n",
       "\n",
       "    .dataframe tbody tr th {\n",
       "        vertical-align: top;\n",
       "    }\n",
       "\n",
       "    .dataframe thead th {\n",
       "        text-align: right;\n",
       "    }\n",
       "</style>\n",
       "<table border=\"1\" class=\"dataframe\">\n",
       "  <thead>\n",
       "    <tr style=\"text-align: right;\">\n",
       "      <th></th>\n",
       "      <th>title</th>\n",
       "      <th>year</th>\n",
       "      <th>name</th>\n",
       "      <th>type</th>\n",
       "      <th>character</th>\n",
       "      <th>n</th>\n",
       "    </tr>\n",
       "  </thead>\n",
       "  <tbody>\n",
       "    <tr>\n",
       "      <th>1533</th>\n",
       "      <td>Hamlet</td>\n",
       "      <td>1996</td>\n",
       "      <td>Riz Abbasi</td>\n",
       "      <td>actor</td>\n",
       "      <td>Attendant to Claudius</td>\n",
       "      <td>1.0</td>\n",
       "    </tr>\n",
       "    <tr>\n",
       "      <th>7084</th>\n",
       "      <td>Hamlet</td>\n",
       "      <td>1921</td>\n",
       "      <td>Fritz Achterberg</td>\n",
       "      <td>actor</td>\n",
       "      <td>Fortinbras,</td>\n",
       "      <td>9.0</td>\n",
       "    </tr>\n",
       "    <tr>\n",
       "      <th>10664</th>\n",
       "      <td>Hamlet</td>\n",
       "      <td>2009</td>\n",
       "      <td>Hayden Adams</td>\n",
       "      <td>actor</td>\n",
       "      <td>Laertes</td>\n",
       "      <td>7.0</td>\n",
       "    </tr>\n",
       "    <tr>\n",
       "      <th>10665</th>\n",
       "      <td>Hamlet</td>\n",
       "      <td>2009</td>\n",
       "      <td>Hayden Adams</td>\n",
       "      <td>actor</td>\n",
       "      <td>Player</td>\n",
       "      <td>7.0</td>\n",
       "    </tr>\n",
       "    <tr>\n",
       "      <th>13144</th>\n",
       "      <td>Hamlet</td>\n",
       "      <td>1913</td>\n",
       "      <td>Eric Adeney</td>\n",
       "      <td>actor</td>\n",
       "      <td>Reynaldo</td>\n",
       "      <td>14.0</td>\n",
       "    </tr>\n",
       "    <tr>\n",
       "      <th>...</th>\n",
       "      <td>...</td>\n",
       "      <td>...</td>\n",
       "      <td>...</td>\n",
       "      <td>...</td>\n",
       "      <td>...</td>\n",
       "      <td>...</td>\n",
       "    </tr>\n",
       "    <tr>\n",
       "      <th>3298171</th>\n",
       "      <td>Hamlet</td>\n",
       "      <td>1969</td>\n",
       "      <td>Jennifer Tudor</td>\n",
       "      <td>actress</td>\n",
       "      <td>Court lady</td>\n",
       "      <td>23.0</td>\n",
       "    </tr>\n",
       "    <tr>\n",
       "      <th>3319683</th>\n",
       "      <td>Hamlet</td>\n",
       "      <td>2000</td>\n",
       "      <td>Diane Venora</td>\n",
       "      <td>actress</td>\n",
       "      <td>Gertrude</td>\n",
       "      <td>3.0</td>\n",
       "    </tr>\n",
       "    <tr>\n",
       "      <th>3347349</th>\n",
       "      <td>Hamlet</td>\n",
       "      <td>1996</td>\n",
       "      <td>Perdita Weeks</td>\n",
       "      <td>actress</td>\n",
       "      <td>Second Player</td>\n",
       "      <td>44.0</td>\n",
       "    </tr>\n",
       "    <tr>\n",
       "      <th>3351577</th>\n",
       "      <td>Hamlet</td>\n",
       "      <td>2015</td>\n",
       "      <td>Katie (II) West</td>\n",
       "      <td>actress</td>\n",
       "      <td>Ophelia</td>\n",
       "      <td>7.0</td>\n",
       "    </tr>\n",
       "    <tr>\n",
       "      <th>3366701</th>\n",
       "      <td>Hamlet</td>\n",
       "      <td>1996</td>\n",
       "      <td>Kate Winslet</td>\n",
       "      <td>actress</td>\n",
       "      <td>Ophelia</td>\n",
       "      <td>46.0</td>\n",
       "    </tr>\n",
       "  </tbody>\n",
       "</table>\n",
       "<p>342 rows × 6 columns</p>\n",
       "</div>"
      ],
      "text/plain": [
       "          title  year              name     type              character     n\n",
       "1533     Hamlet  1996        Riz Abbasi    actor  Attendant to Claudius   1.0\n",
       "7084     Hamlet  1921  Fritz Achterberg    actor            Fortinbras,   9.0\n",
       "10664    Hamlet  2009      Hayden Adams    actor                Laertes   7.0\n",
       "10665    Hamlet  2009      Hayden Adams    actor                 Player   7.0\n",
       "13144    Hamlet  1913       Eric Adeney    actor               Reynaldo  14.0\n",
       "...         ...   ...               ...      ...                    ...   ...\n",
       "3298171  Hamlet  1969    Jennifer Tudor  actress             Court lady  23.0\n",
       "3319683  Hamlet  2000      Diane Venora  actress               Gertrude   3.0\n",
       "3347349  Hamlet  1996     Perdita Weeks  actress          Second Player  44.0\n",
       "3351577  Hamlet  2015   Katie (II) West  actress                Ophelia   7.0\n",
       "3366701  Hamlet  1996      Kate Winslet  actress                Ophelia  46.0\n",
       "\n",
       "[342 rows x 6 columns]"
      ]
     },
     "execution_count": 44,
     "metadata": {},
     "output_type": "execute_result"
    }
   ],
   "source": [
    "%%time\n",
    "cast[cast.title == 'Hamlet']"
   ]
  },
  {
   "cell_type": "code",
   "execution_count": 45,
   "metadata": {},
   "outputs": [],
   "source": [
    "c = c.set_index('title')"
   ]
  },
  {
   "cell_type": "code",
   "execution_count": 46,
   "metadata": {},
   "outputs": [
    {
     "name": "stdout",
     "output_type": "stream",
     "text": [
      "Wall time: 907 ms\n"
     ]
    },
    {
     "data": {
      "text/html": [
       "<div>\n",
       "<style scoped>\n",
       "    .dataframe tbody tr th:only-of-type {\n",
       "        vertical-align: middle;\n",
       "    }\n",
       "\n",
       "    .dataframe tbody tr th {\n",
       "        vertical-align: top;\n",
       "    }\n",
       "\n",
       "    .dataframe thead th {\n",
       "        text-align: right;\n",
       "    }\n",
       "</style>\n",
       "<table border=\"1\" class=\"dataframe\">\n",
       "  <thead>\n",
       "    <tr style=\"text-align: right;\">\n",
       "      <th></th>\n",
       "      <th>year</th>\n",
       "      <th>name</th>\n",
       "      <th>type</th>\n",
       "      <th>character</th>\n",
       "      <th>n</th>\n",
       "    </tr>\n",
       "    <tr>\n",
       "      <th>title</th>\n",
       "      <th></th>\n",
       "      <th></th>\n",
       "      <th></th>\n",
       "      <th></th>\n",
       "      <th></th>\n",
       "    </tr>\n",
       "  </thead>\n",
       "  <tbody>\n",
       "    <tr>\n",
       "      <th>Hamlet</th>\n",
       "      <td>1996</td>\n",
       "      <td>Riz Abbasi</td>\n",
       "      <td>actor</td>\n",
       "      <td>Attendant to Claudius</td>\n",
       "      <td>1.0</td>\n",
       "    </tr>\n",
       "    <tr>\n",
       "      <th>Hamlet</th>\n",
       "      <td>1921</td>\n",
       "      <td>Fritz Achterberg</td>\n",
       "      <td>actor</td>\n",
       "      <td>Fortinbras,</td>\n",
       "      <td>9.0</td>\n",
       "    </tr>\n",
       "    <tr>\n",
       "      <th>Hamlet</th>\n",
       "      <td>2009</td>\n",
       "      <td>Hayden Adams</td>\n",
       "      <td>actor</td>\n",
       "      <td>Laertes</td>\n",
       "      <td>7.0</td>\n",
       "    </tr>\n",
       "    <tr>\n",
       "      <th>Hamlet</th>\n",
       "      <td>2009</td>\n",
       "      <td>Hayden Adams</td>\n",
       "      <td>actor</td>\n",
       "      <td>Player</td>\n",
       "      <td>7.0</td>\n",
       "    </tr>\n",
       "    <tr>\n",
       "      <th>Hamlet</th>\n",
       "      <td>1913</td>\n",
       "      <td>Eric Adeney</td>\n",
       "      <td>actor</td>\n",
       "      <td>Reynaldo</td>\n",
       "      <td>14.0</td>\n",
       "    </tr>\n",
       "    <tr>\n",
       "      <th>...</th>\n",
       "      <td>...</td>\n",
       "      <td>...</td>\n",
       "      <td>...</td>\n",
       "      <td>...</td>\n",
       "      <td>...</td>\n",
       "    </tr>\n",
       "    <tr>\n",
       "      <th>Hamlet</th>\n",
       "      <td>1969</td>\n",
       "      <td>Jennifer Tudor</td>\n",
       "      <td>actress</td>\n",
       "      <td>Court lady</td>\n",
       "      <td>23.0</td>\n",
       "    </tr>\n",
       "    <tr>\n",
       "      <th>Hamlet</th>\n",
       "      <td>2000</td>\n",
       "      <td>Diane Venora</td>\n",
       "      <td>actress</td>\n",
       "      <td>Gertrude</td>\n",
       "      <td>3.0</td>\n",
       "    </tr>\n",
       "    <tr>\n",
       "      <th>Hamlet</th>\n",
       "      <td>1996</td>\n",
       "      <td>Perdita Weeks</td>\n",
       "      <td>actress</td>\n",
       "      <td>Second Player</td>\n",
       "      <td>44.0</td>\n",
       "    </tr>\n",
       "    <tr>\n",
       "      <th>Hamlet</th>\n",
       "      <td>2015</td>\n",
       "      <td>Katie (II) West</td>\n",
       "      <td>actress</td>\n",
       "      <td>Ophelia</td>\n",
       "      <td>7.0</td>\n",
       "    </tr>\n",
       "    <tr>\n",
       "      <th>Hamlet</th>\n",
       "      <td>1996</td>\n",
       "      <td>Kate Winslet</td>\n",
       "      <td>actress</td>\n",
       "      <td>Ophelia</td>\n",
       "      <td>46.0</td>\n",
       "    </tr>\n",
       "  </tbody>\n",
       "</table>\n",
       "<p>342 rows × 5 columns</p>\n",
       "</div>"
      ],
      "text/plain": [
       "        year              name     type              character     n\n",
       "title                                                               \n",
       "Hamlet  1996        Riz Abbasi    actor  Attendant to Claudius   1.0\n",
       "Hamlet  1921  Fritz Achterberg    actor            Fortinbras,   9.0\n",
       "Hamlet  2009      Hayden Adams    actor                Laertes   7.0\n",
       "Hamlet  2009      Hayden Adams    actor                 Player   7.0\n",
       "Hamlet  1913       Eric Adeney    actor               Reynaldo  14.0\n",
       "...      ...               ...      ...                    ...   ...\n",
       "Hamlet  1969    Jennifer Tudor  actress             Court lady  23.0\n",
       "Hamlet  2000      Diane Venora  actress               Gertrude   3.0\n",
       "Hamlet  1996     Perdita Weeks  actress          Second Player  44.0\n",
       "Hamlet  2015   Katie (II) West  actress                Ophelia   7.0\n",
       "Hamlet  1996      Kate Winslet  actress                Ophelia  46.0\n",
       "\n",
       "[342 rows x 5 columns]"
      ]
     },
     "execution_count": 46,
     "metadata": {},
     "output_type": "execute_result"
    }
   ],
   "source": [
    "%%time\n",
    "c.loc['Hamlet']"
   ]
  },
  {
   "cell_type": "code",
   "execution_count": 47,
   "metadata": {},
   "outputs": [],
   "source": [
    "c = cast\n",
    "c = c.set_index('title').sort_index()"
   ]
  },
  {
   "cell_type": "code",
   "execution_count": 48,
   "metadata": {
    "scrolled": true
   },
   "outputs": [
    {
     "name": "stdout",
     "output_type": "stream",
     "text": [
      "Wall time: 823 ms\n"
     ]
    },
    {
     "data": {
      "text/html": [
       "<div>\n",
       "<style scoped>\n",
       "    .dataframe tbody tr th:only-of-type {\n",
       "        vertical-align: middle;\n",
       "    }\n",
       "\n",
       "    .dataframe tbody tr th {\n",
       "        vertical-align: top;\n",
       "    }\n",
       "\n",
       "    .dataframe thead th {\n",
       "        text-align: right;\n",
       "    }\n",
       "</style>\n",
       "<table border=\"1\" class=\"dataframe\">\n",
       "  <thead>\n",
       "    <tr style=\"text-align: right;\">\n",
       "      <th></th>\n",
       "      <th>year</th>\n",
       "      <th>name</th>\n",
       "      <th>type</th>\n",
       "      <th>character</th>\n",
       "      <th>n</th>\n",
       "    </tr>\n",
       "    <tr>\n",
       "      <th>title</th>\n",
       "      <th></th>\n",
       "      <th></th>\n",
       "      <th></th>\n",
       "      <th></th>\n",
       "      <th></th>\n",
       "    </tr>\n",
       "  </thead>\n",
       "  <tbody>\n",
       "    <tr>\n",
       "      <th>Hamlet</th>\n",
       "      <td>1976</td>\n",
       "      <td>Vladek Sheybal</td>\n",
       "      <td>actor</td>\n",
       "      <td>1st Player</td>\n",
       "      <td>4.0</td>\n",
       "    </tr>\n",
       "    <tr>\n",
       "      <th>Hamlet</th>\n",
       "      <td>1976</td>\n",
       "      <td>Vladek Sheybal</td>\n",
       "      <td>actor</td>\n",
       "      <td>Player Queen</td>\n",
       "      <td>4.0</td>\n",
       "    </tr>\n",
       "    <tr>\n",
       "      <th>Hamlet</th>\n",
       "      <td>1913</td>\n",
       "      <td>Olive Richardson</td>\n",
       "      <td>actress</td>\n",
       "      <td>Player Queen</td>\n",
       "      <td>NaN</td>\n",
       "    </tr>\n",
       "    <tr>\n",
       "      <th>Hamlet</th>\n",
       "      <td>1996</td>\n",
       "      <td>Jimi Mistry</td>\n",
       "      <td>actor</td>\n",
       "      <td>Sailor Two</td>\n",
       "      <td>34.0</td>\n",
       "    </tr>\n",
       "    <tr>\n",
       "      <th>Hamlet</th>\n",
       "      <td>1964</td>\n",
       "      <td>Barnard Hughes</td>\n",
       "      <td>actor</td>\n",
       "      <td>Priest</td>\n",
       "      <td>NaN</td>\n",
       "    </tr>\n",
       "    <tr>\n",
       "      <th>...</th>\n",
       "      <td>...</td>\n",
       "      <td>...</td>\n",
       "      <td>...</td>\n",
       "      <td>...</td>\n",
       "      <td>...</td>\n",
       "    </tr>\n",
       "    <tr>\n",
       "      <th>Hamlet</th>\n",
       "      <td>1990</td>\n",
       "      <td>Dave Duffy</td>\n",
       "      <td>actor</td>\n",
       "      <td>Francisco</td>\n",
       "      <td>15.0</td>\n",
       "    </tr>\n",
       "    <tr>\n",
       "      <th>Hamlet</th>\n",
       "      <td>2000</td>\n",
       "      <td>Kelly Sebastian</td>\n",
       "      <td>actress</td>\n",
       "      <td>Secretary</td>\n",
       "      <td>39.0</td>\n",
       "    </tr>\n",
       "    <tr>\n",
       "      <th>Hamlet</th>\n",
       "      <td>1913</td>\n",
       "      <td>George Hayes</td>\n",
       "      <td>actor</td>\n",
       "      <td>Osric</td>\n",
       "      <td>10.0</td>\n",
       "    </tr>\n",
       "    <tr>\n",
       "      <th>Hamlet</th>\n",
       "      <td>1996</td>\n",
       "      <td>Kenneth W Caravan</td>\n",
       "      <td>actor</td>\n",
       "      <td>Laertes Mob</td>\n",
       "      <td>NaN</td>\n",
       "    </tr>\n",
       "    <tr>\n",
       "      <th>Hamlet</th>\n",
       "      <td>1976</td>\n",
       "      <td>Quentin Crisp</td>\n",
       "      <td>actor</td>\n",
       "      <td>Polonius</td>\n",
       "      <td>1.0</td>\n",
       "    </tr>\n",
       "  </tbody>\n",
       "</table>\n",
       "<p>342 rows × 5 columns</p>\n",
       "</div>"
      ],
      "text/plain": [
       "        year               name     type     character     n\n",
       "title                                                       \n",
       "Hamlet  1976     Vladek Sheybal    actor    1st Player   4.0\n",
       "Hamlet  1976     Vladek Sheybal    actor  Player Queen   4.0\n",
       "Hamlet  1913   Olive Richardson  actress  Player Queen   NaN\n",
       "Hamlet  1996        Jimi Mistry    actor    Sailor Two  34.0\n",
       "Hamlet  1964     Barnard Hughes    actor        Priest   NaN\n",
       "...      ...                ...      ...           ...   ...\n",
       "Hamlet  1990         Dave Duffy    actor     Francisco  15.0\n",
       "Hamlet  2000    Kelly Sebastian  actress     Secretary  39.0\n",
       "Hamlet  1913       George Hayes    actor         Osric  10.0\n",
       "Hamlet  1996  Kenneth W Caravan    actor   Laertes Mob   NaN\n",
       "Hamlet  1976      Quentin Crisp    actor      Polonius   1.0\n",
       "\n",
       "[342 rows x 5 columns]"
      ]
     },
     "execution_count": 48,
     "metadata": {},
     "output_type": "execute_result"
    }
   ],
   "source": [
    "%%time\n",
    "c.loc['Hamlet']"
   ]
  },
  {
   "cell_type": "code",
   "execution_count": 49,
   "metadata": {},
   "outputs": [],
   "source": [
    "c = cast\n",
    "c = c.set_index(['title','year']).sort_index()"
   ]
  },
  {
   "cell_type": "code",
   "execution_count": 50,
   "metadata": {
    "scrolled": true
   },
   "outputs": [
    {
     "data": {
      "text/html": [
       "<div>\n",
       "<style scoped>\n",
       "    .dataframe tbody tr th:only-of-type {\n",
       "        vertical-align: middle;\n",
       "    }\n",
       "\n",
       "    .dataframe tbody tr th {\n",
       "        vertical-align: top;\n",
       "    }\n",
       "\n",
       "    .dataframe thead th {\n",
       "        text-align: right;\n",
       "    }\n",
       "</style>\n",
       "<table border=\"1\" class=\"dataframe\">\n",
       "  <thead>\n",
       "    <tr style=\"text-align: right;\">\n",
       "      <th></th>\n",
       "      <th></th>\n",
       "      <th>name</th>\n",
       "      <th>type</th>\n",
       "      <th>character</th>\n",
       "      <th>n</th>\n",
       "    </tr>\n",
       "    <tr>\n",
       "      <th>title</th>\n",
       "      <th>year</th>\n",
       "      <th></th>\n",
       "      <th></th>\n",
       "      <th></th>\n",
       "      <th></th>\n",
       "    </tr>\n",
       "  </thead>\n",
       "  <tbody>\n",
       "    <tr>\n",
       "      <th rowspan=\"29\" valign=\"top\">Hamlet</th>\n",
       "      <th>1990</th>\n",
       "      <td>Christien Anholt</td>\n",
       "      <td>actor</td>\n",
       "      <td>Marcellus</td>\n",
       "      <td>14.0</td>\n",
       "    </tr>\n",
       "    <tr>\n",
       "      <th>1990</th>\n",
       "      <td>Alan Bates</td>\n",
       "      <td>actor</td>\n",
       "      <td>Claudius</td>\n",
       "      <td>3.0</td>\n",
       "    </tr>\n",
       "    <tr>\n",
       "      <th>1990</th>\n",
       "      <td>Justin Case</td>\n",
       "      <td>actor</td>\n",
       "      <td>The Players</td>\n",
       "      <td>23.0</td>\n",
       "    </tr>\n",
       "    <tr>\n",
       "      <th>1990</th>\n",
       "      <td>Stephen Dillane</td>\n",
       "      <td>actor</td>\n",
       "      <td>Horatio</td>\n",
       "      <td>7.0</td>\n",
       "    </tr>\n",
       "    <tr>\n",
       "      <th>1990</th>\n",
       "      <td>Vernon Dobtcheff</td>\n",
       "      <td>actor</td>\n",
       "      <td>Reynaldo</td>\n",
       "      <td>16.0</td>\n",
       "    </tr>\n",
       "    <tr>\n",
       "      <th>1990</th>\n",
       "      <td>Dave Duffy</td>\n",
       "      <td>actor</td>\n",
       "      <td>Francisco</td>\n",
       "      <td>15.0</td>\n",
       "    </tr>\n",
       "    <tr>\n",
       "      <th>1990</th>\n",
       "      <td>Roy Evans</td>\n",
       "      <td>actor</td>\n",
       "      <td>The Players</td>\n",
       "      <td>27.0</td>\n",
       "    </tr>\n",
       "    <tr>\n",
       "      <th>1990</th>\n",
       "      <td>Christopher Fairbank</td>\n",
       "      <td>actor</td>\n",
       "      <td>Player Queen</td>\n",
       "      <td>18.0</td>\n",
       "    </tr>\n",
       "    <tr>\n",
       "      <th>1990</th>\n",
       "      <td>Mel Gibson</td>\n",
       "      <td>actor</td>\n",
       "      <td>Hamlet</td>\n",
       "      <td>1.0</td>\n",
       "    </tr>\n",
       "    <tr>\n",
       "      <th>1990</th>\n",
       "      <td>Barrie Holland</td>\n",
       "      <td>actor</td>\n",
       "      <td>Palace Nobleman</td>\n",
       "      <td>NaN</td>\n",
       "    </tr>\n",
       "    <tr>\n",
       "      <th>1990</th>\n",
       "      <td>Ian Holm</td>\n",
       "      <td>actor</td>\n",
       "      <td>Polonius</td>\n",
       "      <td>5.0</td>\n",
       "    </tr>\n",
       "    <tr>\n",
       "      <th>1990</th>\n",
       "      <td>Roger Low</td>\n",
       "      <td>actor</td>\n",
       "      <td>Lucianus (in \"The Murder of Gonzago\")</td>\n",
       "      <td>24.0</td>\n",
       "    </tr>\n",
       "    <tr>\n",
       "      <th>1990</th>\n",
       "      <td>Michael Maloney</td>\n",
       "      <td>actor</td>\n",
       "      <td>Rosencrantz</td>\n",
       "      <td>10.0</td>\n",
       "    </tr>\n",
       "    <tr>\n",
       "      <th>1990</th>\n",
       "      <td>John McEnery</td>\n",
       "      <td>actor</td>\n",
       "      <td>Osric</td>\n",
       "      <td>12.0</td>\n",
       "    </tr>\n",
       "    <tr>\n",
       "      <th>1990</th>\n",
       "      <td>Ned Mendez</td>\n",
       "      <td>actor</td>\n",
       "      <td>The Players</td>\n",
       "      <td>20.0</td>\n",
       "    </tr>\n",
       "    <tr>\n",
       "      <th>1990</th>\n",
       "      <td>Sean (V) Murray</td>\n",
       "      <td>actor</td>\n",
       "      <td>Guildenstern</td>\n",
       "      <td>9.0</td>\n",
       "    </tr>\n",
       "    <tr>\n",
       "      <th>1990</th>\n",
       "      <td>Nathaniel Parker</td>\n",
       "      <td>actor</td>\n",
       "      <td>Laertes</td>\n",
       "      <td>8.0</td>\n",
       "    </tr>\n",
       "    <tr>\n",
       "      <th>1990</th>\n",
       "      <td>Trevor Peacock</td>\n",
       "      <td>actor</td>\n",
       "      <td>The Gravedigger</td>\n",
       "      <td>11.0</td>\n",
       "    </tr>\n",
       "    <tr>\n",
       "      <th>1990</th>\n",
       "      <td>Pete Postlethwaite</td>\n",
       "      <td>actor</td>\n",
       "      <td>Player King</td>\n",
       "      <td>17.0</td>\n",
       "    </tr>\n",
       "    <tr>\n",
       "      <th>1990</th>\n",
       "      <td>Graham Riddell</td>\n",
       "      <td>actor</td>\n",
       "      <td>Bodyguard</td>\n",
       "      <td>NaN</td>\n",
       "    </tr>\n",
       "    <tr>\n",
       "      <th>1990</th>\n",
       "      <td>Paul Scofield</td>\n",
       "      <td>actor</td>\n",
       "      <td>The Ghost</td>\n",
       "      <td>4.0</td>\n",
       "    </tr>\n",
       "    <tr>\n",
       "      <th>1990</th>\n",
       "      <td>Richard Warwick</td>\n",
       "      <td>actor</td>\n",
       "      <td>Bernardo</td>\n",
       "      <td>13.0</td>\n",
       "    </tr>\n",
       "    <tr>\n",
       "      <th>1990</th>\n",
       "      <td>Roy York</td>\n",
       "      <td>actor</td>\n",
       "      <td>The Players</td>\n",
       "      <td>21.0</td>\n",
       "    </tr>\n",
       "    <tr>\n",
       "      <th>1990</th>\n",
       "      <td>Marjorie Bell</td>\n",
       "      <td>actress</td>\n",
       "      <td>The Players</td>\n",
       "      <td>22.0</td>\n",
       "    </tr>\n",
       "    <tr>\n",
       "      <th>1990</th>\n",
       "      <td>Helena Bonham Carter</td>\n",
       "      <td>actress</td>\n",
       "      <td>Ophelia</td>\n",
       "      <td>6.0</td>\n",
       "    </tr>\n",
       "    <tr>\n",
       "      <th>1990</th>\n",
       "      <td>Glenn Close</td>\n",
       "      <td>actress</td>\n",
       "      <td>Gertrude</td>\n",
       "      <td>2.0</td>\n",
       "    </tr>\n",
       "    <tr>\n",
       "      <th>1990</th>\n",
       "      <td>Sarah Phillips</td>\n",
       "      <td>actress</td>\n",
       "      <td>The Players</td>\n",
       "      <td>19.0</td>\n",
       "    </tr>\n",
       "    <tr>\n",
       "      <th>1990</th>\n",
       "      <td>Baby Simon Sinclair</td>\n",
       "      <td>actress</td>\n",
       "      <td>The Players</td>\n",
       "      <td>26.0</td>\n",
       "    </tr>\n",
       "    <tr>\n",
       "      <th>1990</th>\n",
       "      <td>Pamela Sinclair</td>\n",
       "      <td>actress</td>\n",
       "      <td>The Players</td>\n",
       "      <td>25.0</td>\n",
       "    </tr>\n",
       "  </tbody>\n",
       "</table>\n",
       "</div>"
      ],
      "text/plain": [
       "                             name     type  \\\n",
       "title  year                                  \n",
       "Hamlet 1990      Christien Anholt    actor   \n",
       "       1990            Alan Bates    actor   \n",
       "       1990           Justin Case    actor   \n",
       "       1990       Stephen Dillane    actor   \n",
       "       1990      Vernon Dobtcheff    actor   \n",
       "       1990            Dave Duffy    actor   \n",
       "       1990             Roy Evans    actor   \n",
       "       1990  Christopher Fairbank    actor   \n",
       "       1990            Mel Gibson    actor   \n",
       "       1990        Barrie Holland    actor   \n",
       "       1990              Ian Holm    actor   \n",
       "       1990             Roger Low    actor   \n",
       "       1990       Michael Maloney    actor   \n",
       "       1990          John McEnery    actor   \n",
       "       1990            Ned Mendez    actor   \n",
       "       1990       Sean (V) Murray    actor   \n",
       "       1990      Nathaniel Parker    actor   \n",
       "       1990        Trevor Peacock    actor   \n",
       "       1990    Pete Postlethwaite    actor   \n",
       "       1990        Graham Riddell    actor   \n",
       "       1990         Paul Scofield    actor   \n",
       "       1990       Richard Warwick    actor   \n",
       "       1990              Roy York    actor   \n",
       "       1990         Marjorie Bell  actress   \n",
       "       1990  Helena Bonham Carter  actress   \n",
       "       1990           Glenn Close  actress   \n",
       "       1990        Sarah Phillips  actress   \n",
       "       1990   Baby Simon Sinclair  actress   \n",
       "       1990       Pamela Sinclair  actress   \n",
       "\n",
       "                                         character     n  \n",
       "title  year                                               \n",
       "Hamlet 1990                              Marcellus  14.0  \n",
       "       1990                               Claudius   3.0  \n",
       "       1990                            The Players  23.0  \n",
       "       1990                                Horatio   7.0  \n",
       "       1990                               Reynaldo  16.0  \n",
       "       1990                              Francisco  15.0  \n",
       "       1990                            The Players  27.0  \n",
       "       1990                           Player Queen  18.0  \n",
       "       1990                                 Hamlet   1.0  \n",
       "       1990                        Palace Nobleman   NaN  \n",
       "       1990                               Polonius   5.0  \n",
       "       1990  Lucianus (in \"The Murder of Gonzago\")  24.0  \n",
       "       1990                            Rosencrantz  10.0  \n",
       "       1990                                  Osric  12.0  \n",
       "       1990                            The Players  20.0  \n",
       "       1990                           Guildenstern   9.0  \n",
       "       1990                                Laertes   8.0  \n",
       "       1990                        The Gravedigger  11.0  \n",
       "       1990                            Player King  17.0  \n",
       "       1990                              Bodyguard   NaN  \n",
       "       1990                              The Ghost   4.0  \n",
       "       1990                               Bernardo  13.0  \n",
       "       1990                            The Players  21.0  \n",
       "       1990                            The Players  22.0  \n",
       "       1990                                Ophelia   6.0  \n",
       "       1990                               Gertrude   2.0  \n",
       "       1990                            The Players  19.0  \n",
       "       1990                            The Players  26.0  \n",
       "       1990                            The Players  25.0  "
      ]
     },
     "execution_count": 50,
     "metadata": {},
     "output_type": "execute_result"
    }
   ],
   "source": [
    "c.loc['Hamlet',1990]"
   ]
  },
  {
   "cell_type": "code",
   "execution_count": 51,
   "metadata": {},
   "outputs": [
    {
     "data": {
      "text/html": [
       "<div>\n",
       "<style scoped>\n",
       "    .dataframe tbody tr th:only-of-type {\n",
       "        vertical-align: middle;\n",
       "    }\n",
       "\n",
       "    .dataframe tbody tr th {\n",
       "        vertical-align: top;\n",
       "    }\n",
       "\n",
       "    .dataframe thead th {\n",
       "        text-align: right;\n",
       "    }\n",
       "</style>\n",
       "<table border=\"1\" class=\"dataframe\">\n",
       "  <thead>\n",
       "    <tr style=\"text-align: right;\">\n",
       "      <th></th>\n",
       "      <th>year</th>\n",
       "      <th>name</th>\n",
       "      <th>type</th>\n",
       "      <th>character</th>\n",
       "      <th>n</th>\n",
       "    </tr>\n",
       "    <tr>\n",
       "      <th>title</th>\n",
       "      <th></th>\n",
       "      <th></th>\n",
       "      <th></th>\n",
       "      <th></th>\n",
       "      <th></th>\n",
       "    </tr>\n",
       "  </thead>\n",
       "  <tbody>\n",
       "    <tr>\n",
       "      <th>Hamlet</th>\n",
       "      <td>1990</td>\n",
       "      <td>Christien Anholt</td>\n",
       "      <td>actor</td>\n",
       "      <td>Marcellus</td>\n",
       "      <td>14.0</td>\n",
       "    </tr>\n",
       "    <tr>\n",
       "      <th>Hamlet</th>\n",
       "      <td>1990</td>\n",
       "      <td>Alan Bates</td>\n",
       "      <td>actor</td>\n",
       "      <td>Claudius</td>\n",
       "      <td>3.0</td>\n",
       "    </tr>\n",
       "    <tr>\n",
       "      <th>Hamlet</th>\n",
       "      <td>1990</td>\n",
       "      <td>Justin Case</td>\n",
       "      <td>actor</td>\n",
       "      <td>The Players</td>\n",
       "      <td>23.0</td>\n",
       "    </tr>\n",
       "    <tr>\n",
       "      <th>Hamlet</th>\n",
       "      <td>1990</td>\n",
       "      <td>Stephen Dillane</td>\n",
       "      <td>actor</td>\n",
       "      <td>Horatio</td>\n",
       "      <td>7.0</td>\n",
       "    </tr>\n",
       "    <tr>\n",
       "      <th>Hamlet</th>\n",
       "      <td>1990</td>\n",
       "      <td>Vernon Dobtcheff</td>\n",
       "      <td>actor</td>\n",
       "      <td>Reynaldo</td>\n",
       "      <td>16.0</td>\n",
       "    </tr>\n",
       "    <tr>\n",
       "      <th>Hamlet</th>\n",
       "      <td>1990</td>\n",
       "      <td>Dave Duffy</td>\n",
       "      <td>actor</td>\n",
       "      <td>Francisco</td>\n",
       "      <td>15.0</td>\n",
       "    </tr>\n",
       "    <tr>\n",
       "      <th>Hamlet</th>\n",
       "      <td>1990</td>\n",
       "      <td>Roy Evans</td>\n",
       "      <td>actor</td>\n",
       "      <td>The Players</td>\n",
       "      <td>27.0</td>\n",
       "    </tr>\n",
       "    <tr>\n",
       "      <th>Hamlet</th>\n",
       "      <td>1990</td>\n",
       "      <td>Christopher Fairbank</td>\n",
       "      <td>actor</td>\n",
       "      <td>Player Queen</td>\n",
       "      <td>18.0</td>\n",
       "    </tr>\n",
       "    <tr>\n",
       "      <th>Hamlet</th>\n",
       "      <td>1990</td>\n",
       "      <td>Mel Gibson</td>\n",
       "      <td>actor</td>\n",
       "      <td>Hamlet</td>\n",
       "      <td>1.0</td>\n",
       "    </tr>\n",
       "    <tr>\n",
       "      <th>Hamlet</th>\n",
       "      <td>1990</td>\n",
       "      <td>Barrie Holland</td>\n",
       "      <td>actor</td>\n",
       "      <td>Palace Nobleman</td>\n",
       "      <td>NaN</td>\n",
       "    </tr>\n",
       "    <tr>\n",
       "      <th>Hamlet</th>\n",
       "      <td>1990</td>\n",
       "      <td>Ian Holm</td>\n",
       "      <td>actor</td>\n",
       "      <td>Polonius</td>\n",
       "      <td>5.0</td>\n",
       "    </tr>\n",
       "    <tr>\n",
       "      <th>Hamlet</th>\n",
       "      <td>1990</td>\n",
       "      <td>Roger Low</td>\n",
       "      <td>actor</td>\n",
       "      <td>Lucianus (in \"The Murder of Gonzago\")</td>\n",
       "      <td>24.0</td>\n",
       "    </tr>\n",
       "    <tr>\n",
       "      <th>Hamlet</th>\n",
       "      <td>1990</td>\n",
       "      <td>Michael Maloney</td>\n",
       "      <td>actor</td>\n",
       "      <td>Rosencrantz</td>\n",
       "      <td>10.0</td>\n",
       "    </tr>\n",
       "    <tr>\n",
       "      <th>Hamlet</th>\n",
       "      <td>1990</td>\n",
       "      <td>John McEnery</td>\n",
       "      <td>actor</td>\n",
       "      <td>Osric</td>\n",
       "      <td>12.0</td>\n",
       "    </tr>\n",
       "    <tr>\n",
       "      <th>Hamlet</th>\n",
       "      <td>1990</td>\n",
       "      <td>Ned Mendez</td>\n",
       "      <td>actor</td>\n",
       "      <td>The Players</td>\n",
       "      <td>20.0</td>\n",
       "    </tr>\n",
       "    <tr>\n",
       "      <th>Hamlet</th>\n",
       "      <td>1990</td>\n",
       "      <td>Sean (V) Murray</td>\n",
       "      <td>actor</td>\n",
       "      <td>Guildenstern</td>\n",
       "      <td>9.0</td>\n",
       "    </tr>\n",
       "    <tr>\n",
       "      <th>Hamlet</th>\n",
       "      <td>1990</td>\n",
       "      <td>Nathaniel Parker</td>\n",
       "      <td>actor</td>\n",
       "      <td>Laertes</td>\n",
       "      <td>8.0</td>\n",
       "    </tr>\n",
       "    <tr>\n",
       "      <th>Hamlet</th>\n",
       "      <td>1990</td>\n",
       "      <td>Trevor Peacock</td>\n",
       "      <td>actor</td>\n",
       "      <td>The Gravedigger</td>\n",
       "      <td>11.0</td>\n",
       "    </tr>\n",
       "    <tr>\n",
       "      <th>Hamlet</th>\n",
       "      <td>1990</td>\n",
       "      <td>Pete Postlethwaite</td>\n",
       "      <td>actor</td>\n",
       "      <td>Player King</td>\n",
       "      <td>17.0</td>\n",
       "    </tr>\n",
       "    <tr>\n",
       "      <th>Hamlet</th>\n",
       "      <td>1990</td>\n",
       "      <td>Graham Riddell</td>\n",
       "      <td>actor</td>\n",
       "      <td>Bodyguard</td>\n",
       "      <td>NaN</td>\n",
       "    </tr>\n",
       "    <tr>\n",
       "      <th>Hamlet</th>\n",
       "      <td>1990</td>\n",
       "      <td>Paul Scofield</td>\n",
       "      <td>actor</td>\n",
       "      <td>The Ghost</td>\n",
       "      <td>4.0</td>\n",
       "    </tr>\n",
       "    <tr>\n",
       "      <th>Hamlet</th>\n",
       "      <td>1990</td>\n",
       "      <td>Richard Warwick</td>\n",
       "      <td>actor</td>\n",
       "      <td>Bernardo</td>\n",
       "      <td>13.0</td>\n",
       "    </tr>\n",
       "    <tr>\n",
       "      <th>Hamlet</th>\n",
       "      <td>1990</td>\n",
       "      <td>Roy York</td>\n",
       "      <td>actor</td>\n",
       "      <td>The Players</td>\n",
       "      <td>21.0</td>\n",
       "    </tr>\n",
       "    <tr>\n",
       "      <th>Hamlet</th>\n",
       "      <td>1990</td>\n",
       "      <td>Marjorie Bell</td>\n",
       "      <td>actress</td>\n",
       "      <td>The Players</td>\n",
       "      <td>22.0</td>\n",
       "    </tr>\n",
       "    <tr>\n",
       "      <th>Hamlet</th>\n",
       "      <td>1990</td>\n",
       "      <td>Helena Bonham Carter</td>\n",
       "      <td>actress</td>\n",
       "      <td>Ophelia</td>\n",
       "      <td>6.0</td>\n",
       "    </tr>\n",
       "    <tr>\n",
       "      <th>Hamlet</th>\n",
       "      <td>1990</td>\n",
       "      <td>Glenn Close</td>\n",
       "      <td>actress</td>\n",
       "      <td>Gertrude</td>\n",
       "      <td>2.0</td>\n",
       "    </tr>\n",
       "    <tr>\n",
       "      <th>Hamlet</th>\n",
       "      <td>1990</td>\n",
       "      <td>Sarah Phillips</td>\n",
       "      <td>actress</td>\n",
       "      <td>The Players</td>\n",
       "      <td>19.0</td>\n",
       "    </tr>\n",
       "    <tr>\n",
       "      <th>Hamlet</th>\n",
       "      <td>1990</td>\n",
       "      <td>Baby Simon Sinclair</td>\n",
       "      <td>actress</td>\n",
       "      <td>The Players</td>\n",
       "      <td>26.0</td>\n",
       "    </tr>\n",
       "    <tr>\n",
       "      <th>Hamlet</th>\n",
       "      <td>1990</td>\n",
       "      <td>Pamela Sinclair</td>\n",
       "      <td>actress</td>\n",
       "      <td>The Players</td>\n",
       "      <td>25.0</td>\n",
       "    </tr>\n",
       "  </tbody>\n",
       "</table>\n",
       "</div>"
      ],
      "text/plain": [
       "        year                  name     type  \\\n",
       "title                                         \n",
       "Hamlet  1990      Christien Anholt    actor   \n",
       "Hamlet  1990            Alan Bates    actor   \n",
       "Hamlet  1990           Justin Case    actor   \n",
       "Hamlet  1990       Stephen Dillane    actor   \n",
       "Hamlet  1990      Vernon Dobtcheff    actor   \n",
       "Hamlet  1990            Dave Duffy    actor   \n",
       "Hamlet  1990             Roy Evans    actor   \n",
       "Hamlet  1990  Christopher Fairbank    actor   \n",
       "Hamlet  1990            Mel Gibson    actor   \n",
       "Hamlet  1990        Barrie Holland    actor   \n",
       "Hamlet  1990              Ian Holm    actor   \n",
       "Hamlet  1990             Roger Low    actor   \n",
       "Hamlet  1990       Michael Maloney    actor   \n",
       "Hamlet  1990          John McEnery    actor   \n",
       "Hamlet  1990            Ned Mendez    actor   \n",
       "Hamlet  1990       Sean (V) Murray    actor   \n",
       "Hamlet  1990      Nathaniel Parker    actor   \n",
       "Hamlet  1990        Trevor Peacock    actor   \n",
       "Hamlet  1990    Pete Postlethwaite    actor   \n",
       "Hamlet  1990        Graham Riddell    actor   \n",
       "Hamlet  1990         Paul Scofield    actor   \n",
       "Hamlet  1990       Richard Warwick    actor   \n",
       "Hamlet  1990              Roy York    actor   \n",
       "Hamlet  1990         Marjorie Bell  actress   \n",
       "Hamlet  1990  Helena Bonham Carter  actress   \n",
       "Hamlet  1990           Glenn Close  actress   \n",
       "Hamlet  1990        Sarah Phillips  actress   \n",
       "Hamlet  1990   Baby Simon Sinclair  actress   \n",
       "Hamlet  1990       Pamela Sinclair  actress   \n",
       "\n",
       "                                    character     n  \n",
       "title                                                \n",
       "Hamlet                              Marcellus  14.0  \n",
       "Hamlet                               Claudius   3.0  \n",
       "Hamlet                            The Players  23.0  \n",
       "Hamlet                                Horatio   7.0  \n",
       "Hamlet                               Reynaldo  16.0  \n",
       "Hamlet                              Francisco  15.0  \n",
       "Hamlet                            The Players  27.0  \n",
       "Hamlet                           Player Queen  18.0  \n",
       "Hamlet                                 Hamlet   1.0  \n",
       "Hamlet                        Palace Nobleman   NaN  \n",
       "Hamlet                               Polonius   5.0  \n",
       "Hamlet  Lucianus (in \"The Murder of Gonzago\")  24.0  \n",
       "Hamlet                            Rosencrantz  10.0  \n",
       "Hamlet                                  Osric  12.0  \n",
       "Hamlet                            The Players  20.0  \n",
       "Hamlet                           Guildenstern   9.0  \n",
       "Hamlet                                Laertes   8.0  \n",
       "Hamlet                        The Gravedigger  11.0  \n",
       "Hamlet                            Player King  17.0  \n",
       "Hamlet                              Bodyguard   NaN  \n",
       "Hamlet                              The Ghost   4.0  \n",
       "Hamlet                               Bernardo  13.0  \n",
       "Hamlet                            The Players  21.0  \n",
       "Hamlet                            The Players  22.0  \n",
       "Hamlet                                Ophelia   6.0  \n",
       "Hamlet                               Gertrude   2.0  \n",
       "Hamlet                            The Players  19.0  \n",
       "Hamlet                            The Players  26.0  \n",
       "Hamlet                            The Players  25.0  "
      ]
     },
     "execution_count": 51,
     "metadata": {},
     "output_type": "execute_result"
    }
   ],
   "source": [
    "c.loc['Hamlet',1990].reset_index('year')"
   ]
  },
  {
   "cell_type": "code",
   "execution_count": 52,
   "metadata": {
    "scrolled": true
   },
   "outputs": [
    {
     "data": {
      "text/html": [
       "<div>\n",
       "<style scoped>\n",
       "    .dataframe tbody tr th:only-of-type {\n",
       "        vertical-align: middle;\n",
       "    }\n",
       "\n",
       "    .dataframe tbody tr th {\n",
       "        vertical-align: top;\n",
       "    }\n",
       "\n",
       "    .dataframe thead th {\n",
       "        text-align: right;\n",
       "    }\n",
       "</style>\n",
       "<table border=\"1\" class=\"dataframe\">\n",
       "  <thead>\n",
       "    <tr style=\"text-align: right;\">\n",
       "      <th></th>\n",
       "      <th>title</th>\n",
       "      <th>year</th>\n",
       "      <th>name</th>\n",
       "      <th>type</th>\n",
       "      <th>character</th>\n",
       "      <th>n</th>\n",
       "    </tr>\n",
       "  </thead>\n",
       "  <tbody>\n",
       "    <tr>\n",
       "      <th>0</th>\n",
       "      <td>Hamlet</td>\n",
       "      <td>1990</td>\n",
       "      <td>Christien Anholt</td>\n",
       "      <td>actor</td>\n",
       "      <td>Marcellus</td>\n",
       "      <td>14.0</td>\n",
       "    </tr>\n",
       "    <tr>\n",
       "      <th>1</th>\n",
       "      <td>Hamlet</td>\n",
       "      <td>1990</td>\n",
       "      <td>Alan Bates</td>\n",
       "      <td>actor</td>\n",
       "      <td>Claudius</td>\n",
       "      <td>3.0</td>\n",
       "    </tr>\n",
       "    <tr>\n",
       "      <th>2</th>\n",
       "      <td>Hamlet</td>\n",
       "      <td>1990</td>\n",
       "      <td>Justin Case</td>\n",
       "      <td>actor</td>\n",
       "      <td>The Players</td>\n",
       "      <td>23.0</td>\n",
       "    </tr>\n",
       "    <tr>\n",
       "      <th>3</th>\n",
       "      <td>Hamlet</td>\n",
       "      <td>1990</td>\n",
       "      <td>Stephen Dillane</td>\n",
       "      <td>actor</td>\n",
       "      <td>Horatio</td>\n",
       "      <td>7.0</td>\n",
       "    </tr>\n",
       "    <tr>\n",
       "      <th>4</th>\n",
       "      <td>Hamlet</td>\n",
       "      <td>1990</td>\n",
       "      <td>Vernon Dobtcheff</td>\n",
       "      <td>actor</td>\n",
       "      <td>Reynaldo</td>\n",
       "      <td>16.0</td>\n",
       "    </tr>\n",
       "    <tr>\n",
       "      <th>5</th>\n",
       "      <td>Hamlet</td>\n",
       "      <td>1990</td>\n",
       "      <td>Dave Duffy</td>\n",
       "      <td>actor</td>\n",
       "      <td>Francisco</td>\n",
       "      <td>15.0</td>\n",
       "    </tr>\n",
       "    <tr>\n",
       "      <th>6</th>\n",
       "      <td>Hamlet</td>\n",
       "      <td>1990</td>\n",
       "      <td>Roy Evans</td>\n",
       "      <td>actor</td>\n",
       "      <td>The Players</td>\n",
       "      <td>27.0</td>\n",
       "    </tr>\n",
       "    <tr>\n",
       "      <th>7</th>\n",
       "      <td>Hamlet</td>\n",
       "      <td>1990</td>\n",
       "      <td>Christopher Fairbank</td>\n",
       "      <td>actor</td>\n",
       "      <td>Player Queen</td>\n",
       "      <td>18.0</td>\n",
       "    </tr>\n",
       "    <tr>\n",
       "      <th>8</th>\n",
       "      <td>Hamlet</td>\n",
       "      <td>1990</td>\n",
       "      <td>Mel Gibson</td>\n",
       "      <td>actor</td>\n",
       "      <td>Hamlet</td>\n",
       "      <td>1.0</td>\n",
       "    </tr>\n",
       "    <tr>\n",
       "      <th>9</th>\n",
       "      <td>Hamlet</td>\n",
       "      <td>1990</td>\n",
       "      <td>Barrie Holland</td>\n",
       "      <td>actor</td>\n",
       "      <td>Palace Nobleman</td>\n",
       "      <td>NaN</td>\n",
       "    </tr>\n",
       "    <tr>\n",
       "      <th>10</th>\n",
       "      <td>Hamlet</td>\n",
       "      <td>1990</td>\n",
       "      <td>Ian Holm</td>\n",
       "      <td>actor</td>\n",
       "      <td>Polonius</td>\n",
       "      <td>5.0</td>\n",
       "    </tr>\n",
       "    <tr>\n",
       "      <th>11</th>\n",
       "      <td>Hamlet</td>\n",
       "      <td>1990</td>\n",
       "      <td>Roger Low</td>\n",
       "      <td>actor</td>\n",
       "      <td>Lucianus (in \"The Murder of Gonzago\")</td>\n",
       "      <td>24.0</td>\n",
       "    </tr>\n",
       "    <tr>\n",
       "      <th>12</th>\n",
       "      <td>Hamlet</td>\n",
       "      <td>1990</td>\n",
       "      <td>Michael Maloney</td>\n",
       "      <td>actor</td>\n",
       "      <td>Rosencrantz</td>\n",
       "      <td>10.0</td>\n",
       "    </tr>\n",
       "    <tr>\n",
       "      <th>13</th>\n",
       "      <td>Hamlet</td>\n",
       "      <td>1990</td>\n",
       "      <td>John McEnery</td>\n",
       "      <td>actor</td>\n",
       "      <td>Osric</td>\n",
       "      <td>12.0</td>\n",
       "    </tr>\n",
       "    <tr>\n",
       "      <th>14</th>\n",
       "      <td>Hamlet</td>\n",
       "      <td>1990</td>\n",
       "      <td>Ned Mendez</td>\n",
       "      <td>actor</td>\n",
       "      <td>The Players</td>\n",
       "      <td>20.0</td>\n",
       "    </tr>\n",
       "    <tr>\n",
       "      <th>15</th>\n",
       "      <td>Hamlet</td>\n",
       "      <td>1990</td>\n",
       "      <td>Sean (V) Murray</td>\n",
       "      <td>actor</td>\n",
       "      <td>Guildenstern</td>\n",
       "      <td>9.0</td>\n",
       "    </tr>\n",
       "    <tr>\n",
       "      <th>16</th>\n",
       "      <td>Hamlet</td>\n",
       "      <td>1990</td>\n",
       "      <td>Nathaniel Parker</td>\n",
       "      <td>actor</td>\n",
       "      <td>Laertes</td>\n",
       "      <td>8.0</td>\n",
       "    </tr>\n",
       "    <tr>\n",
       "      <th>17</th>\n",
       "      <td>Hamlet</td>\n",
       "      <td>1990</td>\n",
       "      <td>Trevor Peacock</td>\n",
       "      <td>actor</td>\n",
       "      <td>The Gravedigger</td>\n",
       "      <td>11.0</td>\n",
       "    </tr>\n",
       "    <tr>\n",
       "      <th>18</th>\n",
       "      <td>Hamlet</td>\n",
       "      <td>1990</td>\n",
       "      <td>Pete Postlethwaite</td>\n",
       "      <td>actor</td>\n",
       "      <td>Player King</td>\n",
       "      <td>17.0</td>\n",
       "    </tr>\n",
       "    <tr>\n",
       "      <th>19</th>\n",
       "      <td>Hamlet</td>\n",
       "      <td>1990</td>\n",
       "      <td>Graham Riddell</td>\n",
       "      <td>actor</td>\n",
       "      <td>Bodyguard</td>\n",
       "      <td>NaN</td>\n",
       "    </tr>\n",
       "    <tr>\n",
       "      <th>20</th>\n",
       "      <td>Hamlet</td>\n",
       "      <td>1990</td>\n",
       "      <td>Paul Scofield</td>\n",
       "      <td>actor</td>\n",
       "      <td>The Ghost</td>\n",
       "      <td>4.0</td>\n",
       "    </tr>\n",
       "    <tr>\n",
       "      <th>21</th>\n",
       "      <td>Hamlet</td>\n",
       "      <td>1990</td>\n",
       "      <td>Richard Warwick</td>\n",
       "      <td>actor</td>\n",
       "      <td>Bernardo</td>\n",
       "      <td>13.0</td>\n",
       "    </tr>\n",
       "    <tr>\n",
       "      <th>22</th>\n",
       "      <td>Hamlet</td>\n",
       "      <td>1990</td>\n",
       "      <td>Roy York</td>\n",
       "      <td>actor</td>\n",
       "      <td>The Players</td>\n",
       "      <td>21.0</td>\n",
       "    </tr>\n",
       "    <tr>\n",
       "      <th>23</th>\n",
       "      <td>Hamlet</td>\n",
       "      <td>1990</td>\n",
       "      <td>Marjorie Bell</td>\n",
       "      <td>actress</td>\n",
       "      <td>The Players</td>\n",
       "      <td>22.0</td>\n",
       "    </tr>\n",
       "    <tr>\n",
       "      <th>24</th>\n",
       "      <td>Hamlet</td>\n",
       "      <td>1990</td>\n",
       "      <td>Helena Bonham Carter</td>\n",
       "      <td>actress</td>\n",
       "      <td>Ophelia</td>\n",
       "      <td>6.0</td>\n",
       "    </tr>\n",
       "    <tr>\n",
       "      <th>25</th>\n",
       "      <td>Hamlet</td>\n",
       "      <td>1990</td>\n",
       "      <td>Glenn Close</td>\n",
       "      <td>actress</td>\n",
       "      <td>Gertrude</td>\n",
       "      <td>2.0</td>\n",
       "    </tr>\n",
       "    <tr>\n",
       "      <th>26</th>\n",
       "      <td>Hamlet</td>\n",
       "      <td>1990</td>\n",
       "      <td>Sarah Phillips</td>\n",
       "      <td>actress</td>\n",
       "      <td>The Players</td>\n",
       "      <td>19.0</td>\n",
       "    </tr>\n",
       "    <tr>\n",
       "      <th>27</th>\n",
       "      <td>Hamlet</td>\n",
       "      <td>1990</td>\n",
       "      <td>Baby Simon Sinclair</td>\n",
       "      <td>actress</td>\n",
       "      <td>The Players</td>\n",
       "      <td>26.0</td>\n",
       "    </tr>\n",
       "    <tr>\n",
       "      <th>28</th>\n",
       "      <td>Hamlet</td>\n",
       "      <td>1990</td>\n",
       "      <td>Pamela Sinclair</td>\n",
       "      <td>actress</td>\n",
       "      <td>The Players</td>\n",
       "      <td>25.0</td>\n",
       "    </tr>\n",
       "  </tbody>\n",
       "</table>\n",
       "</div>"
      ],
      "text/plain": [
       "     title  year                  name     type  \\\n",
       "0   Hamlet  1990      Christien Anholt    actor   \n",
       "1   Hamlet  1990            Alan Bates    actor   \n",
       "2   Hamlet  1990           Justin Case    actor   \n",
       "3   Hamlet  1990       Stephen Dillane    actor   \n",
       "4   Hamlet  1990      Vernon Dobtcheff    actor   \n",
       "5   Hamlet  1990            Dave Duffy    actor   \n",
       "6   Hamlet  1990             Roy Evans    actor   \n",
       "7   Hamlet  1990  Christopher Fairbank    actor   \n",
       "8   Hamlet  1990            Mel Gibson    actor   \n",
       "9   Hamlet  1990        Barrie Holland    actor   \n",
       "10  Hamlet  1990              Ian Holm    actor   \n",
       "11  Hamlet  1990             Roger Low    actor   \n",
       "12  Hamlet  1990       Michael Maloney    actor   \n",
       "13  Hamlet  1990          John McEnery    actor   \n",
       "14  Hamlet  1990            Ned Mendez    actor   \n",
       "15  Hamlet  1990       Sean (V) Murray    actor   \n",
       "16  Hamlet  1990      Nathaniel Parker    actor   \n",
       "17  Hamlet  1990        Trevor Peacock    actor   \n",
       "18  Hamlet  1990    Pete Postlethwaite    actor   \n",
       "19  Hamlet  1990        Graham Riddell    actor   \n",
       "20  Hamlet  1990         Paul Scofield    actor   \n",
       "21  Hamlet  1990       Richard Warwick    actor   \n",
       "22  Hamlet  1990              Roy York    actor   \n",
       "23  Hamlet  1990         Marjorie Bell  actress   \n",
       "24  Hamlet  1990  Helena Bonham Carter  actress   \n",
       "25  Hamlet  1990           Glenn Close  actress   \n",
       "26  Hamlet  1990        Sarah Phillips  actress   \n",
       "27  Hamlet  1990   Baby Simon Sinclair  actress   \n",
       "28  Hamlet  1990       Pamela Sinclair  actress   \n",
       "\n",
       "                                character     n  \n",
       "0                               Marcellus  14.0  \n",
       "1                                Claudius   3.0  \n",
       "2                             The Players  23.0  \n",
       "3                                 Horatio   7.0  \n",
       "4                                Reynaldo  16.0  \n",
       "5                               Francisco  15.0  \n",
       "6                             The Players  27.0  \n",
       "7                            Player Queen  18.0  \n",
       "8                                  Hamlet   1.0  \n",
       "9                         Palace Nobleman   NaN  \n",
       "10                               Polonius   5.0  \n",
       "11  Lucianus (in \"The Murder of Gonzago\")  24.0  \n",
       "12                            Rosencrantz  10.0  \n",
       "13                                  Osric  12.0  \n",
       "14                            The Players  20.0  \n",
       "15                           Guildenstern   9.0  \n",
       "16                                Laertes   8.0  \n",
       "17                        The Gravedigger  11.0  \n",
       "18                            Player King  17.0  \n",
       "19                              Bodyguard   NaN  \n",
       "20                              The Ghost   4.0  \n",
       "21                               Bernardo  13.0  \n",
       "22                            The Players  21.0  \n",
       "23                            The Players  22.0  \n",
       "24                                Ophelia   6.0  \n",
       "25                               Gertrude   2.0  \n",
       "26                            The Players  19.0  \n",
       "27                            The Players  26.0  \n",
       "28                            The Players  25.0  "
      ]
     },
     "execution_count": 52,
     "metadata": {},
     "output_type": "execute_result"
    }
   ],
   "source": [
    "c.loc['Hamlet',1990].reset_index()"
   ]
  },
  {
   "cell_type": "code",
   "execution_count": 53,
   "metadata": {
    "scrolled": true
   },
   "outputs": [
    {
     "data": {
      "text/plain": [
       "title                               year  character               \n",
       "Batman & Robin                      1997  Batman                      1\n",
       "                                          Bruce Wayne                 1\n",
       "Burn After Reading                  2008  Harry Pfarrer               1\n",
       "Confessions of a Dangerous Mind     2002  Jim Byrd                    1\n",
       "Curdled                             1996  Seth Gecko                  1\n",
       "Fantastic Mr. Fox                   2009  Mr. Fox                     1\n",
       "Good Night, and Good Luck.          2005  Fred Friendly               1\n",
       "Gravity                             2013  Matt Kowalski               1\n",
       "Hail, Caesar!                       2016  Baird Whitlock              1\n",
       "Intolerable Cruelty                 2003  Miles                       1\n",
       "Leatherheads                        2008  Dodge Connelly              1\n",
       "Michael Clayton                     2007  Michael Clayton             1\n",
       "Money Monster                       2016  Lee Gates                   1\n",
       "Morning Glory                       2010  Himself                     1\n",
       "O Brother, Where Art Thou?          2000  Everett                     1\n",
       "Ocean's Eleven                      2001  Danny Ocean                 1\n",
       "Ocean's Thirteen                    2007  Danny Ocean                 1\n",
       "Ocean's Twelve                      2004  Danny Ocean                 1\n",
       "One Fine Day                        1996  Jack Taylor                 1\n",
       "Out of Sight                        1998  Jack Foley                  1\n",
       "Solaris                             2002  Chris Kelvin                1\n",
       "South Park: Bigger, Longer & Uncut  1999  Dr. Gouache                 1\n",
       "Spy Kids                            2001  Devlin                      1\n",
       "Spy Kids 3: Game Over               2003  Devlin                      1\n",
       "Syriana                             2005  Bob Barnes                  1\n",
       "The American                        2010  Edward                      1\n",
       "                                          Jack                        1\n",
       "The Book That Wrote Itself          1999  Himself                     1\n",
       "The Descendants                     2011  Matt King                   1\n",
       "The Good German                     2006  Jake Geismer                1\n",
       "The Harvest                         1992  Lip Syncing Transvestite    1\n",
       "The Ides of March                   2011  Governor Mike Morris        1\n",
       "The Limey                           1999  Himself                     1\n",
       "The Men Who Stare at Goats          2009  Lyn Cassady                 1\n",
       "The Monuments Men                   2014  Frank Stokes                1\n",
       "The Peacemaker                      1997  Lt. Col. Thomas Devoe       1\n",
       "The Perfect Storm                   2000  Billy Tyne                  1\n",
       "The Thin Red Line                   1998  Capt. Charles Bosche        1\n",
       "Three Kings                         1999  Archie Gates                1\n",
       "Tomorrowland                        2015  Frank Walker                1\n",
       "Unbecoming Age                      1992  Mac                         1\n",
       "Up in the Air                       2009  Ryan Bingham                1\n",
       "Welcome to Collinwood               2002  Jerzy                       1\n",
       "dtype: int64"
      ]
     },
     "execution_count": 53,
     "metadata": {},
     "output_type": "execute_result"
    }
   ],
   "source": [
    "c= cast\n",
    "c = c[c.name == 'George Clooney']\n",
    "c.groupby(['title','year','character']).size()"
   ]
  },
  {
   "cell_type": "code",
   "execution_count": 54,
   "metadata": {
    "scrolled": true
   },
   "outputs": [
    {
     "data": {
      "text/plain": [
       "<Axes: xlabel='year'>"
      ]
     },
     "execution_count": 54,
     "metadata": {},
     "output_type": "execute_result"
    },
    {
     "data": {
      "image/png": "[encoded data removed]",
      "text/plain": [
       "<Figure size 640x480 with 1 Axes>"
      ]
     },
     "metadata": {},
     "output_type": "display_data"
    }
   ],
   "source": [
    "c.groupby(['year']).size().plot(ylim=0,style='*')"
   ]
  },
  {
   "cell_type": "code",
   "execution_count": 55,
   "metadata": {},
   "outputs": [
    {
     "data": {
      "text/plain": [
       "year\n",
       "1992    23.0\n",
       "1996     2.0\n",
       "1997     2.0\n",
       "1998    14.0\n",
       "1999    11.0\n",
       "2000     1.0\n",
       "2001    36.0\n",
       "2002    17.0\n",
       "2003    22.0\n",
       "2004     3.0\n",
       "2005    15.0\n",
       "2006     1.0\n",
       "2007     6.0\n",
       "2008     5.0\n",
       "2009     1.0\n",
       "2010     1.0\n",
       "2011     2.0\n",
       "2013     2.0\n",
       "2014     1.0\n",
       "2015     1.0\n",
       "2016     2.0\n",
       "Name: n, dtype: float64"
      ]
     },
     "execution_count": 55,
     "metadata": {},
     "output_type": "execute_result"
    }
   ],
   "source": [
    "c.groupby(['year']).n.max()"
   ]
  },
  {
   "cell_type": "code",
   "execution_count": 56,
   "metadata": {
    "scrolled": true
   },
   "outputs": [
    {
     "data": {
      "text/plain": [
       "year\n",
       "1992    14.000000\n",
       "1996     2.000000\n",
       "1997     1.666667\n",
       "1998     7.500000\n",
       "1999     6.000000\n",
       "2000     1.000000\n",
       "2001    18.500000\n",
       "2002    11.000000\n",
       "2003    11.500000\n",
       "2004     3.000000\n",
       "2005     8.500000\n",
       "2006     1.000000\n",
       "2007     3.500000\n",
       "2008     3.000000\n",
       "2009     1.000000\n",
       "2010     1.000000\n",
       "2011     1.500000\n",
       "2013     2.000000\n",
       "2014     1.000000\n",
       "2015     1.000000\n",
       "2016     1.500000\n",
       "Name: n, dtype: float64"
      ]
     },
     "execution_count": 56,
     "metadata": {},
     "output_type": "execute_result"
    }
   ],
   "source": [
    "c.groupby(['year']).n.mean()"
   ]
  },
  {
   "cell_type": "code",
   "execution_count": 57,
   "metadata": {},
   "outputs": [
    {
     "data": {
      "text/plain": [
       "year\n",
       "1990    13\n",
       "2000    20\n",
       "2010    10\n",
       "Name: n, dtype: int64"
      ]
     },
     "execution_count": 57,
     "metadata": {},
     "output_type": "execute_result"
    }
   ],
   "source": [
    "c.groupby(c.year // 10 * 10).n.size()"
   ]
  },
  {
   "cell_type": "markdown",
   "metadata": {},
   "source": [
    "### Używając funkcji groupby(), pokaż na wykresie liczbę filmów, które zostały wydane w każdej dekadzie w historii kina."
   ]
  },
  {
   "cell_type": "code",
   "execution_count": 58,
   "metadata": {},
   "outputs": [],
   "source": [
    "t = titles"
   ]
  },
  {
   "cell_type": "markdown",
   "metadata": {},
   "source": [
    "### Użyj groupby(), pokaż na wykresie liczbę filmów o \"Hamlecie\" nakręconych w każdej dekadzie."
   ]
  },
  {
   "cell_type": "code",
   "execution_count": 59,
   "metadata": {},
   "outputs": [],
   "source": [
    "t = titles"
   ]
  },
  {
   "cell_type": "markdown",
   "metadata": {},
   "source": [
    "### Ile ról pierwszoplanowych (n=1) mieli do dyspozycji aktorzy, a ile aktorki, w każdym roku lat pięćdziesiątych?"
   ]
  },
  {
   "cell_type": "code",
   "execution_count": 60,
   "metadata": {},
   "outputs": [
    {
     "data": {
      "text/plain": [
       "year  type   \n",
       "1950  actor      622\n",
       "      actress    287\n",
       "1951  actor      640\n",
       "      actress    283\n",
       "1952  actor      605\n",
       "      actress    300\n",
       "1953  actor      648\n",
       "      actress    305\n",
       "1954  actor      616\n",
       "      actress    311\n",
       "1955  actor      634\n",
       "      actress    281\n",
       "1956  actor      651\n",
       "      actress    304\n",
       "1957  actor      700\n",
       "      actress    303\n",
       "1958  actor      674\n",
       "      actress    292\n",
       "1959  actor      692\n",
       "      actress    319\n",
       "dtype: int64"
      ]
     },
     "execution_count": 60,
     "metadata": {},
     "output_type": "execute_result"
    }
   ],
   "source": [
    "c = cast\n",
    "c = c[c.year // 10 == 195]\n",
    "c = c[c.n == 1]\n",
    "c.groupby(['year', 'type']).size()"
   ]
  },
  {
   "cell_type": "markdown",
   "metadata": {},
   "source": [
    "### Wymień, w kolejności według roku, każdy z filmów, w których Frank Oz zagrał więcej niż 1 rolę."
   ]
  },
  {
   "cell_type": "code",
   "execution_count": 61,
   "metadata": {},
   "outputs": [
    {
     "data": {
      "text/plain": [
       "year  title                               \n",
       "1979  The Muppet Movie                        8\n",
       "1981  The Great Muppet Caper                  6\n",
       "1982  The Dark Crystal                        2\n",
       "1984  The Muppets Take Manhattan              7\n",
       "1985  Follow That Bird                        3\n",
       "1992  The Muppet Christmas Carol              7\n",
       "1996  Muppet Treasure Island                  4\n",
       "1999  Muppets from Space                      4\n",
       "      The Adventures of Elmo in Grouchland    3\n",
       "dtype: int64"
      ]
     },
     "execution_count": 61,
     "metadata": {},
     "output_type": "execute_result"
    }
   ],
   "source": [
    "c = cast\n",
    "c = c[c.name == 'Frank Oz']\n",
    "g = c.groupby(['year', 'title']).size()\n",
    "g[g > 1]"
   ]
  },
  {
   "cell_type": "markdown",
   "metadata": {},
   "source": [
    "### Użyj groupby(), aby określić, ile ról jest wymienionych dla każdego filmu o nazwie _Różowa Pantera_."
   ]
  },
  {
   "cell_type": "code",
   "execution_count": 62,
   "metadata": {},
   "outputs": [
    {
     "data": {
      "text/plain": [
       "year\n",
       "1963    15.0\n",
       "2006    50.0\n",
       "Name: n, dtype: float64"
      ]
     },
     "execution_count": 62,
     "metadata": {},
     "output_type": "execute_result"
    }
   ],
   "source": [
    "c = cast\n",
    "c = c[c.title == 'The Pink Panther']\n",
    "c = c.sort_values('n').groupby(['year']).n.max()\n",
    "c"
   ]
  },
  {
   "cell_type": "markdown",
   "metadata": {},
   "source": [
    "### Wymień każdą z postaci, którą Frank Oz zagrał przynajmniej dwa razy."
   ]
  },
  {
   "cell_type": "code",
   "execution_count": 63,
   "metadata": {
    "scrolled": true
   },
   "outputs": [],
   "source": [
    "c = cast\n"
   ]
  },
  {
   "cell_type": "markdown",
   "metadata": {
    "collapsed": true,
    "jupyter": {
     "outputs_hidden": true
    }
   },
   "source": [
    "### 4. Zaawansowane grupowanie"
   ]
  },
  {
   "cell_type": "code",
   "execution_count": 64,
   "metadata": {
    "scrolled": true
   },
   "outputs": [
    {
     "data": {
      "text/plain": [
       "character         year\n",
       "Kermit the Frog   1970    1\n",
       "                  1980    3\n",
       "                  1990    2\n",
       "                  2000    1\n",
       "                  2010    1\n",
       "Oscar the Grouch  1980    2\n",
       "                  1990    1\n",
       "                  2000    1\n",
       "dtype: int64"
      ]
     },
     "execution_count": 64,
     "metadata": {},
     "output_type": "execute_result"
    }
   ],
   "source": [
    "c = cast\n",
    "\n",
    "c = c[(c.character == 'Kermit the Frog') | (c.character == 'Oscar the Grouch')]\n",
    "g = c.groupby(['character',c.year//10*10]).size() # Ciężko porównać te dane\n",
    "g"
   ]
  },
  {
   "cell_type": "code",
   "execution_count": 65,
   "metadata": {},
   "outputs": [
    {
     "data": {
      "text/html": [
       "<div>\n",
       "<style scoped>\n",
       "    .dataframe tbody tr th:only-of-type {\n",
       "        vertical-align: middle;\n",
       "    }\n",
       "\n",
       "    .dataframe tbody tr th {\n",
       "        vertical-align: top;\n",
       "    }\n",
       "\n",
       "    .dataframe thead th {\n",
       "        text-align: right;\n",
       "    }\n",
       "</style>\n",
       "<table border=\"1\" class=\"dataframe\">\n",
       "  <thead>\n",
       "    <tr style=\"text-align: right;\">\n",
       "      <th>year</th>\n",
       "      <th>1970</th>\n",
       "      <th>1980</th>\n",
       "      <th>1990</th>\n",
       "      <th>2000</th>\n",
       "      <th>2010</th>\n",
       "    </tr>\n",
       "    <tr>\n",
       "      <th>character</th>\n",
       "      <th></th>\n",
       "      <th></th>\n",
       "      <th></th>\n",
       "      <th></th>\n",
       "      <th></th>\n",
       "    </tr>\n",
       "  </thead>\n",
       "  <tbody>\n",
       "    <tr>\n",
       "      <th>Kermit the Frog</th>\n",
       "      <td>1.0</td>\n",
       "      <td>3.0</td>\n",
       "      <td>2.0</td>\n",
       "      <td>1.0</td>\n",
       "      <td>1.0</td>\n",
       "    </tr>\n",
       "    <tr>\n",
       "      <th>Oscar the Grouch</th>\n",
       "      <td>NaN</td>\n",
       "      <td>2.0</td>\n",
       "      <td>1.0</td>\n",
       "      <td>1.0</td>\n",
       "      <td>NaN</td>\n",
       "    </tr>\n",
       "  </tbody>\n",
       "</table>\n",
       "</div>"
      ],
      "text/plain": [
       "year              1970  1980  1990  2000  2010\n",
       "character                                     \n",
       "Kermit the Frog    1.0   3.0   2.0   1.0   1.0\n",
       "Oscar the Grouch   NaN   2.0   1.0   1.0   NaN"
      ]
     },
     "execution_count": 65,
     "metadata": {},
     "output_type": "execute_result"
    }
   ],
   "source": [
    "u = g.unstack()\n",
    "u"
   ]
  },
  {
   "cell_type": "code",
   "execution_count": 66,
   "metadata": {},
   "outputs": [
    {
     "data": {
      "text/plain": [
       "character         year\n",
       "Kermit the Frog   1970    1.0\n",
       "                  1980    3.0\n",
       "                  1990    2.0\n",
       "                  2000    1.0\n",
       "                  2010    1.0\n",
       "Oscar the Grouch  1980    2.0\n",
       "                  1990    1.0\n",
       "                  2000    1.0\n",
       "dtype: float64"
      ]
     },
     "execution_count": 66,
     "metadata": {},
     "output_type": "execute_result"
    }
   ],
   "source": [
    "u.stack()"
   ]
  },
  {
   "cell_type": "code",
   "execution_count": 67,
   "metadata": {
    "scrolled": true
   },
   "outputs": [
    {
     "data": {
      "text/html": [
       "<div>\n",
       "<style scoped>\n",
       "    .dataframe tbody tr th:only-of-type {\n",
       "        vertical-align: middle;\n",
       "    }\n",
       "\n",
       "    .dataframe tbody tr th {\n",
       "        vertical-align: top;\n",
       "    }\n",
       "\n",
       "    .dataframe thead th {\n",
       "        text-align: right;\n",
       "    }\n",
       "</style>\n",
       "<table border=\"1\" class=\"dataframe\">\n",
       "  <thead>\n",
       "    <tr style=\"text-align: right;\">\n",
       "      <th>character</th>\n",
       "      <th>Kermit the Frog</th>\n",
       "      <th>Oscar the Grouch</th>\n",
       "    </tr>\n",
       "    <tr>\n",
       "      <th>year</th>\n",
       "      <th></th>\n",
       "      <th></th>\n",
       "    </tr>\n",
       "  </thead>\n",
       "  <tbody>\n",
       "    <tr>\n",
       "      <th>1970</th>\n",
       "      <td>1.0</td>\n",
       "      <td>NaN</td>\n",
       "    </tr>\n",
       "    <tr>\n",
       "      <th>1980</th>\n",
       "      <td>3.0</td>\n",
       "      <td>2.0</td>\n",
       "    </tr>\n",
       "    <tr>\n",
       "      <th>1990</th>\n",
       "      <td>2.0</td>\n",
       "      <td>1.0</td>\n",
       "    </tr>\n",
       "    <tr>\n",
       "      <th>2000</th>\n",
       "      <td>1.0</td>\n",
       "      <td>1.0</td>\n",
       "    </tr>\n",
       "    <tr>\n",
       "      <th>2010</th>\n",
       "      <td>1.0</td>\n",
       "      <td>NaN</td>\n",
       "    </tr>\n",
       "  </tbody>\n",
       "</table>\n",
       "</div>"
      ],
      "text/plain": [
       "character  Kermit the Frog  Oscar the Grouch\n",
       "year                                        \n",
       "1970                   1.0               NaN\n",
       "1980                   3.0               2.0\n",
       "1990                   2.0               1.0\n",
       "2000                   1.0               1.0\n",
       "2010                   1.0               NaN"
      ]
     },
     "execution_count": 67,
     "metadata": {},
     "output_type": "execute_result"
    }
   ],
   "source": [
    "u = g.unstack().T\n",
    "u"
   ]
  },
  {
   "cell_type": "code",
   "execution_count": 68,
   "metadata": {
    "scrolled": true
   },
   "outputs": [
    {
     "data": {
      "text/plain": [
       "year\n",
       "1970    NaN\n",
       "1980    1.0\n",
       "1990    1.0\n",
       "2000    0.0\n",
       "2010    NaN\n",
       "dtype: float64"
      ]
     },
     "execution_count": 68,
     "metadata": {},
     "output_type": "execute_result"
    }
   ],
   "source": [
    "u['Kermit the Frog'] - u['Oscar the Grouch'] ## BRAKUJE DANYCH !"
   ]
  },
  {
   "cell_type": "code",
   "execution_count": 69,
   "metadata": {
    "scrolled": true
   },
   "outputs": [
    {
     "data": {
      "text/html": [
       "<div>\n",
       "<style scoped>\n",
       "    .dataframe tbody tr th:only-of-type {\n",
       "        vertical-align: middle;\n",
       "    }\n",
       "\n",
       "    .dataframe tbody tr th {\n",
       "        vertical-align: top;\n",
       "    }\n",
       "\n",
       "    .dataframe thead th {\n",
       "        text-align: right;\n",
       "    }\n",
       "</style>\n",
       "<table border=\"1\" class=\"dataframe\">\n",
       "  <thead>\n",
       "    <tr style=\"text-align: right;\">\n",
       "      <th>character</th>\n",
       "      <th>Kermit the Frog</th>\n",
       "      <th>Oscar the Grouch</th>\n",
       "    </tr>\n",
       "    <tr>\n",
       "      <th>year</th>\n",
       "      <th></th>\n",
       "      <th></th>\n",
       "    </tr>\n",
       "  </thead>\n",
       "  <tbody>\n",
       "    <tr>\n",
       "      <th>1970</th>\n",
       "      <td>1.0</td>\n",
       "      <td>0.0</td>\n",
       "    </tr>\n",
       "    <tr>\n",
       "      <th>1980</th>\n",
       "      <td>3.0</td>\n",
       "      <td>2.0</td>\n",
       "    </tr>\n",
       "    <tr>\n",
       "      <th>1990</th>\n",
       "      <td>2.0</td>\n",
       "      <td>1.0</td>\n",
       "    </tr>\n",
       "    <tr>\n",
       "      <th>2000</th>\n",
       "      <td>1.0</td>\n",
       "      <td>1.0</td>\n",
       "    </tr>\n",
       "    <tr>\n",
       "      <th>2010</th>\n",
       "      <td>1.0</td>\n",
       "      <td>0.0</td>\n",
       "    </tr>\n",
       "  </tbody>\n",
       "</table>\n",
       "</div>"
      ],
      "text/plain": [
       "character  Kermit the Frog  Oscar the Grouch\n",
       "year                                        \n",
       "1970                   1.0               0.0\n",
       "1980                   3.0               2.0\n",
       "1990                   2.0               1.0\n",
       "2000                   1.0               1.0\n",
       "2010                   1.0               0.0"
      ]
     },
     "execution_count": 69,
     "metadata": {},
     "output_type": "execute_result"
    }
   ],
   "source": [
    "u = u.fillna(0) # Można dać cokolwiek\n",
    "u"
   ]
  },
  {
   "cell_type": "code",
   "execution_count": 70,
   "metadata": {},
   "outputs": [
    {
     "data": {
      "text/plain": [
       "year\n",
       "1970    1.0\n",
       "1980    1.0\n",
       "1990    1.0\n",
       "2000    0.0\n",
       "2010    1.0\n",
       "dtype: float64"
      ]
     },
     "execution_count": 70,
     "metadata": {},
     "output_type": "execute_result"
    }
   ],
   "source": [
    "u['Kermit the Frog'] - u['Oscar the Grouch'] ## BRAKUJE DANYCH !"
   ]
  },
  {
   "cell_type": "markdown",
   "metadata": {},
   "source": [
    "### Zdefiniuj rok jako \"rok Supermana\". W których filmach pojawia się więcej postaci Supermana niż Batmana. Ile lat w historii filmu było latami Supermana?"
   ]
  },
  {
   "cell_type": "code",
   "execution_count": 71,
   "metadata": {
    "scrolled": true
   },
   "outputs": [
    {
     "data": {
      "text/html": [
       "<div>\n",
       "<style scoped>\n",
       "    .dataframe tbody tr th:only-of-type {\n",
       "        vertical-align: middle;\n",
       "    }\n",
       "\n",
       "    .dataframe tbody tr th {\n",
       "        vertical-align: top;\n",
       "    }\n",
       "\n",
       "    .dataframe thead th {\n",
       "        text-align: right;\n",
       "    }\n",
       "</style>\n",
       "<table border=\"1\" class=\"dataframe\">\n",
       "  <thead>\n",
       "    <tr style=\"text-align: right;\">\n",
       "      <th>character</th>\n",
       "      <th>Batman</th>\n",
       "      <th>Superman</th>\n",
       "    </tr>\n",
       "    <tr>\n",
       "      <th>year</th>\n",
       "      <th></th>\n",
       "      <th></th>\n",
       "    </tr>\n",
       "  </thead>\n",
       "  <tbody>\n",
       "    <tr>\n",
       "      <th>1938</th>\n",
       "      <td>1.0</td>\n",
       "      <td>0.0</td>\n",
       "    </tr>\n",
       "    <tr>\n",
       "      <th>1940</th>\n",
       "      <td>1.0</td>\n",
       "      <td>0.0</td>\n",
       "    </tr>\n",
       "    <tr>\n",
       "      <th>1943</th>\n",
       "      <td>1.0</td>\n",
       "      <td>0.0</td>\n",
       "    </tr>\n",
       "    <tr>\n",
       "      <th>1948</th>\n",
       "      <td>0.0</td>\n",
       "      <td>1.0</td>\n",
       "    </tr>\n",
       "    <tr>\n",
       "      <th>1949</th>\n",
       "      <td>2.0</td>\n",
       "      <td>0.0</td>\n",
       "    </tr>\n",
       "    <tr>\n",
       "      <th>1950</th>\n",
       "      <td>0.0</td>\n",
       "      <td>1.0</td>\n",
       "    </tr>\n",
       "    <tr>\n",
       "      <th>1951</th>\n",
       "      <td>0.0</td>\n",
       "      <td>2.0</td>\n",
       "    </tr>\n",
       "    <tr>\n",
       "      <th>1953</th>\n",
       "      <td>2.0</td>\n",
       "      <td>0.0</td>\n",
       "    </tr>\n",
       "    <tr>\n",
       "      <th>1954</th>\n",
       "      <td>0.0</td>\n",
       "      <td>5.0</td>\n",
       "    </tr>\n",
       "    <tr>\n",
       "      <th>1955</th>\n",
       "      <td>0.0</td>\n",
       "      <td>1.0</td>\n",
       "    </tr>\n",
       "    <tr>\n",
       "      <th>1957</th>\n",
       "      <td>2.0</td>\n",
       "      <td>0.0</td>\n",
       "    </tr>\n",
       "    <tr>\n",
       "      <th>1965</th>\n",
       "      <td>1.0</td>\n",
       "      <td>0.0</td>\n",
       "    </tr>\n",
       "    <tr>\n",
       "      <th>1966</th>\n",
       "      <td>1.0</td>\n",
       "      <td>0.0</td>\n",
       "    </tr>\n",
       "    <tr>\n",
       "      <th>1967</th>\n",
       "      <td>1.0</td>\n",
       "      <td>0.0</td>\n",
       "    </tr>\n",
       "    <tr>\n",
       "      <th>1973</th>\n",
       "      <td>1.0</td>\n",
       "      <td>2.0</td>\n",
       "    </tr>\n",
       "    <tr>\n",
       "      <th>1978</th>\n",
       "      <td>0.0</td>\n",
       "      <td>1.0</td>\n",
       "    </tr>\n",
       "    <tr>\n",
       "      <th>1980</th>\n",
       "      <td>0.0</td>\n",
       "      <td>2.0</td>\n",
       "    </tr>\n",
       "    <tr>\n",
       "      <th>1981</th>\n",
       "      <td>1.0</td>\n",
       "      <td>1.0</td>\n",
       "    </tr>\n",
       "    <tr>\n",
       "      <th>1983</th>\n",
       "      <td>0.0</td>\n",
       "      <td>2.0</td>\n",
       "    </tr>\n",
       "    <tr>\n",
       "      <th>1985</th>\n",
       "      <td>2.0</td>\n",
       "      <td>2.0</td>\n",
       "    </tr>\n",
       "    <tr>\n",
       "      <th>1987</th>\n",
       "      <td>0.0</td>\n",
       "      <td>1.0</td>\n",
       "    </tr>\n",
       "    <tr>\n",
       "      <th>1988</th>\n",
       "      <td>1.0</td>\n",
       "      <td>0.0</td>\n",
       "    </tr>\n",
       "    <tr>\n",
       "      <th>1989</th>\n",
       "      <td>1.0</td>\n",
       "      <td>0.0</td>\n",
       "    </tr>\n",
       "    <tr>\n",
       "      <th>1991</th>\n",
       "      <td>1.0</td>\n",
       "      <td>1.0</td>\n",
       "    </tr>\n",
       "    <tr>\n",
       "      <th>1992</th>\n",
       "      <td>1.0</td>\n",
       "      <td>1.0</td>\n",
       "    </tr>\n",
       "    <tr>\n",
       "      <th>1993</th>\n",
       "      <td>1.0</td>\n",
       "      <td>0.0</td>\n",
       "    </tr>\n",
       "    <tr>\n",
       "      <th>1994</th>\n",
       "      <td>1.0</td>\n",
       "      <td>1.0</td>\n",
       "    </tr>\n",
       "    <tr>\n",
       "      <th>1995</th>\n",
       "      <td>1.0</td>\n",
       "      <td>1.0</td>\n",
       "    </tr>\n",
       "    <tr>\n",
       "      <th>1997</th>\n",
       "      <td>1.0</td>\n",
       "      <td>1.0</td>\n",
       "    </tr>\n",
       "    <tr>\n",
       "      <th>1998</th>\n",
       "      <td>1.0</td>\n",
       "      <td>0.0</td>\n",
       "    </tr>\n",
       "    <tr>\n",
       "      <th>1999</th>\n",
       "      <td>1.0</td>\n",
       "      <td>0.0</td>\n",
       "    </tr>\n",
       "    <tr>\n",
       "      <th>2002</th>\n",
       "      <td>1.0</td>\n",
       "      <td>1.0</td>\n",
       "    </tr>\n",
       "    <tr>\n",
       "      <th>2003</th>\n",
       "      <td>1.0</td>\n",
       "      <td>1.0</td>\n",
       "    </tr>\n",
       "    <tr>\n",
       "      <th>2004</th>\n",
       "      <td>1.0</td>\n",
       "      <td>0.0</td>\n",
       "    </tr>\n",
       "    <tr>\n",
       "      <th>2005</th>\n",
       "      <td>1.0</td>\n",
       "      <td>0.0</td>\n",
       "    </tr>\n",
       "    <tr>\n",
       "      <th>2006</th>\n",
       "      <td>0.0</td>\n",
       "      <td>1.0</td>\n",
       "    </tr>\n",
       "    <tr>\n",
       "      <th>2008</th>\n",
       "      <td>2.0</td>\n",
       "      <td>2.0</td>\n",
       "    </tr>\n",
       "    <tr>\n",
       "      <th>2009</th>\n",
       "      <td>3.0</td>\n",
       "      <td>1.0</td>\n",
       "    </tr>\n",
       "    <tr>\n",
       "      <th>2010</th>\n",
       "      <td>3.0</td>\n",
       "      <td>1.0</td>\n",
       "    </tr>\n",
       "    <tr>\n",
       "      <th>2011</th>\n",
       "      <td>4.0</td>\n",
       "      <td>2.0</td>\n",
       "    </tr>\n",
       "    <tr>\n",
       "      <th>2012</th>\n",
       "      <td>2.0</td>\n",
       "      <td>0.0</td>\n",
       "    </tr>\n",
       "    <tr>\n",
       "      <th>2013</th>\n",
       "      <td>5.0</td>\n",
       "      <td>1.0</td>\n",
       "    </tr>\n",
       "    <tr>\n",
       "      <th>2014</th>\n",
       "      <td>5.0</td>\n",
       "      <td>1.0</td>\n",
       "    </tr>\n",
       "    <tr>\n",
       "      <th>2015</th>\n",
       "      <td>4.0</td>\n",
       "      <td>1.0</td>\n",
       "    </tr>\n",
       "    <tr>\n",
       "      <th>2016</th>\n",
       "      <td>12.0</td>\n",
       "      <td>4.0</td>\n",
       "    </tr>\n",
       "    <tr>\n",
       "      <th>2017</th>\n",
       "      <td>9.0</td>\n",
       "      <td>5.0</td>\n",
       "    </tr>\n",
       "  </tbody>\n",
       "</table>\n",
       "</div>"
      ],
      "text/plain": [
       "character  Batman  Superman\n",
       "year                       \n",
       "1938          1.0       0.0\n",
       "1940          1.0       0.0\n",
       "1943          1.0       0.0\n",
       "1948          0.0       1.0\n",
       "1949          2.0       0.0\n",
       "1950          0.0       1.0\n",
       "1951          0.0       2.0\n",
       "1953          2.0       0.0\n",
       "1954          0.0       5.0\n",
       "1955          0.0       1.0\n",
       "1957          2.0       0.0\n",
       "1965          1.0       0.0\n",
       "1966          1.0       0.0\n",
       "1967          1.0       0.0\n",
       "1973          1.0       2.0\n",
       "1978          0.0       1.0\n",
       "1980          0.0       2.0\n",
       "1981          1.0       1.0\n",
       "1983          0.0       2.0\n",
       "1985          2.0       2.0\n",
       "1987          0.0       1.0\n",
       "1988          1.0       0.0\n",
       "1989          1.0       0.0\n",
       "1991          1.0       1.0\n",
       "1992          1.0       1.0\n",
       "1993          1.0       0.0\n",
       "1994          1.0       1.0\n",
       "1995          1.0       1.0\n",
       "1997          1.0       1.0\n",
       "1998          1.0       0.0\n",
       "1999          1.0       0.0\n",
       "2002          1.0       1.0\n",
       "2003          1.0       1.0\n",
       "2004          1.0       0.0\n",
       "2005          1.0       0.0\n",
       "2006          0.0       1.0\n",
       "2008          2.0       2.0\n",
       "2009          3.0       1.0\n",
       "2010          3.0       1.0\n",
       "2011          4.0       2.0\n",
       "2012          2.0       0.0\n",
       "2013          5.0       1.0\n",
       "2014          5.0       1.0\n",
       "2015          4.0       1.0\n",
       "2016         12.0       4.0\n",
       "2017          9.0       5.0"
      ]
     },
     "execution_count": 71,
     "metadata": {},
     "output_type": "execute_result"
    }
   ],
   "source": [
    "c = cast\n",
    "c = c[(c.character == 'Superman') | (c.character == 'Batman')]\n",
    "c = c.groupby(['year', 'character']).size()\n",
    "c = c.unstack()\n",
    "c = c.fillna(0)\n",
    "c"
   ]
  },
  {
   "cell_type": "code",
   "execution_count": 72,
   "metadata": {},
   "outputs": [],
   "source": [
    "# Lata supermana"
   ]
  },
  {
   "cell_type": "code",
   "execution_count": 73,
   "metadata": {},
   "outputs": [],
   "source": [
    "# Lata Batmana"
   ]
  },
  {
   "cell_type": "markdown",
   "metadata": {},
   "source": [
    "### Stwórz wykres liczby ról aktorów i aktorek w każdym roku."
   ]
  },
  {
   "cell_type": "code",
   "execution_count": 74,
   "metadata": {},
   "outputs": [
    {
     "data": {
      "text/plain": [
       "<Axes: xlabel='year'>"
      ]
     },
     "execution_count": 74,
     "metadata": {},
     "output_type": "execute_result"
    },
    {
     "data": {
      "image/png": "[encoded data removed]",
      "text/plain": [
       "<Figure size 640x480 with 1 Axes>"
      ]
     },
     "metadata": {},
     "output_type": "display_data"
    }
   ],
   "source": [
    "c = cast\n",
    "c = c.groupby(['year', 'type']).size()\n",
    "c = c.unstack('type')\n",
    "c.plot()"
   ]
  },
  {
   "cell_type": "markdown",
   "metadata": {},
   "source": [
    "### Stwórz wykres liczby ról aktorów i aktorek w każdym roku. Wykorzystaj rodzaj wykresu \"area\"."
   ]
  },
  {
   "cell_type": "code",
   "execution_count": 75,
   "metadata": {},
   "outputs": [],
   "source": [
    "c = cast"
   ]
  },
  {
   "cell_type": "markdown",
   "metadata": {},
   "source": [
    "### Pokaż na wykresie różnicę między liczbą ról męskich i żeńskich."
   ]
  },
  {
   "cell_type": "code",
   "execution_count": null,
   "metadata": {},
   "outputs": [],
   "source": []
  },
  {
   "cell_type": "markdown",
   "metadata": {},
   "source": [
    "### Pokaż na wykresie stosunek liczby ról męskich i żeńskich to ogółu ról."
   ]
  },
  {
   "cell_type": "code",
   "execution_count": 76,
   "metadata": {},
   "outputs": [],
   "source": [
    "c = cast\n"
   ]
  },
  {
   "cell_type": "markdown",
   "metadata": {},
   "source": [
    "### Pokaż na wykresie stosunek liczby ról męskich drugoplanowych do ogółu ról w historii kina."
   ]
  },
  {
   "cell_type": "code",
   "execution_count": null,
   "metadata": {},
   "outputs": [],
   "source": []
  },
  {
   "cell_type": "markdown",
   "metadata": {},
   "source": [
    "### Pokaż wykres liniowy dla każdej n od n=1 do n=3, gdzie linia pokazuje, jaka część ról tego n była rolami męskimi.\n"
   ]
  },
  {
   "cell_type": "code",
   "execution_count": 77,
   "metadata": {},
   "outputs": [
    {
     "data": {
      "text/plain": [
       "<Axes: xlabel='year'>"
      ]
     },
     "execution_count": 77,
     "metadata": {},
     "output_type": "execute_result"
    },
    {
     "data": {
      "image/png": "[encoded data removed]",
      "text/plain": [
       "<Figure size 640x480 with 1 Axes>"
      ]
     },
     "metadata": {},
     "output_type": "display_data"
    }
   ],
   "source": [
    "c = cast\n",
    "c = c[c.n <= 3]\n",
    "c = c.groupby(['year', 'type', 'n']).size()\n",
    "c = c.unstack('type').fillna(0)\n",
    "r = c.actor / (c.actor + c.actress)\n",
    "r = r.unstack('n')\n",
    "r.plot(ylim=[0,1])"
   ]
  }
 ],
 "metadata": {
  "kernelspec": {
   "display_name": "Python 3 (ipykernel)",
   "language": "python",
   "name": "python3"
  },
  "language_info": {
   "codemirror_mode": {
    "name": "ipython",
    "version": 3
   },
   "file_extension": ".py",
   "mimetype": "text/x-python",
   "name": "python",
   "nbconvert_exporter": "python",
   "pygments_lexer": "ipython3",
   "version": "3.11.3"
  }
 },
 "nbformat": 4,
 "nbformat_minor": 4
}