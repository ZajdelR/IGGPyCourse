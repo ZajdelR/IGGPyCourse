{
 "cells": [
  {
   "cell_type": "markdown",
   "metadata": {
    "id": "wnKpNgX3L-Wa",
    "nbpresent": {
     "id": "40f70c9c-09df-4e99-b5fd-a7613178fdb7"
    },
    "slideshow": {
     "slide_type": "-"
    }
   },
   "source": [
    "<img src=\"./src/header.png\">"
   ]
  },
  {
   "cell_type": "markdown",
   "metadata": {
    "slideshow": {
     "slide_type": "slide"
    }
   },
   "source": [
    "\n",
    "----\n",
    "\n",
    "# Moduł 4 - Ćwiczenia\n",
    "---\n"
   ]
  },
  {
   "cell_type": "markdown",
   "metadata": {
    "slideshow": {
     "slide_type": "slide"
    }
   },
   "source": [
    "\n",
    "----\n",
    "\n",
    "## Zad 1\n",
    "---\n",
    "\n",
    "Połącz dwa słowniki\n",
    "\n",
    "Wejście:\n",
    "```\n",
    "dict1 = {'Dziesiec': 10, 'Dwadziescia': 20, 'Trzydziesci': 30}\n",
    "dict2 = {'Trzydziesci': 30, 'Czterdziesci': 40, 'Piecdziesiat': 50}\n",
    "```"
   ]
  },
  {
   "cell_type": "code",
   "execution_count": null,
   "metadata": {},
   "outputs": [],
   "source": []
  },
  {
   "cell_type": "markdown",
   "metadata": {
    "slideshow": {
     "slide_type": "slide"
    }
   },
   "source": [
    "\n",
    "----\n",
    "\n",
    "## Zad 2\n",
    "---\n",
    "\n",
    "Podaj klucz najmniejszej wartości w słowniku\n",
    "```\n",
    "sampleDict = {\n",
    "  'Physics': 82,\n",
    "  'Math': 65,\n",
    "  'history': 75\n",
    "}\n",
    "```"
   ]
  },
  {
   "cell_type": "code",
   "execution_count": null,
   "metadata": {},
   "outputs": [],
   "source": []
  },
  {
   "cell_type": "markdown",
   "metadata": {
    "slideshow": {
     "slide_type": "slide"
    }
   },
   "source": [
    "\n",
    "----\n",
    "\n",
    "## Zad 3\n",
    "---\n",
    "\n",
    "Stwórzmy słownik biblioteki, do którego dodawane będą książki:\n",
    "- Klucz to ISBN\n",
    "- Wartość to nazwa książki\n",
    "- Po każdej dodanej przez użytkownika książce, zapytaj czy chce dodać kolejną. \n",
    "- Przerwij pętle na życzenie użytkownika (jeśli nie będzie chciał dodać kolejnej książki)"
   ]
  },
  {
   "cell_type": "code",
   "execution_count": null,
   "metadata": {},
   "outputs": [],
   "source": []
  },
  {
   "cell_type": "markdown",
   "metadata": {
    "slideshow": {
     "slide_type": "slide"
    }
   },
   "source": [
    "\n",
    "----\n",
    "\n",
    "## Zad 4\n",
    "---\n",
    "\n",
    "Zaprogramuj funkcję, która na podstawie argumentów imię, pesel, stanowisko, doda do słownika ludzie, kolejne osoby. Każda kolejna osoba również powinna być słownikiem przechowującym informacje: imię, wiek (na podstawie numeru PESEL) i stanowisko. Jeżeli osoba nie wprowadzi wartości dla argumentu stanowisko, ustaw domyślną wartość „Bezrobotny”"
   ]
  },
  {
   "cell_type": "code",
   "execution_count": null,
   "metadata": {},
   "outputs": [],
   "source": []
  },
  {
   "cell_type": "markdown",
   "metadata": {
    "slideshow": {
     "slide_type": "slide"
    }
   },
   "source": [
    "\n",
    "----\n",
    "\n",
    "## Zad 5\n",
    "---\n",
    "\n",
    "Napisz funkcję, która pobiera dowolną ilość argumentów pozycyjnych, a następnie zwraca różnicę pomiędzy największą a najmniejszą wartością z podanych argumentów. Jeżeli użytkownik poda mniej niż dwa argumenty zwróć <i>None</i>\n"
   ]
  },
  {
   "cell_type": "code",
   "execution_count": null,
   "metadata": {},
   "outputs": [],
   "source": []
  },
  {
   "cell_type": "markdown",
   "metadata": {
    "slideshow": {
     "slide_type": "slide"
    }
   },
   "source": [
    "\n",
    "----\n",
    "\n",
    "## Zad 6\n",
    "---\n",
    "\n",
    "Zdefiniuj funkcje która policzy cenę koszyka na podstawie cen jednostkowych i ilości towarów\n",
    "```\n",
    "koszyk = {\n",
    "    \"banany\": 6,\n",
    "    \"jablka\": 0,\n",
    "    \"pomarancze\": 32,\n",
    "    \"gruszki\": 15\n",
    "}\n",
    "ceny = {\n",
    "    \"banany\": 4,\n",
    "    \"jablka\": 2,\n",
    "    \"pomarancze\": 1.5,\n",
    "    \"gruszki\": 3\n",
    "```"
   ]
  },
  {
   "cell_type": "code",
   "execution_count": null,
   "metadata": {},
   "outputs": [],
   "source": []
  },
  {
   "cell_type": "markdown",
   "metadata": {
    "slideshow": {
     "slide_type": "slide"
    }
   },
   "source": [
    "\n",
    "----\n",
    "\n",
    "## Zad 7\n",
    "---\n",
    "\n",
    "Napisz funkcję, która pobiera od użytkownika współczynniki trójmianu kwadratowego, a następnie podaje jego rozwiązania."
   ]
  },
  {
   "cell_type": "code",
   "execution_count": null,
   "metadata": {},
   "outputs": [],
   "source": []
  },
  {
   "cell_type": "markdown",
   "metadata": {
    "slideshow": {
     "slide_type": "slide"
    }
   },
   "source": [
    "\n",
    "----\n",
    "\n",
    "## Zad 8\n",
    "---\n",
    "\n",
    "Napisz funkcję, która przyjmuje dowolną liczbę argumentów pozycyjnych oraz kluczowych.\n",
    "- Niech funkcja drukuje argumenty pozycyjne w formie listy:\n",
    "```\n",
    "1 -> wartość pierwszego argumentu\n",
    "2 -> wartość drugiego argumentu\n",
    "…\n",
    "```\n",
    "- Niech funkcja drukuje argumenty kluczowe w formie listy:\n",
    "```\n",
    "nazwa (klucz) -> wartość \n",
    "nazwa (klucz)  -> wartość\n",
    "…\n",
    "```\n",
    "- Stwórz listę oraz słownik\n",
    "- Przekaż pojedyncze elementy listy jako kolejne argumenty pozycyjne, a słownik jako kolejne argumenty kluczowe swojej funkcji\n"
   ]
  },
  {
   "cell_type": "code",
   "execution_count": null,
   "metadata": {},
   "outputs": [],
   "source": []
  },
  {
   "cell_type": "markdown",
   "metadata": {
    "slideshow": {
     "slide_type": "slide"
    }
   },
   "source": [
    "\n",
    "----\n",
    "\n",
    "## Zad 9\n",
    "---\n",
    "\n",
    "Napisz funkcję, która jako argument przyjmuje liczbę n i zwraca słownik, którego kluczami są liczby całkowite od 1 do n, a wartościami listy ze wszystkimi dzielnikami danej liczby. \n"
   ]
  },
  {
   "cell_type": "code",
   "execution_count": null,
   "metadata": {},
   "outputs": [],
   "source": []
  },
  {
   "cell_type": "markdown",
   "metadata": {
    "slideshow": {
     "slide_type": "slide"
    }
   },
   "source": [
    "\n",
    "----\n",
    "\n",
    "## Zad 10\n",
    "---\n",
    "\n",
    "Stwórz funkcję, która przyjmuje dowolna ilość słowników jako argumenty, a następnie łączy je i zwraca jeden połączony słownik. Żaden element nie może zostać utracony. Do zduplikowanych kluczy dodaj przyrostek „_n”, gdzie n to numer powtórzenia. \n",
    "```\n",
    "dict1 = {‘Kasia’: 3, ‘Basia’: 3, ‘Zosia’: 10}\n",
    "dict2 = {‘Kasia’: 3}\n",
    "dict3 = {‘Kasia’: 6, ‘Zosia’: 8, ‘Paweł’: 4}\n",
    "\n",
    "polaczonySlownik = laczenieSlownikow(dict1,dict2,dict3)\n",
    "```\n",
    "Oczekiwana wartość zmiennej polaczonySlownik\n",
    "```\n",
    "{‘Kasia’: 3, ‘Basia’: 3, ‘Zosia’: 10, ‘Kasia_1’: 3, ‘Kasia_2’: 6, ‘Zosia_1’: 8, ‘Paweł’: 4}\n",
    "```"
   ]
  },
  {
   "cell_type": "code",
   "execution_count": null,
   "metadata": {},
   "outputs": [],
   "source": []
  }
 ],
 "metadata": {
  "anaconda-cloud": {},
  "kernelspec": {
   "display_name": "Python 3 (ipykernel)",
   "language": "python",
   "name": "python3"
  },
  "language_info": {
   "codemirror_mode": {
    "name": "ipython",
    "version": 3
   },
   "file_extension": ".py",
   "mimetype": "text/x-python",
   "name": "python",
   "nbconvert_exporter": "python",
   "pygments_lexer": "ipython3",
   "version": "3.11.3"
  },
  "rise": {
   "enable_chalkboard": true,
   "scroll": true
  }
 },
 "nbformat": 4,
 "nbformat_minor": 1
}