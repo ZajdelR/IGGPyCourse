{
 "cells": [
  {
   "cell_type": "markdown",
   "metadata": {
    "nbpresent": {
     "id": "40f70c9c-09df-4e99-b5fd-a7613178fdb7"
    },
    "slideshow": {
     "slide_type": "slide"
    }
   },
   "source": [
    "# Elementy Programowania - Python\n",
    "## Wykład 0"
   ]
  },
  {
   "cell_type": "markdown",
   "metadata": {
    "nbpresent": {
     "id": "9e80be75-c858-4702-90f5-ace3c0b5f277"
    },
    "slideshow": {
     "slide_type": "slide"
    }
   },
   "source": [
    "## Dane kontaktowe\n",
    "\n",
    "---\n",
    "\n",
    "* dr inż. Radosław Zajdel\n",
    "* pokój: 328\n",
    "* email: <radoslaw.zajdel@uwr.edu.pl>\n",
    "* konsultacje: ?"
   ]
  },
  {
   "cell_type": "markdown",
   "metadata": {
    "slideshow": {
     "slide_type": "subslide"
    }
   },
   "source": [
    "## Kim jestem?\n",
    "\n",
    "---\n",
    "\n",
    "* https://bazawiedzy.upwr.edu.pl/info/author/UPWrda0b0cf17b3944ba9ab531afe696fdfa/"
   ]
  },
  {
   "cell_type": "markdown",
   "metadata": {
    "slideshow": {
     "slide_type": "subslide"
    }
   },
   "source": [
    "## Jaki jest cel tego kursu?\n",
    "\n",
    "Moim zadaniem jest przekazać podstawową wiedze z zakresu podstaw programowania w języku Python\n",
    "\n",
    "Po ukończeniu kursu, każdy powinien poczuć się pewnie w:\n",
    "* pisaniu skryptów, \n",
    "* prostych programów \n",
    "* automatyzacji zadań w codziennej obróbce danych z wykorzystaniem języka Python\n",
    "\n",
    "Dotychczasowa wiedza z zakresu programowania w języku Python?\n",
    "* Technologie informacyjne"
   ]
  },
  {
   "cell_type": "markdown",
   "metadata": {
    "slideshow": {
     "slide_type": "slide"
    }
   },
   "source": [
    "## Dlaczego Python\n",
    "\n",
    "* Jest bardzo prosty w nauce, a pierwszy program można napisać w pierszych minutach nauki\n",
    "* Prostota Python'a przełożyła się również na jego olbrzymia popularność\n",
    "* Od pojawienia się Pythona w roku 1991, Python stał się najpopularniejszym językiem iterpretowanym, na równi z Perl, Ruby.\n",
    "* Zapotrzebowanie na \"programistów\" nie ogranicza się wyłącznie do \"branży IT\", ale aktualnie jest porządany w każdej dziedzinie zawodowej"
   ]
  },
  {
   "cell_type": "markdown",
   "metadata": {
    "nbpresent": {
     "id": "dfd71d91-0b43-4e32-a309-ed73907456ac"
    },
    "slideshow": {
     "slide_type": "slide"
    }
   },
   "source": [
    "## System pracy i program\n",
    "\n",
    "---\n",
    "\n",
    "- Moduł 1 - Podstawy - przypomninie+ - Lista ćwiczeń + kartkówka = zal + 1 ocena\n",
    "    * wprowadzenie\n",
    "    * podstawowe typy danych i operatory\n",
    "    * typy sekwencyjne\n",
    "    * klasy i obiekty\n",
    "- Moduł 2 - Przepływ danych - przypomnienie+ - Lista ćwiczenia + kartkówka = zal + 1 ocena\n",
    "    * pakowanie / odpakowywanie sekwencji\n",
    "    * kontrola przepływu:\n",
    "        * instrukcje warunkowe *if*\n",
    "        * pętle *for* i *while*\n",
    "    * formatowanie tekstu"
   ]
  },
  {
   "cell_type": "markdown",
   "metadata": {
    "nbpresent": {
     "id": "dfd71d91-0b43-4e32-a309-ed73907456ac"
    },
    "slideshow": {
     "slide_type": "subslide"
    }
   },
   "source": [
    "## System pracy i program\n",
    "\n",
    "---\n",
    "\n",
    "- Moduł 3 - Funkcje - przypomnienie+ - Lista ćwiczenia + kartkówka = zal + 1 ocena\n",
    "    * funkcje i moduły\n",
    "    * obsługa wyjątków\n",
    "    * typy mapujące - słowniki\n",
    "- Moduł 4 - Macierze - Lista ćwiczenia + kartkówka = zal + 1 ocena\n",
    "    * Wykorzystanie biblioteki Numpy\n",
    "- Moduł 5 - Analiza danych z biblioteką pandas - Lista ćwiczenia + Lista domowa = 1 ocena\n",
    "- Moduł 6 - matplotlib, Scipy, statsmodels, oraz scikit-learn - Lista ćwiczenia = zal\n",
    "\n",
    "Podsumowanie: 5 ocen z modułów, w tym 4 z kartkówek i jedna z listy dodatkowej + kolokwium końcowe w formie testu z całości materiału\n",
    "\n",
    "---"
   ]
  },
  {
   "cell_type": "markdown",
   "metadata": {
    "nbpresent": {
     "id": "dfd71d91-0b43-4e32-a309-ed73907456ac"
    },
    "slideshow": {
     "slide_type": "subslide"
    }
   },
   "source": [
    "## Zasady\n",
    "\n",
    "---\n",
    "\n",
    "- W każdym module zbieramy punkty\n",
    "- Łącznie w kursie jest do zdobycia 50 punktów \n",
    "    - Maksymalna ilość punktów z kartkówki to 7, lista dodatkowa za 7 punktów (5 modułów -> 35 punktów)\n",
    "    - Kolokwium zaliczeniowe (15 punktów)\n",
    "- Podczas każdych z ćwiczeń wykonujemy zadania z listy zadań, którą udostępniam na tydzień przed zajęciami\n",
    "- Zgłoszenie się, poprawne wykonanie i wyjaśnienie zadania podczas Ćwiczeń to 1 punkt zdobyty w ramach danego modułu\n",
    "- Wymagam przygotowania do wykonywania zadań udostępnionych w ramach listy\n",
    "- Brak przygotowania do wykonania któregoś z zadań prowadzi do obniżenia maksymalnej ilości punktów możliwych do zdobycia w module o 0.5 punkta\n",
    "- Punkty zdobyte na ćwiczeniach przechodzą na \"konto\" punktów z modułu, więc można zrobić mniej zadań z listy domowej, lub nie robić ich potem w ogóle jeżeli np. uzbieramy 5 punktów z aktywności w module.\n",
    "- Ocena końcowa z kursu wystawiana jest na podstawie procentowej wartości punktów zdobytych w stosunku do wszystkich możliwych do uzyskania punktów (50)\n",
    "\n",
    "---"
   ]
  },
  {
   "cell_type": "markdown",
   "metadata": {
    "nbpresent": {
     "id": "c757e67b-d7f6-4ec1-ae2b-ee5078705a9b"
    },
    "slideshow": {
     "slide_type": "subslide"
    }
   },
   "source": [
    "## Materiały do wykładów\n",
    "\n",
    "---\n",
    "\n",
    "* dokumentacja: https://www.python.org/\n",
    "\n",
    "---\n",
    "\n",
    "* W. McKinney, “Python for Data Analysis: Data Wrangling with Pandas, NumPy, and IPython”\n",
    "* A. B. Downey, J. Elkner, C. Meyers, “Think Python. How to Think Like a Computer Scientist”: http://www.greenteapress.com/thinkpython/\n",
    "* M. Pilgrim, “Dive into Python”: http://www.diveintopython.net/\n",
    "* Swaroop CH \"A Byte of Python\": https://python.swaroopch.com/ (tłumaczenie: http://python.edu.pl/byteofpython/)\n",
    "* https://github.com/jakevdp/PythonDataScienceHandbook\n",
    "\n",
    "* Stackoverflow"
   ]
  },
  {
   "cell_type": "markdown",
   "metadata": {
    "nbpresent": {
     "id": "fd287f8f-7775-433b-997a-d178455a3add"
    },
    "slideshow": {
     "slide_type": "subslide"
    }
   },
   "source": [
    "## Python\n",
    "\n",
    "---\n",
    "\n",
    "> Python is powerful... and fast;\n",
    "> plays well with others;\n",
    "> runs everywhere;\n",
    "> is friendly & easy to learn;\n",
    "> is Open.\n",
    "\n",
    "---\n",
    "\n",
    "Python jest klasyfikowany jako skryptowy język wysokiego poziomu i jest umiejscawiany przy językach t.jk. Perl, Tcl, Ruby. \n",
    "\n",
    "* otwarte oprogramowanie (*open source*)\n",
    "* przenośny\n",
    "    * Linux, Mac OS\n",
    "    * Windows - instalator ze strony https://www.python.org\n",
    "    * Anaconda - https://www.continuum.io/\n",
    "* zwięzły i elegancki (prawie jak pseudokod)\n",
    "* bogata bilbioteka standardowa i niezliczona ilość bibliotek zewnętrznych\n",
    "* struktury wysokiego poziomu"
   ]
  },
  {
   "cell_type": "markdown",
   "metadata": {
    "nbpresent": {
     "id": "fd287f8f-7775-433b-997a-d178455a3add"
    },
    "slideshow": {
     "slide_type": "subslide"
    }
   },
   "source": [
    "## Python - Kiedy nie?\n",
    "\n",
    "\n",
    "Podczas gdy Python jest świetnym środowiskiem w wielu skryptowych i analitycznych zastosowaniach, nie jest o zawsze świetnym rozwiązaniem.\n",
    "\n",
    "Uogólniając, Python nie sprawdzi się w:\n",
    "* Aplikacjach o dużej złożoności obliczeniowej i strukturalnej\n",
    "\n",
    "Często języki kompilowane okażą się wydajniejsze niż Python np. Java, C++\n",
    "* Pytanie co jest cenniejsze, czas programisty czy CPU?\n"
   ]
  },
  {
   "cell_type": "code",
   "execution_count": 1,
   "metadata": {
    "nbpresent": {
     "id": "30ef332f-7a3b-43ed-8b15-194c49ac5d54"
    },
    "slideshow": {
     "slide_type": "subslide"
    }
   },
   "outputs": [
    {
     "name": "stdout",
     "output_type": "stream",
     "text": [
      "The Zen of Python, by Tim Peters\n",
      "\n",
      "Beautiful is better than ugly.\n",
      "Explicit is better than implicit.\n",
      "Simple is better than complex.\n",
      "Complex is better than complicated.\n",
      "Flat is better than nested.\n",
      "Sparse is better than dense.\n",
      "Readability counts.\n",
      "Special cases aren't special enough to break the rules.\n",
      "Although practicality beats purity.\n",
      "Errors should never pass silently.\n",
      "Unless explicitly silenced.\n",
      "In the face of ambiguity, refuse the temptation to guess.\n",
      "There should be one-- and preferably only one --obvious way to do it.\n",
      "Although that way may not be obvious at first unless you're Dutch.\n",
      "Now is better than never.\n",
      "Although never is often better than *right* now.\n",
      "If the implementation is hard to explain, it's a bad idea.\n",
      "If the implementation is easy to explain, it may be a good idea.\n",
      "Namespaces are one honking great idea -- let's do more of those!\n"
     ]
    }
   ],
   "source": [
    "import this"
   ]
  },
  {
   "cell_type": "markdown",
   "metadata": {
    "nbpresent": {
     "id": "de8bed10-4f1b-43ac-9e03-16c52b400b22"
    },
    "slideshow": {
     "slide_type": "subslide"
    }
   },
   "source": [
    "## Tryb interaktywny\n",
    "\n",
    "---\n",
    "\n",
    "```\n",
    "$ python\n",
    "Python 3.5.2 |Anaconda custom (64-bit)| (default, Jul  2 2016, 17:53:06) \n",
    "[GCC 4.4.7 20120313 (Red Hat 4.4.7-1)] on linux\n",
    "Type \"help\", \"copyright\", \"credits\" or \"license\" for more information.\n",
    ">>> oceny_upwr = {2.0: \"niedostateczny\", 3.0: \"dostateczny\",\n",
    "...              3.5: \"dostateczny plus\", 4.0: \"dobry\",\n",
    "...              4.5: \"dobry plus\", 5.0: \"bardzo dobry\"}\n",
    ">>> for ocena in sorted(oceny_uwr, reverse=True):\n",
    "...     print(ocena, oceny_uwr[ocena])\n",
    "... \n",
    "5.0 bardzo dobry\n",
    "4.5 dobry plus\n",
    "4.0 dobry\n",
    "3.5 dostateczny plus\n",
    "3.0 dostateczny\n",
    "2.0 niedostateczny\n",
    ">>> \n",
    "```"
   ]
  },
  {
   "cell_type": "markdown",
   "metadata": {
    "slideshow": {
     "slide_type": "subslide"
    }
   },
   "source": [
    "## Tryb skryptowy\n",
    "\n",
    "---\n",
    "\n",
    "```\n",
    "$ echo skala_ocen.py \n",
    "#!/usr/bin/env python\n",
    "\n",
    "oceny_upwr = {2.0: \"niedostateczny\", 3.0: \"dostateczny\",\n",
    "             3.5: \"dostateczny plus\", 4.0: \"dobry\",\n",
    "             4.5: \"dobry plus\", 5.0: \"bardzo dobry\"}\n",
    "\n",
    "for ocena in sorted(oceny_uwr, reverse=True):\n",
    "    print(ocena, oceny_upwr[ocena])\n",
    "    \n",
    "$ python skala_ocen.py \n",
    "5.0 bardzo dobry\n",
    "4.5 dobry plus\n",
    "4.0 dobry\n",
    "3.5 dostateczny plus\n",
    "3.0 dostateczny\n",
    "2.0 niedostateczny\n",
    "```"
   ]
  },
  {
   "cell_type": "markdown",
   "metadata": {
    "slideshow": {
     "slide_type": "slide"
    }
   },
   "source": [
    "## Jak pisać swój kod\n",
    "\n",
    "Pracując nad analizą danych, tworzeniem skryptów czy programów, potrzebujemy narzędzi, które pozwolą nam swobodnie posługiwać się danym językiem, sprawnie operować zmiennymi i procesem, zwizualizować dane itd. \n",
    "\n",
    "Skrypt możemy napisać w najprostszym edytorze tekstu t.jk. notatnik czy Notepad++\n",
    "\n",
    "Istnieją notomiast aplikacje dedykowane do pracy z kodem - tzw. IDE "
   ]
  },
  {
   "cell_type": "markdown",
   "metadata": {
    "slideshow": {
     "slide_type": "subslide"
    }
   },
   "source": [
    "## Jupyter\n",
    "\n",
    "---\n",
    "\n",
    "Jupyter notebook to bardzo lekki i webowy edytor kodu. Pozwala na tworzenie interaktywnych arkuszy mogących zawierać kod wykonywalny, opisy, tabele, wykresy i wiele innych danych, które służyć mogą nam między innymi do prezentacji wyników naszych prac. <-- Te wykłady tworzone sa w oprogramowaniu Jupyter Notebook\n",
    "\n",
    "Jupyter Notebook pozwala na wykonywanie fragmentów kodu w komórkach notatnika oraz zapisanie wyników obliczeń czy wizualizacji danych. Dzięki temu całość znajduje się w jednym pliku i możemy łatwo prześledzić cały proces. <-- Zachęcam do używania Jupytera do wykonywania ćwiczeń i list zadań."
   ]
  },
  {
   "cell_type": "markdown",
   "metadata": {
    "slideshow": {
     "slide_type": "subslide"
    }
   },
   "source": [
    "## PyCharm\n",
    "\n",
    "---\n",
    "\n",
    "Pycharm jest zupełnie inną kategorią wagową niż Jupyter. Jest to bardzo rozbudowane środowisko pracy, które posiada olbrzymią ilość funkcji oraz ułatwień programistycznych.\n",
    "\n",
    "Dostępny jest w wersji darmowej PyCharm community oraz płatnej. Tak długo jak nie zarabiamy na programowaniu, nie ma oczywiście potrzeby wydawania złotówki na IDE. Darmowa wersja jest wystarczająco potężna.\n",
    "\n",
    "PyCharm świetnie nadaje się do większych projektów programistycznych, takich jak np. tworzenie portali internetowych. Z drugiej strony nie jest to IDE które używamy przy analizie danych.\n",
    "\n",
    "Instalacja PyCharm:\n",
    "\n",
    "https://www.jetbrains.com/pycharm/download/#section=windows"
   ]
  },
  {
   "cell_type": "markdown",
   "metadata": {
    "slideshow": {
     "slide_type": "subslide"
    }
   },
   "source": [
    "<center><img src=\"https://origin2.cdn.componentsource.com/sites/default/files/styles/image_large/public/images/product_description/jetbrains/pycharm/img_484761.png?itok=fzUvDh7R\"></center>"
   ]
  },
  {
   "cell_type": "markdown",
   "metadata": {
    "slideshow": {
     "slide_type": "subslide"
    }
   },
   "source": [
    "## Spyder\n",
    "\n",
    "---\n",
    "\n",
    "Spyder to klasyczne środowisko programistyczne, swoją budową i działaniem mocno wzorowane na RStudio, flagowym narzędziu programistów R. \n",
    "\n",
    "Posiada sporo opcji konfiguracyjnych (np. predefiniowany wygląd przypominający Matlaba itp.), dzięki czemu odnajdą się w nim osoby posiadające doświadczenie z innymi językami programowania. "
   ]
  },
  {
   "cell_type": "markdown",
   "metadata": {
    "scrolled": true,
    "slideshow": {
     "slide_type": "subslide"
    }
   },
   "source": [
    "<center><img src=\"https://opensource.com/sites/default/files/pictures/python-ide-spyder.jpg\"></center>"
   ]
  },
  {
   "cell_type": "markdown",
   "metadata": {
    "slideshow": {
     "slide_type": "subslide"
    }
   },
   "source": [
    "## Co wybrać\n",
    "\n",
    "* Sumarycznie wybór IDE jest kwestią gustu\n",
    "* W ramach ćwiczeń rekomenduje Jupyter Notebook\n",
    "* Osobiście, na codzień używam Spyder'a\n",
    "* PyCharma nie otwierałem od kilku lat, ale gdy pisałem strony internetowe w Pythonie, potrzebowałem kontroli wersji itp. to było to idealne narzędzie"
   ]
  },
  {
   "cell_type": "markdown",
   "metadata": {
    "slideshow": {
     "slide_type": "slide"
    }
   },
   "source": [
    "## Mój komputer nie rozumie Pythona\n",
    "\n",
    "---\n",
    "\n",
    "Python jest językiem programowania. Aby język ten stał się zrozumiały dla naszego komputera, musimy zainstalować \"translator\" (rdzeń języka). \n",
    "\n",
    "Instalator Pythona można ściągnąć z oficjalnej strony: https://www.python.org/downloads/\n",
    "\n",
    "... ale propouje wykorzystać oprogramowanie Anaconda"
   ]
  },
  {
   "cell_type": "markdown",
   "metadata": {
    "slideshow": {
     "slide_type": "subslide"
    }
   },
   "source": [
    "### Anaconda\n",
    "\n",
    "Rdzeń języka plus standardowe biblioteki stanowi zaledwie małą część tego co do tej pory zdołała utworzyć społeczność Pythona. Anaconda to dystrybucja Pythona zawierająca ważne biblioteki nienależące do standardu wraz z mechanizmem conda umożliwiającym instalację kolejnych.\n",
    "\n",
    "Instalacja Anacondy: https://www.anaconda.com/products/individual\n",
    "Rekomenduje zaisntalowanie najnowszej wersji: 3.x\n",
    "\n",
    "Składnikami Anacondy so m.in.:\n",
    "* doskonały edytor/notatnik Jupyter pozwalający na znacznie bardziej \"eksperymentalny\" tryb pracy niż typowe środowiska programistyczne\n",
    "* IDE Spyder, które rekomenduje do przyszłych projektów i pracy\n",
    "* Wszystkie biblioteki jakich będziemy wymagali na zajęciach"
   ]
  },
  {
   "cell_type": "markdown",
   "metadata": {
    "slideshow": {
     "slide_type": "subslide"
    }
   },
   "source": [
    "(Ja korzystam z Anacondy, więc jeżeli u mnie działa to znaczy, że u Was też bedzie)\n",
    "... \n",
    "\n",
    "Jeżeli, ktoś chciałby podąrzyć inną drogą, nie bronię... ale też nie rozumiem czemu."
   ]
  },
  {
   "cell_type": "markdown",
   "metadata": {
    "slideshow": {
     "slide_type": "subslide"
    }
   },
   "source": [
    "Instalacja pakietów w Anacondzie (przykład):\n",
    "\n",
    "Komenda\n",
    "* conda install biopython\n",
    "zainstaluje pakiet biopython. Komendę tę należy wykonać w oknie Anaconda Prompt (w MS Windows) lub w terminalu (Linux).\n",
    "\n",
    "tip: najlepiej włączyć Anaconda Prompt jako administrator"
   ]
  },
  {
   "cell_type": "markdown",
   "metadata": {
    "slideshow": {
     "slide_type": "slide"
    }
   },
   "source": [
    "## Zapoznanie z Jupyterem\n",
    "\n",
    "Skrót klawiszowy \"H\""
   ]
  },
  {
   "cell_type": "markdown",
   "metadata": {},
   "source": [
    "<center><img src=\"https://linuxhint.com/wp-content/uploads/2022/01/word-image-1571.png\" width=\"80%\"></center>"
   ]
  },
  {
   "cell_type": "markdown",
   "metadata": {
    "nbpresent": {
     "id": "6704c308-4b74-4c21-861c-d60cf3e276d4"
    },
    "slideshow": {
     "slide_type": "slide"
    }
   },
   "source": [
    "## Semantyka kodu\n"
   ]
  },
  {
   "cell_type": "markdown",
   "metadata": {
    "nbpresent": {
     "id": "6704c308-4b74-4c21-861c-d60cf3e276d4"
    },
    "slideshow": {
     "slide_type": "subslide"
    }
   },
   "source": [
    "## Semantyka kodu\n",
    "\n",
    "---\n",
    "\n",
    "* Przypisanie\n",
    "\n",
    "<center><img src=\"./src/Przypisanie.png\"></center>"
   ]
  },
  {
   "cell_type": "markdown",
   "metadata": {
    "nbpresent": {
     "id": "6704c308-4b74-4c21-861c-d60cf3e276d4"
    },
    "slideshow": {
     "slide_type": "subslide"
    }
   },
   "source": [
    "## Semantyka kodu\n",
    "\n",
    "---\n",
    "\n",
    "* Składnie\n",
    "\n",
    "<center><img src=\"./src/Semantyka.png\"></center>"
   ]
  },
  {
   "cell_type": "markdown",
   "metadata": {
    "nbpresent": {
     "id": "6704c308-4b74-4c21-861c-d60cf3e276d4"
    },
    "slideshow": {
     "slide_type": "subslide"
    }
   },
   "source": [
    "## Wszystko jest obiektem\n",
    "\n",
    "---\n",
    "\n",
    "* W Pythonie wszystkie jest obiektem. Wszystko z czego korzystamy istnieje w swoim własnym pudełku, które określane jest jako obiekt Pythona. Każdy obiekt ma przypisany typ/klasę, swoje metody, określone działanie funkcji, i atrybuty. W parktyce czyni do język bardzo elastycznym i spójnym. Im wcześniej sie to zroumie tym łatwiej wejść na kolejne poziomy umiejętności programowania."
   ]
  },
  {
   "cell_type": "markdown",
   "metadata": {
    "nbpresent": {
     "id": "6704c308-4b74-4c21-861c-d60cf3e276d4"
    },
    "slideshow": {
     "slide_type": "subslide"
    }
   },
   "source": [
    "## Funkcje a metody\n",
    "\n",
    "---\n",
    "\n",
    "* Funkcje Pythona wywołujemy poprzez schemat: nazwa(atrybut1,atrybut2)\n",
    "* Niemal każdy obiekt w Pythonie ma \"podpięte\" \"swoje\" \"funkcje\" nazwane metodami"
   ]
  },
  {
   "cell_type": "markdown",
   "metadata": {
    "nbpresent": {
     "id": "6704c308-4b74-4c21-861c-d60cf3e276d4"
    },
    "slideshow": {
     "slide_type": "subslide"
    }
   },
   "source": [
    "## Metody a atrybuty\n",
    "\n",
    "---\n",
    "\n",
    "* Obiekty w Pythonie zazwyczaj posiadają zarówno atrybuty (inne obiekty Pythona przechowywane \"wewnątrz\" obiektu) oraz metody (funkcje związane z obiektem, które mogą mieć dostęp do wewnętrznych danych obiektu)."
   ]
  },
  {
   "cell_type": "markdown",
   "metadata": {
    "slideshow": {
     "slide_type": "slide"
    }
   },
   "source": [
    "## Importy\n",
    "\n",
    "-----------------\n",
    "- Korzystając z \"surowego\" Pythona, użytkownik ma dostęp do ograniczonej funkcjonalności wbudowanych funkcji i typów danych.\n",
    "\n",
    "- Zaawansowana funkcjonalność Pythona zamknięta jest w bibliotekach/modułach, które należy zaimportować, aby móc z nich skorzystać.\n",
    "\n",
    "- W Pythonie moduł to zwyczajnie plik z rozszerzeniem .py zawierający odrobine kodu, który możemy wykorzystać (zbiór funkcji, zmiennych)\n"
   ]
  },
  {
   "cell_type": "markdown",
   "metadata": {
    "slideshow": {
     "slide_type": "subslide"
    }
   },
   "source": [
    "## Importy\n",
    "\n",
    "\n",
    "------------------\n",
    "\n",
    "Przykłady:\n",
    "\n",
    "```\n",
    "import os\n",
    "\n",
    "import scipy.signal as sig\n",
    "\n",
    "from math import *\n",
    "\n",
    "from subprocesses import blabla, blabla2\n",
    "```"
   ]
  },
  {
   "cell_type": "markdown",
   "metadata": {
    "slideshow": {
     "slide_type": "subslide"
    }
   },
   "source": [
    "## Operatory binarne\n",
    "\n",
    "-----------------\n",
    "```\n",
    "a + b\n",
    "a - b\n",
    "a * b\n",
    "a / b\n",
    "a // b (usuwa część po przecinku - floor-divide)\n",
    "a ** b\n",
    "a += b; a *= b; a /= b; --> a = a + b\n",
    "a == b\n",
    "a != b\n",
    "a <= b; a < b\n",
    "a is b\n",
    "a is not b\n",
    "```"
   ]
  },
  {
   "cell_type": "markdown",
   "metadata": {
    "nbpresent": {
     "id": "6704c308-4b74-4c21-861c-d60cf3e276d4"
    },
    "slideshow": {
     "slide_type": "subslide"
    }
   },
   "source": [
    "## Czytelność kodu\n",
    "\n",
    "---\n",
    "\n",
    "* przejrzysty kod\n",
    "* zrozumiałe nazwy zmiennych\n",
    "* dzielenie linii nie boli\n",
    "* konsekwencja w konwencji\n",
    "* najlepiej trzymać się standardu PEP 8: https://www.python.org/dev/peps/pep-0008/\n",
    "* ale bez przesady - przede wszystkim kod ma być czytelny"
   ]
  },
  {
   "cell_type": "markdown",
   "metadata": {
    "slideshow": {
     "slide_type": "subslide"
    }
   },
   "source": [
    "## Wcięcia\n",
    "\n",
    "---\n",
    "* Każdy nowy poziom kodu powinien być od siebie oddzielony przez 4 spacje \n",
    "* Tabulatory nie są zakazane ale należy używać ich konsystentnie w strukturze kodu"
   ]
  },
  {
   "cell_type": "markdown",
   "metadata": {},
   "source": [
    "```\n",
    "# Nie używaj zerowej lini argumentów\n",
    "foo = long_function_name(var_one, var_two,\n",
    "    var_three, var_four)\n",
    "\n",
    "# Nie wstawiaj argumentów i kody zawartego w funkcji z takim samym wcieciem\n",
    "def long_function_name(\n",
    "    var_one, var_two, var_three,\n",
    "    var_four):\n",
    "    print(var_one)\n",
    "```"
   ]
  },
  {
   "cell_type": "markdown",
   "metadata": {
    "slideshow": {
     "slide_type": "subslide"
    }
   },
   "source": [
    "## Długość kodu\n",
    "\n",
    "\n",
    "* Ogranicz każdą linijkę do 79 znaków\n",
    "* Jeśli wykraczasz po za tę liczbę znaków użyj \"\\\\\" i przejdz do kolejnej lini"
   ]
  },
  {
   "cell_type": "markdown",
   "metadata": {},
   "source": [
    "```\n",
    "with open('/path/to/some/file/you/want/to/read') as file_1, \\\n",
    "     open('/path/to/some/file/being/written', 'w') as file_2:\n",
    "    file_2.write(file_1.read())\n",
    "```"
   ]
  },
  {
   "cell_type": "markdown",
   "metadata": {
    "slideshow": {
     "slide_type": "subslide"
    }
   },
   "source": [
    "## Puste linie\n",
    "\n",
    "* Otaczaj najważniejsze funkcje oraz definicje klas dwoma pustymi liniami\n",
    "* Wewnątrz klasy używaj pojedynczych pustych lini w celu rozdzielenia segmentów kodu\n",
    "* Dodatkowe puste linie mogą służyć do oddzielenia grupy powiązanych tematycznie funkcji.\n",
    "* Można pominąć puste linie przy grupie jednolinijkowych prostych fragmentów kodu \n",
    "* wewnątrz funkcji używaj pustych lini, aby oddzielić ligiczne części od siebie"
   ]
  },
  {
   "cell_type": "markdown",
   "metadata": {
    "slideshow": {
     "slide_type": "subslide"
    }
   },
   "source": [
    "# Komentarze\n",
    "\n",
    "* Komentarze które zaburzają klarowność kodu są gorsze niż brak komentarzy\n",
    "* Uzywaj pełnych zdań gdy komentujesz kod\n",
    "* Upewnij się, że twój komentarz jest zrozumiały dla każdego, któ kiedykolwiek miałby przeczytać kod\n",
    "* Uzywaj języka angielskiego\n",
    "\n",
    "## Komentarze blokowe\n",
    "\n",
    "Wplatane za pomocą znaku \"#\" na tym samym poziomie, do którego się odnoszą np:\n",
    "```\n",
    "# przez lenistwo prowadzącego oceny wystawiane losowo\n",
    "for student in lista_studentow:\n",
    "    # losowa ocena\n",
    "    ocena = random.choice(list(oceny_uwr))\n",
    "    # przypisanie oceny\n",
    "    print(student, \" -> \", oceny_uwr[ocena])\n",
    "```"
   ]
  },
  {
   "cell_type": "markdown",
   "metadata": {
    "slideshow": {
     "slide_type": "subslide"
    }
   },
   "source": [
    "## Komentarze w tej samej linii co kod\n",
    "\n",
    "Raczej unikamy\n",
    "```\n",
    "x = x + 1                 # Increment x\n",
    "```\n",
    "... chyba, że mają coś wnieść, wtedy nikt Ci tego nie zabroni\n",
    "\n",
    "## Dokumentowanie funkcji/modułów\n",
    "\n",
    "```\n",
    "\"\"\"Return a foobang\n",
    "\n",
    "Optional plotz says to frobnicate the bizbaz first.\n",
    "\"\"\"\n",
    "```"
   ]
  },
  {
   "cell_type": "markdown",
   "metadata": {
    "slideshow": {
     "slide_type": "subslide"
    }
   },
   "source": [
    "# Nazewnictwo\n",
    "\n",
    "Istnieje kilka najbardziej powszechnych styli nazewnictwa zmiennych i funkcji\n",
    "\n",
    "* b (single lowercase letter)\n",
    "* B (single uppercase letter)\n",
    "* lowercase\n",
    "* lower_case_with_underscores\n",
    "* UPPERCASE\n",
    "* UPPER_CASE_WITH_UNDERSCORES\n",
    "* CapitalizedWords (CapWords, CamelCase)\n",
    "Note: Używając CapWords, użyj wielkich liter dla wszystkich liter w akronimie. Więc zmienna HTTPServerError jest lepsza niż HttpServerError.\n",
    "* mixedCase (pierwsza litera mała potem CamelCase)\n",
    "* Capitalized_Words_With_Underscores (ugly!)"
   ]
  },
  {
   "cell_type": "markdown",
   "metadata": {
    "slideshow": {
     "slide_type": "subslide"
    }
   },
   "source": [
    "## Unikamy\n",
    "\n",
    "### Niektórych znaków\n",
    "Nie używaj liter 'l' (lowercase letter el), 'O' (uppercase letter oh), oraz 'I' (uppercase letter eye) jako nazwy zmiennych\n",
    "\n",
    "Te znaki są praktycznie nierozróżnialne w wielu fontach\n",
    "\n",
    "### Kompatybilność ASCI\n",
    "Nie używaj polskich znaków !\n",
    "\n",
    "### Nazwy Klas\n",
    "Używaj konwencji CapWords WspolrzedneStacji()\n",
    "\n",
    "Global Variable Names\n",
    "(Let's hope that these variables are meant for use inside one module only.) The conventions are about the same as those for functions."
   ]
  },
  {
   "cell_type": "markdown",
   "metadata": {
    "slideshow": {
     "slide_type": "subslide"
    }
   },
   "source": [
    "### Funkcje i nazwy zmiennych\n",
    "lowercase, ze słowami oddzielonymi przez \"_\" to_jest_moja_funkcja()\n",
    "\n",
    "mixedCase raczej nie jest rekomendowany, ale ważne żeby być spójnym wewnątrz\n",
    "\n",
    "### Argumnety funkcji\n",
    "* Uzywaj self jako pierwszego argumentu metody\n",
    "* Uzywaj cls jako piewrszy argument klasy\n",
    "\n",
    "### STAŁE\n",
    "\n",
    "Używaj konwencji UPPER_CASE_WITH_UNDERSCORES: PI, TOTAL itd."
   ]
  },
  {
   "cell_type": "markdown",
   "metadata": {
    "slideshow": {
     "slide_type": "subslide"
    }
   },
   "source": [
    "# PEP8 podsumowanie\n",
    "\n",
    "\n",
    "Istnieje jeszcze wiele innych zasad i rekomendacji -> zapraszam do zapoznania się z nimi na stronie https://www.python.org/dev/peps/pep-0008/\n",
    "\n",
    "Należy jednak pamiętać, że to rekomendacje a nie prawo! Pisz kod z głową i zawsze myśl o nim jako o czymś co ma zrozumieć druga osoba"
   ]
  },
  {
   "cell_type": "markdown",
   "metadata": {
    "slideshow": {
     "slide_type": "subslide"
    }
   },
   "source": [
    "## Czytelność kodu - Poprawnie\n",
    "\n",
    "---"
   ]
  },
  {
   "cell_type": "code",
   "execution_count": 2,
   "metadata": {
    "nbpresent": {
     "id": "039b7d59-5ae9-4350-a2c3-36ce2f7175b6"
    },
    "slideshow": {
     "slide_type": "-"
    }
   },
   "outputs": [
    {
     "name": "stdout",
     "output_type": "stream",
     "text": [
      "Kasia  ->  dostateczny plus\n",
      "Basia  ->  dostateczny\n",
      "Józek  ->  dobry plus\n",
      "Marek  ->  dostateczny\n"
     ]
    }
   ],
   "source": [
    "import random\n",
    "\n",
    "# skala ocen obowiązująca na Uniwersytecie Przyrodniczym we Wrocławiu\n",
    "oceny_upwr = {2.0: \"niedostateczny\", \n",
    "              3.0: \"dostateczny\",\n",
    "              3.5: \"dostateczny plus\", \n",
    "              4.0: \"dobry\",\n",
    "              4.5: \"dobry plus\", \n",
    "              5.0: \"bardzo dobry\"}\n",
    "\n",
    "# lista studentów uczęszczających na zajęcia z Pythona\n",
    "lista_studentow = [\"Kasia\", \"Basia\", \"Józek\", \"Marek\"]\n",
    "\n",
    "# przez lenistwo prowadzącego oceny wystawiane losowo\n",
    "for student in lista_studentow:\n",
    "    # losowa ocena\n",
    "    ocena = random.choice(list(oceny_upwr))\n",
    "    # przypisanie oceny\n",
    "    print(student, \" -> \", oceny_upwr[ocena])"
   ]
  },
  {
   "cell_type": "markdown",
   "metadata": {
    "slideshow": {
     "slide_type": "subslide"
    }
   },
   "source": [
    "## Czytelność kodu - Niepoprawnie\n",
    "\n",
    "---"
   ]
  },
  {
   "cell_type": "code",
   "execution_count": 3,
   "metadata": {
    "nbpresent": {
     "id": "e009a058-b362-4d1f-8744-ecacfdeece38"
    },
    "scrolled": true,
    "slideshow": {
     "slide_type": "-"
    }
   },
   "outputs": [
    {
     "name": "stdout",
     "output_type": "stream",
     "text": [
      "Kasia  ->  dostateczny\n",
      "Basia  ->  niedostateczny\n",
      "Józek  ->  bardzo dobry\n",
      "Marek  ->  bardzo dobry\n"
     ]
    }
   ],
   "source": [
    "import random\n",
    "\n",
    "o = {2.0: \"niedostateczny\", 3.0: \"dostateczny\", 3.5: \"dostateczny plus\", \n",
    "     4.0: \"dobry\", 4.5: \"dobry plus\", 5.0: \"bardzo dobry\"}\n",
    "\n",
    "s = [\"Kasia\", \n",
    "     \"Basia\", \n",
    "     \"Józek\",\n",
    "     \"Marek\"]\n",
    "\n",
    "for i in range(len(s)): x = random.randint(2, len(o) - 1); print(s[i], \" -> \", o[x])"
   ]
  },
  {
   "cell_type": "markdown",
   "metadata": {
    "nbpresent": {
     "id": "6704c308-4b74-4c21-861c-d60cf3e276d4"
    },
    "slideshow": {
     "slide_type": "slide"
    }
   },
   "source": [
    "## Najważniejsze biblioteki (dla kursu)\n",
    "\n",
    "---\n",
    "\n",
    "* Numpy\n",
    "* pandas\n",
    "* matplotlib\n",
    "* SciPy\n",
    "* scikit-learn\n",
    "* statsmodels"
   ]
  },
  {
   "cell_type": "markdown",
   "metadata": {
    "slideshow": {
     "slide_type": "subslide"
    }
   },
   "source": [
    "## Numpy\n",
    "\n",
    "---\n",
    "\n",
    "NumPy, skrót od Numerical Python, od dawna jest podstawą obliczeń numerycznych w Pythonie. Dostarcza struktur danych i algorytmów dla większości aplikacji naukowych wykorzystujących dane numeryczne w Pythonie. \n",
    "\n",
    "NumPy zawiera, między innymi:\n",
    "- Szybki i wydajny obiekt wielowymiarowej tablicy ndarray\n",
    "- Funkcje do wykonywania obliczeń element-wise na tablicach lub operacji matematycznych pomiędzy tablicami\n",
    "- Narzędzia do odczytu i zapisu na dysku zbiorów danych opartych na tablicach\n",
    "- Operacje algebry liniowej, transformacja Fouriera i generowanie liczb losowych"
   ]
  },
  {
   "cell_type": "markdown",
   "metadata": {
    "slideshow": {
     "slide_type": "subslide"
    }
   },
   "source": [
    "## pandas\n",
    "\n",
    "---\n",
    "\n",
    "pandas dostarcza wysokopoziomowe struktury danych i funkcje zaprojektowane tak, aby praca z danymi strukturalnymi lub tabelarycznymi była szybka, łatwa i przyjemna. \n",
    "\n",
    "Podstawowymi obiektami w pandas, z których będziemy korzystać, są DataFrame, tabelaryczna, kolumnowa struktura danych z etykietami wierszy i kolumn, oraz Series, jednowymiarowy obiekt tablicowy z etykietami.\n",
    "\n",
    "pandas łączy wysokowydajne, tablicowe pomysły NumPy z elastycznymi  możliwościami manipulacji danymi arkuszy kalkulacyjnych i relacyjnych baz danych (np. SQL)."
   ]
  },
  {
   "cell_type": "markdown",
   "metadata": {
    "slideshow": {
     "slide_type": "subslide"
    }
   },
   "source": [
    "## matplotlib\n",
    "\n",
    "---\n",
    "\n",
    "matplotlib to najpopularniejsza biblioteka Pythona do tworzenia wykresów i innych dwuwymiarowych wizualizacji danych.\n",
    "\n",
    "Chociaż istnieją inne biblioteki wizualizacji, matplotlib jest najczęściej używany, i posiada dobrą integrację z resztą ekosystemu (Numpy, pandas). \n",
    "\n",
    "Jest to bezpieczny wybór jako domyślne narzędzie do wizualizacji.\n"
   ]
  },
  {
   "cell_type": "markdown",
   "metadata": {
    "slideshow": {
     "slide_type": "subslide"
    }
   },
   "source": [
    "## SciPy\n",
    "\n",
    "---\n",
    "\n",
    "SciPy jest zbiorem pakietów zajmujących się wieloma różnymi aspektami\n",
    "w dziedzinie obliczeń naukowych: np. zaawansowana algebra liniowa, statystyka, analiza sygnału\n",
    "\n",
    "\n",
    "## scikit-learn\n",
    "\n",
    "---\n",
    "\n",
    "Główna biblioteka ogólnego zastosowania dostarczająca algorytmów uczenia maszynowego. Zawiera liczne funkcje pomocne w eksploracji danych:\n",
    "- Klasyfikacji\n",
    "- Regresji\n",
    "- Klasteryzacji\n",
    "- Redukcji wymiaru danych\n",
    "- Selekcji\n",
    "- Przetwarzania wstępnego danych\n",
    "\n",
    "\n",
    "## statsmodels\n",
    "\n",
    "---\n",
    "\n",
    "statsmodels jest pakietem do analizy statystycznej, który powstał dzięki pracy profesora statystyki Uniwersytetu Stanforda Jonathana Taylora, który zaimplementował szereg modeli analizy regresji popularnych w języku programowania R. W porównaniu do scikit-learn, statsmodels zawiera algorytmy dla klasycznej statystyki i ekonometrii. \n"
   ]
  },
  {
   "cell_type": "markdown",
   "metadata": {
    "slideshow": {
     "slide_type": "subslide"
    }
   },
   "source": [
    "## Podsumowując\n",
    "\n",
    "---\n",
    "\n",
    "- Działania na macierzach -> Numpy\n",
    "- Działania na danych tabelarycznych -> Pandas\n",
    "- Zaawansowana analiza danych -> SciPy\n",
    "- Eksploracja danych -> scikit-learn\n",
    "- Statystyka -> statsmodels"
   ]
  },
  {
   "cell_type": "markdown",
   "metadata": {
    "slideshow": {
     "slide_type": "subslide"
    }
   },
   "source": [
    "## Maszyna Rube Goldberga"
   ]
  },
  {
   "cell_type": "markdown",
   "metadata": {},
   "source": [
    "Ludzie wolą osiągać swój cel w trudniejszy sposób, niż dążyć do niego szybciej i prościej"
   ]
  },
  {
   "cell_type": "code",
   "execution_count": 4,
   "metadata": {
    "scrolled": true
   },
   "outputs": [
    {
     "ename": "NameError",
     "evalue": "name 'Image' is not defined",
     "output_type": "error",
     "traceback": [
      "\u001b[1;31m---------------------------------------------------------------------------\u001b[0m",
      "\u001b[1;31mNameError\u001b[0m                                 Traceback (most recent call last)",
      "Input \u001b[1;32mIn [4]\u001b[0m, in \u001b[0;36m<cell line: 1>\u001b[1;34m()\u001b[0m\n\u001b[1;32m----> 1\u001b[0m \u001b[43mImage\u001b[49m(url\u001b[38;5;241m=\u001b[39m\u001b[38;5;124m'\u001b[39m\u001b[38;5;124mhttps://upload.wikimedia.org/wikipedia/commons/a/a9/Rube_Goldberg\u001b[39m\u001b[38;5;132;01m%27s\u001b[39;00m\u001b[38;5;124m_\u001b[39m\u001b[38;5;124m%\u001b[39m\u001b[38;5;124m22Self-Operating_Napkin\u001b[39m\u001b[38;5;124m%\u001b[39m\u001b[38;5;124m22_\u001b[39m\u001b[38;5;132;01m%28c\u001b[39;00m\u001b[38;5;124mropped\u001b[39m\u001b[38;5;124m%\u001b[39m\u001b[38;5;124m29.gif\u001b[39m\u001b[38;5;124m'\u001b[39m)\n",
      "\u001b[1;31mNameError\u001b[0m: name 'Image' is not defined"
     ]
    }
   ],
   "source": [
    "Image(url='https://upload.wikimedia.org/wikipedia/commons/a/a9/Rube_Goldberg%27s_%22Self-Operating_Napkin%22_%28cropped%29.gif')"
   ]
  }
 ],
 "metadata": {
  "anaconda-cloud": {},
  "celltoolbar": "Slideshow",
  "kernelspec": {
   "display_name": "Python 3 (ipykernel)",
   "language": "python",
   "name": "python3"
  },
  "language_info": {
   "codemirror_mode": {
    "name": "ipython",
    "version": 3
   },
   "file_extension": ".py",
   "mimetype": "text/x-python",
   "name": "python",
   "nbconvert_exporter": "python",
   "pygments_lexer": "ipython3",
   "version": "3.9.12"
  },
  "rise": {
   "scroll": true
  }
 },
 "nbformat": 4,
 "nbformat_minor": 1
}