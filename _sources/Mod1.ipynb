{
 "cells": [
  {
   "cell_type": "markdown",
   "metadata": {
    "id": "wnKpNgX3L-Wa",
    "nbpresent": {
     "id": "40f70c9c-09df-4e99-b5fd-a7613178fdb7"
    },
    "slideshow": {
     "slide_type": "-"
    }
   },
   "source": [
    "<img src=\"./src/header.png\">"
   ]
  },
  {
   "cell_type": "markdown",
   "metadata": {},
   "source": [
    "\n",
    "----\n",
    "\n",
    "# Moduł 1 - Środowisko Python"
   ]
  },
  {
   "cell_type": "code",
   "execution_count": 13,
   "metadata": {},
   "outputs": [
    {
     "data": {
      "text/plain": [
       "3.1415926535897936"
      ]
     },
     "execution_count": 13,
     "metadata": {},
     "output_type": "execute_result"
    }
   ],
   "source": [
    "from math import atan\n",
    "(8*atan(1/10) - atan(1/239) - 4*atan(1/515))*4"
   ]
  },
  {
   "cell_type": "markdown",
   "metadata": {
    "id": "lGP2n1fFL-Wk",
    "nbpresent": {
     "id": "fd287f8f-7775-433b-997a-d178455a3add"
    }
   },
   "source": [
    "## Python\n",
    "\n",
    "---\n",
    "\n",
    "> Python is powerful... and fast;\n",
    "> plays well with others;\n",
    "> runs everywhere;\n",
    "> is friendly & easy to learn;\n",
    "> is Open.\n",
    "\n",
    "---\n",
    "\n",
    "Python jest klasyfikowany jako skryptowy język wysokiego poziomu i jest umiejscawiany przy językach takich jak Perl, Tcl, Ruby. \n",
    "\n",
    "* otwarte oprogramowanie (*open source*)\n",
    "* przenośny\n",
    "    * Linux, Mac OS\n",
    "    * Windows - instalator ze strony https://www.python.org\n",
    "    * Anaconda - https://www.continuum.io/\n",
    "    * Solaris, Amiga, PlayStation ...\n",
    "* zwięzły i elegancki (prawie jak pseudokod)\n",
    "* bogata bilbioteka standardowa i niezliczona ilość bibliotek zewnętrznych"
   ]
  },
  {
   "cell_type": "markdown",
   "metadata": {},
   "source": [
    "<img src=\"./src/python-and-zope-an-introduction-may-2004-3-638.jpg\">"
   ]
  },
  {
   "cell_type": "markdown",
   "metadata": {},
   "source": [
    "<h2> Język wysokiego poziomu </h2>\n",
    "\n",
    "Nigdy nie ma potrzeby martwienia się problemami typowymi dla języków niskiego poziomu jak:\n",
    "<ul>\n",
    "    <li>Zarządzanie pamięcią</li>\n",
    "    <li>Mapowanie typów zmiennych</li>\n",
    "    <li>Alokacja pamięci</li>\n",
    "</ul>"
   ]
  },
  {
   "cell_type": "markdown",
   "metadata": {},
   "source": [
    "<h2> Jest językiem interpretowanym </h2>\n",
    "\n",
    "Wyróżniamy dwa typy języków:\n",
    "<ul>\n",
    "    <li> Kompilowane </li>\n",
    "    <li> Interpretowane </li>\n",
    "</ul>\n",
    "\n",
    "Języki programowania kompilowane (C/C++) są kowertowane do języka źródłowego (kodu maszynowego), który jest językiem bezpośrednio rozumianym przez komputer (0101001001010) - kodu binarnego.\n",
    "\n",
    "Języki interpretowane, jak Python, nie są kompilowane do kodu binarnego. Kod jest poprostu uruchamiany z kodu źródłowego i intrpretowany za pomocą wbudowanego interpretera. Python konwertuje kod źródłowy do <b>kodu pośredniego</b>, który następnie jest tłumaczony do kodu maszynowego.\n",
    "\n",
    "Nie ma potrzeby zatem martwić się o kompilację kodu, gdyż nie ma takiej potrzeby. Kod pośredni natomiast sprawia, że ten sam kod źródłowy może działać na wielu platformach, gdyż kod źródłowy jest tłumaczony na kod pośredni <i>w sposób zależny od platformy</i>"
   ]
  },
  {
   "cell_type": "markdown",
   "metadata": {},
   "source": [
    "<h2> Jest językiem imperatywnym </h2>\n",
    "\n",
    "Języki możemy podzielić również na:\n",
    "    <ul>\n",
    "    <li>Deklaratywne</li>\n",
    "    <li>Imperatywne</li>\n",
    "    </ul>\n",
    "\n",
    "Języki deklaratywne polegają na przedstawieniu warunków, które musi przedstawiać końcowe rozwiązanie. Brak jest opisu sekwencji kroków potrzebnych do otrzymania tego rezultatu.\n",
    "\n",
    "Języki imperatywne - wręcz przeciwnie, opisywana jest sekwencja kroków, które należy podjąć by osiągnąć zamierzany rezultat. Warunki rezultatu końcowego nie są opisywane."
   ]
  },
  {
   "cell_type": "markdown",
   "metadata": {},
   "source": [
    "<h2> Jest językiem obiektowym </h2>\n",
    "\n",
    "Języki programowania można również podzielić na:\n",
    "\n",
    "<ul>\n",
    "    <li> Strukturalne </li>\n",
    "    <li> Obiektowe </li>\n",
    "</ul>\n",
    "\n",
    "Programowanie strukturalne - zakłada rozdzielenie funkcjonalności na moduły (podprogramy). Komunikują się one ze sobą przez interfejsy. Z założenia bloki kody mają <b> jedno wejście </b> i wiele wyjść. Wykonują wyrażenia w określonej kolejności i korzystają z kontroli przepływu (if, else, for, while, break, continue).\n",
    "\n",
    "Programowanie obiektowe - zakłada reprezentację kodu w postaci obiektów i przypisanie im działań (metod), które mogą wykonywać pewne operacje oraz nadanie im atrybutów/właności."
   ]
  },
  {
   "cell_type": "markdown",
   "metadata": {},
   "source": [
    "<h1>Dlaczego Python?</h1>\n",
    "\n",
    "<h2>Poprawna odpowiedź: Potęga bibliotek</h2>\n",
    "\n",
    "Python ma niepodważalne zalety w postaci <b>oszczędności kodu, łatwości zrozumienia, automatycznego zarządzania pamięcią, przenoszalności i czytelności</b>. Dlatego też został wybrany przez ogromną liczbę programistów i deweloperów blibliotek.\n",
    "\n",
    "Deweloperzy bibliotek napisali odpowiednie narzędzia, które umożliwiają wykonywanie wszystkiego co potrafią konkurencyjne języki. Dzięki temu, Python to świetne narzędzie <b>do wszystkiego</b>"
   ]
  },
  {
   "cell_type": "markdown",
   "metadata": {
    "id": "U3Gwa0EcL-Wl",
    "nbpresent": {
     "id": "fd287f8f-7775-433b-997a-d178455a3add"
    }
   },
   "source": [
    "## Python - Kiedy nie?\n",
    "------------\n",
    "\n",
    "Podczas gdy Python jest świetnym środowiskiem w wielu skryptowych i analitycznych zastosowaniach, nie jest to zawsze najbardziej optymalne rozwiązanie.\n",
    "\n",
    "Uogólniając, Python nie sprawdzi się w:\n",
    "* Aplikacjach o bardzo bardzo dużej złożoności obliczeniowej i strukturalnej\n",
    "\n",
    "Często języki kompilowane okażą się wydajniejsze niż Python np. Java, C++\n",
    "* Pytanie co jest cenniejsze, czas programisty czy CPU?\n"
   ]
  },
  {
   "cell_type": "markdown",
   "metadata": {
    "id": "kehEgUsGL-Wp",
    "nbpresent": {
     "id": "de8bed10-4f1b-43ac-9e03-16c52b400b22"
    }
   },
   "source": [
    "## Tryb interaktywny - konsola\n",
    "\n",
    "---\n",
    "\n",
    "```\n",
    "$ python\n",
    "Python 3.5.2 |Anaconda custom (64-bit)| (default, Jul  2 2016, 17:53:06) \n",
    "[GCC 4.4.7 20120313 (Red Hat 4.4.7-1)] on linux\n",
    "Type \"help\", \"copyright\", \"credits\" or \"license\" for more information.\n",
    ">>> oceny_upwr = {2.0: \"niedostateczny\", 3.0: \"dostateczny\",\n",
    "...              3.5: \"dostateczny plus\", 4.0: \"dobry\",\n",
    "...              4.5: \"dobry plus\", 5.0: \"bardzo dobry\"}\n",
    ">>> for ocena in sorted(oceny_uwr, reverse=True):\n",
    "...     print(ocena, oceny_uwr[ocena])\n",
    "... \n",
    "5.0 bardzo dobry\n",
    "4.5 dobry plus\n",
    "4.0 dobry\n",
    "3.5 dostateczny plus\n",
    "3.0 dostateczny\n",
    "2.0 niedostateczny\n",
    ">>> \n",
    "```"
   ]
  },
  {
   "cell_type": "markdown",
   "metadata": {
    "id": "RdlRGh46L-Wq"
   },
   "source": [
    "## Tryb skryptowy\n",
    "\n",
    "---"
   ]
  },
  {
   "cell_type": "markdown",
   "metadata": {},
   "source": [
    "<img src=\"./src/Mod1_skrypt1.png\">"
   ]
  },
  {
   "cell_type": "markdown",
   "metadata": {
    "id": "RdlRGh46L-Wq"
   },
   "source": [
    "```   \n",
    "$ python skala_ocen.py \n",
    "5.0 bardzo dobry\n",
    "4.5 dobry plus\n",
    "4.0 dobry\n",
    "3.5 dostateczny plus\n",
    "3.0 dostateczny\n",
    "2.0 niedostateczny\n",
    "```"
   ]
  },
  {
   "cell_type": "markdown",
   "metadata": {},
   "source": [
    "<img src=\"./src/Mod1_argparse.png\">"
   ]
  },
  {
   "cell_type": "markdown",
   "metadata": {
    "id": "RdlRGh46L-Wq"
   },
   "source": [
    "---\n",
    "\n",
    "```   \n",
    "$ python argparse.py\n",
    "usage: argparse_basic.py [-h] argument1\n",
    "argparse_basic.py: error: the following arguments are required: argument1\n",
    "\n",
    "$ python argparse.py \"Hello, world!\"\n",
    "Hello, world!\n",
    "\n",
    "$ python argparse.py 3.14159\n",
    "3.14159\n",
    "```"
   ]
  },
  {
   "cell_type": "markdown",
   "metadata": {
    "id": "trrJfaX5L-Wq"
   },
   "source": [
    "## Jak pisać swój kod\n",
    "---\n",
    "\n",
    "Pracując nad analizą danych, tworzeniem skryptów czy programów, potrzebujemy narzędzi, które pozwolą nam swobodnie posługiwać się danym językiem, sprawnie operować zmiennymi i procesem, zwizualizować dane itd. \n",
    "\n",
    "Skrypt możemy napisać w najprostszym edytorze tekstu t.jk. notatnik czy Notepad++\n",
    "\n",
    "Istnieją notomiast aplikacje dedykowane do pracy z kodem - tzw. IDE - zintegrowane środowisko programistyczne (Integrated Development Environment)"
   ]
  },
  {
   "cell_type": "markdown",
   "metadata": {},
   "source": [
    "<h1>Co to jest IDE?</h1>\n",
    "\n",
    "Integrated Development Environment to środowisko programistyczne, które służy do tworzenia, modyfikowania i testowania oprogramowania/ kodu źródłowego. Wiele firm oferuje różne środowiska, zarówno darmowe, jak również zaawanosowane płatne wersje.\n",
    "\n",
    "IDE umozliwia między innymi:\n",
    "<ul>\n",
    "    <li>Szybką i wygodną edycję kodu</li>\n",
    "    <li>Debugowanie kodu (śledzenie wartości zmiennych, zatrzymywanie kodu w dowolnym miejscu)</li>\n",
    "    <li>Podpowiedzi nazw funkcji i zmiennych</li>\n",
    "    <li>Dynamiczne sprawdzanie składni</li>\n",
    "</ul>\n",
    "\n",
    "Python domyślnie instaluje proste środowisko <b>IDLE</b>, które nie ma zbyt wielu funkcjonalności."
   ]
  },
  {
   "cell_type": "markdown",
   "metadata": {
    "id": "O71wK7_5L-Wr"
   },
   "source": [
    "## Jupyter \n",
    "\n",
    "---\n",
    "\n",
    "Jupyter notebook to bardzo lekki i webowy edytor kodu. Pozwala na tworzenie interaktywnych arkuszy mogących zawierać kod wykonywalny, opisy, tabele, wykresy i wiele innych danych, które służyć mogą nam między innymi do prezentacji wyników naszych prac. <-- Te wykłady tworzone sa w oprogramowaniu Jupyter Notebook / Jupyter-Book\n",
    "\n",
    "Jupyter Notebook pozwala na wykonywanie fragmentów kodu w komórkach notatnika oraz zapisanie wyników obliczeń czy wizualizacji danych. Dzięki temu całość znajduje się w jednym pliku i możemy łatwo prześledzić cały proces. <-- Zachęcam do używania Jupytera do wykonywania ćwiczeń i list zadań."
   ]
  },
  {
   "cell_type": "markdown",
   "metadata": {
    "id": "O71wK7_5L-Wr"
   },
   "source": [
    "## Google Colab\n",
    "\n",
    "---\n",
    "\n",
    "Google Colaboratory (\"Colab\") to notatnik (podobny do notatnika Jupyter), w którym można uruchamiać kod Pythona na Dysku Google.\n",
    "\n",
    "Możesz pisać tekst, pisać kod, uruchamiać ten kod i wyświetlać dane wyjściowe - wszystko w tym samym notatniku.\n",
    "\n",
    "Korzyści z Google Colab: \n",
    "Udostępnianie notatników jest tak proste, jak udostępnianie dowolnego dokumentu Google.\n",
    "\n",
    "Możesz używać języka Python na swoim Dysku Google, a konfiguracja zajmie mniej niż pięć minut.\n",
    "\n",
    "Ponieważ Python działa na serwerze (a nie w lokalnej przeglądarce lub na lokalnym komputerze), możesz z łatwością używać go gdziekolwiek i wykonywać interakcje ze źródłami zewnętrznymi np. z internetową bazą danych."
   ]
  },
  {
   "cell_type": "markdown",
   "metadata": {
    "id": "Pbo5SJDBL-Wr"
   },
   "source": [
    "## PyCharm\n",
    "\n",
    "---\n",
    "\n",
    "Pycharm jest zupełnie inną kategorią wagową niż Jupyter. Jest to bardzo rozbudowane środowisko pracy, które posiada olbrzymią ilość funkcji oraz ułatwień programistycznych.\n",
    "\n",
    "Dostępny jest w wersji darmowej PyCharm community oraz płatnej. Tak długo jak nie zarabiamy na programowaniu, nie ma oczywiście potrzeby wydawania złotówki na IDE. Darmowa wersja jest wystarczająco potężna.\n",
    "\n",
    "PyCharm świetnie nadaje się do większych projektów programistycznych, takich jak np. tworzenie portali internetowych. Z drugiej strony nie jest to IDE które używamy przy analizie danych.\n",
    "\n",
    "Instalacja PyCharm:\n",
    "\n",
    "https://www.jetbrains.com/pycharm/download/#section=windows"
   ]
  },
  {
   "cell_type": "markdown",
   "metadata": {
    "id": "3mAik0ySL-Ws"
   },
   "source": [
    "<center><img src=\"https://origin2.cdn.componentsource.com/sites/default/files/styles/image_large/public/images/product_description/jetbrains/pycharm/img_484761.png?itok=fzUvDh7R\"></center>"
   ]
  },
  {
   "cell_type": "markdown",
   "metadata": {
    "id": "fFivNx-NL-Ws"
   },
   "source": [
    "## Spyder\n",
    "\n",
    "---\n",
    "\n",
    "Spyder to klasyczne środowisko programistyczne, swoją budową i działaniem mocno wzorowane na RStudio, flagowym narzędziu programistów R. \n",
    "\n",
    "Posiada sporo opcji konfiguracyjnych (np. predefiniowany wygląd przypominający Matlaba itp.), dzięki czemu odnajdą się w nim osoby posiadające doświadczenie z innymi językami programowania. "
   ]
  },
  {
   "cell_type": "markdown",
   "metadata": {
    "id": "NIpqZs0AL-Wt",
    "scrolled": true
   },
   "source": [
    "<center><img src=\"https://raw.githubusercontent.com/spyder-ide/spyder/5.x/img_src/screenshot.png\"></center>"
   ]
  },
  {
   "cell_type": "markdown",
   "metadata": {
    "id": "XLAWT408L-Wt"
   },
   "source": [
    "## Co wybrać\n",
    "\n",
    "* Sumarycznie wybór IDE jest kwestią gustu\n",
    "* W ramach kursu rekomenduje Jupyter Notebook/Google Colab\n",
    "* Osobiście, na codzień używam Spyder'a, chyba że pracuje nad jakimś Webowym projektem wtedy np. używam Sublime z wtyczkami do kontroli wersji\n",
    "\n",
    "* Wymieniona lista nie jest zamknięta: Oprócz wspomnianego Sublime'a, wymieniłbym jeszcze Visual Studio Code, IDLE czy PyDev"
   ]
  },
  {
   "cell_type": "markdown",
   "metadata": {
    "id": "m3MG6p0fL-Wu"
   },
   "source": [
    "## Mój komputer nie rozumie Pythona\n",
    "\n",
    "---\n",
    "\n",
    "Python jest językiem programowania. \n",
    "\n",
    "Aby język ten stał się zrozumiały dla naszego komputera, musimy zainstalować \"translator\" (rdzeń języka). \n",
    "\n",
    "Instalator Pythona można ściągnąć z oficjalnej strony: https://www.python.org/downloads/\n",
    "\n",
    "... ale propouje wykorzystać oprogramowanie Anaconda lub Minforge"
   ]
  },
  {
   "cell_type": "markdown",
   "metadata": {
    "id": "qSjXc-3KL-Wu"
   },
   "source": [
    "### Anaconda\n",
    "\n",
    "Rdzeń języka plus standardowe biblioteki stanowi zaledwie małą część tego co do tej pory zdołała utworzyć społeczność Pythona. Anaconda to dystrybucja Pythona zawierająca ważne biblioteki nienależące do standardu wraz z mechanizmem conda umożliwiającym instalację kolejnych.\n",
    "\n",
    "Instalacja Anacondy: https://www.anaconda.com/products/individual\n",
    "Rekomenduje zaisntalowanie najnowszej wersji: 3.x\n",
    "\n",
    "Składnikami Anacondy so m.in.:\n",
    "* Jupyter \n",
    "* IDE Spyder, które rekomenduje do wygodnej pracy z danymi\n",
    "* Wszystkie biblioteki jakich będziemy wymagali na kursie"
   ]
  },
  {
   "cell_type": "markdown",
   "metadata": {
    "id": "7oNu3W13L-Wv"
   },
   "source": [
    "Instalacja pakietów w Anacondzie (przykład):\n",
    "\n",
    "Komenda\n",
    "* conda install biopython\n",
    "zainstaluje pakiet biopython. Komendę tę należy wykonać w oknie Anaconda Prompt lub Anaconda Powershell Prompty (w MS Windows) lub w terminalu (Linux).\n",
    "\n",
    "tip: najlepiej włączyć Anaconda Prompt jako administrator"
   ]
  },
  {
   "cell_type": "markdown",
   "metadata": {
    "id": "2X4xGJPkL-Wx",
    "nbpresent": {
     "id": "6704c308-4b74-4c21-861c-d60cf3e276d4"
    }
   },
   "source": [
    "## Semantyka kodu\n",
    "\n",
    "---\n",
    "\n",
    "* Przypisanie"
   ]
  },
  {
   "cell_type": "markdown",
   "metadata": {
    "scrolled": true
   },
   "source": [
    "<img src=\"./src/Przypisanie.png\">"
   ]
  },
  {
   "cell_type": "markdown",
   "metadata": {
    "id": "2X4xGJPkL-Wx",
    "nbpresent": {
     "id": "6704c308-4b74-4c21-861c-d60cf3e276d4"
    }
   },
   "source": [
    "## Wszystko jest obiektem\n",
    "\n",
    "---"
   ]
  },
  {
   "cell_type": "markdown",
   "metadata": {
    "id": "Nf2CUdRKL-Wx",
    "nbpresent": {
     "id": "6704c308-4b74-4c21-861c-d60cf3e276d4"
    }
   },
   "source": [
    "<img src=\"./src/Semantyka.png\">"
   ]
  },
  {
   "cell_type": "markdown",
   "metadata": {
    "id": "97DXI19EL-Wx",
    "nbpresent": {
     "id": "6704c308-4b74-4c21-861c-d60cf3e276d4"
    }
   },
   "source": [
    "* W Pythonie wszystkie jest obiektem. Wszystko z czego korzystamy istnieje w swoim własnym pudełku, które określane jest jako obiekt Pythona. Każdy obiekt ma przypisaną klasę, swoje metody, określone działanie funkcji, i atrybuty. W parktyce czyni do język bardzo elastycznym i spójnym. Im wcześniej sie to zrozumie tym łatwiej wejść na kolejne poziomy umiejętności programowania."
   ]
  },
  {
   "cell_type": "markdown",
   "metadata": {
    "id": "6OhDT9tnL-Wx",
    "nbpresent": {
     "id": "6704c308-4b74-4c21-861c-d60cf3e276d4"
    }
   },
   "source": [
    "## Funkcje a metody\n",
    "\n",
    "---\n",
    "\n",
    "* Funkcje Pythona wywołujemy poprzez schemat: nazwa(atrybut1,atrybut2)\n",
    "* Niemal każdy obiekt (a tak naprawdę klasa) w Pythonie ma \"podpięte\" \"swoje\" \"funkcje\" nazwane metodami"
   ]
  },
  {
   "cell_type": "markdown",
   "metadata": {},
   "source": [
    "<h1>Funkcje</h1>\n",
    "\n",
    "Funcje mają strukturę (syntax) następującej postaci:\n",
    "\n",
    "<i><b>nazwa</b>(parametr_1,parametr_2,...,parametr_n)</i>\n",
    "\n",
    "Wyróżniamy <b>funkcje wbudowane</b> i <b> funkcje zdefiniowane przez użytkownika</b>.\n",
    "\n",
    "Funkcje wbudowane są dostepne poprzez wywołanie ich nazwy wprost w kodzie (dostępne tu: https://docs.python.org/2/library/functions.html). Przykładem takiej funkcji jest <b>print()</b>\n",
    "\n",
    "Funkcje definiowane przez użytkownika pozwalają na utworzenie nowej funkcjonalności (zajmiemy się nimi później)"
   ]
  },
  {
   "cell_type": "markdown",
   "metadata": {},
   "source": [
    "<h1> Metody </h1>\n",
    "\n",
    "Python jest językiem programowania <b> obiektowego </b>. Oznacza to, że wszystko w nim jest <b>obietem</b>, który ma swoje właściwości, takie jak atrybuty i metody (o tym dokładniej w dalszej części wykładów).\n",
    "\n",
    "Metody wywoływane są zatem na <b>obiektach</b>. Ich syntax to:\n",
    "<i><b>nazwa_obiektu</b>.nazwa_metody(parametr_1,parametr_2,...,parametr_n)</i>\n",
    "\n",
    "Istnieje w języku kilka wbudowanych obiektów, które posiadają wbudowane metody. Przykładem wbudowanych obiektów są typy danych."
   ]
  },
  {
   "cell_type": "markdown",
   "metadata": {
    "id": "i9YrOWIHL-Wy",
    "nbpresent": {
     "id": "6704c308-4b74-4c21-861c-d60cf3e276d4"
    }
   },
   "source": [
    "## Metody a atrybuty\n",
    "\n",
    "---\n",
    "\n",
    "* Obiekty w Pythonie zazwyczaj posiadają zarówno atrybuty (inne obiekty Pythona przechowywane \"wewnątrz\" obiektu) oraz metody (funkcje związane z obiektem, które mogą mieć dostęp do wewnętrznych danych obiektu)."
   ]
  },
  {
   "cell_type": "markdown",
   "metadata": {},
   "source": [
    "<h1>Klasy</h1>\n",
    "Żeby zrozumieć istotę działania metod i ich różność od funkcji oraz atrybutów, przyjrzyjmy się czym jest obiekt.\n",
    "\n",
    "Obiekt to <b>wszystko</b> co napiszemy w Pythonie. To zarówno klasy jak i funkcje.\n",
    "\n",
    "Spotkamy się z metodami przypisanymi do klas. Klasa to bardzo ważny element języków obiektowych.\n"
   ]
  },
  {
   "cell_type": "markdown",
   "metadata": {},
   "source": [
    "<h2>Czym zatem jest klasa?</h2>\n",
    "\n",
    "<b>Klasa</b> to <i>abstrakcja</i> pewnego obiektu. Oznacza to uogólnieniony opis pewnego elementu, który zdefiniowany jest przez taką klasę poprzez określenie jego typowych <b>cech (atrybutów) i operacji (metod), które można na nim wykonać</b>. Tą samą strukturą opisujemy elementy świata rzeczywistego.\n",
    "    \n",
    "Przykład obrazujący:\n",
    "\n",
    "<b>Pizza</b> to abstrakcyjna klasa, którą opisujemy pewien typ dania. \n",
    "Ma cechy (atrybuty):\n",
    "<ul>\n",
    "    <li>Składniki</li>\n",
    "    <li>Sos</li>\n",
    "</ul>\n",
    "\n",
    "Oraz metody:\n",
    "<ul>\n",
    "    <li>Jedz</li>\n",
    "    <li>Polej oliwą</li>\n",
    "    <li>Wyrzuć (nie używać!)</li>\n",
    "</ul>"
   ]
  },
  {
   "cell_type": "markdown",
   "metadata": {},
   "source": [
    "<h1>Instancja</h1>\n",
    "\n",
    "To praktyczna realizacja klasy.\n",
    "\n",
    "Kontynuując przykład obrazujący:\n",
    "\n",
    "Piekąc pizzę nadajemy jej atrybuty - składniki (pieczarki, ser) i sos (pomidorowy). Wtedy otrzymujemy <b> instancję</b> klasy pizza w postaci <i>pizzy funghi</i>.\n",
    "\n",
    "<b>Pizza</b> to abstrakcyjna klasa, którą opisujemy pewien typ dania. \n",
    "Ma cechy (atrybuty):\n",
    "<ul>\n",
    "    <li>Składniki = [pieczarki, ser]</li>\n",
    "    <li>Sos = pomidorowy</li>\n",
    "</ul>\n",
    "\n",
    "Teraz możemy wywołać metodę na naszej instancji, która zdefiniowana już jest w klasie:\n",
    "\n",
    "pizza_funghi.jedz()"
   ]
  },
  {
   "cell_type": "markdown",
   "metadata": {
    "id": "o4ang6lpL-Wy"
   },
   "source": [
    "## Importy\n",
    "\n",
    "-----------------\n",
    "- Korzystając z \"surowego\" Pythona, użytkownik ma dostęp do ograniczonej funkcjonalności wbudowanych funkcji i typów danych.\n",
    "\n",
    "- Zaawansowana funkcjonalność Pythona zamknięta jest w bibliotekach/modułach, które należy zaimportować, aby móc z nich skorzystać.\n",
    "\n",
    "- W Pythonie moduł to zwyczajnie plik z rozszerzeniem .py zawierający odrobine kodu, który możemy wykorzystać (zbiór funkcji, zmiennych, klas)\n"
   ]
  },
  {
   "cell_type": "markdown",
   "metadata": {
    "id": "CVvjiUubL-Wy"
   },
   "source": [
    "## Importy\n",
    "\n",
    "\n",
    "------------------\n",
    "\n",
    "Przykłady:\n",
    "\n",
    "```\n",
    "import os\n",
    "\n",
    "import scipy.signal as sig\n",
    "\n",
    "from math import *\n",
    "\n",
    "from subprocesses import blabla, blabla2\n",
    "```"
   ]
  },
  {
   "cell_type": "markdown",
   "metadata": {
    "id": "4wZ-3YbIL-Wy"
   },
   "source": [
    "## Operatory binarne\n",
    "\n",
    "-----------------\n",
    "```\n",
    "a + b\n",
    "a - b\n",
    "a * b\n",
    "a / b\n",
    "a // b (usuwa część po przecinku - floor-divide)\n",
    "a ** b\n",
    "a += b; a *= b; a /= b; --> a = a + b\n",
    "a == b\n",
    "a != b\n",
    "a <= b; a < b\n",
    "a is b\n",
    "a is not b\n",
    "```"
   ]
  },
  {
   "cell_type": "markdown",
   "metadata": {
    "id": "8pVgsgd2L-Wy",
    "nbpresent": {
     "id": "6704c308-4b74-4c21-861c-d60cf3e276d4"
    }
   },
   "source": [
    "## Czytelność kodu\n",
    "\n",
    "---\n",
    "\n",
    "* przejrzysty kod\n",
    "* zrozumiałe nazwy zmiennych\n",
    "* dzielenie linii nie boli\n",
    "* konsekwencja w konwencji\n",
    "* najlepiej trzymać się standardu PEP 8: https://www.python.org/dev/peps/pep-0008/\n",
    "* ale bez przesady - przede wszystkim kod ma być czytelny"
   ]
  },
  {
   "cell_type": "markdown",
   "metadata": {
    "id": "424yfsRCL-Wz"
   },
   "source": [
    "## Wcięcia\n",
    "\n",
    "---\n",
    "* Każdy nowy poziom kodu powinien być od siebie oddzielony przez 4 spacje \n",
    "* Tabulatory nie są zakazane ale należy używać ich konsystentnie w strukturze kodu"
   ]
  },
  {
   "cell_type": "markdown",
   "metadata": {
    "id": "x30T1tYmL-Wz"
   },
   "source": [
    "# Komentarze\n",
    "\n",
    "* Komentarze które zaburzają klarowność kodu są gorsze niż brak komentarzy\n",
    "* Uzywaj pełnych zdań gdy komentujesz kod\n",
    "* Upewnij się, że twój komentarz jest zrozumiały dla każdego, któ kiedykolwiek miałby przeczytać kod\n",
    "* Uzywaj języka angielskiego\n",
    "\n",
    "## Komentarze blokowe\n",
    "\n",
    "Wplatane za pomocą znaku \"#\" na tym samym poziomie, do którego się odnoszą np:\n",
    "```\n",
    "# przez lenistwo prowadzącego oceny wystawiane losowo\n",
    "for student in lista_studentow:\n",
    "    # losowa ocena\n",
    "    ocena = random.choice(list(oceny_uwr))\n",
    "    # przypisanie oceny\n",
    "    print(student, \" -> \", oceny_uwr[ocena])\n",
    "```"
   ]
  },
  {
   "cell_type": "markdown",
   "metadata": {
    "id": "iK6dE_J_L-Wz"
   },
   "source": [
    "## Komentarze w tej samej linii co kod\n",
    "\n",
    "Raczej unikamy\n",
    "```\n",
    "x = x + 1                 # Increment x\n",
    "```\n",
    "... chyba, że mają coś wnieść, wtedy nikt Ci tego nie zabroni\n",
    "\n",
    "## Dokumentowanie funkcji/modułów\n",
    "\n",
    "```\n",
    "def says(self, sound=None):\n",
    "    \"\"\"Prints what the animals name is and what sound it makes.\n",
    "\n",
    "    If the argument `sound` isn't passed in, the default Animal\n",
    "    sound is used.\n",
    "\n",
    "    Parameters\n",
    "    ----------\n",
    "    sound : str, optional\n",
    "        The sound the animal makes (default is None)\n",
    "\n",
    "    Raises\n",
    "    ------\n",
    "    NotImplementedError\n",
    "        If no sound is set for the animal or passed in as a\n",
    "        parameter.\n",
    "    \"\"\"\n",
    "    \n",
    "def say_hello(name):\n",
    "    \"\"\"A simple function that says hello...\"\"\"\n",
    "    print(f\"Hello {name}, is it me you're looking for?\")\n",
    "```"
   ]
  },
  {
   "cell_type": "markdown",
   "metadata": {
    "id": "ZAYH4kJVL-W0"
   },
   "source": [
    "## Unikamy\n",
    "\n",
    "### Niektórych znaków\n",
    "Nie używaj liter 'l' (lowercase letter el), 'O' (uppercase letter oh), oraz 'I' (uppercase letter eye) jako nazwy zmiennych\n",
    "\n",
    "Te znaki są praktycznie nierozróżnialne w wielu fontach\n",
    "\n",
    "### Kompatybilność ASCI\n",
    "Mimo, że Python Ci na to pozwoli, nie używaj polskich znaków !\n",
    "\n",
    "### Nazwy Klas\n",
    "Używaj konwencji CapWords WspolrzedneStacji()"
   ]
  },
  {
   "cell_type": "markdown",
   "metadata": {
    "id": "0KoC_HtyL-W0"
   },
   "source": [
    "### Funkcje i nazwy zmiennych\n",
    "lowercase, ze słowami oddzielonymi przez \"_\" to_jest_moja_funkcja()\n",
    "\n",
    "mixedCase raczej nie jest rekomendowany, ale ważne żeby być spójnym wewnątrz\n",
    "\n",
    "### Argumnety funkcji\n",
    "* Uzywaj self jako pierwszego argumentu metody\n",
    "* Uzywaj cls jako piewrszy argument klasy\n",
    "\n",
    "### STAŁE\n",
    "\n",
    "Używaj konwencji UPPER_CASE_WITH_UNDERSCORES: PI, TOTAL itd."
   ]
  },
  {
   "cell_type": "markdown",
   "metadata": {
    "id": "7XDxKoV0L-W0"
   },
   "source": [
    "## Czytelność kodu - Poprawnie\n",
    "\n",
    "---"
   ]
  },
  {
   "cell_type": "code",
   "execution_count": 2,
   "metadata": {
    "id": "K8c68iCFL-W0",
    "nbpresent": {
     "id": "039b7d59-5ae9-4350-a2c3-36ce2f7175b6"
    },
    "outputId": "e800b8d6-f781-440b-cd3a-3f2d1e0b4483"
   },
   "outputs": [
    {
     "name": "stdout",
     "output_type": "stream",
     "text": [
      "Kasia  ->  dobry plus\n",
      "Basia  ->  dostateczny\n",
      "Józek  ->  dostateczny plus\n",
      "Marek  ->  dobry plus\n"
     ]
    }
   ],
   "source": [
    "import random\n",
    "\n",
    "# skala ocen obowiązująca na Uniwersytecie Przyrodniczym we Wrocławiu\n",
    "oceny_upwr = {2.0: \"niedostateczny\", \n",
    "              3.0: \"dostateczny\",\n",
    "              3.5: \"dostateczny plus\", \n",
    "              4.0: \"dobry\",\n",
    "              4.5: \"dobry plus\", \n",
    "              5.0: \"bardzo dobry\"}\n",
    "\n",
    "# lista studentów uczęszczających na zajęcia z Pythona\n",
    "lista_studentow = [\"Kasia\", \"Basia\", \"Józek\", \"Marek\"]\n",
    "\n",
    "# przez lenistwo prowadzącego oceny wystawiane losowo\n",
    "for student in lista_studentow:\n",
    "    # losowa ocena\n",
    "    ocena = random.choice(list(oceny_upwr))\n",
    "    # przypisanie oceny\n",
    "    print(student, \" -> \", oceny_upwr[ocena])"
   ]
  },
  {
   "cell_type": "markdown",
   "metadata": {
    "id": "cUy7UxJyL-W1"
   },
   "source": [
    "## Czytelność kodu - Niepoprawnie\n",
    "\n",
    "---"
   ]
  },
  {
   "cell_type": "code",
   "execution_count": null,
   "metadata": {
    "id": "gNk6oNVGL-W1",
    "nbpresent": {
     "id": "e009a058-b362-4d1f-8744-ecacfdeece38"
    },
    "outputId": "dfcaf0b5-48c6-4ee5-e124-98e266f341af",
    "scrolled": true
   },
   "outputs": [
    {
     "name": "stdout",
     "output_type": "stream",
     "text": [
      "Kasia  ->  bardzo dobry\n",
      "Basia  ->  dobry\n",
      "Józek  ->  dobry\n",
      "Marek  ->  dobry\n"
     ]
    }
   ],
   "source": [
    "import random\n",
    "\n",
    "o = {2.0: \"niedostateczny\", 3.0: \"dostateczny\", 3.5: \"dostateczny plus\", \n",
    "     4.0: \"dobry\", 4.5: \"dobry plus\", 5.0: \"bardzo dobry\"}\n",
    "\n",
    "s = [\"Kasia\", \n",
    "     \"Basia\", \n",
    "     \"Józek\",\n",
    "     \"Marek\"]\n",
    "\n",
    "for i in range(len(s)): x = random.randint(2, len(o) - 1); print(s[i], \" -> \", o[x])"
   ]
  }
 ],
 "metadata": {
  "anaconda-cloud": {},
  "colab": {
   "provenance": []
  },
  "kernelspec": {
   "display_name": "Python 3 (ipykernel)",
   "language": "python",
   "name": "python3"
  },
  "language_info": {
   "codemirror_mode": {
    "name": "ipython",
    "version": 3
   },
   "file_extension": ".py",
   "mimetype": "text/x-python",
   "name": "python",
   "nbconvert_exporter": "python",
   "pygments_lexer": "ipython3",
   "version": "3.9.12"
  },
  "rise": {
   "scroll": true
  }
 },
 "nbformat": 4,
 "nbformat_minor": 1
}
