{
 "cells": [
  {
   "cell_type": "markdown",
   "metadata": {
    "id": "wnKpNgX3L-Wa",
    "nbpresent": {
     "id": "40f70c9c-09df-4e99-b5fd-a7613178fdb7"
    },
    "slideshow": {
     "slide_type": "-"
    }
   },
   "source": [
    "<img src=\"./src/header.png\">"
   ]
  },
  {
   "cell_type": "markdown",
   "metadata": {
    "slideshow": {
     "slide_type": "slide"
    }
   },
   "source": [
    "\n",
    "----\n",
    "\n",
    "# Moduł 3 - Ćwiczenia\n",
    "---\n"
   ]
  },
  {
   "cell_type": "markdown",
   "metadata": {
    "slideshow": {
     "slide_type": "slide"
    }
   },
   "source": [
    "\n",
    "----\n",
    "\n",
    "## Zad 1\n",
    "---\n",
    "\n",
    "Połącz dwie listy tak aby zwróciły oczekiwany wynik:\n",
    "\n",
    "Wejście:\n",
    "```\n",
    "imie = ??\n",
    "imie1 =\n",
    "imie2 = \n",
    "```\n",
    "```\n",
    "list1 = [\"M\", \"n\", \"i\", imie1] \n",
    "list2 = [\"am\", \"a\", \"mię\", imie2]\n",
    "```\n",
    "W miejsce “??” wstaw swoje imie, imie1 to pierwsza litera imienia, pozyskana ze zmiennej imie, imie2 to pozostałe litery imienia, pozyskane ze zmiennej imie\n",
    "\n",
    "Wyjście dla imienia „Radek”:\n",
    "```\n",
    "['Mam', 'na', 'imię', 'Radek']\n",
    "```"
   ]
  },
  {
   "cell_type": "markdown",
   "metadata": {
    "slideshow": {
     "slide_type": "slide"
    }
   },
   "source": [
    "\n",
    "----\n",
    "\n",
    "## Zad 2\n",
    "---\n",
    "\n",
    "Wykorzystaj listę składaną (*list comprehension*), aby stworzyć sekwencję kwadratów liczb naturalnych mniejszych od 100. Następnie (korzystając z pętli for oraz funkcji *enumerate*) wydrukuj na ekranie:\n",
    "\n",
    "```\n",
    "1 -> 1\n",
    "2 -> 4\n",
    "3 -> 9\n",
    "…\n",
    "```"
   ]
  },
  {
   "cell_type": "code",
   "execution_count": null,
   "metadata": {},
   "outputs": [],
   "source": []
  },
  {
   "cell_type": "markdown",
   "metadata": {
    "slideshow": {
     "slide_type": "slide"
    }
   },
   "source": [
    "\n",
    "----\n",
    "\n",
    "## Zad 3\n",
    "---\n",
    "\n",
    "Przeanalizuj poniższy kod:\n",
    "\n",
    "```py\n",
    "i = 0\n",
    "# drukujemy wszystkie liczby parzyste mniejsze od 10\n",
    "while i < 10:\n",
    "    if i % 2:    # reszta z dzielenia != 0 -> True\n",
    "        continue # pomiń liczby nieparzyste\n",
    "    else:\n",
    "        print(i) # drukuj liczby parzyste\n",
    "i += 1 # zwiększ i o jeden\n",
    "```\n",
    "* Czy skrypt będzie działał zgodnie z założeniami? Jeśli nie, to napraw go.\n"
   ]
  },
  {
   "cell_type": "code",
   "execution_count": null,
   "metadata": {},
   "outputs": [],
   "source": []
  },
  {
   "cell_type": "markdown",
   "metadata": {
    "slideshow": {
     "slide_type": "slide"
    }
   },
   "source": [
    "\n",
    "----\n",
    "\n",
    "## Zad 4\n",
    "---\n",
    "\n",
    "Uzupełnij skrypt o brakujące fragmenty:\n",
    "```\n",
    "i += 1 # zwiększ i o jeden\n",
    "# lista zakupów\n",
    "zakupy = ['jajka', 'mleko', 'chleb', 'maslo', 'piwo']\n",
    "# ilość sztuk\n",
    "n_items = []\n",
    "# zakazane produkty\n",
    "prohibited = ['wódka', 'piwo', 'wino']\n",
    "\n",
    "# w pętli pytamy użytkownika, ile sztuk danego produktu chce kupić\n",
    "for product in grocery:\n",
    "    # zapytaj użytkownika o wiek\n",
    "    # wydrukuj na ekranie komunikat: \"Produkt [nazwa produktu]: sztuk = \"\n",
    "    # pobierz liczbę od użytkownika i zapisz w n_items\n",
    "    # jeśli wiek mniejszy niż 18, pomiń produkty zakazane (i automatycznie     przyjmij ilość = 0)\n",
    "# drukujemy listę zakupów\n",
    "print(\"{:-^50}\".format(\"Lista zakupów\"), end=\"\\n\\n\")\n",
    "# w pętli wydrukuj: [lp]. [nazwa produktu]: [ilość]\n",
    "# czyli np.: 1. jajka: 5 itd.\n",
    "```\n"
   ]
  },
  {
   "cell_type": "code",
   "execution_count": null,
   "metadata": {},
   "outputs": [],
   "source": []
  },
  {
   "cell_type": "markdown",
   "metadata": {
    "slideshow": {
     "slide_type": "slide"
    }
   },
   "source": [
    "\n",
    "----\n",
    "\n",
    "## Zad 5\n",
    "---\n",
    "\n",
    "Napisz skrypt, który:\n",
    "\n",
    "- losuje liczbę całkowitą mniejszą od 100 (`help(random.randint)`)\n",
    "- pyta użytkownika o odgadnięcie liczby\n",
    "- informuje użytkownika, czy podana przez niego liczba jest:\n",
    "    - dużo mniejsza (różnica > 50)\n",
    "    - mniejsza (różnica > 10)\n",
    "    - trochę mniejsza\n",
    "    - trochę większa\n",
    "    - większa (różnica > 10)\n",
    "    - dużo większa (różnica > 50)\n",
    "- program się kończy, gdy użytkownik odgadnie wylosowaną liczbę"
   ]
  },
  {
   "cell_type": "code",
   "execution_count": null,
   "metadata": {},
   "outputs": [],
   "source": []
  },
  {
   "cell_type": "markdown",
   "metadata": {
    "slideshow": {
     "slide_type": "slide"
    }
   },
   "source": [
    "\n",
    "----\n",
    "\n",
    "## Zad 6\n",
    "---\n",
    "\n",
    "Stosując pętle wyświetl następujący wzór:\n",
    "```\n",
    "1 \n",
    "1 2 \n",
    "1 2 3 \n",
    "1 2 3 4 \n",
    "1 2 3 4 5\n",
    "```"
   ]
  },
  {
   "cell_type": "code",
   "execution_count": null,
   "metadata": {},
   "outputs": [],
   "source": []
  },
  {
   "cell_type": "markdown",
   "metadata": {
    "slideshow": {
     "slide_type": "slide"
    }
   },
   "source": [
    "\n",
    "----\n",
    "\n",
    "## Zad 7\n",
    "---\n",
    "\n",
    "Napisz skrypt który obliczy silnie dowolnej liczby całkowitej.\n",
    "\n",
    "Dla przypomnienia:\n",
    "5! = 5 × 4 × 3 × 2 × 1 = 120\n"
   ]
  },
  {
   "cell_type": "code",
   "execution_count": null,
   "metadata": {},
   "outputs": [],
   "source": []
  },
  {
   "cell_type": "markdown",
   "metadata": {
    "slideshow": {
     "slide_type": "slide"
    }
   },
   "source": [
    "\n",
    "----\n",
    "\n",
    "## Zad 8\n",
    "---\n",
    "\n",
    "Poproś użytkownika o podanie dowolnego <i>n</i> a następnie znajdź sumę podanego wyrażenia: 2 +22 + 222 + 2222 + .. 2xn dla dowolnego n\n",
    "\n",
    "Dla przykładu, wynik dla n=5\n",
    "\n",
    "2 + 22 + 222 + 2222 + 22222 = 24690\n"
   ]
  },
  {
   "cell_type": "code",
   "execution_count": null,
   "metadata": {},
   "outputs": [],
   "source": []
  },
  {
   "cell_type": "markdown",
   "metadata": {
    "slideshow": {
     "slide_type": "slide"
    }
   },
   "source": [
    "\n",
    "----\n",
    "\n",
    "## Zad 9\n",
    "---\n",
    "\n",
    "Stosując pętle (dowolną ilość), wyświetl następujący wzór:\n",
    "```\n",
    "* \n",
    "**\n",
    "***\n",
    "****\n",
    "*****\n",
    "****\n",
    "***\n",
    "**\n",
    "*\n",
    "```"
   ]
  },
  {
   "cell_type": "code",
   "execution_count": null,
   "metadata": {},
   "outputs": [],
   "source": []
  },
  {
   "cell_type": "markdown",
   "metadata": {
    "slideshow": {
     "slide_type": "slide"
    }
   },
   "source": [
    "\n",
    "----\n",
    "\n",
    "## Zad 10\n",
    "---\n",
    "\n",
    "Mając zmienną `pi = math.pi` stosując metodę .format(), wyświetl:\n",
    "```\n",
    "π = 3.14\n",
    "```\n"
   ]
  },
  {
   "cell_type": "code",
   "execution_count": null,
   "metadata": {},
   "outputs": [],
   "source": []
  },
  {
   "cell_type": "markdown",
   "metadata": {
    "slideshow": {
     "slide_type": "slide"
    }
   },
   "source": [
    "\n",
    "----\n",
    "\n",
    "## Zad 11\n",
    "---\n",
    "Za pomocą pętli wyświetl ciąg Fibonacciego dla wyrazu 9 (rozpoczynając od 1)\n",
    "\n",
    "Oczekiwane wyjście:\n",
    "```\n",
    "Ile wyrazów: 9\n",
    "Ciąg Fibonacciego: \n",
    "1, 1, 2, 3, 5, 8, 13, 21, 34\n",
    "```"
   ]
  },
  {
   "cell_type": "code",
   "execution_count": null,
   "metadata": {},
   "outputs": [],
   "source": []
  },
  {
   "cell_type": "markdown",
   "metadata": {
    "slideshow": {
     "slide_type": "slide"
    }
   },
   "source": [
    "\n",
    "----\n",
    "\n",
    "## Zad 12\n",
    "---\n",
    "Za pomocą pętli usuń wszystkie powtarzające się elementy z listy aList\n",
    "```\n",
    "aList = [1,1,3,4,5,6,6,7,7,8,3]\n",
    "```"
   ]
  },
  {
   "cell_type": "code",
   "execution_count": null,
   "metadata": {},
   "outputs": [],
   "source": []
  },
  {
   "cell_type": "markdown",
   "metadata": {
    "slideshow": {
     "slide_type": "slide"
    }
   },
   "source": [
    "\n",
    "----\n",
    "\n",
    "## Zad 13\n",
    "---\n",
    "\n",
    "Napisz w pętli sprawdzenie czy dowolna liczba jest liczbą pierwszą. Rozwiąż dla dowolnego przykładu oraz liczby 407 "
   ]
  },
  {
   "cell_type": "code",
   "execution_count": null,
   "metadata": {},
   "outputs": [],
   "source": []
  }
 ],
 "metadata": {
  "anaconda-cloud": {},
  "kernelspec": {
   "display_name": "Python 3 (ipykernel)",
   "language": "python",
   "name": "python3"
  },
  "language_info": {
   "codemirror_mode": {
    "name": "ipython",
    "version": 3
   },
   "file_extension": ".py",
   "mimetype": "text/x-python",
   "name": "python",
   "nbconvert_exporter": "python",
   "pygments_lexer": "ipython3",
   "version": "3.11.3"
  },
  "rise": {
   "enable_chalkboard": true,
   "scroll": true
  }
 },
 "nbformat": 4,
 "nbformat_minor": 1
}
