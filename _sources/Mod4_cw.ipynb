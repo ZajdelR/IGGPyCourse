{
 "cells": [
  {
   "cell_type": "markdown",
   "metadata": {
    "id": "wnKpNgX3L-Wa",
    "nbpresent": {
     "id": "40f70c9c-09df-4e99-b5fd-a7613178fdb7"
    },
    "slideshow": {
     "slide_type": "-"
    }
   },
   "source": [
    "<img src=\"./src/header.png\">"
   ]
  },
  {
   "cell_type": "markdown",
   "metadata": {
    "slideshow": {
     "slide_type": "slide"
    }
   },
   "source": [
    "\n",
    "----\n",
    "\n",
    "# Moduł 4 - Ćwiczenia - 2024/2025\n",
    "---\n"
   ]
  },
  {
   "cell_type": "markdown",
   "metadata": {
    "slideshow": {
     "slide_type": "slide"
    }
   },
   "source": [
    "\n",
    "----\n",
    "\n",
    "## Zad 1\n",
    "---\n",
    "\n",
    "Połącz dwa słowniki\n",
    "\n",
    "Wejście:\n",
    "```\n",
    "dict1 = {'Dziesiec': 10, 'Dwadziescia': 20, 'Trzydziesci': 30}\n",
    "dict2 = {'Trzydziesci': 30, 'Czterdziesci': 40, 'Piecdziesiat': 50}\n",
    "```"
   ]
  },
  {
   "cell_type": "code",
   "execution_count": null,
   "metadata": {},
   "outputs": [],
   "source": []
  },
  {
   "cell_type": "markdown",
   "metadata": {
    "slideshow": {
     "slide_type": "slide"
    }
   },
   "source": [
    "\n",
    "----\n",
    "\n",
    "## Zad 2\n",
    "---\n",
    "\n",
    "W oparciu o slownik:\n",
    "```\n",
    "students = {\n",
    "  'Anna': {'age': 21, 'score': 88},\n",
    "  'Jakub': {'age': 22, 'score': 75},\n",
    "  'Marta': {'age': 20, 'score': 95},\n",
    "  'Piotr': {'age': 23, 'score': 70}\n",
    "}\n",
    "```\n",
    "\n",
    "- Znajdź nazwisko studenta o najwyższym wyniku.\n",
    "- Wyświetl nazwiska studentów, których wiek jest poniżej 22 lat."
   ]
  },
  {
   "cell_type": "code",
   "execution_count": null,
   "metadata": {},
   "outputs": [],
   "source": []
  },
  {
   "cell_type": "markdown",
   "metadata": {
    "slideshow": {
     "slide_type": "slide"
    }
   },
   "source": [
    "\n",
    "----\n",
    "\n",
    "## Zad 3\n",
    "---\n",
    "\n",
    "Stwórz słownik reprezentujący bibliotekę, w którym kluczem jest **ISBN** książki, a wartością jest szczegółowy słownik zawierający informacje o książce.\n",
    "\n",
    "1. Zapytaj użytkownika o dane książki:\n",
    "   - **ISBN** - unikalny identyfikator książki\n",
    "   - **Tytuł książki**\n",
    "   - **Autor**\n",
    "   - **Rok wydania**\n",
    "   \n",
    "2. Dodaj książkę do słownika tylko wtedy, jeśli ISBN jest unikalny (sprawdź, czy taki ISBN już nie istnieje w słowniku).\n",
    "\n",
    "3. Po każdej dodanej książce:\n",
    "   - Wyświetl listę dotychczas dodanych książek w formacie:  \n",
    "     *\"ISBN: Tytuł (Autor, Rok wydania)\"*\n",
    "   - Zapytaj, czy użytkownik chce dodać kolejną książkę. Jeśli nie, zakończ program i wyświetl końcową listę książek.\n",
    "\n",
    "4. Po zakończeniu, wyświetl licznik dodanych książek."
   ]
  },
  {
   "cell_type": "code",
   "execution_count": null,
   "metadata": {},
   "outputs": [],
   "source": []
  },
  {
   "cell_type": "markdown",
   "metadata": {
    "slideshow": {
     "slide_type": "slide"
    }
   },
   "source": [
    "\n",
    "----\n",
    "\n",
    "## Zad 4\n",
    "---\n",
    "\n",
    "Napisz funkcję, która na podstawie podanych argumentów: **imię**, **PESEL**, oraz **stanowisko**, dodaje kolejne osoby do słownika `ludzie`.\n",
    "\n",
    "1. **Struktura słownika**:\n",
    "   - Słownik `ludzie` przechowuje każdą osobę jako osobny wpis, gdzie kluczem jest numer PESEL, a wartością - słownik z informacjami o tej osobie.\n",
    "\n",
    "2. **Informacje o osobie**:\n",
    "   - Każda osoba jest reprezentowana przez słownik zawierający:\n",
    "     - **Imię** - imię osoby (argument funkcji).\n",
    "     - **Wiek** - wyliczany na podstawie numeru PESEL.\n",
    "     - **Stanowisko** - argument funkcji; jeśli nie podano stanowiska, przyjmij domyślną wartość **\"Bezrobotny\"**.\n",
    "\n",
    "3. **Wyliczanie wieku**:\n",
    "   - Funkcja powinna analizować numer PESEL, aby określić wiek osoby (zakładając aktualny rok).\n"
   ]
  },
  {
   "cell_type": "code",
   "execution_count": null,
   "metadata": {},
   "outputs": [],
   "source": []
  },
  {
   "cell_type": "markdown",
   "metadata": {
    "slideshow": {
     "slide_type": "slide"
    }
   },
   "source": [
    "\n",
    "----\n",
    "\n",
    "## Zad 5\n",
    "---\n",
    "\n",
    "Napisz funkcję, która przyjmuje dowolną liczbę argumentów pozycyjnych (liczb), a następnie:\n",
    "\n",
    "1. Zwraca różnicę pomiędzy największą i najmniejszą wartością spośród podanych argumentów.\n",
    "2. Jeśli użytkownik poda mniej niż dwa argumenty, funkcja powinna zwrócić `None`.\n"
   ]
  },
  {
   "cell_type": "code",
   "execution_count": null,
   "metadata": {},
   "outputs": [],
   "source": []
  },
  {
   "cell_type": "markdown",
   "metadata": {
    "slideshow": {
     "slide_type": "slide"
    }
   },
   "source": [
    "\n",
    "----\n",
    "\n",
    "## Zad 6\n",
    "---\n",
    "\n",
    "Zdefiniuj funkcję, która obliczy całkowity koszt koszyka zakupów na podstawie ilości produktów oraz ich cen jednostkowych. W zadaniu uwzględnij dodatkowe warunki:\n",
    "\n",
    "1. **Dane wejściowe**:\n",
    "   - Słownik `koszyk`, gdzie kluczem jest nazwa produktu, a wartością ilość tego produktu w koszyku.\n",
    "   - Słownik `ceny`, gdzie kluczem jest nazwa produktu, a wartością jego cena jednostkowa.\n",
    "\n",
    "2. **Obliczenia**:\n",
    "   - Funkcja powinna przeiterować przez produkty w koszyku i dla każdego z nich obliczyć koszt na podstawie ilości oraz ceny jednostkowej.\n",
    "   - Jeśli w koszyku jest produkt, którego cena nie jest zdefiniowana w słowniku `ceny`, funkcja powinna wyświetlić ostrzeżenie i pominąć ten produkt w obliczeniach.\n",
    "\n",
    "3. **Dodatkowe warunki**:\n",
    "   - Jeżeli koszyk zawiera produkt o ilości `0`, funkcja powinna go pominąć.\n",
    "   - Funkcja powinna uwzględniać zniżkę 10% na koszyk, jeśli całkowita cena przekroczy 100 zł.\n",
    "   - Funkcja powinna zwracać końcowy koszt koszyka oraz szczegółowy koszt dla każdego produktu.\n",
    "\n",
    "# Przykładowe dane\n",
    "koszyk = {\n",
    "    \"banany\": 6,\n",
    "    \"jablka\": 0,\n",
    "    \"pomarancze\": 32,\n",
    "    \"gruszki\": 15,\n",
    "    \"ananas\": 2  # brak ceny dla tego produktu\n",
    "}\n",
    "\n",
    "ceny = {\n",
    "    \"banany\": 4,\n",
    "    \"jablka\": 2,\n",
    "    \"pomarancze\": 1.5,\n",
    "    \"gruszki\": 3\n",
    "}"
   ]
  },
  {
   "cell_type": "code",
   "execution_count": null,
   "metadata": {},
   "outputs": [],
   "source": []
  },
  {
   "cell_type": "markdown",
   "metadata": {
    "slideshow": {
     "slide_type": "slide"
    }
   },
   "source": [
    "\n",
    "----\n",
    "\n",
    "## Zad 7\n",
    "---\n",
    "\n",
    "Napisz funkcję, która pobiera od użytkownika współczynniki trójmianu kwadratowego, a następnie podaje jego rozwiązania."
   ]
  },
  {
   "cell_type": "code",
   "execution_count": null,
   "metadata": {},
   "outputs": [],
   "source": []
  },
  {
   "cell_type": "markdown",
   "metadata": {
    "slideshow": {
     "slide_type": "slide"
    }
   },
   "source": [
    "\n",
    "----\n",
    "\n",
    "## Zad 8\n",
    "---\n",
    "\n",
    "Napisz funkcję, która przyjmuje dowolną liczbę argumentów pozycyjnych oraz kluczowych i wyświetla je w uporządkowany sposób.\n",
    "\n",
    "1. **Argumenty pozycyjne**:\n",
    "   - Funkcja powinna drukować każdy argument pozycyjny w formie listy, gdzie każdy element ma format:\n",
    "     ```\n",
    "     1 -> wartość pierwszego argumentu\n",
    "     2 -> wartość drugiego argumentu\n",
    "     …\n",
    "     ```\n",
    "\n",
    "2. **Argumenty kluczowe**:\n",
    "   - Funkcja powinna drukować każdy argument kluczowy w formie listy, gdzie każdy element ma format:\n",
    "     ```\n",
    "     nazwa (klucz) -> wartość\n",
    "     nazwa (klucz) -> wartość\n",
    "     …\n",
    "     ```\n",
    "\n",
    "3. **Przekazywanie argumentów z listy i słownika**:\n",
    "   - Utwórz listę oraz słownik z przykładowymi wartościami.\n",
    "   - Następnie przekaż elementy listy jako argumenty pozycyjne, a elementy słownika jako argumenty kluczowe do swojej funkcji.\n",
    "\n",
    "### Przykład użycia funkcji\n",
    "\n",
    "```python\n",
    "def wyswietl_argumenty(*args, **kwargs):\n",
    "    # Wyświetlanie argumentów pozycyjnych\n",
    "    for i, arg in enumerate(args, start=1):\n",
    "        print(f\"{i} -> {arg}\")\n",
    "    \n",
    "    # Wyświetlanie argumentów kluczowych\n",
    "    for key, value in kwargs.items():\n",
    "        print(f\"{key} (klucz) -> {value}\")\n",
    "\n",
    "# Przykładowe dane\n",
    "lista_argumentow = [\"jabłko\", \"banan\", \"gruszka\"]\n",
    "slownik_argumentow = {\"kolor\": \"czerwony\", \"smak\": \"słodki\", \"waga\": \"lekka\"}\n",
    "\n",
    "# Przekazanie listy jako argumentów pozycyjnych i słownika jako argumentów kluczowych\n",
    "wyswietl_argumenty(*lista_argumentow, **slownik_argumentow)\n"
   ]
  },
  {
   "cell_type": "code",
   "execution_count": null,
   "metadata": {},
   "outputs": [],
   "source": []
  },
  {
   "cell_type": "markdown",
   "metadata": {
    "slideshow": {
     "slide_type": "slide"
    }
   },
   "source": [
    "\n",
    "----\n",
    "\n",
    "## Zad 9\n",
    "---\n",
    "Napisz funkcję, która przyjmuje liczbę całkowitą `n` i zwraca słownik, w którym:\n",
    "\n",
    "- Kluczami są liczby całkowite od `1` do `n`.\n",
    "- Wartościami są listy zawierające wszystkie dzielniki danej liczby.\n",
    "\n",
    "### Przykład działania funkcji:\n",
    "\n",
    "   Dla `n = 5`, słownik powinien wyglądać tak:\n",
    "   ```python\n",
    "   {\n",
    "       1: [1],\n",
    "       2: [1, 2],\n",
    "       3: [1, 3],\n",
    "       4: [1, 2, 4],\n",
    "       5: [1, 5]\n",
    "   }\n"
   ]
  },
  {
   "cell_type": "code",
   "execution_count": null,
   "metadata": {},
   "outputs": [],
   "source": []
  },
  {
   "cell_type": "markdown",
   "metadata": {
    "slideshow": {
     "slide_type": "slide"
    }
   },
   "source": [
    "\n",
    "----\n",
    "\n",
    "## Zad 10\n",
    "---\n",
    "\n",
    "Napisz funkcję, która przyjmuje dowolną liczbę słowników jako argumenty, a następnie łączy je w jeden słownik. Żaden element nie może zostać utracony. Jeśli klucze są zduplikowane, dodaj do nich przyrostek „_n”, gdzie `n` to numer powtórzenia klucza.\n",
    "\n",
    "1. **Argumenty**:\n",
    "   - Funkcja przyjmuje dowolną liczbę słowników, które będą łączone.\n",
    "\n",
    "2. **Łączenie słowników**:\n",
    "   - Jeśli klucz pojawia się więcej niż raz:\n",
    "     - Pierwsza wartość danego klucza pozostaje bez zmian.\n",
    "     - Kolejne powtórzenia klucza otrzymują przyrostek „_n”, gdzie `n` to numer powtórzenia klucza.\n",
    "   - Wszystkie elementy z przekazanych słowników powinny być obecne w połączonym słowniku.\n",
    "\n",
    "3. **Przykład użycia funkcji**\n",
    "\n",
    "   ```python\n",
    "   dict1 = {'Kasia': 3, 'Basia': 3, 'Zosia': 10}\n",
    "   dict2 = {'Kasia': 3}\n",
    "   dict3 = {'Kasia': 6, 'Zosia': 8, 'Paweł': 4}\n",
    "\n",
    "   polaczony_slownik = laczenie_slownikow(dict1, dict2, dict3)\n",
    "   ```\n",
    "   Oczekiwany wynik\n",
    "   ```\n",
    "   {\n",
    "    'Kasia': 3,\n",
    "    'Basia': 3,\n",
    "    'Zosia': 10,\n",
    "    'Kasia_1': 3,\n",
    "    'Kasia_2': 6,\n",
    "    'Zosia_1': 8,\n",
    "    'Paweł': 4\n",
    "    }\n",
    "   ```"
   ]
  },
  {
   "cell_type": "code",
   "execution_count": null,
   "metadata": {},
   "outputs": [],
   "source": []
  }
 ],
 "metadata": {
  "anaconda-cloud": {},
  "kernelspec": {
   "display_name": "Python 3 (ipykernel)",
   "language": "python",
   "name": "python3"
  },
  "language_info": {
   "codemirror_mode": {
    "name": "ipython",
    "version": 3
   },
   "file_extension": ".py",
   "mimetype": "text/x-python",
   "name": "python",
   "nbconvert_exporter": "python",
   "pygments_lexer": "ipython3",
   "version": "3.11.3"
  },
  "rise": {
   "enable_chalkboard": true,
   "scroll": true
  }
 },
 "nbformat": 4,
 "nbformat_minor": 4
}
