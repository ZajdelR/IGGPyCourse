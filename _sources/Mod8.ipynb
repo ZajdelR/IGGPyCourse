{
 "cells": [
  {
   "cell_type": "markdown",
   "metadata": {
    "id": "wnKpNgX3L-Wa",
    "nbpresent": {
     "id": "40f70c9c-09df-4e99-b5fd-a7613178fdb7"
    },
    "slideshow": {
     "slide_type": "-"
    }
   },
   "source": [
    "<img src=\"./src/header.png\">"
   ]
  },
  {
   "cell_type": "markdown",
   "metadata": {},
   "source": [
    "# Moduł 8 - Pisanie skryptów konsolowych\r\n",
    "\r\n",
    "-----\r\n",
    "\r\n",
    "Możesz potrzebować napisać skrypt konsolowy w języku Python w różnych sytuacjach. Oto kilka typowych przypadków, kiedy to jest przydatne:\r\n",
    "\r\n",
    "1. Automatyzacja: Skrypty konsolowe są używane do automatyzacji powtarzalnych zadań lub przetwarzania danych wsadowych (plików tekstowych). Przykładowo, możesz napisać skrypt do zmiany nazw plików, konwersji danych z jednego formatu na inny lub do pobierania plików z internetu.\r\n",
    "2. Administracja systemem: Skrypty konsolowe są przydatne dla administratorów systemów do zarządzania i monitorowania serwerów i systemów. Możesz napisać skrypty do sprawdzania stanu serwera, analizy logów, tworzenia kopii zapasowych danych lub do wykonywania zadań związanych z konserwacją systemu. Takie skrypty mogą być uruchamiane systemowo, zaplanowane w harmonogramie zadań s\n",
    "\n",
    "W tym Module nauczymy się: \n",
    "- jak \"wybierać\" pliki, które nas interesują z puli wszystkich plików, które posiadamy\n",
    "- jak tworzyć skrypty konsolowe\n",
    "- jak manipulowac plikami z poziomu języka Python (biblioteka os)\n",
    "- jak przeprowadzać operacje wejścia/wyjścia na plikachystemu.ystemu.i programowania."
   ]
  },
  {
   "cell_type": "markdown",
   "metadata": {},
   "source": [
    "## Symbole wieloznaczne (Wildcards) kontra Regex\n",
    "\n",
    "---\n",
    "\n",
    "Symbole wieloznaczne i wyrażenia regularne to dwie bardzo popularne składnie poszukiwania tekstu w wielu pakietach oprogramowania. Podstawową zasadą jest zdefiniowanie wzorca słów, który umożliwia znalezienie wszystkich pasujących słów w tekście. W tym kursie skupimy się wyłącznie na symbolach wieloznacznych tzn. Wild"
   ]
  },
  {
   "cell_type": "markdown",
   "metadata": {},
   "source": [
    "## Symbole wieloznaczne (Wildcards)\n",
    "Ich pochodzenie sięga lat 70. XX wieku i wywodzi się z interpreterów poleceń systemu operacyjnego Unix, a później Uniksa , a także systemów operacyjnych MS-DOS i Windows.\n",
    "\n",
    "Wzorzec symboli wieloznacznych wykorzystuje głównie dwa następujące specjalne metaznaki:\n",
    "\n",
    "- ? - reprezentuje pojedynczy (dokładnie jeden) znak, łącznie ze spacją\n",
    "- * - reprezentuje wiele (zero lub więcej) znaków, łącznie ze spacją.\n",
    "    \n",
    "Ta prosta i intuicyjna składnia jest ogólnie dobrze znana użytkownikom, którzy mogą jej używać do wyszukiwania plików.\n",
    "\n",
    "Na przykład wzór `*day` pasuje do czegoś, po czym następuje day: np. Monday, Tuesday, Sunday."
   ]
  },
  {
   "cell_type": "markdown",
   "metadata": {},
   "source": [
    "<img src=\"./src/Mod8_wildcard1.png\">"
   ]
  },
  {
   "cell_type": "markdown",
   "metadata": {},
   "source": [
    "Inny przykład: `P?rti?l` dopasuje `Partial`, albo `Partiel` ale nie `Prtial`"
   ]
  },
  {
   "cell_type": "markdown",
   "metadata": {},
   "source": [
    "<img src=\"./src/Mod8_wildcard2.png\">"
   ]
  },
  {
   "cell_type": "markdown",
   "metadata": {},
   "source": [
    "Inne dostępne \"metaznaki\", ale mniej lub bardziej obsługiwane w zależności od oprogramowania:\r\n",
    "\r\n",
    "- `[]` - Dopasowuje znaki w nawiasach\r\n",
    "- `#` - Dopasowuje dowolną pojedynczą cyfrę (0–9)\r\n",
    "- `[! ]` - Nie obejmuje znaków znajdujących się w nawiasach.\r\n",
    "- `[a-z]` - Dopasowuje zakres znaków w kolejności rosnącej.\r\n",
    "- `{ }` - Lista wzorów oddzielona przecinkiem ,.\r\n",
    "\r\n",
    "Na przykład:\r\n",
    "\r\n",
    "Page `7[1-2]` pasuje `Page 71` i `Page 72` ale nie `Page 73` `Page 73`naPage 73"
   ]
  },
  {
   "cell_type": "markdown",
   "metadata": {},
   "source": [
    "<img src=\"./src/Mod8_wildcard3.png\">"
   ]
  },
  {
   "cell_type": "markdown",
   "metadata": {},
   "source": [
    "- `Page {71,72}` akceptuje Page 71 i Page 72\r\n",
    "- `Page [!1][0-9]` nie pasuje Page 10, pasuje Page 20, ale także pasuje Page z2\r\n",
    "- `*Page {7[8-9],8[0-5]}*` dopasowuje dowolny tekst zawierający odniesienie Page 78-85, np. See Page 78/300 lub See Page 82/300, ale nie See Page 86/300"
   ]
  },
  {
   "cell_type": "markdown",
   "metadata": {},
   "source": [
    "<img src=\"./src/Mod8_wildcard4.png\">"
   ]
  },
  {
   "cell_type": "markdown",
   "metadata": {},
   "source": [
    "## glob\n",
    "\n",
    "Możemy użyć globu do wyszukiwania określonego wzorca wśród plików, co jest bardziej przydatne, użyć symboli `Wildcards` do wyszukiwania plików, których nazwa pliku pasuje do określonego wzorca."
   ]
  },
  {
   "cell_type": "markdown",
   "metadata": {},
   "source": [
    "Stwórzmy przykład, w którym wczytujemy pliki w folderze `./tmp/Mod8Data` z rozszerzeniem `csv`, wczytujemy je do DataFrame'a, a następnie łączymy"
   ]
  },
  {
   "cell_type": "code",
   "execution_count": 65,
   "metadata": {
    "scrolled": true
   },
   "outputs": [
    {
     "name": "stdout",
     "output_type": "stream",
     "text": [
      "./tmp/Mod8Data\\file1.csv\n",
      "Successfully created dataframe for file1.csv with shape (3, 4)\n",
      "./tmp/Mod8Data\\file2.csv\n",
      "Successfully created dataframe for file2.csv with shape (3, 4)\n",
      "./tmp/Mod8Data\\file3.csv\n",
      "Successfully created dataframe for file3.csv with shape (3, 4)\n",
      "./tmp/Mod8Data\\file4.csv\n",
      "Successfully created dataframe for file4.csv with shape (3, 4)\n",
      "(12, 4)\n",
      "   Col0  Col1  Col2 ticker\n",
      "0     0     1     2  file1\n",
      "1   321   321   415  file1\n",
      "2   432   321   324  file1\n",
      "0     0     1     2  file2\n",
      "1   321   321   415  file2\n",
      "2   432   321   324  file2\n",
      "0     0     1     2  file3\n",
      "1   321   321   415  file3\n",
      "2   432   321   324  file3\n",
      "0     0     1     2  file4\n",
      "1   321   321   415  file4\n",
      "2   432   321   324  file4\n"
     ]
    }
   ],
   "source": [
    "import pandas as pd\n",
    "import glob\n",
    "import os\n",
    "\n",
    "path = './tmp/Mod8Data/'\n",
    "files = glob.glob(path + '*.csv')\n",
    "\n",
    "# create empty list to store dataframes\n",
    "li = []\n",
    "\n",
    "# loop through list of files and read each one into a dataframe and append to list\n",
    "for f in files:\n",
    "    print(f)\n",
    "    # get filename\n",
    "    stock = os.path.basename(f)\n",
    "    # read in csv\n",
    "    temp_df = pd.read_csv(f,sep='\\s+')\n",
    "    # create new column with filename\n",
    "    temp_df['ticker'] = stock\n",
    "    # data cleaning to remove the .csv\n",
    "    temp_df['ticker'] = temp_df['ticker'].replace('.csv', '', regex=True)\n",
    "    # append df to list\n",
    "    li.append(temp_df)\n",
    "    print(f'Successfully created dataframe for {stock} with shape {temp_df.shape}')\n",
    "\n",
    "# concatenate our list of dataframes into one!\n",
    "df = pd.concat(li, axis=0)\n",
    "print(df.shape)\n",
    "print(df)"
   ]
  },
  {
   "cell_type": "markdown",
   "metadata": {},
   "source": [
    "Lekko zmodyfikujmy przykład, tak aby nasz `Wildcard` przyjmował tylko pliki z numeracji 1-3"
   ]
  },
  {
   "cell_type": "code",
   "execution_count": 67,
   "metadata": {},
   "outputs": [
    {
     "name": "stdout",
     "output_type": "stream",
     "text": [
      "./tmp/Mod8Data\\file1.csv\n",
      "Successfully created dataframe for file1.csv with shape (3, 4)\n",
      "./tmp/Mod8Data\\file2.csv\n",
      "Successfully created dataframe for file2.csv with shape (3, 4)\n",
      "./tmp/Mod8Data\\file3.csv\n",
      "Successfully created dataframe for file3.csv with shape (3, 4)\n",
      "(9, 4)\n",
      "   Col0  Col1  Col2 ticker\n",
      "0     0     1     2  file1\n",
      "1   321   321   415  file1\n",
      "2   432   321   324  file1\n",
      "0     0     1     2  file2\n",
      "1   321   321   415  file2\n",
      "2   432   321   324  file2\n",
      "0     0     1     2  file3\n",
      "1   321   321   415  file3\n",
      "2   432   321   324  file3\n"
     ]
    }
   ],
   "source": [
    "path = './tmp/Mod8Data/'\n",
    "files = glob.glob(path + 'file[1-3].csv')\n",
    "\n",
    "# create empty list to store dataframes\n",
    "li = []\n",
    "\n",
    "# loop through list of files and read each one into a dataframe and append to list\n",
    "for f in files:\n",
    "    print(f)\n",
    "    # get filename\n",
    "    stock = os.path.basename(f)\n",
    "    # read in csv\n",
    "    temp_df = pd.read_csv(f,sep='\\s+')\n",
    "    # create new column with filename\n",
    "    temp_df['ticker'] = stock\n",
    "    # data cleaning to remove the .csv\n",
    "    temp_df['ticker'] = temp_df['ticker'].replace('.csv', '', regex=True)\n",
    "    # append df to list\n",
    "    li.append(temp_df)\n",
    "    print(f'Successfully created dataframe for {stock} with shape {temp_df.shape}')\n",
    "\n",
    "# concatenate our list of dataframes into one!\n",
    "df = pd.concat(li, axis=0)\n",
    "print(df.shape)\n",
    "print(df)"
   ]
  },
  {
   "cell_type": "markdown",
   "metadata": {},
   "source": [
    "## sys.argv\n",
    "\n",
    "W Pythonie dostępnych jest kilka narzędzi, których można używać do pisania interfejsów wiersza poleceń dla programów i aplikacji. Jeśli chcesz szybko utworzyć minimalne CLI (Command-Line Interface) dla małego programu, możesz użyć atrybutu `argv` z modułu `sys`. Ten atrybut automatycznie przechowuje argumenty przekazywane do danego programu w wierszu poleceń."
   ]
  },
  {
   "cell_type": "markdown",
   "metadata": {},
   "source": [
    "Jako przykład użycia argv do utworzenia minimalnego interfejsu CLI załóżmy, że musisz napisać mały program, który wyświetli listę wszystkich plików w danym katalogu, podobnie jak robi to ls. W tej sytuacji możesz napisać coś takiego:"
   ]
  },
  {
   "cell_type": "code",
   "execution_count": 2,
   "metadata": {},
   "outputs": [
    {
     "name": "stdout",
     "output_type": "stream",
     "text": [
      "Writing ./tmp/sysarv_example.py\n"
     ]
    }
   ],
   "source": [
    "%%writefile \"./tmp/sysarv_example.py\"\n",
    "\n",
    "import sys\n",
    "from pathlib import Path\n",
    "\n",
    "if (args_count := len(sys.argv)) > 2:\n",
    "    print(f\"One argument expected, got {args_count - 1}\")\n",
    "    raise SystemExit(2)\n",
    "elif args_count < 2:\n",
    "    print(\"You must specify the target directory\")\n",
    "    raise SystemExit(2)\n",
    "\n",
    "target_dir = Path(sys.argv[1])\n",
    "\n",
    "if not target_dir.is_dir():\n",
    "    print(\"The target directory doesn't exist\")\n",
    "    raise SystemExit(1)\n",
    "\n",
    "for entry in target_dir.iterdir():\n",
    "    print(entry.name)"
   ]
  },
  {
   "cell_type": "code",
   "execution_count": 5,
   "metadata": {},
   "outputs": [
    {
     "name": "stdout",
     "output_type": "stream",
     "text": [
      "cast.csv\n",
      "release_dates.csv\n",
      "titles.csv\n"
     ]
    }
   ],
   "source": [
    "%run ./tmp/sysarv_example.py ./data/"
   ]
  },
  {
   "cell_type": "code",
   "execution_count": 6,
   "metadata": {},
   "outputs": [
    {
     "name": "stdout",
     "output_type": "stream",
     "text": [
      "You must specify the target directory\n"
     ]
    },
    {
     "ename": "SystemExit",
     "evalue": "2",
     "output_type": "error",
     "traceback": [
      "An exception has occurred, use %tb to see the full traceback.\n",
      "\u001b[1;31mSystemExit\u001b[0m\u001b[1;31m:\u001b[0m 2\n"
     ]
    }
   ],
   "source": [
    "%run ./tmp/sysarv_example.py"
   ]
  },
  {
   "cell_type": "markdown",
   "metadata": {},
   "source": [
    "Mimo że Twój program działa poprawnie, ręczne analizowanie argumentów wiersza poleceń przy użyciu atrybutu `sys.argv` nie jest skalowalnym rozwiązaniem w przypadku bardziej złożonych aplikacji CLI. Jeśli Twoja aplikacja musi przyjmować znacznie więcej argumentów i opcji, analizowanie `sys.argv` będzie zadaniem złożonym i podatnym na błędy. Potrzebujesz czegoś lepszego i dostaniesz to w module `argparse` Pythona."
   ]
  },
  {
   "cell_type": "markdown",
   "metadata": {},
   "source": [
    "## Podstawy argparse\n",
    "\n",
    "O wiele wygodniejszym sposobem tworzenia aplikacji CLI w Pythonie jest użycie modułu `argparse`, który znajduje się w standardowej bibliotece. Moduł ten został po raz pierwszy wydany w języku Python 3.2 i umożliwia szybkie tworzenie aplikacji CLI bez instalowania bibliotek innych firm, takich jak `Typer` lub `Click`.\r",
    ".w argumentów.\r\n",
    "Jako przykł`ad możes`z użyć argparse, abypoprzedni skrypt:ępującego kodu:"
   ]
  },
  {
   "cell_type": "code",
   "execution_count": 7,
   "metadata": {
    "scrolled": true
   },
   "outputs": [
    {
     "name": "stdout",
     "output_type": "stream",
     "text": [
      "Writing ./tmp/argparse_example.py\n"
     ]
    }
   ],
   "source": [
    "%%writefile \"./tmp/argparse_example.py\"\n",
    "\n",
    "import argparse\n",
    "from pathlib import Path\n",
    "\n",
    "parser = argparse.ArgumentParser()\n",
    "\n",
    "parser.add_argument(\"path\")\n",
    "\n",
    "args = parser.parse_args()\n",
    "\n",
    "target_dir = Path(args.path)\n",
    "\n",
    "if not target_dir.exists():\n",
    "    print(\"The target directory doesn't exist\")\n",
    "    raise SystemExit(1)\n",
    "\n",
    "for entry in target_dir.iterdir():\n",
    "    print(entry.name)"
   ]
  },
  {
   "cell_type": "markdown",
   "metadata": {},
   "source": [
    "Nasz kod uległ znaczącym zmianom wraz z wprowadzeniem `argparse`. Najbardziej zauważalną różnicą w stosunku do poprzedniej wersji jest to, że zniknęły instrukcje warunkowe sprawdzające argumenty podane przez użytkownika. Dzieje się tak, ponieważ `argparse` automatycznie sprawdza obecność argumentów.\n",
    "\n",
    "W tej nowej implementacji najpierw importujesz argparse i tworzysz analizator argumentów. Następnie definiujesz argument o nazwie `path`, aby uzyskać katalog docelowy użytkownika.\n",
    "\n",
    "Następnym krokiem jest wywołanie funkcji `.parse_args()` w celu przeanalizowania argumentów wejściowych i pobrania obiektu `Namespace` zawierającego wszystkie argumenty użytkownika. Zauważ, że teraz zmienna args zawiera obiekt `Namespace`, który zawiera każdy argument zebrany z wiersza poleceń.\n",
    "\n",
    "W tym przykładzie masz tylko jeden argument, nazwany `path`. Reszta kodu pozostaje taka sama jak w pierwszej implementacji.\n",
    "\n",
    "Teraz śmiało uruchom ten nowy skrypt z wiersza poleceń:"
   ]
  },
  {
   "cell_type": "code",
   "execution_count": 9,
   "metadata": {},
   "outputs": [
    {
     "name": "stdout",
     "output_type": "stream",
     "text": [
      "usage: argparse_example.py [-h] path\n",
      "\n",
      "positional arguments:\n",
      "  path\n",
      "\n",
      "options:\n",
      "  -h, --help  show this help message and exit\n"
     ]
    }
   ],
   "source": [
    "%run ./tmp/argparse_example.py -h"
   ]
  },
  {
   "cell_type": "code",
   "execution_count": 10,
   "metadata": {},
   "outputs": [
    {
     "name": "stdout",
     "output_type": "stream",
     "text": [
      "cast.csv\n",
      "release_dates.csv\n",
      "titles.csv\n"
     ]
    }
   ],
   "source": [
    "%run ./tmp/argparse_example.py ./data/"
   ]
  },
  {
   "cell_type": "markdown",
   "metadata": {},
   "source": [
    "## Zaawansowany argparse\n",
    ".Dże dokumentacja mod`argparse` ułu rozpoznaje dwa różne typy argumentów wiersza polece- ń:\r\n",
    "\r\n",
    "Argumenty pozycyjne, które znasz jako argu- menty\r\n",
    "Argumenty opcjonalne, znane jako opcje, flagi lub przeł\n",
    "ączniki\r\n",
    "W przy`path` ścieżka jest argumentem pozycyjnym. Taki argument nazywa się pozycyjnym, ponieważ jego względna pozycja w konstrukcji polecenia określa /przeznaczeniejego cel.\r\n",
    "\r\n",
    "Opcjonalne argumenty nie są obowiązkowe. Umożliwiają modyfikację zachowania "
   ]
  },
  {
   "cell_type": "markdown",
   "metadata": {},
   "source": [
    "Aby dodać argumenty i opcje do interfejsu CLI `argparse`, użyjesz metody .add_argument() swojej instancji ArgumentParser. Należy pamiętać, że metoda ta jest wspólna dla argumentów i opcji. Pamiętaj, że w terminologii argparse argumenty nazywane są argumentami pozycyjnymi, a opcje nazywane są argumentami opcjonalnymi.\r\n",
    "\r\n",
    "Pierwszy argument metody .add_argument() określa różnicę między argumentami i opcjami. Argument ten jest identyfikowany jako nazwa lub flaga. Jeśli więc podasz nazwę, zdefiniujesz argument. Natomiast jeśli użyjesz flagi, dodasz opcjCLI:"
   ]
  },
  {
   "cell_type": "code",
   "execution_count": 12,
   "metadata": {},
   "outputs": [
    {
     "name": "stdout",
     "output_type": "stream",
     "text": [
      "Writing ./tmp/argparse_example_v2.py\n"
     ]
    }
   ],
   "source": [
    "%%writefile ./tmp/argparse_example_v2.py\n",
    "\n",
    "import argparse\n",
    "import datetime\n",
    "from pathlib import Path\n",
    "\n",
    "parser = argparse.ArgumentParser()\n",
    "\n",
    "parser.add_argument(\"path\")\n",
    "\n",
    "parser.add_argument(\"-l\", \"--long\", action=\"store_true\")\n",
    "\n",
    "args = parser.parse_args()\n",
    "\n",
    "target_dir = Path(args.path)\n",
    "\n",
    "if not target_dir.exists():\n",
    "    print(\"The target directory doesn't exist\")\n",
    "    raise SystemExit(1)\n",
    "\n",
    "def build_output(entry, long=False):\n",
    "    if long:\n",
    "        size = entry.stat().st_size\n",
    "        date = datetime.datetime.fromtimestamp(\n",
    "            entry.stat().st_mtime).strftime(\n",
    "            \"%b %d %H:%M:%S\"\n",
    "        )\n",
    "        return f\"{size:>6d} {date} {entry.name}\"\n",
    "    return entry.name\n",
    "\n",
    "for entry in target_dir.iterdir():\n",
    "    print(build_output(entry, long=args.long))"
   ]
  },
  {
   "cell_type": "markdown",
   "metadata": {},
   "source": [
    "Należy zauważyć, że w tym konkretnym przykładzie argument akcji ustawiony na „store_true” towarzyszy opcjom -l lub --long, co oznacza, że ta opcja będzie przechowywać wartość logiczną `Boolean`. Jeśli podasz tę opcję w wierszu poleceń, jej wartość będzie równa `True`. Jeśli pominiesz tę opcję, jej wartość przyjmie `False`.\n",
    "\n",
    "Funkcja build_output() zwraca szczegółowe dane wyjściowe, gdy wartość long ma wartość True, a w przeciwnym razie minimalne dane wyjściowe (czyli tylko nazwę). Szczegółowe dane wyjściowe będą zawierać rozmiar, datę modyfikacji i nazwę wszystkich wpisów w katalogu docelowym."
   ]
  },
  {
   "cell_type": "code",
   "execution_count": 13,
   "metadata": {},
   "outputs": [
    {
     "name": "stdout",
     "output_type": "stream",
     "text": [
      "cast.csv\n",
      "release_dates.csv\n",
      "titles.csv\n"
     ]
    }
   ],
   "source": [
    "%run ./tmp/argparse_example_v2.py ./data/"
   ]
  },
  {
   "cell_type": "code",
   "execution_count": 14,
   "metadata": {},
   "outputs": [
    {
     "name": "stdout",
     "output_type": "stream",
     "text": [
      "196591093 Mar 03 12:29:20 cast.csv\n",
      "18872434 Mar 03 09:33:26 release_dates.csv\n",
      "4962110 Mar 16 12:39:17 titles.csv\n"
     ]
    }
   ],
   "source": [
    "%run ./tmp/argparse_example_v2.py ./data/ -l"
   ]
  },
  {
   "cell_type": "markdown",
   "metadata": {},
   "source": [
    "## Dostosowywanie wartości wejściowych w argumentach i opcjach\n",
    "\n",
    "---\n",
    "\r\n",
    "Innym częstym wymaganiem podczas tworzenia aplikacji CLI jest dostosowanie wartości wejściowych, które argumenty i opcje będą akceptować w wierszu poleceń. Na przykład możesz wymagać, aby dany argument akceptował wartość całkowitą, listę wartości, ciąg znaków i tak dalej.\r\n",
    "\r\n",
    "Domyślnie każdy argument podany w wierszu poleceń będzie traktowany jako ciąg znaków. Na szczęście argparse ma wewnętrzne mechanizmy sprawdzające, czy dany argument jest poprawną liczbą całkowitą, ciągiem znaków, listą i nie tylzu poleceń."
   ]
  },
  {
   "cell_type": "code",
   "execution_count": 15,
   "metadata": {},
   "outputs": [
    {
     "name": "stdout",
     "output_type": "stream",
     "text": [
      "Writing ./tmp/argparse_divide.py\n"
     ]
    }
   ],
   "source": [
    "%%writefile ./tmp/argparse_divide.py \n",
    "\n",
    "import argparse\n",
    "\n",
    "parser = argparse.ArgumentParser()\n",
    "\n",
    "parser.add_argument(\"--dividend\", type=int)\n",
    "parser.add_argument(\"--divisor\", type=int)\n",
    "\n",
    "args = parser.parse_args()\n",
    "\n",
    "print(args.dividend / args.divisor)"
   ]
  },
  {
   "cell_type": "code",
   "execution_count": 16,
   "metadata": {},
   "outputs": [
    {
     "name": "stdout",
     "output_type": "stream",
     "text": [
      "21.0\n"
     ]
    }
   ],
   "source": [
    "%run ./tmp/argparse_divide.py --dividend 42 --divisor 2"
   ]
  },
  {
   "cell_type": "code",
   "execution_count": 17,
   "metadata": {},
   "outputs": [
    {
     "name": "stdout",
     "output_type": "stream",
     "text": [
      "21.0\n"
     ]
    }
   ],
   "source": [
    "%run ./tmp/argparse_divide.py --dividend 42 --divisor \"2\""
   ]
  },
  {
   "cell_type": "code",
   "execution_count": 19,
   "metadata": {
    "scrolled": true
   },
   "outputs": [
    {
     "name": "stderr",
     "output_type": "stream",
     "text": [
      "usage: argparse_divide.py [-h] [--dividend DIVIDEND] [--divisor DIVISOR]\n",
      "argparse_divide.py: error: argument --divisor: invalid int value: 'two'\n"
     ]
    },
    {
     "ename": "AttributeError",
     "evalue": "'tuple' object has no attribute 'tb_frame'",
     "output_type": "error",
     "traceback": [
      "\u001b[1;31m---------------------------------------------------------------------------\u001b[0m",
      "\u001b[1;31mValueError\u001b[0m                                Traceback (most recent call last)",
      "File \u001b[1;32mC:\\ProgramData\\anaconda3\\Lib\\argparse.py:2529\u001b[0m, in \u001b[0;36mArgumentParser._get_value\u001b[1;34m(self, action, arg_string)\u001b[0m\n\u001b[0;32m   2528\u001b[0m \u001b[38;5;28;01mtry\u001b[39;00m:\n\u001b[1;32m-> 2529\u001b[0m     result \u001b[38;5;241m=\u001b[39m \u001b[43mtype_func\u001b[49m\u001b[43m(\u001b[49m\u001b[43marg_string\u001b[49m\u001b[43m)\u001b[49m\n\u001b[0;32m   2531\u001b[0m \u001b[38;5;66;03m# ArgumentTypeErrors indicate errors\u001b[39;00m\n",
      "\u001b[1;31mValueError\u001b[0m: invalid literal for int() with base 10: 'two'",
      "\nDuring handling of the above exception, another exception occurred:\n",
      "\u001b[1;31mArgumentError\u001b[0m                             Traceback (most recent call last)",
      "File \u001b[1;32mC:\\ProgramData\\anaconda3\\Lib\\argparse.py:1902\u001b[0m, in \u001b[0;36mArgumentParser.parse_known_args\u001b[1;34m(self, args, namespace)\u001b[0m\n\u001b[0;32m   1901\u001b[0m \u001b[38;5;28;01mtry\u001b[39;00m:\n\u001b[1;32m-> 1902\u001b[0m     namespace, args \u001b[38;5;241m=\u001b[39m \u001b[38;5;28;43mself\u001b[39;49m\u001b[38;5;241;43m.\u001b[39;49m\u001b[43m_parse_known_args\u001b[49m\u001b[43m(\u001b[49m\u001b[43margs\u001b[49m\u001b[43m,\u001b[49m\u001b[43m \u001b[49m\u001b[43mnamespace\u001b[49m\u001b[43m)\u001b[49m\n\u001b[0;32m   1903\u001b[0m \u001b[38;5;28;01mexcept\u001b[39;00m ArgumentError \u001b[38;5;28;01mas\u001b[39;00m err:\n",
      "File \u001b[1;32mC:\\ProgramData\\anaconda3\\Lib\\argparse.py:2114\u001b[0m, in \u001b[0;36mArgumentParser._parse_known_args\u001b[1;34m(self, arg_strings, namespace)\u001b[0m\n\u001b[0;32m   2113\u001b[0m     \u001b[38;5;66;03m# consume the next optional and any arguments for it\u001b[39;00m\n\u001b[1;32m-> 2114\u001b[0m     start_index \u001b[38;5;241m=\u001b[39m \u001b[43mconsume_optional\u001b[49m\u001b[43m(\u001b[49m\u001b[43mstart_index\u001b[49m\u001b[43m)\u001b[49m\n\u001b[0;32m   2116\u001b[0m \u001b[38;5;66;03m# consume any positionals following the last Optional\u001b[39;00m\n",
      "File \u001b[1;32mC:\\ProgramData\\anaconda3\\Lib\\argparse.py:2054\u001b[0m, in \u001b[0;36mArgumentParser._parse_known_args.<locals>.consume_optional\u001b[1;34m(start_index)\u001b[0m\n\u001b[0;32m   2053\u001b[0m \u001b[38;5;28;01mfor\u001b[39;00m action, args, option_string \u001b[38;5;129;01min\u001b[39;00m action_tuples:\n\u001b[1;32m-> 2054\u001b[0m     \u001b[43mtake_action\u001b[49m\u001b[43m(\u001b[49m\u001b[43maction\u001b[49m\u001b[43m,\u001b[49m\u001b[43m \u001b[49m\u001b[43margs\u001b[49m\u001b[43m,\u001b[49m\u001b[43m \u001b[49m\u001b[43moption_string\u001b[49m\u001b[43m)\u001b[49m\n\u001b[0;32m   2055\u001b[0m \u001b[38;5;28;01mreturn\u001b[39;00m stop\n",
      "File \u001b[1;32mC:\\ProgramData\\anaconda3\\Lib\\argparse.py:1962\u001b[0m, in \u001b[0;36mArgumentParser._parse_known_args.<locals>.take_action\u001b[1;34m(action, argument_strings, option_string)\u001b[0m\n\u001b[0;32m   1961\u001b[0m seen_actions\u001b[38;5;241m.\u001b[39madd(action)\n\u001b[1;32m-> 1962\u001b[0m argument_values \u001b[38;5;241m=\u001b[39m \u001b[38;5;28;43mself\u001b[39;49m\u001b[38;5;241;43m.\u001b[39;49m\u001b[43m_get_values\u001b[49m\u001b[43m(\u001b[49m\u001b[43maction\u001b[49m\u001b[43m,\u001b[49m\u001b[43m \u001b[49m\u001b[43margument_strings\u001b[49m\u001b[43m)\u001b[49m\n\u001b[0;32m   1964\u001b[0m \u001b[38;5;66;03m# error if this argument is not allowed with other previously\u001b[39;00m\n\u001b[0;32m   1965\u001b[0m \u001b[38;5;66;03m# seen arguments, assuming that actions that use the default\u001b[39;00m\n\u001b[0;32m   1966\u001b[0m \u001b[38;5;66;03m# value don't really count as \"present\"\u001b[39;00m\n",
      "File \u001b[1;32mC:\\ProgramData\\anaconda3\\Lib\\argparse.py:2496\u001b[0m, in \u001b[0;36mArgumentParser._get_values\u001b[1;34m(self, action, arg_strings)\u001b[0m\n\u001b[0;32m   2495\u001b[0m arg_string, \u001b[38;5;241m=\u001b[39m arg_strings\n\u001b[1;32m-> 2496\u001b[0m value \u001b[38;5;241m=\u001b[39m \u001b[38;5;28;43mself\u001b[39;49m\u001b[38;5;241;43m.\u001b[39;49m\u001b[43m_get_value\u001b[49m\u001b[43m(\u001b[49m\u001b[43maction\u001b[49m\u001b[43m,\u001b[49m\u001b[43m \u001b[49m\u001b[43marg_string\u001b[49m\u001b[43m)\u001b[49m\n\u001b[0;32m   2497\u001b[0m \u001b[38;5;28mself\u001b[39m\u001b[38;5;241m.\u001b[39m_check_value(action, value)\n",
      "File \u001b[1;32mC:\\ProgramData\\anaconda3\\Lib\\argparse.py:2542\u001b[0m, in \u001b[0;36mArgumentParser._get_value\u001b[1;34m(self, action, arg_string)\u001b[0m\n\u001b[0;32m   2541\u001b[0m     msg \u001b[38;5;241m=\u001b[39m _(\u001b[38;5;124m'\u001b[39m\u001b[38;5;124minvalid \u001b[39m\u001b[38;5;132;01m%(type)s\u001b[39;00m\u001b[38;5;124m value: \u001b[39m\u001b[38;5;132;01m%(value)r\u001b[39;00m\u001b[38;5;124m'\u001b[39m)\n\u001b[1;32m-> 2542\u001b[0m     \u001b[38;5;28;01mraise\u001b[39;00m ArgumentError(action, msg \u001b[38;5;241m%\u001b[39m args)\n\u001b[0;32m   2544\u001b[0m \u001b[38;5;66;03m# return the converted value\u001b[39;00m\n",
      "\u001b[1;31mArgumentError\u001b[0m: argument --divisor: invalid int value: 'two'",
      "\nDuring handling of the above exception, another exception occurred:\n",
      "\u001b[1;31mSystemExit\u001b[0m                                Traceback (most recent call last)",
      "File \u001b[1;32mE:\\MATERIALY\\SZKOLENIE_PYTHON\\ElemProgVenv\\Lib\\site-packages\\IPython\\core\\interactiveshell.py:2881\u001b[0m, in \u001b[0;36mInteractiveShell.safe_execfile\u001b[1;34m(self, fname, exit_ignore, raise_exceptions, shell_futures, *where)\u001b[0m\n\u001b[0;32m   2880\u001b[0m     glob, loc \u001b[38;5;241m=\u001b[39m (where \u001b[38;5;241m+\u001b[39m (\u001b[38;5;28;01mNone\u001b[39;00m, ))[:\u001b[38;5;241m2\u001b[39m]\n\u001b[1;32m-> 2881\u001b[0m     \u001b[43mpy3compat\u001b[49m\u001b[38;5;241;43m.\u001b[39;49m\u001b[43mexecfile\u001b[49m\u001b[43m(\u001b[49m\n\u001b[0;32m   2882\u001b[0m \u001b[43m        \u001b[49m\u001b[43mfname\u001b[49m\u001b[43m,\u001b[49m\u001b[43m \u001b[49m\u001b[43mglob\u001b[49m\u001b[43m,\u001b[49m\u001b[43m \u001b[49m\u001b[43mloc\u001b[49m\u001b[43m,\u001b[49m\n\u001b[0;32m   2883\u001b[0m \u001b[43m        \u001b[49m\u001b[38;5;28;43mself\u001b[39;49m\u001b[38;5;241;43m.\u001b[39;49m\u001b[43mcompile\u001b[49m\u001b[43m \u001b[49m\u001b[38;5;28;43;01mif\u001b[39;49;00m\u001b[43m \u001b[49m\u001b[43mshell_futures\u001b[49m\u001b[43m \u001b[49m\u001b[38;5;28;43;01melse\u001b[39;49;00m\u001b[43m \u001b[49m\u001b[38;5;28;43;01mNone\u001b[39;49;00m\u001b[43m)\u001b[49m\n\u001b[0;32m   2884\u001b[0m \u001b[38;5;28;01mexcept\u001b[39;00m \u001b[38;5;167;01mSystemExit\u001b[39;00m \u001b[38;5;28;01mas\u001b[39;00m status:\n\u001b[0;32m   2885\u001b[0m     \u001b[38;5;66;03m# If the call was made with 0 or None exit status (sys.exit(0)\u001b[39;00m\n\u001b[0;32m   2886\u001b[0m     \u001b[38;5;66;03m# or sys.exit() ), don't bother showing a traceback, as both of\u001b[39;00m\n\u001b[1;32m   (...)\u001b[0m\n\u001b[0;32m   2892\u001b[0m     \u001b[38;5;66;03m# For other exit status, we show the exception unless\u001b[39;00m\n\u001b[0;32m   2893\u001b[0m     \u001b[38;5;66;03m# explicitly silenced, but only in short form.\u001b[39;00m\n",
      "File \u001b[1;32mE:\\MATERIALY\\SZKOLENIE_PYTHON\\ElemProgVenv\\Lib\\site-packages\\IPython\\utils\\py3compat.py:55\u001b[0m, in \u001b[0;36mexecfile\u001b[1;34m(fname, glob, loc, compiler)\u001b[0m\n\u001b[0;32m     54\u001b[0m compiler \u001b[38;5;241m=\u001b[39m compiler \u001b[38;5;129;01mor\u001b[39;00m \u001b[38;5;28mcompile\u001b[39m\n\u001b[1;32m---> 55\u001b[0m exec(compiler(f\u001b[38;5;241m.\u001b[39mread(), fname, \u001b[38;5;124m\"\u001b[39m\u001b[38;5;124mexec\u001b[39m\u001b[38;5;124m\"\u001b[39m), glob, loc)\n",
      "File \u001b[1;32mE:\\MATERIALY\\IGGPyCourse\\IGGPyCourse\\tmp\\argparse_divide.py:9\u001b[0m\n\u001b[0;32m      7\u001b[0m parser\u001b[38;5;241m.\u001b[39madd_argument(\u001b[38;5;124m\"\u001b[39m\u001b[38;5;124m--divisor\u001b[39m\u001b[38;5;124m\"\u001b[39m, \u001b[38;5;28mtype\u001b[39m\u001b[38;5;241m=\u001b[39m\u001b[38;5;28mint\u001b[39m)\n\u001b[1;32m----> 9\u001b[0m args \u001b[38;5;241m=\u001b[39m \u001b[43mparser\u001b[49m\u001b[38;5;241;43m.\u001b[39;49m\u001b[43mparse_args\u001b[49m\u001b[43m(\u001b[49m\u001b[43m)\u001b[49m\n\u001b[0;32m     11\u001b[0m \u001b[38;5;28mprint\u001b[39m(args\u001b[38;5;241m.\u001b[39mdividend \u001b[38;5;241m/\u001b[39m args\u001b[38;5;241m.\u001b[39mdivisor)\n",
      "File \u001b[1;32mC:\\ProgramData\\anaconda3\\Lib\\argparse.py:1869\u001b[0m, in \u001b[0;36mArgumentParser.parse_args\u001b[1;34m(self, args, namespace)\u001b[0m\n\u001b[0;32m   1868\u001b[0m \u001b[38;5;28;01mdef\u001b[39;00m \u001b[38;5;21mparse_args\u001b[39m(\u001b[38;5;28mself\u001b[39m, args\u001b[38;5;241m=\u001b[39m\u001b[38;5;28;01mNone\u001b[39;00m, namespace\u001b[38;5;241m=\u001b[39m\u001b[38;5;28;01mNone\u001b[39;00m):\n\u001b[1;32m-> 1869\u001b[0m     args, argv \u001b[38;5;241m=\u001b[39m \u001b[38;5;28;43mself\u001b[39;49m\u001b[38;5;241;43m.\u001b[39;49m\u001b[43mparse_known_args\u001b[49m\u001b[43m(\u001b[49m\u001b[43margs\u001b[49m\u001b[43m,\u001b[49m\u001b[43m \u001b[49m\u001b[43mnamespace\u001b[49m\u001b[43m)\u001b[49m\n\u001b[0;32m   1870\u001b[0m     \u001b[38;5;28;01mif\u001b[39;00m argv:\n",
      "File \u001b[1;32mC:\\ProgramData\\anaconda3\\Lib\\argparse.py:1904\u001b[0m, in \u001b[0;36mArgumentParser.parse_known_args\u001b[1;34m(self, args, namespace)\u001b[0m\n\u001b[0;32m   1903\u001b[0m     \u001b[38;5;28;01mexcept\u001b[39;00m ArgumentError \u001b[38;5;28;01mas\u001b[39;00m err:\n\u001b[1;32m-> 1904\u001b[0m         \u001b[38;5;28;43mself\u001b[39;49m\u001b[38;5;241;43m.\u001b[39;49m\u001b[43merror\u001b[49m\u001b[43m(\u001b[49m\u001b[38;5;28;43mstr\u001b[39;49m\u001b[43m(\u001b[49m\u001b[43merr\u001b[49m\u001b[43m)\u001b[49m\u001b[43m)\u001b[49m\n\u001b[0;32m   1905\u001b[0m \u001b[38;5;28;01melse\u001b[39;00m:\n",
      "File \u001b[1;32mC:\\ProgramData\\anaconda3\\Lib\\argparse.py:2628\u001b[0m, in \u001b[0;36mArgumentParser.error\u001b[1;34m(self, message)\u001b[0m\n\u001b[0;32m   2627\u001b[0m args \u001b[38;5;241m=\u001b[39m {\u001b[38;5;124m'\u001b[39m\u001b[38;5;124mprog\u001b[39m\u001b[38;5;124m'\u001b[39m: \u001b[38;5;28mself\u001b[39m\u001b[38;5;241m.\u001b[39mprog, \u001b[38;5;124m'\u001b[39m\u001b[38;5;124mmessage\u001b[39m\u001b[38;5;124m'\u001b[39m: message}\n\u001b[1;32m-> 2628\u001b[0m \u001b[38;5;28;43mself\u001b[39;49m\u001b[38;5;241;43m.\u001b[39;49m\u001b[43mexit\u001b[49m\u001b[43m(\u001b[49m\u001b[38;5;241;43m2\u001b[39;49m\u001b[43m,\u001b[49m\u001b[43m \u001b[49m\u001b[43m_\u001b[49m\u001b[43m(\u001b[49m\u001b[38;5;124;43m'\u001b[39;49m\u001b[38;5;132;43;01m%(prog)s\u001b[39;49;00m\u001b[38;5;124;43m: error: \u001b[39;49m\u001b[38;5;132;43;01m%(message)s\u001b[39;49;00m\u001b[38;5;130;43;01m\\n\u001b[39;49;00m\u001b[38;5;124;43m'\u001b[39;49m\u001b[43m)\u001b[49m\u001b[43m \u001b[49m\u001b[38;5;241;43m%\u001b[39;49m\u001b[43m \u001b[49m\u001b[43margs\u001b[49m\u001b[43m)\u001b[49m\n",
      "File \u001b[1;32mC:\\ProgramData\\anaconda3\\Lib\\argparse.py:2615\u001b[0m, in \u001b[0;36mArgumentParser.exit\u001b[1;34m(self, status, message)\u001b[0m\n\u001b[0;32m   2614\u001b[0m     \u001b[38;5;28mself\u001b[39m\u001b[38;5;241m.\u001b[39m_print_message(message, _sys\u001b[38;5;241m.\u001b[39mstderr)\n\u001b[1;32m-> 2615\u001b[0m \u001b[43m_sys\u001b[49m\u001b[38;5;241;43m.\u001b[39;49m\u001b[43mexit\u001b[49m\u001b[43m(\u001b[49m\u001b[43mstatus\u001b[49m\u001b[43m)\u001b[49m\n",
      "\u001b[1;31mSystemExit\u001b[0m: 2",
      "\nDuring handling of the above exception, another exception occurred:\n",
      "\u001b[1;31mAttributeError\u001b[0m                            Traceback (most recent call last)",
      "Cell \u001b[1;32mIn[19], line 1\u001b[0m\n\u001b[1;32m----> 1\u001b[0m \u001b[43mget_ipython\u001b[49m\u001b[43m(\u001b[49m\u001b[43m)\u001b[49m\u001b[38;5;241;43m.\u001b[39;49m\u001b[43mrun_line_magic\u001b[49m\u001b[43m(\u001b[49m\u001b[38;5;124;43m'\u001b[39;49m\u001b[38;5;124;43mrun\u001b[39;49m\u001b[38;5;124;43m'\u001b[39;49m\u001b[43m,\u001b[49m\u001b[43m \u001b[49m\u001b[38;5;124;43m'\u001b[39;49m\u001b[38;5;124;43m./tmp/argparse_divide.py --dividend 42 --divisor \u001b[39;49m\u001b[38;5;124;43m\"\u001b[39;49m\u001b[38;5;124;43mtwo\u001b[39;49m\u001b[38;5;124;43m\"\u001b[39;49m\u001b[38;5;124;43m'\u001b[39;49m\u001b[43m)\u001b[49m\n",
      "File \u001b[1;32mE:\\MATERIALY\\SZKOLENIE_PYTHON\\ElemProgVenv\\Lib\\site-packages\\IPython\\core\\interactiveshell.py:2432\u001b[0m, in \u001b[0;36mInteractiveShell.run_line_magic\u001b[1;34m(self, magic_name, line, _stack_depth)\u001b[0m\n\u001b[0;32m   2430\u001b[0m     kwargs[\u001b[38;5;124m'\u001b[39m\u001b[38;5;124mlocal_ns\u001b[39m\u001b[38;5;124m'\u001b[39m] \u001b[38;5;241m=\u001b[39m \u001b[38;5;28mself\u001b[39m\u001b[38;5;241m.\u001b[39mget_local_scope(stack_depth)\n\u001b[0;32m   2431\u001b[0m \u001b[38;5;28;01mwith\u001b[39;00m \u001b[38;5;28mself\u001b[39m\u001b[38;5;241m.\u001b[39mbuiltin_trap:\n\u001b[1;32m-> 2432\u001b[0m     result \u001b[38;5;241m=\u001b[39m \u001b[43mfn\u001b[49m\u001b[43m(\u001b[49m\u001b[38;5;241;43m*\u001b[39;49m\u001b[43margs\u001b[49m\u001b[43m,\u001b[49m\u001b[43m \u001b[49m\u001b[38;5;241;43m*\u001b[39;49m\u001b[38;5;241;43m*\u001b[39;49m\u001b[43mkwargs\u001b[49m\u001b[43m)\u001b[49m\n\u001b[0;32m   2434\u001b[0m \u001b[38;5;66;03m# The code below prevents the output from being displayed\u001b[39;00m\n\u001b[0;32m   2435\u001b[0m \u001b[38;5;66;03m# when using magics with decorator @output_can_be_silenced\u001b[39;00m\n\u001b[0;32m   2436\u001b[0m \u001b[38;5;66;03m# when the last Python token in the expression is a ';'.\u001b[39;00m\n\u001b[0;32m   2437\u001b[0m \u001b[38;5;28;01mif\u001b[39;00m \u001b[38;5;28mgetattr\u001b[39m(fn, magic\u001b[38;5;241m.\u001b[39mMAGIC_OUTPUT_CAN_BE_SILENCED, \u001b[38;5;28;01mFalse\u001b[39;00m):\n",
      "File \u001b[1;32mE:\\MATERIALY\\SZKOLENIE_PYTHON\\ElemProgVenv\\Lib\\site-packages\\IPython\\core\\magics\\execution.py:849\u001b[0m, in \u001b[0;36mExecutionMagics.run\u001b[1;34m(self, parameter_s, runner, file_finder)\u001b[0m\n\u001b[0;32m    846\u001b[0m             \u001b[38;5;28mself\u001b[39m\u001b[38;5;241m.\u001b[39m_run_with_timing(run, nruns)\n\u001b[0;32m    847\u001b[0m         \u001b[38;5;28;01melse\u001b[39;00m:\n\u001b[0;32m    848\u001b[0m             \u001b[38;5;66;03m# regular execution\u001b[39;00m\n\u001b[1;32m--> 849\u001b[0m             \u001b[43mrun\u001b[49m\u001b[43m(\u001b[49m\u001b[43m)\u001b[49m\n\u001b[0;32m    851\u001b[0m \u001b[38;5;28;01mif\u001b[39;00m \u001b[38;5;124m'\u001b[39m\u001b[38;5;124mi\u001b[39m\u001b[38;5;124m'\u001b[39m \u001b[38;5;129;01min\u001b[39;00m opts:\n\u001b[0;32m    852\u001b[0m     \u001b[38;5;28mself\u001b[39m\u001b[38;5;241m.\u001b[39mshell\u001b[38;5;241m.\u001b[39muser_ns[\u001b[38;5;124m'\u001b[39m\u001b[38;5;124m__name__\u001b[39m\u001b[38;5;124m'\u001b[39m] \u001b[38;5;241m=\u001b[39m __name__save\n",
      "File \u001b[1;32mE:\\MATERIALY\\SZKOLENIE_PYTHON\\ElemProgVenv\\Lib\\site-packages\\IPython\\core\\magics\\execution.py:834\u001b[0m, in \u001b[0;36mExecutionMagics.run.<locals>.run\u001b[1;34m()\u001b[0m\n\u001b[0;32m    833\u001b[0m \u001b[38;5;28;01mdef\u001b[39;00m \u001b[38;5;21mrun\u001b[39m():\n\u001b[1;32m--> 834\u001b[0m     \u001b[43mrunner\u001b[49m\u001b[43m(\u001b[49m\u001b[43mfilename\u001b[49m\u001b[43m,\u001b[49m\u001b[43m \u001b[49m\u001b[43mprog_ns\u001b[49m\u001b[43m,\u001b[49m\u001b[43m \u001b[49m\u001b[43mprog_ns\u001b[49m\u001b[43m,\u001b[49m\n\u001b[0;32m    835\u001b[0m \u001b[43m            \u001b[49m\u001b[43mexit_ignore\u001b[49m\u001b[38;5;241;43m=\u001b[39;49m\u001b[43mexit_ignore\u001b[49m\u001b[43m)\u001b[49m\n",
      "File \u001b[1;32mE:\\MATERIALY\\SZKOLENIE_PYTHON\\ElemProgVenv\\Lib\\site-packages\\IPython\\core\\interactiveshell.py:2898\u001b[0m, in \u001b[0;36mInteractiveShell.safe_execfile\u001b[1;34m(self, fname, exit_ignore, raise_exceptions, shell_futures, *where)\u001b[0m\n\u001b[0;32m   2896\u001b[0m             \u001b[38;5;28;01mraise\u001b[39;00m\n\u001b[0;32m   2897\u001b[0m         \u001b[38;5;28;01mif\u001b[39;00m \u001b[38;5;129;01mnot\u001b[39;00m exit_ignore:\n\u001b[1;32m-> 2898\u001b[0m             \u001b[38;5;28;43mself\u001b[39;49m\u001b[38;5;241;43m.\u001b[39;49m\u001b[43mshowtraceback\u001b[49m\u001b[43m(\u001b[49m\u001b[43mexception_only\u001b[49m\u001b[38;5;241;43m=\u001b[39;49m\u001b[38;5;28;43;01mTrue\u001b[39;49;00m\u001b[43m)\u001b[49m\n\u001b[0;32m   2899\u001b[0m \u001b[38;5;28;01mexcept\u001b[39;00m:\n\u001b[0;32m   2900\u001b[0m     \u001b[38;5;28;01mif\u001b[39;00m raise_exceptions:\n",
      "File \u001b[1;32mE:\\MATERIALY\\SZKOLENIE_PYTHON\\ElemProgVenv\\Lib\\site-packages\\IPython\\core\\interactiveshell.py:2097\u001b[0m, in \u001b[0;36mInteractiveShell.showtraceback\u001b[1;34m(self, exc_tuple, filename, tb_offset, exception_only, running_compiled_code)\u001b[0m\n\u001b[0;32m   2094\u001b[0m \u001b[38;5;28;01mif\u001b[39;00m exception_only:\n\u001b[0;32m   2095\u001b[0m     stb \u001b[38;5;241m=\u001b[39m [\u001b[38;5;124m'\u001b[39m\u001b[38;5;124mAn exception has occurred, use \u001b[39m\u001b[38;5;124m%\u001b[39m\u001b[38;5;124mtb to see \u001b[39m\u001b[38;5;124m'\u001b[39m\n\u001b[0;32m   2096\u001b[0m            \u001b[38;5;124m'\u001b[39m\u001b[38;5;124mthe full traceback.\u001b[39m\u001b[38;5;130;01m\\n\u001b[39;00m\u001b[38;5;124m'\u001b[39m]\n\u001b[1;32m-> 2097\u001b[0m     stb\u001b[38;5;241m.\u001b[39mextend(\u001b[38;5;28;43mself\u001b[39;49m\u001b[38;5;241;43m.\u001b[39;49m\u001b[43mInteractiveTB\u001b[49m\u001b[38;5;241;43m.\u001b[39;49m\u001b[43mget_exception_only\u001b[49m\u001b[43m(\u001b[49m\u001b[43metype\u001b[49m\u001b[43m,\u001b[49m\n\u001b[0;32m   2098\u001b[0m \u001b[43m                                                     \u001b[49m\u001b[43mvalue\u001b[49m\u001b[43m)\u001b[49m)\n\u001b[0;32m   2099\u001b[0m \u001b[38;5;28;01melse\u001b[39;00m:\n\u001b[0;32m   2101\u001b[0m     \u001b[38;5;28;01mdef\u001b[39;00m \u001b[38;5;21mcontains_exceptiongroup\u001b[39m(val):\n",
      "File \u001b[1;32mE:\\MATERIALY\\SZKOLENIE_PYTHON\\ElemProgVenv\\Lib\\site-packages\\IPython\\core\\ultratb.py:710\u001b[0m, in \u001b[0;36mListTB.get_exception_only\u001b[1;34m(self, etype, value)\u001b[0m\n\u001b[0;32m    702\u001b[0m \u001b[38;5;28;01mdef\u001b[39;00m \u001b[38;5;21mget_exception_only\u001b[39m(\u001b[38;5;28mself\u001b[39m, etype, value):\n\u001b[0;32m    703\u001b[0m \u001b[38;5;250m    \u001b[39m\u001b[38;5;124;03m\"\"\"Only print the exception type and message, without a traceback.\u001b[39;00m\n\u001b[0;32m    704\u001b[0m \n\u001b[0;32m    705\u001b[0m \u001b[38;5;124;03m    Parameters\u001b[39;00m\n\u001b[1;32m   (...)\u001b[0m\n\u001b[0;32m    708\u001b[0m \u001b[38;5;124;03m    value : exception value\u001b[39;00m\n\u001b[0;32m    709\u001b[0m \u001b[38;5;124;03m    \"\"\"\u001b[39;00m\n\u001b[1;32m--> 710\u001b[0m     \u001b[38;5;28;01mreturn\u001b[39;00m \u001b[43mListTB\u001b[49m\u001b[38;5;241;43m.\u001b[39;49m\u001b[43mstructured_traceback\u001b[49m\u001b[43m(\u001b[49m\u001b[38;5;28;43mself\u001b[39;49m\u001b[43m,\u001b[49m\u001b[43m \u001b[49m\u001b[43metype\u001b[49m\u001b[43m,\u001b[49m\u001b[43m \u001b[49m\u001b[43mvalue\u001b[49m\u001b[43m)\u001b[49m\n",
      "File \u001b[1;32mE:\\MATERIALY\\SZKOLENIE_PYTHON\\ElemProgVenv\\Lib\\site-packages\\IPython\\core\\ultratb.py:568\u001b[0m, in \u001b[0;36mListTB.structured_traceback\u001b[1;34m(self, etype, evalue, etb, tb_offset, context)\u001b[0m\n\u001b[0;32m    565\u001b[0m     chained_exc_ids\u001b[38;5;241m.\u001b[39madd(\u001b[38;5;28mid\u001b[39m(exception[\u001b[38;5;241m1\u001b[39m]))\n\u001b[0;32m    566\u001b[0m     chained_exceptions_tb_offset \u001b[38;5;241m=\u001b[39m \u001b[38;5;241m0\u001b[39m\n\u001b[0;32m    567\u001b[0m     out_list \u001b[38;5;241m=\u001b[39m (\n\u001b[1;32m--> 568\u001b[0m         \u001b[38;5;28;43mself\u001b[39;49m\u001b[38;5;241;43m.\u001b[39;49m\u001b[43mstructured_traceback\u001b[49m\u001b[43m(\u001b[49m\n\u001b[0;32m    569\u001b[0m \u001b[43m            \u001b[49m\u001b[43metype\u001b[49m\u001b[43m,\u001b[49m\n\u001b[0;32m    570\u001b[0m \u001b[43m            \u001b[49m\u001b[43mevalue\u001b[49m\u001b[43m,\u001b[49m\n\u001b[0;32m    571\u001b[0m \u001b[43m            \u001b[49m\u001b[43m(\u001b[49m\u001b[43metb\u001b[49m\u001b[43m,\u001b[49m\u001b[43m \u001b[49m\u001b[43mchained_exc_ids\u001b[49m\u001b[43m)\u001b[49m\u001b[43m,\u001b[49m\u001b[43m  \u001b[49m\u001b[38;5;66;43;03m# type: ignore\u001b[39;49;00m\n\u001b[0;32m    572\u001b[0m \u001b[43m            \u001b[49m\u001b[43mchained_exceptions_tb_offset\u001b[49m\u001b[43m,\u001b[49m\n\u001b[0;32m    573\u001b[0m \u001b[43m            \u001b[49m\u001b[43mcontext\u001b[49m\u001b[43m,\u001b[49m\n\u001b[0;32m    574\u001b[0m \u001b[43m        \u001b[49m\u001b[43m)\u001b[49m\n\u001b[0;32m    575\u001b[0m         \u001b[38;5;241m+\u001b[39m chained_exception_message\n\u001b[0;32m    576\u001b[0m         \u001b[38;5;241m+\u001b[39m out_list)\n\u001b[0;32m    578\u001b[0m \u001b[38;5;28;01mreturn\u001b[39;00m out_list\n",
      "File \u001b[1;32mE:\\MATERIALY\\SZKOLENIE_PYTHON\\ElemProgVenv\\Lib\\site-packages\\IPython\\core\\ultratb.py:1435\u001b[0m, in \u001b[0;36mAutoFormattedTB.structured_traceback\u001b[1;34m(self, etype, evalue, etb, tb_offset, number_of_lines_of_context)\u001b[0m\n\u001b[0;32m   1433\u001b[0m \u001b[38;5;28;01melse\u001b[39;00m:\n\u001b[0;32m   1434\u001b[0m     \u001b[38;5;28mself\u001b[39m\u001b[38;5;241m.\u001b[39mtb \u001b[38;5;241m=\u001b[39m etb\n\u001b[1;32m-> 1435\u001b[0m \u001b[38;5;28;01mreturn\u001b[39;00m \u001b[43mFormattedTB\u001b[49m\u001b[38;5;241;43m.\u001b[39;49m\u001b[43mstructured_traceback\u001b[49m\u001b[43m(\u001b[49m\n\u001b[0;32m   1436\u001b[0m \u001b[43m    \u001b[49m\u001b[38;5;28;43mself\u001b[39;49m\u001b[43m,\u001b[49m\u001b[43m \u001b[49m\u001b[43metype\u001b[49m\u001b[43m,\u001b[49m\u001b[43m \u001b[49m\u001b[43mevalue\u001b[49m\u001b[43m,\u001b[49m\u001b[43m \u001b[49m\u001b[43metb\u001b[49m\u001b[43m,\u001b[49m\u001b[43m \u001b[49m\u001b[43mtb_offset\u001b[49m\u001b[43m,\u001b[49m\u001b[43m \u001b[49m\u001b[43mnumber_of_lines_of_context\u001b[49m\n\u001b[0;32m   1437\u001b[0m \u001b[43m\u001b[49m\u001b[43m)\u001b[49m\n",
      "File \u001b[1;32mE:\\MATERIALY\\SZKOLENIE_PYTHON\\ElemProgVenv\\Lib\\site-packages\\IPython\\core\\ultratb.py:1326\u001b[0m, in \u001b[0;36mFormattedTB.structured_traceback\u001b[1;34m(self, etype, value, tb, tb_offset, number_of_lines_of_context)\u001b[0m\n\u001b[0;32m   1323\u001b[0m mode \u001b[38;5;241m=\u001b[39m \u001b[38;5;28mself\u001b[39m\u001b[38;5;241m.\u001b[39mmode\n\u001b[0;32m   1324\u001b[0m \u001b[38;5;28;01mif\u001b[39;00m mode \u001b[38;5;129;01min\u001b[39;00m \u001b[38;5;28mself\u001b[39m\u001b[38;5;241m.\u001b[39mverbose_modes:\n\u001b[0;32m   1325\u001b[0m     \u001b[38;5;66;03m# Verbose modes need a full traceback\u001b[39;00m\n\u001b[1;32m-> 1326\u001b[0m     \u001b[38;5;28;01mreturn\u001b[39;00m \u001b[43mVerboseTB\u001b[49m\u001b[38;5;241;43m.\u001b[39;49m\u001b[43mstructured_traceback\u001b[49m\u001b[43m(\u001b[49m\n\u001b[0;32m   1327\u001b[0m \u001b[43m        \u001b[49m\u001b[38;5;28;43mself\u001b[39;49m\u001b[43m,\u001b[49m\u001b[43m \u001b[49m\u001b[43metype\u001b[49m\u001b[43m,\u001b[49m\u001b[43m \u001b[49m\u001b[43mvalue\u001b[49m\u001b[43m,\u001b[49m\u001b[43m \u001b[49m\u001b[43mtb\u001b[49m\u001b[43m,\u001b[49m\u001b[43m \u001b[49m\u001b[43mtb_offset\u001b[49m\u001b[43m,\u001b[49m\u001b[43m \u001b[49m\u001b[43mnumber_of_lines_of_context\u001b[49m\n\u001b[0;32m   1328\u001b[0m \u001b[43m    \u001b[49m\u001b[43m)\u001b[49m\n\u001b[0;32m   1329\u001b[0m \u001b[38;5;28;01melif\u001b[39;00m mode \u001b[38;5;241m==\u001b[39m \u001b[38;5;124m'\u001b[39m\u001b[38;5;124mMinimal\u001b[39m\u001b[38;5;124m'\u001b[39m:\n\u001b[0;32m   1330\u001b[0m     \u001b[38;5;28;01mreturn\u001b[39;00m ListTB\u001b[38;5;241m.\u001b[39mget_exception_only(\u001b[38;5;28mself\u001b[39m, etype, value)\n",
      "File \u001b[1;32mE:\\MATERIALY\\SZKOLENIE_PYTHON\\ElemProgVenv\\Lib\\site-packages\\IPython\\core\\ultratb.py:1173\u001b[0m, in \u001b[0;36mVerboseTB.structured_traceback\u001b[1;34m(self, etype, evalue, etb, tb_offset, number_of_lines_of_context)\u001b[0m\n\u001b[0;32m   1164\u001b[0m \u001b[38;5;28;01mdef\u001b[39;00m \u001b[38;5;21mstructured_traceback\u001b[39m(\n\u001b[0;32m   1165\u001b[0m     \u001b[38;5;28mself\u001b[39m,\n\u001b[0;32m   1166\u001b[0m     etype: \u001b[38;5;28mtype\u001b[39m,\n\u001b[1;32m   (...)\u001b[0m\n\u001b[0;32m   1170\u001b[0m     number_of_lines_of_context: \u001b[38;5;28mint\u001b[39m \u001b[38;5;241m=\u001b[39m \u001b[38;5;241m5\u001b[39m,\n\u001b[0;32m   1171\u001b[0m ):\n\u001b[0;32m   1172\u001b[0m \u001b[38;5;250m    \u001b[39m\u001b[38;5;124;03m\"\"\"Return a nice text document describing the traceback.\"\"\"\u001b[39;00m\n\u001b[1;32m-> 1173\u001b[0m     formatted_exception \u001b[38;5;241m=\u001b[39m \u001b[38;5;28;43mself\u001b[39;49m\u001b[38;5;241;43m.\u001b[39;49m\u001b[43mformat_exception_as_a_whole\u001b[49m\u001b[43m(\u001b[49m\u001b[43metype\u001b[49m\u001b[43m,\u001b[49m\u001b[43m \u001b[49m\u001b[43mevalue\u001b[49m\u001b[43m,\u001b[49m\u001b[43m \u001b[49m\u001b[43metb\u001b[49m\u001b[43m,\u001b[49m\u001b[43m \u001b[49m\u001b[43mnumber_of_lines_of_context\u001b[49m\u001b[43m,\u001b[49m\n\u001b[0;32m   1174\u001b[0m \u001b[43m                                                           \u001b[49m\u001b[43mtb_offset\u001b[49m\u001b[43m)\u001b[49m\n\u001b[0;32m   1176\u001b[0m     colors \u001b[38;5;241m=\u001b[39m \u001b[38;5;28mself\u001b[39m\u001b[38;5;241m.\u001b[39mColors  \u001b[38;5;66;03m# just a shorthand + quicker name lookup\u001b[39;00m\n\u001b[0;32m   1177\u001b[0m     colorsnormal \u001b[38;5;241m=\u001b[39m colors\u001b[38;5;241m.\u001b[39mNormal  \u001b[38;5;66;03m# used a lot\u001b[39;00m\n",
      "File \u001b[1;32mE:\\MATERIALY\\SZKOLENIE_PYTHON\\ElemProgVenv\\Lib\\site-packages\\IPython\\core\\ultratb.py:1063\u001b[0m, in \u001b[0;36mVerboseTB.format_exception_as_a_whole\u001b[1;34m(self, etype, evalue, etb, number_of_lines_of_context, tb_offset)\u001b[0m\n\u001b[0;32m   1060\u001b[0m \u001b[38;5;28;01massert\u001b[39;00m \u001b[38;5;28misinstance\u001b[39m(tb_offset, \u001b[38;5;28mint\u001b[39m)\n\u001b[0;32m   1061\u001b[0m head \u001b[38;5;241m=\u001b[39m \u001b[38;5;28mself\u001b[39m\u001b[38;5;241m.\u001b[39mprepare_header(\u001b[38;5;28mstr\u001b[39m(etype), \u001b[38;5;28mself\u001b[39m\u001b[38;5;241m.\u001b[39mlong_header)\n\u001b[0;32m   1062\u001b[0m records \u001b[38;5;241m=\u001b[39m (\n\u001b[1;32m-> 1063\u001b[0m     \u001b[38;5;28;43mself\u001b[39;49m\u001b[38;5;241;43m.\u001b[39;49m\u001b[43mget_records\u001b[49m\u001b[43m(\u001b[49m\u001b[43metb\u001b[49m\u001b[43m,\u001b[49m\u001b[43m \u001b[49m\u001b[43mnumber_of_lines_of_context\u001b[49m\u001b[43m,\u001b[49m\u001b[43m \u001b[49m\u001b[43mtb_offset\u001b[49m\u001b[43m)\u001b[49m \u001b[38;5;28;01mif\u001b[39;00m etb \u001b[38;5;28;01melse\u001b[39;00m []\n\u001b[0;32m   1064\u001b[0m )\n\u001b[0;32m   1066\u001b[0m frames \u001b[38;5;241m=\u001b[39m []\n\u001b[0;32m   1067\u001b[0m skipped \u001b[38;5;241m=\u001b[39m \u001b[38;5;241m0\u001b[39m\n",
      "File \u001b[1;32mE:\\MATERIALY\\SZKOLENIE_PYTHON\\ElemProgVenv\\Lib\\site-packages\\IPython\\core\\ultratb.py:1131\u001b[0m, in \u001b[0;36mVerboseTB.get_records\u001b[1;34m(self, etb, number_of_lines_of_context, tb_offset)\u001b[0m\n\u001b[0;32m   1129\u001b[0m \u001b[38;5;28;01mwhile\u001b[39;00m cf \u001b[38;5;129;01mis\u001b[39;00m \u001b[38;5;129;01mnot\u001b[39;00m \u001b[38;5;28;01mNone\u001b[39;00m:\n\u001b[0;32m   1130\u001b[0m     \u001b[38;5;28;01mtry\u001b[39;00m:\n\u001b[1;32m-> 1131\u001b[0m         mod \u001b[38;5;241m=\u001b[39m inspect\u001b[38;5;241m.\u001b[39mgetmodule(\u001b[43mcf\u001b[49m\u001b[38;5;241;43m.\u001b[39;49m\u001b[43mtb_frame\u001b[49m)\n\u001b[0;32m   1132\u001b[0m         \u001b[38;5;28;01mif\u001b[39;00m mod \u001b[38;5;129;01mis\u001b[39;00m \u001b[38;5;129;01mnot\u001b[39;00m \u001b[38;5;28;01mNone\u001b[39;00m:\n\u001b[0;32m   1133\u001b[0m             mod_name \u001b[38;5;241m=\u001b[39m mod\u001b[38;5;241m.\u001b[39m\u001b[38;5;18m__name__\u001b[39m\n",
      "\u001b[1;31mAttributeError\u001b[0m: 'tuple' object has no attribute 'tb_frame'"
     ]
    }
   ],
   "source": [
    "%run ./tmp/argparse_divide.py --dividend 42 --divisor \"two\""
   ]
  },
  {
   "cell_type": "markdown",
   "metadata": {},
   "source": [
    "##Przyjmowanie wielu wartości wejściowych\n",
    "\r\n",
    "Przyjmowanie wielu wartości w argumentach i opcjach może być wymagane w niektórych aplikacjach CLI. Domyślnie argparse zakłada, że będziesz oczekiwać pojedynczej wartości dla każdego argumentu lub opcji. Możesz zmodyfikować to zachowanie za pomocą argumentu` nagr`s funkcji .add_argument().\r\n",
    "\r\n",
    "Argume`nt na`rgs informu`je argpa`rse, że podstawowy argument może przyjmować zero lub więcej wartości wejściowych w zależności od konkretnej wartości przypisanej `do na`rgs. Jeśli chcesz, aby argument lub opcja akceptowała stałą liczbę wartości wejściowych, możesz ustawić nargs na liczbę całkowitą. Jeśli potrzebujesz bardziej elastycznych zachowań, nargs jest dla Ciebie rozwiązaniem, ponieważ akceptuje również następujące wartoś\n",
    "- `?` - Pojedyncza wartość, która może być opcjonalna\n",
    "- `*` - Zero lub wiele wartości\n",
    "- `+` - Jedna lub wiele wartościci:"
   ]
  },
  {
   "cell_type": "code",
   "execution_count": 20,
   "metadata": {},
   "outputs": [
    {
     "name": "stdout",
     "output_type": "stream",
     "text": [
      "Writing ./tmp/point.py\n"
     ]
    }
   ],
   "source": [
    "%%writefile ./tmp/point.py\n",
    "\n",
    "# point.py\n",
    "\n",
    "import argparse\n",
    "\n",
    "parser = argparse.ArgumentParser()\n",
    "\n",
    "parser.add_argument(\"--coordinates\", nargs=2)\n",
    "\n",
    "args = parser.parse_args()\n",
    "\n",
    "print(args)"
   ]
  },
  {
   "cell_type": "code",
   "execution_count": 21,
   "metadata": {},
   "outputs": [
    {
     "name": "stdout",
     "output_type": "stream",
     "text": [
      "Namespace(coordinates=['2', '3'])\n"
     ]
    }
   ],
   "source": [
    "%run ./tmp/point.py --coordinates 2 3"
   ]
  },
  {
   "cell_type": "code",
   "execution_count": 22,
   "metadata": {},
   "outputs": [
    {
     "name": "stderr",
     "output_type": "stream",
     "text": [
      "usage: point.py [-h] [--coordinates COORDINATES COORDINATES]\n",
      "point.py: error: unrecognized arguments: 3\n"
     ]
    },
    {
     "ename": "SystemExit",
     "evalue": "2",
     "output_type": "error",
     "traceback": [
      "An exception has occurred, use %tb to see the full traceback.\n",
      "\u001b[1;31mSystemExit\u001b[0m\u001b[1;31m:\u001b[0m 2\n"
     ]
    }
   ],
   "source": [
    "%run ./tmp/point.py --coordinates 2 3 3"
   ]
  },
  {
   "cell_type": "markdown",
   "metadata": {},
   "source": [
    "## Podawanie wartości domyślnych\n",
    "\n",
    "-----\n",
    "Metoda .add_argument() może przyjmować argument domyślny, który umożliwia podanie odpowiedniej wartości domyślnej dla poszczególnych argumentów i opcji. Ta funkcja może być przydatna, gdy chcesz, aby argument docelowy lub opcja zawsze miała prawidłową wartość na wypadek, gdyby użytkownik nie podał żadnych danych wejściowych w wierszu poleceń.\n",
    "\n",
    "Jako przykład wróć do niestandardowego polecenia ls i powiedz, że musisz ustawić polecenie wyświetlające zawartość bieżącego katalogu, gdy użytkownik nie poda katalogu docelowego. Można to zrobić, ustawiając wartość domyślną na „.” jak w poniższym kodzie:"
   ]
  },
  {
   "cell_type": "code",
   "execution_count": 23,
   "metadata": {},
   "outputs": [
    {
     "name": "stdout",
     "output_type": "stream",
     "text": [
      "Writing ./tmp/argparse_example_v3.py\n"
     ]
    }
   ],
   "source": [
    "%%writefile ./tmp/argparse_example_v3.py\n",
    "\n",
    "import argparse\n",
    "import datetime\n",
    "from pathlib import Path\n",
    "\n",
    "parser = argparse.ArgumentParser()\n",
    "\n",
    "parser.add_argument(\"path\", nargs=\"?\", default=\".\")\n",
    "\n",
    "parser.add_argument(\"-l\", \"--long\", action=\"store_true\")\n",
    "\n",
    "args = parser.parse_args()\n",
    "\n",
    "target_dir = Path(args.path)\n",
    "\n",
    "if not target_dir.exists():\n",
    "    print(\"The target directory doesn't exist\")\n",
    "    raise SystemExit(1)\n",
    "\n",
    "def build_output(entry, long=False):\n",
    "    if long:\n",
    "        size = entry.stat().st_size\n",
    "        date = datetime.datetime.fromtimestamp(\n",
    "            entry.stat().st_mtime).strftime(\n",
    "            \"%b %d %H:%M:%S\"\n",
    "        )\n",
    "        return f\"{size:>6d} {date} {entry.name}\"\n",
    "    return entry.name\n",
    "\n",
    "for entry in target_dir.iterdir():\n",
    "    print(build_output(entry, long=args.long))"
   ]
  },
  {
   "cell_type": "code",
   "execution_count": 24,
   "metadata": {},
   "outputs": [
    {
     "name": "stdout",
     "output_type": "stream",
     "text": [
      "196591093 Mar 03 12:29:20 cast.csv\n",
      "18872434 Mar 03 09:33:26 release_dates.csv\n",
      "4962110 Mar 16 12:39:17 titles.csv\n"
     ]
    }
   ],
   "source": [
    "%run ./tmp/argparse_example_v3.py ./data/ -l"
   ]
  },
  {
   "cell_type": "code",
   "execution_count": 25,
   "metadata": {},
   "outputs": [
    {
     "name": "stdout",
     "output_type": "stream",
     "text": [
      "   234 Sep 09 23:02:33 .buildinfo\n",
      "  4096 Sep 10 20:46:22 .git\n",
      "    30 Sep 09 23:02:55 .gitignore\n",
      "  4096 Sep 12 13:11:27 .ipynb_checkpoints\n",
      "     0 Sep 09 23:02:33 .nojekyll\n",
      "     0 Sep 09 11:56:22 data\n",
      " 76040 Sep 09 23:02:34 elem_prog_wyklad_0_2022.html\n",
      " 11869 Sep 09 23:02:34 genindex.html\n",
      " 66115 Sep 09 23:02:55 header_cr.jpg\n",
      "    58 Sep 09 23:02:34 index.html\n",
      " 14722 Sep 09 23:02:34 intro.html\n",
      " 17861 Sep 09 23:02:55 logo.jpg\n",
      " 19487 Sep 09 23:02:34 markdown-notebooks.html\n",
      " 20244 Sep 09 23:02:34 markdown.html\n",
      " 25815 Sep 09 23:02:33 Mod0.html\n",
      "  9027 Sep 09 23:02:54 Mod0.ipynb\n",
      " 53345 Sep 09 23:02:33 Mod1.html\n",
      " 22952 Sep 09 23:02:55 Mod1.ipynb\n",
      " 60597 Sep 09 23:02:33 Mod1_cw.html\n",
      " 27595 Sep 09 23:02:54 Mod1_cw.ipynb\n",
      "122149 Sep 09 23:02:33 Mod2.html\n",
      " 65467 Sep 12 13:13:31 Mod2.ipynb\n",
      " 34099 Sep 09 23:02:33 Mod2_cw.html\n",
      " 12727 Sep 12 13:12:01 Mod2_cw.ipynb\n",
      "231695 Sep 09 23:02:33 Mod3.html\n",
      " 40399 Sep 09 23:02:55 Mod3.ipynb\n",
      " 30302 Sep 09 23:02:33 Mod3_cw.html\n",
      "  9876 Sep 09 23:02:54 Mod3_cw.ipynb\n",
      "103950 Sep 09 23:02:33 Mod4.html\n",
      " 43930 Sep 09 23:02:54 Mod4.ipynb\n",
      " 25383 Sep 09 23:02:33 Mod4_cw.html\n",
      "  8137 Sep 09 23:02:54 Mod4_cw.ipynb\n",
      "135646 Sep 09 23:02:33 Mod5.html\n",
      "403995 Sep 09 23:02:55 Mod5.ipynb\n",
      " 27404 Sep 09 23:02:33 Mod5_cw.html\n",
      "  9851 Sep 09 23:02:54 Mod5_cw.ipynb\n",
      "877503 Sep 09 23:02:33 Mod6.html\n",
      "1198065 Sep 09 23:02:54 Mod6.ipynb\n",
      "218714 Sep 09 23:02:33 Mod6_cw.html\n",
      "458380 Sep 09 23:02:54 Mod6_cw.ipynb\n",
      "329399 Sep 09 23:02:33 Mod7.html\n",
      "2866371 Sep 09 23:02:55 Mod7.ipynb\n",
      "329377 Sep 09 23:02:33 Mod8.html\n",
      " 14301 Sep 09 23:02:33 Mod8_cw.html\n",
      " 51747 Sep 12 15:10:10 Mod8_cw.ipynb\n",
      " 38526 Sep 09 23:02:55 my_figure.png\n",
      " 23994 Sep 09 23:02:34 notebooks.html\n",
      "   490 Sep 09 23:02:34 objects.inv\n",
      "  5580 Sep 09 23:02:55 references.bib\n",
      "  4096 Sep 09 23:02:34 reports\n",
      "    33 Sep 09 23:02:55 requirements.txt\n",
      " 12695 Sep 09 23:02:34 search.html\n",
      "176466 Sep 09 23:02:34 searchindex.js\n",
      "  8192 Sep 12 13:22:02 src\n",
      "    79 Sep 09 23:02:55 style-notebook.css\n",
      "   627 Sep 09 23:02:55 style-table.css\n",
      "  4096 Sep 12 15:10:15 tmp\n",
      "     0 Sep 09 23:02:54 _build\n",
      "  1117 Sep 09 23:02:55 _config.yml\n",
      " 65536 Sep 09 23:02:33 _images\n",
      "  8192 Sep 09 23:02:33 _sources\n",
      "     0 Sep 09 23:02:33 _sphinx_design_static\n",
      " 12288 Sep 09 23:02:34 _static\n",
      "   340 Sep 09 23:02:55 _toc.yml\n"
     ]
    }
   ],
   "source": [
    "%run ./tmp/argparse_example_v3.py -l"
   ]
  },
  {
   "cell_type": "markdown",
   "metadata": {},
   "source": [
    "## Określanie listy dozwolonych wartości wejściowych\n",
    "\n",
    "----\r\n",
    "Inną interesującą możliwością w interfejsie CLI argparse jest możliwość utworzenia domeny dozwolonych wartości dla określonego argumentu lub opcji. Można to zrobić, dostarczając listę akceptowanych wartości przy użyciu argumentu Choose funkcji .add_argument().\r\n",
    "\r\n",
    "Oto przykład małej aplikacji z opcją --size, która akceptuje tylko kilka predefiniowanych wartości wejściowych:"
   ]
  },
  {
   "cell_type": "code",
   "execution_count": 26,
   "metadata": {},
   "outputs": [
    {
     "name": "stdout",
     "output_type": "stream",
     "text": [
      "Writing ./tmp/size.py\n"
     ]
    }
   ],
   "source": [
    "%%writefile ./tmp/size.py\n",
    "\n",
    "import argparse\n",
    "\n",
    "parser = argparse.ArgumentParser()\n",
    "\n",
    "parser.add_argument(\"--size\", choices=[\"S\", \"M\", \"L\", \"XL\"], default=\"M\")\n",
    "\n",
    "args = parser.parse_args()\n",
    "\n",
    "print(args)"
   ]
  },
  {
   "cell_type": "code",
   "execution_count": 27,
   "metadata": {},
   "outputs": [
    {
     "name": "stdout",
     "output_type": "stream",
     "text": [
      "Namespace(size='S')\n"
     ]
    }
   ],
   "source": [
    "%run ./tmp/size.py --size \"S\""
   ]
  },
  {
   "cell_type": "code",
   "execution_count": 28,
   "metadata": {
    "scrolled": true
   },
   "outputs": [
    {
     "name": "stderr",
     "output_type": "stream",
     "text": [
      "usage: size.py [-h] [--size {S,M,L,XL}]\n",
      "size.py: error: argument --size: invalid choice: 'A' (choose from 'S', 'M', 'L', 'XL')\n"
     ]
    },
    {
     "ename": "AttributeError",
     "evalue": "'tuple' object has no attribute 'tb_frame'",
     "output_type": "error",
     "traceback": [
      "\u001b[1;31m---------------------------------------------------------------------------\u001b[0m",
      "\u001b[1;31mArgumentError\u001b[0m                             Traceback (most recent call last)",
      "File \u001b[1;32mC:\\ProgramData\\anaconda3\\Lib\\argparse.py:1902\u001b[0m, in \u001b[0;36mArgumentParser.parse_known_args\u001b[1;34m(self, args, namespace)\u001b[0m\n\u001b[0;32m   1901\u001b[0m \u001b[38;5;28;01mtry\u001b[39;00m:\n\u001b[1;32m-> 1902\u001b[0m     namespace, args \u001b[38;5;241m=\u001b[39m \u001b[38;5;28;43mself\u001b[39;49m\u001b[38;5;241;43m.\u001b[39;49m\u001b[43m_parse_known_args\u001b[49m\u001b[43m(\u001b[49m\u001b[43margs\u001b[49m\u001b[43m,\u001b[49m\u001b[43m \u001b[49m\u001b[43mnamespace\u001b[49m\u001b[43m)\u001b[49m\n\u001b[0;32m   1903\u001b[0m \u001b[38;5;28;01mexcept\u001b[39;00m ArgumentError \u001b[38;5;28;01mas\u001b[39;00m err:\n",
      "File \u001b[1;32mC:\\ProgramData\\anaconda3\\Lib\\argparse.py:2114\u001b[0m, in \u001b[0;36mArgumentParser._parse_known_args\u001b[1;34m(self, arg_strings, namespace)\u001b[0m\n\u001b[0;32m   2113\u001b[0m     \u001b[38;5;66;03m# consume the next optional and any arguments for it\u001b[39;00m\n\u001b[1;32m-> 2114\u001b[0m     start_index \u001b[38;5;241m=\u001b[39m \u001b[43mconsume_optional\u001b[49m\u001b[43m(\u001b[49m\u001b[43mstart_index\u001b[49m\u001b[43m)\u001b[49m\n\u001b[0;32m   2116\u001b[0m \u001b[38;5;66;03m# consume any positionals following the last Optional\u001b[39;00m\n",
      "File \u001b[1;32mC:\\ProgramData\\anaconda3\\Lib\\argparse.py:2054\u001b[0m, in \u001b[0;36mArgumentParser._parse_known_args.<locals>.consume_optional\u001b[1;34m(start_index)\u001b[0m\n\u001b[0;32m   2053\u001b[0m \u001b[38;5;28;01mfor\u001b[39;00m action, args, option_string \u001b[38;5;129;01min\u001b[39;00m action_tuples:\n\u001b[1;32m-> 2054\u001b[0m     \u001b[43mtake_action\u001b[49m\u001b[43m(\u001b[49m\u001b[43maction\u001b[49m\u001b[43m,\u001b[49m\u001b[43m \u001b[49m\u001b[43margs\u001b[49m\u001b[43m,\u001b[49m\u001b[43m \u001b[49m\u001b[43moption_string\u001b[49m\u001b[43m)\u001b[49m\n\u001b[0;32m   2055\u001b[0m \u001b[38;5;28;01mreturn\u001b[39;00m stop\n",
      "File \u001b[1;32mC:\\ProgramData\\anaconda3\\Lib\\argparse.py:1962\u001b[0m, in \u001b[0;36mArgumentParser._parse_known_args.<locals>.take_action\u001b[1;34m(action, argument_strings, option_string)\u001b[0m\n\u001b[0;32m   1961\u001b[0m seen_actions\u001b[38;5;241m.\u001b[39madd(action)\n\u001b[1;32m-> 1962\u001b[0m argument_values \u001b[38;5;241m=\u001b[39m \u001b[38;5;28;43mself\u001b[39;49m\u001b[38;5;241;43m.\u001b[39;49m\u001b[43m_get_values\u001b[49m\u001b[43m(\u001b[49m\u001b[43maction\u001b[49m\u001b[43m,\u001b[49m\u001b[43m \u001b[49m\u001b[43margument_strings\u001b[49m\u001b[43m)\u001b[49m\n\u001b[0;32m   1964\u001b[0m \u001b[38;5;66;03m# error if this argument is not allowed with other previously\u001b[39;00m\n\u001b[0;32m   1965\u001b[0m \u001b[38;5;66;03m# seen arguments, assuming that actions that use the default\u001b[39;00m\n\u001b[0;32m   1966\u001b[0m \u001b[38;5;66;03m# value don't really count as \"present\"\u001b[39;00m\n",
      "File \u001b[1;32mC:\\ProgramData\\anaconda3\\Lib\\argparse.py:2497\u001b[0m, in \u001b[0;36mArgumentParser._get_values\u001b[1;34m(self, action, arg_strings)\u001b[0m\n\u001b[0;32m   2496\u001b[0m     value \u001b[38;5;241m=\u001b[39m \u001b[38;5;28mself\u001b[39m\u001b[38;5;241m.\u001b[39m_get_value(action, arg_string)\n\u001b[1;32m-> 2497\u001b[0m     \u001b[38;5;28;43mself\u001b[39;49m\u001b[38;5;241;43m.\u001b[39;49m\u001b[43m_check_value\u001b[49m\u001b[43m(\u001b[49m\u001b[43maction\u001b[49m\u001b[43m,\u001b[49m\u001b[43m \u001b[49m\u001b[43mvalue\u001b[49m\u001b[43m)\u001b[49m\n\u001b[0;32m   2499\u001b[0m \u001b[38;5;66;03m# REMAINDER arguments convert all values, checking none\u001b[39;00m\n",
      "File \u001b[1;32mC:\\ProgramData\\anaconda3\\Lib\\argparse.py:2553\u001b[0m, in \u001b[0;36mArgumentParser._check_value\u001b[1;34m(self, action, value)\u001b[0m\n\u001b[0;32m   2552\u001b[0m msg \u001b[38;5;241m=\u001b[39m _(\u001b[38;5;124m'\u001b[39m\u001b[38;5;124minvalid choice: \u001b[39m\u001b[38;5;132;01m%(value)r\u001b[39;00m\u001b[38;5;124m (choose from \u001b[39m\u001b[38;5;132;01m%(choices)s\u001b[39;00m\u001b[38;5;124m)\u001b[39m\u001b[38;5;124m'\u001b[39m)\n\u001b[1;32m-> 2553\u001b[0m \u001b[38;5;28;01mraise\u001b[39;00m ArgumentError(action, msg \u001b[38;5;241m%\u001b[39m args)\n",
      "\u001b[1;31mArgumentError\u001b[0m: argument --size: invalid choice: 'A' (choose from 'S', 'M', 'L', 'XL')",
      "\nDuring handling of the above exception, another exception occurred:\n",
      "\u001b[1;31mSystemExit\u001b[0m                                Traceback (most recent call last)",
      "File \u001b[1;32mE:\\MATERIALY\\SZKOLENIE_PYTHON\\ElemProgVenv\\Lib\\site-packages\\IPython\\core\\interactiveshell.py:2881\u001b[0m, in \u001b[0;36mInteractiveShell.safe_execfile\u001b[1;34m(self, fname, exit_ignore, raise_exceptions, shell_futures, *where)\u001b[0m\n\u001b[0;32m   2880\u001b[0m     glob, loc \u001b[38;5;241m=\u001b[39m (where \u001b[38;5;241m+\u001b[39m (\u001b[38;5;28;01mNone\u001b[39;00m, ))[:\u001b[38;5;241m2\u001b[39m]\n\u001b[1;32m-> 2881\u001b[0m     \u001b[43mpy3compat\u001b[49m\u001b[38;5;241;43m.\u001b[39;49m\u001b[43mexecfile\u001b[49m\u001b[43m(\u001b[49m\n\u001b[0;32m   2882\u001b[0m \u001b[43m        \u001b[49m\u001b[43mfname\u001b[49m\u001b[43m,\u001b[49m\u001b[43m \u001b[49m\u001b[43mglob\u001b[49m\u001b[43m,\u001b[49m\u001b[43m \u001b[49m\u001b[43mloc\u001b[49m\u001b[43m,\u001b[49m\n\u001b[0;32m   2883\u001b[0m \u001b[43m        \u001b[49m\u001b[38;5;28;43mself\u001b[39;49m\u001b[38;5;241;43m.\u001b[39;49m\u001b[43mcompile\u001b[49m\u001b[43m \u001b[49m\u001b[38;5;28;43;01mif\u001b[39;49;00m\u001b[43m \u001b[49m\u001b[43mshell_futures\u001b[49m\u001b[43m \u001b[49m\u001b[38;5;28;43;01melse\u001b[39;49;00m\u001b[43m \u001b[49m\u001b[38;5;28;43;01mNone\u001b[39;49;00m\u001b[43m)\u001b[49m\n\u001b[0;32m   2884\u001b[0m \u001b[38;5;28;01mexcept\u001b[39;00m \u001b[38;5;167;01mSystemExit\u001b[39;00m \u001b[38;5;28;01mas\u001b[39;00m status:\n\u001b[0;32m   2885\u001b[0m     \u001b[38;5;66;03m# If the call was made with 0 or None exit status (sys.exit(0)\u001b[39;00m\n\u001b[0;32m   2886\u001b[0m     \u001b[38;5;66;03m# or sys.exit() ), don't bother showing a traceback, as both of\u001b[39;00m\n\u001b[1;32m   (...)\u001b[0m\n\u001b[0;32m   2892\u001b[0m     \u001b[38;5;66;03m# For other exit status, we show the exception unless\u001b[39;00m\n\u001b[0;32m   2893\u001b[0m     \u001b[38;5;66;03m# explicitly silenced, but only in short form.\u001b[39;00m\n",
      "File \u001b[1;32mE:\\MATERIALY\\SZKOLENIE_PYTHON\\ElemProgVenv\\Lib\\site-packages\\IPython\\utils\\py3compat.py:55\u001b[0m, in \u001b[0;36mexecfile\u001b[1;34m(fname, glob, loc, compiler)\u001b[0m\n\u001b[0;32m     54\u001b[0m compiler \u001b[38;5;241m=\u001b[39m compiler \u001b[38;5;129;01mor\u001b[39;00m \u001b[38;5;28mcompile\u001b[39m\n\u001b[1;32m---> 55\u001b[0m exec(compiler(f\u001b[38;5;241m.\u001b[39mread(), fname, \u001b[38;5;124m\"\u001b[39m\u001b[38;5;124mexec\u001b[39m\u001b[38;5;124m\"\u001b[39m), glob, loc)\n",
      "File \u001b[1;32mE:\\MATERIALY\\IGGPyCourse\\IGGPyCourse\\tmp\\size.py:8\u001b[0m\n\u001b[0;32m      6\u001b[0m parser\u001b[38;5;241m.\u001b[39madd_argument(\u001b[38;5;124m\"\u001b[39m\u001b[38;5;124m--size\u001b[39m\u001b[38;5;124m\"\u001b[39m, choices\u001b[38;5;241m=\u001b[39m[\u001b[38;5;124m\"\u001b[39m\u001b[38;5;124mS\u001b[39m\u001b[38;5;124m\"\u001b[39m, \u001b[38;5;124m\"\u001b[39m\u001b[38;5;124mM\u001b[39m\u001b[38;5;124m\"\u001b[39m, \u001b[38;5;124m\"\u001b[39m\u001b[38;5;124mL\u001b[39m\u001b[38;5;124m\"\u001b[39m, \u001b[38;5;124m\"\u001b[39m\u001b[38;5;124mXL\u001b[39m\u001b[38;5;124m\"\u001b[39m], default\u001b[38;5;241m=\u001b[39m\u001b[38;5;124m\"\u001b[39m\u001b[38;5;124mM\u001b[39m\u001b[38;5;124m\"\u001b[39m)\n\u001b[1;32m----> 8\u001b[0m args \u001b[38;5;241m=\u001b[39m \u001b[43mparser\u001b[49m\u001b[38;5;241;43m.\u001b[39;49m\u001b[43mparse_args\u001b[49m\u001b[43m(\u001b[49m\u001b[43m)\u001b[49m\n\u001b[0;32m     10\u001b[0m \u001b[38;5;28mprint\u001b[39m(args)\n",
      "File \u001b[1;32mC:\\ProgramData\\anaconda3\\Lib\\argparse.py:1869\u001b[0m, in \u001b[0;36mArgumentParser.parse_args\u001b[1;34m(self, args, namespace)\u001b[0m\n\u001b[0;32m   1868\u001b[0m \u001b[38;5;28;01mdef\u001b[39;00m \u001b[38;5;21mparse_args\u001b[39m(\u001b[38;5;28mself\u001b[39m, args\u001b[38;5;241m=\u001b[39m\u001b[38;5;28;01mNone\u001b[39;00m, namespace\u001b[38;5;241m=\u001b[39m\u001b[38;5;28;01mNone\u001b[39;00m):\n\u001b[1;32m-> 1869\u001b[0m     args, argv \u001b[38;5;241m=\u001b[39m \u001b[38;5;28;43mself\u001b[39;49m\u001b[38;5;241;43m.\u001b[39;49m\u001b[43mparse_known_args\u001b[49m\u001b[43m(\u001b[49m\u001b[43margs\u001b[49m\u001b[43m,\u001b[49m\u001b[43m \u001b[49m\u001b[43mnamespace\u001b[49m\u001b[43m)\u001b[49m\n\u001b[0;32m   1870\u001b[0m     \u001b[38;5;28;01mif\u001b[39;00m argv:\n",
      "File \u001b[1;32mC:\\ProgramData\\anaconda3\\Lib\\argparse.py:1904\u001b[0m, in \u001b[0;36mArgumentParser.parse_known_args\u001b[1;34m(self, args, namespace)\u001b[0m\n\u001b[0;32m   1903\u001b[0m     \u001b[38;5;28;01mexcept\u001b[39;00m ArgumentError \u001b[38;5;28;01mas\u001b[39;00m err:\n\u001b[1;32m-> 1904\u001b[0m         \u001b[38;5;28;43mself\u001b[39;49m\u001b[38;5;241;43m.\u001b[39;49m\u001b[43merror\u001b[49m\u001b[43m(\u001b[49m\u001b[38;5;28;43mstr\u001b[39;49m\u001b[43m(\u001b[49m\u001b[43merr\u001b[49m\u001b[43m)\u001b[49m\u001b[43m)\u001b[49m\n\u001b[0;32m   1905\u001b[0m \u001b[38;5;28;01melse\u001b[39;00m:\n",
      "File \u001b[1;32mC:\\ProgramData\\anaconda3\\Lib\\argparse.py:2628\u001b[0m, in \u001b[0;36mArgumentParser.error\u001b[1;34m(self, message)\u001b[0m\n\u001b[0;32m   2627\u001b[0m args \u001b[38;5;241m=\u001b[39m {\u001b[38;5;124m'\u001b[39m\u001b[38;5;124mprog\u001b[39m\u001b[38;5;124m'\u001b[39m: \u001b[38;5;28mself\u001b[39m\u001b[38;5;241m.\u001b[39mprog, \u001b[38;5;124m'\u001b[39m\u001b[38;5;124mmessage\u001b[39m\u001b[38;5;124m'\u001b[39m: message}\n\u001b[1;32m-> 2628\u001b[0m \u001b[38;5;28;43mself\u001b[39;49m\u001b[38;5;241;43m.\u001b[39;49m\u001b[43mexit\u001b[49m\u001b[43m(\u001b[49m\u001b[38;5;241;43m2\u001b[39;49m\u001b[43m,\u001b[49m\u001b[43m \u001b[49m\u001b[43m_\u001b[49m\u001b[43m(\u001b[49m\u001b[38;5;124;43m'\u001b[39;49m\u001b[38;5;132;43;01m%(prog)s\u001b[39;49;00m\u001b[38;5;124;43m: error: \u001b[39;49m\u001b[38;5;132;43;01m%(message)s\u001b[39;49;00m\u001b[38;5;130;43;01m\\n\u001b[39;49;00m\u001b[38;5;124;43m'\u001b[39;49m\u001b[43m)\u001b[49m\u001b[43m \u001b[49m\u001b[38;5;241;43m%\u001b[39;49m\u001b[43m \u001b[49m\u001b[43margs\u001b[49m\u001b[43m)\u001b[49m\n",
      "File \u001b[1;32mC:\\ProgramData\\anaconda3\\Lib\\argparse.py:2615\u001b[0m, in \u001b[0;36mArgumentParser.exit\u001b[1;34m(self, status, message)\u001b[0m\n\u001b[0;32m   2614\u001b[0m     \u001b[38;5;28mself\u001b[39m\u001b[38;5;241m.\u001b[39m_print_message(message, _sys\u001b[38;5;241m.\u001b[39mstderr)\n\u001b[1;32m-> 2615\u001b[0m \u001b[43m_sys\u001b[49m\u001b[38;5;241;43m.\u001b[39;49m\u001b[43mexit\u001b[49m\u001b[43m(\u001b[49m\u001b[43mstatus\u001b[49m\u001b[43m)\u001b[49m\n",
      "\u001b[1;31mSystemExit\u001b[0m: 2",
      "\nDuring handling of the above exception, another exception occurred:\n",
      "\u001b[1;31mAttributeError\u001b[0m                            Traceback (most recent call last)",
      "Cell \u001b[1;32mIn[28], line 1\u001b[0m\n\u001b[1;32m----> 1\u001b[0m \u001b[43mget_ipython\u001b[49m\u001b[43m(\u001b[49m\u001b[43m)\u001b[49m\u001b[38;5;241;43m.\u001b[39;49m\u001b[43mrun_line_magic\u001b[49m\u001b[43m(\u001b[49m\u001b[38;5;124;43m'\u001b[39;49m\u001b[38;5;124;43mrun\u001b[39;49m\u001b[38;5;124;43m'\u001b[39;49m\u001b[43m,\u001b[49m\u001b[43m \u001b[49m\u001b[38;5;124;43m'\u001b[39;49m\u001b[38;5;124;43m./tmp/size.py --size \u001b[39;49m\u001b[38;5;124;43m\"\u001b[39;49m\u001b[38;5;124;43mA\u001b[39;49m\u001b[38;5;124;43m\"\u001b[39;49m\u001b[38;5;124;43m'\u001b[39;49m\u001b[43m)\u001b[49m\n",
      "File \u001b[1;32mE:\\MATERIALY\\SZKOLENIE_PYTHON\\ElemProgVenv\\Lib\\site-packages\\IPython\\core\\interactiveshell.py:2432\u001b[0m, in \u001b[0;36mInteractiveShell.run_line_magic\u001b[1;34m(self, magic_name, line, _stack_depth)\u001b[0m\n\u001b[0;32m   2430\u001b[0m     kwargs[\u001b[38;5;124m'\u001b[39m\u001b[38;5;124mlocal_ns\u001b[39m\u001b[38;5;124m'\u001b[39m] \u001b[38;5;241m=\u001b[39m \u001b[38;5;28mself\u001b[39m\u001b[38;5;241m.\u001b[39mget_local_scope(stack_depth)\n\u001b[0;32m   2431\u001b[0m \u001b[38;5;28;01mwith\u001b[39;00m \u001b[38;5;28mself\u001b[39m\u001b[38;5;241m.\u001b[39mbuiltin_trap:\n\u001b[1;32m-> 2432\u001b[0m     result \u001b[38;5;241m=\u001b[39m \u001b[43mfn\u001b[49m\u001b[43m(\u001b[49m\u001b[38;5;241;43m*\u001b[39;49m\u001b[43margs\u001b[49m\u001b[43m,\u001b[49m\u001b[43m \u001b[49m\u001b[38;5;241;43m*\u001b[39;49m\u001b[38;5;241;43m*\u001b[39;49m\u001b[43mkwargs\u001b[49m\u001b[43m)\u001b[49m\n\u001b[0;32m   2434\u001b[0m \u001b[38;5;66;03m# The code below prevents the output from being displayed\u001b[39;00m\n\u001b[0;32m   2435\u001b[0m \u001b[38;5;66;03m# when using magics with decorator @output_can_be_silenced\u001b[39;00m\n\u001b[0;32m   2436\u001b[0m \u001b[38;5;66;03m# when the last Python token in the expression is a ';'.\u001b[39;00m\n\u001b[0;32m   2437\u001b[0m \u001b[38;5;28;01mif\u001b[39;00m \u001b[38;5;28mgetattr\u001b[39m(fn, magic\u001b[38;5;241m.\u001b[39mMAGIC_OUTPUT_CAN_BE_SILENCED, \u001b[38;5;28;01mFalse\u001b[39;00m):\n",
      "File \u001b[1;32mE:\\MATERIALY\\SZKOLENIE_PYTHON\\ElemProgVenv\\Lib\\site-packages\\IPython\\core\\magics\\execution.py:849\u001b[0m, in \u001b[0;36mExecutionMagics.run\u001b[1;34m(self, parameter_s, runner, file_finder)\u001b[0m\n\u001b[0;32m    846\u001b[0m             \u001b[38;5;28mself\u001b[39m\u001b[38;5;241m.\u001b[39m_run_with_timing(run, nruns)\n\u001b[0;32m    847\u001b[0m         \u001b[38;5;28;01melse\u001b[39;00m:\n\u001b[0;32m    848\u001b[0m             \u001b[38;5;66;03m# regular execution\u001b[39;00m\n\u001b[1;32m--> 849\u001b[0m             \u001b[43mrun\u001b[49m\u001b[43m(\u001b[49m\u001b[43m)\u001b[49m\n\u001b[0;32m    851\u001b[0m \u001b[38;5;28;01mif\u001b[39;00m \u001b[38;5;124m'\u001b[39m\u001b[38;5;124mi\u001b[39m\u001b[38;5;124m'\u001b[39m \u001b[38;5;129;01min\u001b[39;00m opts:\n\u001b[0;32m    852\u001b[0m     \u001b[38;5;28mself\u001b[39m\u001b[38;5;241m.\u001b[39mshell\u001b[38;5;241m.\u001b[39muser_ns[\u001b[38;5;124m'\u001b[39m\u001b[38;5;124m__name__\u001b[39m\u001b[38;5;124m'\u001b[39m] \u001b[38;5;241m=\u001b[39m __name__save\n",
      "File \u001b[1;32mE:\\MATERIALY\\SZKOLENIE_PYTHON\\ElemProgVenv\\Lib\\site-packages\\IPython\\core\\magics\\execution.py:834\u001b[0m, in \u001b[0;36mExecutionMagics.run.<locals>.run\u001b[1;34m()\u001b[0m\n\u001b[0;32m    833\u001b[0m \u001b[38;5;28;01mdef\u001b[39;00m \u001b[38;5;21mrun\u001b[39m():\n\u001b[1;32m--> 834\u001b[0m     \u001b[43mrunner\u001b[49m\u001b[43m(\u001b[49m\u001b[43mfilename\u001b[49m\u001b[43m,\u001b[49m\u001b[43m \u001b[49m\u001b[43mprog_ns\u001b[49m\u001b[43m,\u001b[49m\u001b[43m \u001b[49m\u001b[43mprog_ns\u001b[49m\u001b[43m,\u001b[49m\n\u001b[0;32m    835\u001b[0m \u001b[43m            \u001b[49m\u001b[43mexit_ignore\u001b[49m\u001b[38;5;241;43m=\u001b[39;49m\u001b[43mexit_ignore\u001b[49m\u001b[43m)\u001b[49m\n",
      "File \u001b[1;32mE:\\MATERIALY\\SZKOLENIE_PYTHON\\ElemProgVenv\\Lib\\site-packages\\IPython\\core\\interactiveshell.py:2898\u001b[0m, in \u001b[0;36mInteractiveShell.safe_execfile\u001b[1;34m(self, fname, exit_ignore, raise_exceptions, shell_futures, *where)\u001b[0m\n\u001b[0;32m   2896\u001b[0m             \u001b[38;5;28;01mraise\u001b[39;00m\n\u001b[0;32m   2897\u001b[0m         \u001b[38;5;28;01mif\u001b[39;00m \u001b[38;5;129;01mnot\u001b[39;00m exit_ignore:\n\u001b[1;32m-> 2898\u001b[0m             \u001b[38;5;28;43mself\u001b[39;49m\u001b[38;5;241;43m.\u001b[39;49m\u001b[43mshowtraceback\u001b[49m\u001b[43m(\u001b[49m\u001b[43mexception_only\u001b[49m\u001b[38;5;241;43m=\u001b[39;49m\u001b[38;5;28;43;01mTrue\u001b[39;49;00m\u001b[43m)\u001b[49m\n\u001b[0;32m   2899\u001b[0m \u001b[38;5;28;01mexcept\u001b[39;00m:\n\u001b[0;32m   2900\u001b[0m     \u001b[38;5;28;01mif\u001b[39;00m raise_exceptions:\n",
      "File \u001b[1;32mE:\\MATERIALY\\SZKOLENIE_PYTHON\\ElemProgVenv\\Lib\\site-packages\\IPython\\core\\interactiveshell.py:2097\u001b[0m, in \u001b[0;36mInteractiveShell.showtraceback\u001b[1;34m(self, exc_tuple, filename, tb_offset, exception_only, running_compiled_code)\u001b[0m\n\u001b[0;32m   2094\u001b[0m \u001b[38;5;28;01mif\u001b[39;00m exception_only:\n\u001b[0;32m   2095\u001b[0m     stb \u001b[38;5;241m=\u001b[39m [\u001b[38;5;124m'\u001b[39m\u001b[38;5;124mAn exception has occurred, use \u001b[39m\u001b[38;5;124m%\u001b[39m\u001b[38;5;124mtb to see \u001b[39m\u001b[38;5;124m'\u001b[39m\n\u001b[0;32m   2096\u001b[0m            \u001b[38;5;124m'\u001b[39m\u001b[38;5;124mthe full traceback.\u001b[39m\u001b[38;5;130;01m\\n\u001b[39;00m\u001b[38;5;124m'\u001b[39m]\n\u001b[1;32m-> 2097\u001b[0m     stb\u001b[38;5;241m.\u001b[39mextend(\u001b[38;5;28;43mself\u001b[39;49m\u001b[38;5;241;43m.\u001b[39;49m\u001b[43mInteractiveTB\u001b[49m\u001b[38;5;241;43m.\u001b[39;49m\u001b[43mget_exception_only\u001b[49m\u001b[43m(\u001b[49m\u001b[43metype\u001b[49m\u001b[43m,\u001b[49m\n\u001b[0;32m   2098\u001b[0m \u001b[43m                                                     \u001b[49m\u001b[43mvalue\u001b[49m\u001b[43m)\u001b[49m)\n\u001b[0;32m   2099\u001b[0m \u001b[38;5;28;01melse\u001b[39;00m:\n\u001b[0;32m   2101\u001b[0m     \u001b[38;5;28;01mdef\u001b[39;00m \u001b[38;5;21mcontains_exceptiongroup\u001b[39m(val):\n",
      "File \u001b[1;32mE:\\MATERIALY\\SZKOLENIE_PYTHON\\ElemProgVenv\\Lib\\site-packages\\IPython\\core\\ultratb.py:710\u001b[0m, in \u001b[0;36mListTB.get_exception_only\u001b[1;34m(self, etype, value)\u001b[0m\n\u001b[0;32m    702\u001b[0m \u001b[38;5;28;01mdef\u001b[39;00m \u001b[38;5;21mget_exception_only\u001b[39m(\u001b[38;5;28mself\u001b[39m, etype, value):\n\u001b[0;32m    703\u001b[0m \u001b[38;5;250m    \u001b[39m\u001b[38;5;124;03m\"\"\"Only print the exception type and message, without a traceback.\u001b[39;00m\n\u001b[0;32m    704\u001b[0m \n\u001b[0;32m    705\u001b[0m \u001b[38;5;124;03m    Parameters\u001b[39;00m\n\u001b[1;32m   (...)\u001b[0m\n\u001b[0;32m    708\u001b[0m \u001b[38;5;124;03m    value : exception value\u001b[39;00m\n\u001b[0;32m    709\u001b[0m \u001b[38;5;124;03m    \"\"\"\u001b[39;00m\n\u001b[1;32m--> 710\u001b[0m     \u001b[38;5;28;01mreturn\u001b[39;00m \u001b[43mListTB\u001b[49m\u001b[38;5;241;43m.\u001b[39;49m\u001b[43mstructured_traceback\u001b[49m\u001b[43m(\u001b[49m\u001b[38;5;28;43mself\u001b[39;49m\u001b[43m,\u001b[49m\u001b[43m \u001b[49m\u001b[43metype\u001b[49m\u001b[43m,\u001b[49m\u001b[43m \u001b[49m\u001b[43mvalue\u001b[49m\u001b[43m)\u001b[49m\n",
      "File \u001b[1;32mE:\\MATERIALY\\SZKOLENIE_PYTHON\\ElemProgVenv\\Lib\\site-packages\\IPython\\core\\ultratb.py:568\u001b[0m, in \u001b[0;36mListTB.structured_traceback\u001b[1;34m(self, etype, evalue, etb, tb_offset, context)\u001b[0m\n\u001b[0;32m    565\u001b[0m     chained_exc_ids\u001b[38;5;241m.\u001b[39madd(\u001b[38;5;28mid\u001b[39m(exception[\u001b[38;5;241m1\u001b[39m]))\n\u001b[0;32m    566\u001b[0m     chained_exceptions_tb_offset \u001b[38;5;241m=\u001b[39m \u001b[38;5;241m0\u001b[39m\n\u001b[0;32m    567\u001b[0m     out_list \u001b[38;5;241m=\u001b[39m (\n\u001b[1;32m--> 568\u001b[0m         \u001b[38;5;28;43mself\u001b[39;49m\u001b[38;5;241;43m.\u001b[39;49m\u001b[43mstructured_traceback\u001b[49m\u001b[43m(\u001b[49m\n\u001b[0;32m    569\u001b[0m \u001b[43m            \u001b[49m\u001b[43metype\u001b[49m\u001b[43m,\u001b[49m\n\u001b[0;32m    570\u001b[0m \u001b[43m            \u001b[49m\u001b[43mevalue\u001b[49m\u001b[43m,\u001b[49m\n\u001b[0;32m    571\u001b[0m \u001b[43m            \u001b[49m\u001b[43m(\u001b[49m\u001b[43metb\u001b[49m\u001b[43m,\u001b[49m\u001b[43m \u001b[49m\u001b[43mchained_exc_ids\u001b[49m\u001b[43m)\u001b[49m\u001b[43m,\u001b[49m\u001b[43m  \u001b[49m\u001b[38;5;66;43;03m# type: ignore\u001b[39;49;00m\n\u001b[0;32m    572\u001b[0m \u001b[43m            \u001b[49m\u001b[43mchained_exceptions_tb_offset\u001b[49m\u001b[43m,\u001b[49m\n\u001b[0;32m    573\u001b[0m \u001b[43m            \u001b[49m\u001b[43mcontext\u001b[49m\u001b[43m,\u001b[49m\n\u001b[0;32m    574\u001b[0m \u001b[43m        \u001b[49m\u001b[43m)\u001b[49m\n\u001b[0;32m    575\u001b[0m         \u001b[38;5;241m+\u001b[39m chained_exception_message\n\u001b[0;32m    576\u001b[0m         \u001b[38;5;241m+\u001b[39m out_list)\n\u001b[0;32m    578\u001b[0m \u001b[38;5;28;01mreturn\u001b[39;00m out_list\n",
      "File \u001b[1;32mE:\\MATERIALY\\SZKOLENIE_PYTHON\\ElemProgVenv\\Lib\\site-packages\\IPython\\core\\ultratb.py:1435\u001b[0m, in \u001b[0;36mAutoFormattedTB.structured_traceback\u001b[1;34m(self, etype, evalue, etb, tb_offset, number_of_lines_of_context)\u001b[0m\n\u001b[0;32m   1433\u001b[0m \u001b[38;5;28;01melse\u001b[39;00m:\n\u001b[0;32m   1434\u001b[0m     \u001b[38;5;28mself\u001b[39m\u001b[38;5;241m.\u001b[39mtb \u001b[38;5;241m=\u001b[39m etb\n\u001b[1;32m-> 1435\u001b[0m \u001b[38;5;28;01mreturn\u001b[39;00m \u001b[43mFormattedTB\u001b[49m\u001b[38;5;241;43m.\u001b[39;49m\u001b[43mstructured_traceback\u001b[49m\u001b[43m(\u001b[49m\n\u001b[0;32m   1436\u001b[0m \u001b[43m    \u001b[49m\u001b[38;5;28;43mself\u001b[39;49m\u001b[43m,\u001b[49m\u001b[43m \u001b[49m\u001b[43metype\u001b[49m\u001b[43m,\u001b[49m\u001b[43m \u001b[49m\u001b[43mevalue\u001b[49m\u001b[43m,\u001b[49m\u001b[43m \u001b[49m\u001b[43metb\u001b[49m\u001b[43m,\u001b[49m\u001b[43m \u001b[49m\u001b[43mtb_offset\u001b[49m\u001b[43m,\u001b[49m\u001b[43m \u001b[49m\u001b[43mnumber_of_lines_of_context\u001b[49m\n\u001b[0;32m   1437\u001b[0m \u001b[43m\u001b[49m\u001b[43m)\u001b[49m\n",
      "File \u001b[1;32mE:\\MATERIALY\\SZKOLENIE_PYTHON\\ElemProgVenv\\Lib\\site-packages\\IPython\\core\\ultratb.py:1326\u001b[0m, in \u001b[0;36mFormattedTB.structured_traceback\u001b[1;34m(self, etype, value, tb, tb_offset, number_of_lines_of_context)\u001b[0m\n\u001b[0;32m   1323\u001b[0m mode \u001b[38;5;241m=\u001b[39m \u001b[38;5;28mself\u001b[39m\u001b[38;5;241m.\u001b[39mmode\n\u001b[0;32m   1324\u001b[0m \u001b[38;5;28;01mif\u001b[39;00m mode \u001b[38;5;129;01min\u001b[39;00m \u001b[38;5;28mself\u001b[39m\u001b[38;5;241m.\u001b[39mverbose_modes:\n\u001b[0;32m   1325\u001b[0m     \u001b[38;5;66;03m# Verbose modes need a full traceback\u001b[39;00m\n\u001b[1;32m-> 1326\u001b[0m     \u001b[38;5;28;01mreturn\u001b[39;00m \u001b[43mVerboseTB\u001b[49m\u001b[38;5;241;43m.\u001b[39;49m\u001b[43mstructured_traceback\u001b[49m\u001b[43m(\u001b[49m\n\u001b[0;32m   1327\u001b[0m \u001b[43m        \u001b[49m\u001b[38;5;28;43mself\u001b[39;49m\u001b[43m,\u001b[49m\u001b[43m \u001b[49m\u001b[43metype\u001b[49m\u001b[43m,\u001b[49m\u001b[43m \u001b[49m\u001b[43mvalue\u001b[49m\u001b[43m,\u001b[49m\u001b[43m \u001b[49m\u001b[43mtb\u001b[49m\u001b[43m,\u001b[49m\u001b[43m \u001b[49m\u001b[43mtb_offset\u001b[49m\u001b[43m,\u001b[49m\u001b[43m \u001b[49m\u001b[43mnumber_of_lines_of_context\u001b[49m\n\u001b[0;32m   1328\u001b[0m \u001b[43m    \u001b[49m\u001b[43m)\u001b[49m\n\u001b[0;32m   1329\u001b[0m \u001b[38;5;28;01melif\u001b[39;00m mode \u001b[38;5;241m==\u001b[39m \u001b[38;5;124m'\u001b[39m\u001b[38;5;124mMinimal\u001b[39m\u001b[38;5;124m'\u001b[39m:\n\u001b[0;32m   1330\u001b[0m     \u001b[38;5;28;01mreturn\u001b[39;00m ListTB\u001b[38;5;241m.\u001b[39mget_exception_only(\u001b[38;5;28mself\u001b[39m, etype, value)\n",
      "File \u001b[1;32mE:\\MATERIALY\\SZKOLENIE_PYTHON\\ElemProgVenv\\Lib\\site-packages\\IPython\\core\\ultratb.py:1173\u001b[0m, in \u001b[0;36mVerboseTB.structured_traceback\u001b[1;34m(self, etype, evalue, etb, tb_offset, number_of_lines_of_context)\u001b[0m\n\u001b[0;32m   1164\u001b[0m \u001b[38;5;28;01mdef\u001b[39;00m \u001b[38;5;21mstructured_traceback\u001b[39m(\n\u001b[0;32m   1165\u001b[0m     \u001b[38;5;28mself\u001b[39m,\n\u001b[0;32m   1166\u001b[0m     etype: \u001b[38;5;28mtype\u001b[39m,\n\u001b[1;32m   (...)\u001b[0m\n\u001b[0;32m   1170\u001b[0m     number_of_lines_of_context: \u001b[38;5;28mint\u001b[39m \u001b[38;5;241m=\u001b[39m \u001b[38;5;241m5\u001b[39m,\n\u001b[0;32m   1171\u001b[0m ):\n\u001b[0;32m   1172\u001b[0m \u001b[38;5;250m    \u001b[39m\u001b[38;5;124;03m\"\"\"Return a nice text document describing the traceback.\"\"\"\u001b[39;00m\n\u001b[1;32m-> 1173\u001b[0m     formatted_exception \u001b[38;5;241m=\u001b[39m \u001b[38;5;28;43mself\u001b[39;49m\u001b[38;5;241;43m.\u001b[39;49m\u001b[43mformat_exception_as_a_whole\u001b[49m\u001b[43m(\u001b[49m\u001b[43metype\u001b[49m\u001b[43m,\u001b[49m\u001b[43m \u001b[49m\u001b[43mevalue\u001b[49m\u001b[43m,\u001b[49m\u001b[43m \u001b[49m\u001b[43metb\u001b[49m\u001b[43m,\u001b[49m\u001b[43m \u001b[49m\u001b[43mnumber_of_lines_of_context\u001b[49m\u001b[43m,\u001b[49m\n\u001b[0;32m   1174\u001b[0m \u001b[43m                                                           \u001b[49m\u001b[43mtb_offset\u001b[49m\u001b[43m)\u001b[49m\n\u001b[0;32m   1176\u001b[0m     colors \u001b[38;5;241m=\u001b[39m \u001b[38;5;28mself\u001b[39m\u001b[38;5;241m.\u001b[39mColors  \u001b[38;5;66;03m# just a shorthand + quicker name lookup\u001b[39;00m\n\u001b[0;32m   1177\u001b[0m     colorsnormal \u001b[38;5;241m=\u001b[39m colors\u001b[38;5;241m.\u001b[39mNormal  \u001b[38;5;66;03m# used a lot\u001b[39;00m\n",
      "File \u001b[1;32mE:\\MATERIALY\\SZKOLENIE_PYTHON\\ElemProgVenv\\Lib\\site-packages\\IPython\\core\\ultratb.py:1063\u001b[0m, in \u001b[0;36mVerboseTB.format_exception_as_a_whole\u001b[1;34m(self, etype, evalue, etb, number_of_lines_of_context, tb_offset)\u001b[0m\n\u001b[0;32m   1060\u001b[0m \u001b[38;5;28;01massert\u001b[39;00m \u001b[38;5;28misinstance\u001b[39m(tb_offset, \u001b[38;5;28mint\u001b[39m)\n\u001b[0;32m   1061\u001b[0m head \u001b[38;5;241m=\u001b[39m \u001b[38;5;28mself\u001b[39m\u001b[38;5;241m.\u001b[39mprepare_header(\u001b[38;5;28mstr\u001b[39m(etype), \u001b[38;5;28mself\u001b[39m\u001b[38;5;241m.\u001b[39mlong_header)\n\u001b[0;32m   1062\u001b[0m records \u001b[38;5;241m=\u001b[39m (\n\u001b[1;32m-> 1063\u001b[0m     \u001b[38;5;28;43mself\u001b[39;49m\u001b[38;5;241;43m.\u001b[39;49m\u001b[43mget_records\u001b[49m\u001b[43m(\u001b[49m\u001b[43metb\u001b[49m\u001b[43m,\u001b[49m\u001b[43m \u001b[49m\u001b[43mnumber_of_lines_of_context\u001b[49m\u001b[43m,\u001b[49m\u001b[43m \u001b[49m\u001b[43mtb_offset\u001b[49m\u001b[43m)\u001b[49m \u001b[38;5;28;01mif\u001b[39;00m etb \u001b[38;5;28;01melse\u001b[39;00m []\n\u001b[0;32m   1064\u001b[0m )\n\u001b[0;32m   1066\u001b[0m frames \u001b[38;5;241m=\u001b[39m []\n\u001b[0;32m   1067\u001b[0m skipped \u001b[38;5;241m=\u001b[39m \u001b[38;5;241m0\u001b[39m\n",
      "File \u001b[1;32mE:\\MATERIALY\\SZKOLENIE_PYTHON\\ElemProgVenv\\Lib\\site-packages\\IPython\\core\\ultratb.py:1131\u001b[0m, in \u001b[0;36mVerboseTB.get_records\u001b[1;34m(self, etb, number_of_lines_of_context, tb_offset)\u001b[0m\n\u001b[0;32m   1129\u001b[0m \u001b[38;5;28;01mwhile\u001b[39;00m cf \u001b[38;5;129;01mis\u001b[39;00m \u001b[38;5;129;01mnot\u001b[39;00m \u001b[38;5;28;01mNone\u001b[39;00m:\n\u001b[0;32m   1130\u001b[0m     \u001b[38;5;28;01mtry\u001b[39;00m:\n\u001b[1;32m-> 1131\u001b[0m         mod \u001b[38;5;241m=\u001b[39m inspect\u001b[38;5;241m.\u001b[39mgetmodule(\u001b[43mcf\u001b[49m\u001b[38;5;241;43m.\u001b[39;49m\u001b[43mtb_frame\u001b[49m)\n\u001b[0;32m   1132\u001b[0m         \u001b[38;5;28;01mif\u001b[39;00m mod \u001b[38;5;129;01mis\u001b[39;00m \u001b[38;5;129;01mnot\u001b[39;00m \u001b[38;5;28;01mNone\u001b[39;00m:\n\u001b[0;32m   1133\u001b[0m             mod_name \u001b[38;5;241m=\u001b[39m mod\u001b[38;5;241m.\u001b[39m\u001b[38;5;18m__name__\u001b[39m\n",
      "\u001b[1;31mAttributeError\u001b[0m: 'tuple' object has no attribute 'tb_frame'"
     ]
    }
   ],
   "source": [
    "%run ./tmp/size.py --size \"A\""
   ]
  },
  {
   "cell_type": "markdown",
   "metadata": {},
   "source": [
    "Do oczekiwanych wartości, możesz również wykorzystać `range` np. `choices=range(1,8)`"
   ]
  },
  {
   "cell_type": "markdown",
   "metadata": {},
   "source": [
    "## Dostarczanie i dostosowywanie komunikatów pomocy w argumentach i opcjach\n",
    "\n",
    "----\r\n",
    "Jak już wiesz, wspaniałą cechą argparse jest to, że generuje automatyczne komunikaty dotyczące użycia i pomocy dla twoich aplikacji. Dostęp do tych komunikatów można uzyskać za pomocą flagi -h lub --help, która jest domyślnie zawarta w każdym interfejsie wiersza polecenia` argpars`e.\r\n",
    "\r\n",
    "Do tego momentu wiesz już, jak dodawać opisy i epilogi do swoich aplikacji. W tej sekcji będziesz kontynuować ulepszanie komunikatów pomocy i użytkowania aplikacji, udostępniając ulepszone komunikaty dla poszczególnych argumentów i opcji wiersza poleceń. Aby to zrobić, użyjesz argumut`help` dla funkcjicji .add_argument()."
   ]
  },
  {
   "cell_type": "code",
   "execution_count": 39,
   "metadata": {},
   "outputs": [
    {
     "name": "stdout",
     "output_type": "stream",
     "text": [
      "Overwriting ./tmp/argparse_example_v4.py\n"
     ]
    }
   ],
   "source": [
    "%%writefile ./tmp/argparse_example_v4.py\n",
    "\n",
    "import argparse\n",
    "import datetime\n",
    "from pathlib import Path\n",
    "\n",
    "parser = argparse.ArgumentParser()\n",
    "\n",
    "parser.add_argument(\"path\", nargs=\"?\", default=\".\", help=\"take the path to the target directory (default: %(default)s)\")\n",
    "\n",
    "parser.add_argument(\"-l\", \"--long\", action=\"store_true\", help=\"display detailed directory content\")\n",
    "\n",
    "args = parser.parse_args()\n",
    "\n",
    "target_dir = Path(args.path)\n",
    "\n",
    "if not target_dir.exists():\n",
    "    print(\"The target directory doesn't exist\")\n",
    "    raise SystemExit(1)\n",
    "\n",
    "def build_output(entry, long=False):\n",
    "    if long:\n",
    "        size = entry.stat().st_size\n",
    "        date = datetime.datetime.fromtimestamp(\n",
    "            entry.stat().st_mtime).strftime(\n",
    "            \"%b %d %H:%M:%S\"\n",
    "        )\n",
    "        return f\"{size:>6d} {date} {entry.name}\"\n",
    "    return entry.name\n",
    "\n",
    "for entry in target_dir.iterdir():\n",
    "    print(build_output(entry, long=args.long))"
   ]
  },
  {
   "cell_type": "code",
   "execution_count": 40,
   "metadata": {},
   "outputs": [
    {
     "name": "stdout",
     "output_type": "stream",
     "text": [
      "usage: argparse_example_v4.py [-h] [-l] [path]\n",
      "\n",
      "positional arguments:\n",
      "  path        take the path to the target directory (default: .)\n",
      "\n",
      "options:\n",
      "  -h, --help  show this help message and exit\n",
      "  -l, --long  display detailed directory content\n"
     ]
    }
   ],
   "source": [
    "%run ./tmp/argparse_example_v4.py -h"
   ]
  },
  {
   "cell_type": "code",
   "execution_count": 41,
   "metadata": {},
   "outputs": [
    {
     "name": "stdout",
     "output_type": "stream",
     "text": [
      "Writing ./tmp/points2.py\n"
     ]
    }
   ],
   "source": [
    "%%writefile ./tmp/points2.py\n",
    "\n",
    "import argparse\n",
    "\n",
    "parser = argparse.ArgumentParser()\n",
    "\n",
    "parser.add_argument(\n",
    "    \"--coordinates\",\n",
    "    nargs=2,\n",
    "    metavar=(\"X\", \"Y\"),\n",
    "    help=\"take the Cartesian coordinates %(metavar)s\",\n",
    ")\n",
    "\n",
    "args = parser.parse_args()\n",
    "\n",
    "print(args)"
   ]
  },
  {
   "cell_type": "code",
   "execution_count": 42,
   "metadata": {},
   "outputs": [
    {
     "name": "stdout",
     "output_type": "stream",
     "text": [
      "usage: points2.py [-h] [--coordinates X Y]\n",
      "\n",
      "options:\n",
      "  -h, --help         show this help message and exit\n",
      "  --coordinates X Y  take the Cartesian coordinates ('X', 'Y')\n"
     ]
    }
   ],
   "source": [
    "%run ./tmp/points2.py -h"
   ]
  },
  {
   "cell_type": "markdown",
   "metadata": {},
   "source": [
    "## Poprawianie pomocy i zawartości programu\n",
    "\n",
    "-----\n",
    "Zapewnienie instrukcji użytkowania i pomocy użytkownikom aplikacji CLI to najlepsza praktyka, która uprzyjemni życie użytkownikom dzięki doskonałemu doświadczeniu użytkownika (UX). W tej sekcji dowiesz się, jak wykorzystać niektóre argumenty ArgumentParser, aby dostosować sposób, w jaki aplikacje CLI wyświetlają użytkownikom pomoc i komunikaty dotyczące użycia. \n",
    "\n",
    "Zmieńmy nazwę programu, dodajmy opis oraz epilog."
   ]
  },
  {
   "cell_type": "code",
   "execution_count": 43,
   "metadata": {},
   "outputs": [
    {
     "name": "stdout",
     "output_type": "stream",
     "text": [
      "Writing ./tmp/argparse_example_v5.py\n"
     ]
    }
   ],
   "source": [
    "%%writefile ./tmp/argparse_example_v5.py\n",
    "\n",
    "import argparse\n",
    "import datetime\n",
    "from pathlib import Path\n",
    "\n",
    "parser = argparse.ArgumentParser(\n",
    "    prog=\"ls\",\n",
    "    description=\"List the content of a directory\",\n",
    "    epilog=\"Thanks for using %(prog)s! :)\",\n",
    ")\n",
    "\n",
    "parser.add_argument(\"path\", nargs=\"?\", default=\".\", help=\"take the path to the target directory (default: %(default)s)\")\n",
    "\n",
    "parser.add_argument(\"-l\", \"--long\", action=\"store_true\", help=\"display detailed directory content\")\n",
    "\n",
    "args = parser.parse_args()\n",
    "\n",
    "target_dir = Path(args.path)\n",
    "\n",
    "if not target_dir.exists():\n",
    "    print(\"The target directory doesn't exist\")\n",
    "    raise SystemExit(1)\n",
    "\n",
    "def build_output(entry, long=False):\n",
    "    if long:\n",
    "        size = entry.stat().st_size\n",
    "        date = datetime.datetime.fromtimestamp(\n",
    "            entry.stat().st_mtime).strftime(\n",
    "            \"%b %d %H:%M:%S\"\n",
    "        )\n",
    "        return f\"{size:>6d} {date} {entry.name}\"\n",
    "    return entry.name\n",
    "\n",
    "for entry in target_dir.iterdir():\n",
    "    print(build_output(entry, long=args.long))"
   ]
  },
  {
   "cell_type": "code",
   "execution_count": 51,
   "metadata": {},
   "outputs": [
    {
     "name": "stdout",
     "output_type": "stream",
     "text": [
      "usage: ls [-h] [-l] [path]\n",
      "\n",
      "List the content of a directory\n",
      "\n",
      "positional arguments:\n",
      "  path        take the path to the target directory (default: .)\n",
      "\n",
      "options:\n",
      "  -h, --help  show this help message and exit\n",
      "  -l, --long  display detailed directory content\n",
      "\n",
      "Thanks for using ls! :)\n"
     ]
    }
   ],
   "source": [
    "%run ./tmp/argparse_example_v5.py -h"
   ]
  }
 ],
 "metadata": {
  "anaconda-cloud": {},
  "kernelspec": {
   "display_name": "Python 3 (ipykernel)",
   "language": "python",
   "name": "python3"
  },
  "language_info": {
   "codemirror_mode": {
    "name": "ipython",
    "version": 3
   },
   "file_extension": ".py",
   "mimetype": "text/x-python",
   "name": "python",
   "nbconvert_exporter": "python",
   "pygments_lexer": "ipython3",
   "version": "3.11.3"
  }
 },
 "nbformat": 4,
 "nbformat_minor": 4
}
