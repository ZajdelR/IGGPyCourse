{
 "cells": [
  {
   "cell_type": "markdown",
   "id": "15a83138",
   "metadata": {},
   "source": [
    "1.\n",
    "\n",
    "<b>Wykonaj następujące operacje:</b>\n",
    "<ul>\n",
    "    <li> $cos(\\pi) + sin(\\pi/2)$ </li>\n",
    "    <li> $e^{ln(1)}$ </li>\n",
    "    <li> $sin(\\sqrt{\\pi})$</li>"
   ]
  },
  {
   "cell_type": "markdown",
   "id": "a68a5902",
   "metadata": {},
   "source": [
    "2.\n",
    "\n",
    "<b>Wykonaj następujące operacje:</b>\n",
    "<ul>\n",
    "    <li> $log_{10}(100)$</li>\n",
    "    <li> $ln(e^e)$</li>\n",
    "    <li> $\\sqrt{log(e)}$</li>"
   ]
  },
  {
   "cell_type": "markdown",
   "id": "5f523cec",
   "metadata": {},
   "source": [
    "3.\n",
    "\n",
    "<b>Wykonaj następujące operacje:</b>\n",
    "<ul>\n",
    "    <li> $e^{ln(1)}$ </li>\n",
    "    <li> $log_{10}(100)$</li>\n",
    "    <li> $sin(\\sqrt{\\pi})$</li>"
   ]
  },
  {
   "cell_type": "markdown",
   "id": "763e848c",
   "metadata": {},
   "source": [
    "4.\n",
    "\n",
    "Napisz kod który będzie sprawdzał czy liczba jest palindromem (to znaczy, że czytana od przodu i od tyłu jest identyczna)."
   ]
  },
  {
   "cell_type": "markdown",
   "id": "b09bba1b",
   "metadata": {},
   "source": [
    "5.\n",
    "\n",
    "Napisz kod, który będzie sprawdzał czy podany tekst (pisany bez spacji) jest palindromem (to znaczy że czytany od przodu i od tyłu jest identyczny). Sprawdź kod na tekście:\n",
    "```\n",
    "tekst = \"może jutro ta dama da tortu jeżom\"\n",
    "```"
   ]
  },
  {
   "cell_type": "markdown",
   "id": "ca86a950",
   "metadata": {},
   "source": [
    "6.\n",
    "\n",
    "Używając wyrażenia listowego (list comprehension) stwórz listę liczb naturalnych, których pierwiastek jest większy od 2 i mniejszy od 3. Następnie podnieś do kwadratu co trzeci element."
   ]
  },
  {
   "cell_type": "markdown",
   "id": "ee03f4a1",
   "metadata": {},
   "source": [
    "7.\n",
    "\n",
    "Używając wyrażenia listowego (list comprehension) stwórz listę liczb naturalnych, których kwadrat jest większy od 100 i mniejszy od 300. Następnie spierwiastkuj co czwarty element."
   ]
  },
  {
   "cell_type": "markdown",
   "id": "cc5ee0e1",
   "metadata": {},
   "source": [
    "8.\n",
    "\n",
    "Mając podane trzy listy, zwróć pierwiastek z iloczynu średnich wartości z tych list.\n",
    "\n",
    "x = [9,1,11,32]\n",
    "y = [1,2,3,4,5,6]\n",
    "z = [8,8,9]\n",
    "\n",
    "Odpowiedź wyświetl jako liczbę zmiennoprzecinkową, zaokrągloną do 2 miejsc po przecinku."
   ]
  },
  {
   "cell_type": "markdown",
   "id": "3215726b",
   "metadata": {},
   "source": [
    "9.\n",
    "\n",
    "Iloczyn dwóch wektorów w algebrze liniowej równy jest sumie iloczynów liczb na odpowiadających sobie pozycjach. Mając dane dwa wektory, napisz kod liczący iloczyn wektorów:\n",
    "x = [1,2,4,3,4.5]\n",
    "y = [4,3,2,1,2.1]\n",
    "\n",
    "Odpowiedź wyświetl jako liczbę zmiennoprzecinkową, zaokrągloną do 2 miejsc po przecinku"
   ]
  },
  {
   "cell_type": "markdown",
   "id": "c6e59218",
   "metadata": {},
   "source": [
    "10.\n",
    "\n",
    "Na podstawie podanego zdania znajdź długość ostatniego słowa w tekście:\n",
    "\"Kto pod kim dołki kopie ten  sam w  nie  wpada\""
   ]
  },
  {
   "cell_type": "markdown",
   "id": "e42add9b",
   "metadata": {},
   "source": [
    "11.\n",
    "\n",
    "Mając podaną listę liczb, napisz kod, który sprawdza czy w liście znajduje się duplikat. Sprawdź kod dla list x = [1,2,3,4] oraz y = [1,1,2,3]"
   ]
  },
  {
   "cell_type": "markdown",
   "id": "24250357",
   "metadata": {},
   "source": [
    "12.\n",
    "\n",
    "Napisz kod liczący liczbę spójników \"i\" w tekście. Użyj poniższego przykładu:\n",
    "    \"Jeszcze gdy chodziłem do podstawówki, to był tam taki Paweł, i ja jechałem na rowerze, i go spotkałem, i potem jeszcze pojechałem do biedronki na lody, i po drodze do domu wtedy jeszcze, już do domu pojechałem.\""
   ]
  },
  {
   "cell_type": "markdown",
   "id": "849f002a",
   "metadata": {},
   "source": [
    "13.\n",
    "\n",
    "Napisz kod sprawdzający czy w zdaniu pojawia się dwa razy to samo słowo."
   ]
  },
  {
   "cell_type": "markdown",
   "id": "b1b6addf",
   "metadata": {},
   "source": [
    "14.\n",
    "\n",
    "Używając wyrażenia listowego (list comprehension) stwórz listę liczb całkowitych, których sześciań jest mniejszy od 0 i większy od -2000. Następnie usuń co trzeci element."
   ]
  },
  {
   "cell_type": "markdown",
   "id": "23db8949",
   "metadata": {},
   "source": [
    "15.\n",
    "\n",
    "Znajdź wszystkie nieparzyste iloczny dwóch dowolnych elementów poniższej listy:\n",
    "\n",
    "x = [1,3,8,3,4,1,5,11,12]"
   ]
  },
  {
   "cell_type": "markdown",
   "id": "8eb2dd63",
   "metadata": {},
   "source": [
    "Trudniejsze:"
   ]
  },
  {
   "cell_type": "markdown",
   "id": "55e719a4",
   "metadata": {},
   "source": [
    "20.\n",
    "\n",
    "Napisz kod, który podaje indeks na którym zaczyna się słowo w ciągu znaków. Na przykład, sprawdzając gdzie zaczyna się słowo \"nie\" w ciągu znaków \"niebieski\" kod powinien zwrócić 0. Jeśli słowa nie ma, podaje indeks -1"
   ]
  },
  {
   "cell_type": "markdown",
   "id": "6bf537b7",
   "metadata": {},
   "source": [
    "21.\n",
    "\n",
    "Napisz kod który wyświetli poniższe drzewko (ma wysokość 10 linijek):"
   ]
  },
  {
   "cell_type": "code",
   "execution_count": 33,
   "id": "e629ea26",
   "metadata": {},
   "outputs": [
    {
     "name": "stdout",
     "output_type": "stream",
     "text": [
      "          \n",
      "         **\n",
      "        ****\n",
      "       ******\n",
      "      ********\n",
      "     **********\n",
      "    ************\n",
      "   **************\n",
      "  ****************\n",
      " ******************\n"
     ]
    }
   ],
   "source": []
  },
  {
   "cell_type": "markdown",
   "id": "2f8bf716",
   "metadata": {},
   "source": [
    "22.\n",
    "\n",
    "Napisz kod który wyświetli poniższe drzewko (ma wysokość 10 linijek):"
   ]
  },
  {
   "cell_type": "code",
   "execution_count": 36,
   "id": "9e65f937",
   "metadata": {},
   "outputs": [
    {
     "name": "stdout",
     "output_type": "stream",
     "text": [
      "          \n",
      "         +\n",
      "        ++\n",
      "       +++\n",
      "      ++++\n",
      "     +++++\n",
      "    ++++++\n",
      "   +++++++\n",
      "  ++++++++\n",
      " +++++++++\n"
     ]
    }
   ],
   "source": []
  },
  {
   "cell_type": "markdown",
   "id": "d9da8d1c",
   "metadata": {},
   "source": [
    "23.\n",
    "\n",
    "Napisz kod który wyświetli poniższe drzewko (ma wysokość 10 linijek):"
   ]
  },
  {
   "cell_type": "code",
   "execution_count": 37,
   "id": "7568904d",
   "metadata": {},
   "outputs": [
    {
     "name": "stdout",
     "output_type": "stream",
     "text": [
      "          \n",
      "         +*\n",
      "        ++**\n",
      "       +++***\n",
      "      ++++****\n",
      "     +++++*****\n",
      "    ++++++******\n",
      "   +++++++*******\n",
      "  ++++++++********\n",
      " +++++++++*********\n"
     ]
    }
   ],
   "source": []
  },
  {
   "cell_type": "markdown",
   "id": "a02879f3",
   "metadata": {},
   "source": [
    "24.\n",
    "\n",
    "Napisz kod, który wyszukuje liczby pierwsze w zakresie od 3 do 20 (liczby pierwsze podzielne są tylko przez 1 i siebie samą)"
   ]
  },
  {
   "cell_type": "markdown",
   "id": "44eafb9e",
   "metadata": {},
   "source": [
    "25.\n",
    "\n",
    "Napisz kod znajdzie wszystkie liczby wspólne w trzech listach, które są kolejno:\n",
    "\n",
    "    1. Kwadratami liczby od 1 do 5\n",
    "    2. Zakresem od 1 do 20 z krokiem co 3\n",
    "    3. Długością słów w tekście \"Litwo Ojczyzno moja Ty jesteś jak zdrowie\""
   ]
  },
  {
   "cell_type": "markdown",
   "id": "3af2d2d7",
   "metadata": {},
   "source": [
    "26.\n",
    "\n",
    "Mając podaną dwie listy, znajdź liczbę, która pojawia się w nich najwięcej razy\n",
    "\n",
    "    x = [3,2,3]\n",
    "    y = [2,2,1,1,1,2,2]"
   ]
  },
  {
   "cell_type": "markdown",
   "id": "1a6220a0",
   "metadata": {},
   "source": [
    "27.\n",
    "\n",
    "Mając podane trzy listy znajdź największą liczbę (wyświetl ją), która powstaje w drodze iloczynu dowolnych trzech elementów tych list (pobierając po jednym z każdej z nich)."
   ]
  },
  {
   "cell_type": "markdown",
   "id": "7ea21a98",
   "metadata": {},
   "source": [
    "28.\n",
    "\n",
    "Mając podaną listę liczb, wyświetl tylko te, które są potęgą liczby 2. Sprawdź listę x = [1,2,4,10,16,24,64,100,1024]"
   ]
  },
  {
   "cell_type": "markdown",
   "id": "7d222409",
   "metadata": {},
   "source": [
    "29.\n",
    "\n",
    "Mając podane trzy listy znajdź najmniejszą liczbę (wyświetl ją), która powstaje w drodze ilorazu dowolnych trzech elementów tych list (pobierając po jednym z każdej z nich)."
   ]
  },
  {
   "cell_type": "markdown",
   "id": "7afa4143",
   "metadata": {},
   "source": [
    "30.\n",
    "\n",
    "Mając trzy listy, znajdź najmniejszą liczbę wynikającą z iloczynu trzech dowolnych elementów tych list, która jest parzysta (pobierając po jednym z każdej z nich)."
   ]
  }
 ],
 "metadata": {
  "kernelspec": {
   "display_name": "Python 3 (ipykernel)",
   "language": "python",
   "name": "python3"
  },
  "language_info": {
   "codemirror_mode": {
    "name": "ipython",
    "version": 3
   },
   "file_extension": ".py",
   "mimetype": "text/x-python",
   "name": "python",
   "nbconvert_exporter": "python",
   "pygments_lexer": "ipython3",
   "version": "3.9.12"
  }
 },
 "nbformat": 4,
 "nbformat_minor": 5
}
